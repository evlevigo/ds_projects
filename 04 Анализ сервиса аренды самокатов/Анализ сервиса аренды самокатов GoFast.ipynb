{
 "cells": [
  {
   "cell_type": "markdown",
   "id": "1a03a158",
   "metadata": {},
   "source": [
    "# Анализ сервиса аренды самокатов GoFast\n",
    "\n",
    "Общее описание проекта \n",
    "\n",
    "Вы аналитик популярного сервиса аренды самокатов GoFast. Вам передали данные о некоторых пользователях из нескольких городов, а также об их поездках. Проанализируйте данные и проверьте некоторые гипотезы, которые могут помочь бизнесу вырасти. Чтобы совершать поездки по городу, пользователи сервиса GoFast пользуются мобильным приложением. Сервисом можно пользоваться:\n",
    "\n",
    "- без подписки\n",
    "    - абонентская плата отсутствует;\n",
    "    - стоимость одной минуты поездки — 8 рублей;\n",
    "    - стоимость старта (начала поездки) — 50 рублей;\n",
    "- с подпиской Ultra абонентская плата\n",
    "    - 199 рублей в месяц;\n",
    "    - стоимость одной минуты поездки — 6 рублей;\n",
    "    - стоимость старта — бесплатно."
   ]
  },
  {
   "cell_type": "markdown",
   "id": "6fca82e3",
   "metadata": {},
   "source": [
    "-+-+-+-+-+-+-+-+-+-+-+-+-+-+-+-+-+-+-+-+-+-+-+-+-+-+-+-+-+-+-+-+-+-+-+-+-+-+-+-+-+-+-+-+-+-+-+-+-+-+-+-+-+-+-+-+-+-+-+-+-+-+-+-+-+-+-+-+-+-+"
   ]
  },
  {
   "cell_type": "markdown",
   "id": "90eb3048",
   "metadata": {},
   "source": [
    "## Цели и задачи исследования\n",
    "\n",
    "**Целью проекта** является анализ данных: \n",
    "\n",
    "- Частота встречаемости городов;\n",
    "\n",
    "- Соотношение пользователей с подпиской и без подписки;\n",
    "\n",
    "- Возраст пользователей;\n",
    "\n",
    "- Расстояние, которое пользователь преодолел за одну поездку;\n",
    "\n",
    "- Продолжительность поездок.\n",
    "\n",
    "И проверка гипотез, которые могут помочь бизнесу:\n",
    "- Тратят ли пользователи с подпиской больше времени на поездки?\n",
    "    - Важно понять, тратят ли пользователи с подпиской больше времени на поездки? Если да, то пользователи с подпиской могут быть «выгоднее» для компании. Проверьте гипотезу. Используйте исходные данные о продолжительности каждой сессии — отдельно для подписчиков и тех, у кого нет подписки.\n",
    "- Среднее расстояние, которое проезжают пользователи с подпиской за одну поездку, не превышает 3130 метров?\n",
    "    - Расстояние одной поездки в 3130 метров — оптимальное с точки зрения износа самоката. Можно ли сказать, что среднее расстояние, которое проезжают пользователи с подпиской за одну поездку, не превышает 3130 метров? Проверьте гипотезу и сделайте выводы.\n",
    "- Будет ли помесячная выручка от пользователей с подпиской по месяцам выше, чем выручка от пользователей без подписки. \n",
    "    - Проверьте гипотезу о том, будет ли помесячная выручка от пользователей с подпиской по месяцам выше, чем выручка от пользователей без подписки. Сделайте вывод.\n",
    "- Количество обращений до и после обновления\n",
    "    - Представьте такую ситуацию: техническая команда сервиса обновила сервера, с которыми взаимодействует мобильное приложение. Она надеется, что из-за этого количество обращений в техподдержку значимо снизилось. Некоторый файл содержит для каждого пользователя данные о количестве обращений до обновления и после него. Какой тест вам понадобился бы для проверки этой гипотезы?\n",
    "    \n",
    "В рамках достижения целей проекта должны быть решены следующие **задачи**:\n",
    "- Исследована общая информация о датафреймах\n",
    "- Выполнена предобработка данных\n",
    "    - Обработка пропущенных значений\n",
    "    - Обработка неявных дубликатов\n",
    "    - Обработка явных дубликатов\n",
    "    - Изменение типов данных\n",
    "    - Создание нового столбца с номером месяца на основе столбца date\n",
    "- Выполнен исследовательский анализ данных\n",
    "- Осуществлено объединение данных\n",
    "- Подсчет выручки\n",
    "- Осуществлена проверка гипотез\n",
    "- Оформлен общий вывод и рекомендации для заказчика\n",
    "\n",
    "В качестве **исходных данных** выступают три источника, предоставленные заказчиком:\n",
    "- Пользователи — users_go.csv\n",
    "- Поездки — rides_go.csv\n",
    "- Подписки — subscriptions_go.csv"
   ]
  },
  {
   "cell_type": "markdown",
   "id": "5b12d546",
   "metadata": {},
   "source": [
    "-+-+-+-+-+-+-+-+-+-+-+-+-+-+-+-+-+-+-+-+-+-+-+-+-+-+-+-+-+-+-+-+-+-+-+-+-+-+-+-+-+-+-+-+-+-+-+-+-+-+-+-+-+-+-+-+-+-+-+-+-+-+-+-+-+-+-+-+-+-+"
   ]
  },
  {
   "cell_type": "markdown",
   "id": "ff68e97d",
   "metadata": {},
   "source": [
    "## Оглавление\n",
    "\n",
    "1. [Шаг 1. Импорт библиотек](#Шаг-1.-Импорт-библиотек)\n",
    "2. [Шаг 2. Загрузка данных](#Шаг-2.-Загрузка-данных)\n",
    "3. [Шаг 3. Общая информация о каждом датафрейме](#Шаг-3.-Общая-информация-о-каждом-датафрейме)\n",
    "4. [Шаг 4. Предобработка данных](#Шаг-4.-Предобработка-данных)\n",
    "5. [Шаг 5. Исследовательский анализ данных](#Шаг-5.-Исследовательский-анализ-данных)\n",
    "6. [Шаг 6. Объединение данных](#Шаг-6.-Объединение-данных)\n",
    "7. [Шаг 7. Подсчёт выручки](#Шаг-7.-Подсчёт-выручки)\n",
    "8. [Шаг 8. Проверка гипотез](#Шаг-8.-Проверка-гипотез)\n",
    "9. [Шаг 9. Распределения](#Шаг-9.-Распределения) (не выполнено)\n",
    "10. [Общий вывод](#Общий-вывод)\n"
   ]
  },
  {
   "cell_type": "markdown",
   "id": "5e72c1ee",
   "metadata": {},
   "source": [
    "-+-+-+-+-+-+-+-+-+-+-+-+-+-+-+-+-+-+-+-+-+-+-+-+-+-+-+-+-+-+-+-+-+-+-+-+-+-+-+-+-+-+-+-+-+-+-+-+-+-+-+-+-+-+-+-+-+-+-+-+-+-+-+-+-+-+-+-+-+-+"
   ]
  },
  {
   "cell_type": "markdown",
   "id": "d8608099",
   "metadata": {},
   "source": [
    "### Шаг 1. Импорт библиотек\n",
    "[К оглавлению](#Оглавление)"
   ]
  },
  {
   "cell_type": "code",
   "execution_count": 1,
   "id": "8573f814",
   "metadata": {},
   "outputs": [],
   "source": [
    "import pandas as pd\n",
    "import numpy as np\n",
    "import seaborn as sns\n",
    "from math import factorial\n",
    "from scipy import stats as st\n",
    "import matplotlib.pyplot as plt\n",
    "from IPython.display import display"
   ]
  },
  {
   "cell_type": "markdown",
   "id": "2e30bf52",
   "metadata": {},
   "source": [
    "-+-+-+-+-+-+-+-+-+-+-+-+-+-+-+-+-+-+-+-+-+-+-+-+-+-+-+-+-+-+-+-+-+-+-+-+-+-+-+-+-+-+-+-+-+-+-+-+-+-+-+-+-+-+-+-+-+-+-+-+-+-+-+-+-+-+-+-+-+-+"
   ]
  },
  {
   "cell_type": "markdown",
   "id": "158a55da",
   "metadata": {},
   "source": [
    "### Шаг 2. Загрузка данных\n",
    "[К оглавлению](#Оглавление)"
   ]
  },
  {
   "cell_type": "code",
   "execution_count": 2,
   "id": "0b3d2130",
   "metadata": {},
   "outputs": [],
   "source": [
    "users_go = pd.read_csv('/datasets/users_go.csv')\n",
    "rides_go = pd.read_csv('/datasets/rides_go.csv')\n",
    "subscriptions_go = pd.read_csv('/datasets/subscriptions_go.csv')"
   ]
  },
  {
   "cell_type": "markdown",
   "id": "c02a63e1",
   "metadata": {},
   "source": [
    "-+-+-+-+-+-+-+-+-+-+-+-+-+-+-+-+-+-+-+-+-+-+-+-+-+-+-+-+-+-+-+-+-+-+-+-+-+-+-+-+-+-+-+-+-+-+-+-+-+-+-+-+-+-+-+-+-+-+-+-+-+-+-+-+-+-+-+-+-+-+"
   ]
  },
  {
   "cell_type": "markdown",
   "id": "e65366e2",
   "metadata": {},
   "source": [
    "### Шаг 3. Общая информация о каждом датафрейме\n",
    "[К оглавлению](#Оглавление)"
   ]
  },
  {
   "cell_type": "markdown",
   "id": "8cc09a2e",
   "metadata": {},
   "source": [
    "#### Описание исходных данных\n",
    "[К оглавлению](#Оглавление)\n",
    "\n",
    "Описание исходных данных, предоставленное заказчиком:\n",
    "\n",
    "**Пользователи** — `users_go.csv`:\n",
    "- `user_id` уникальный идентификатор пользователя\n",
    "-  `name` имя пользователя\n",
    "- `age`\tвозраст\n",
    "- `city` город\n",
    "- `subscription_type` тип подписки (free, ultra)\n",
    "\n",
    "**Поездки** — `rides_go.csv`\n",
    "- `user_id`\tуникальный идентификатор пользователя\n",
    "- `distance` расстояние, которое пользователь проехал в текущей сессии (в метрах)\n",
    "- `duration` продолжительность сессии (в минутах) — время с того момента, как пользователь нажал кнопку «Начать поездку» до момента, как он нажал кнопку «Завершить поездку»\n",
    "- `date` дата совершения поездки\n",
    "\n",
    "**Подписки** — `subscriptions_go.csv`\n",
    "- `subscription_type` тип подписки\n",
    "- `minute_price` стоимость одной минуты поездки по данной подписке\n",
    "- `start_ride_price` стоимость начала поездки\n",
    "- `subscription_fee` стоимость ежемесячного платежа"
   ]
  },
  {
   "cell_type": "markdown",
   "id": "04f662c2",
   "metadata": {},
   "source": [
    "#### Функция вывода информации о датафрейме\n",
    "[К оглавлению](#Оглавление)"
   ]
  },
  {
   "cell_type": "code",
   "execution_count": 3,
   "id": "99d3f64a",
   "metadata": {},
   "outputs": [],
   "source": [
    "#Разработаем функцию, которая выводит общую информацию о датафрейме\n",
    "def data_info (data):\n",
    "    print('\\nОбщая информация о датафрейме .head()\\n')\n",
    "    display(data.head(10))\n",
    "    print('\\nОбщая информация о датафрейме .info()\\n')\n",
    "    display(data.info())\n",
    "    print('\\nОбщая информация о датафрейме .describe()\\n')\n",
    "    display(data.describe())\n",
    "    print('\\nОбщая информация о датафрейме .hist()\\n')\n",
    "    data.hist(color='blue', figsize=(15, 5))\n",
    "    plt.show()"
   ]
  },
  {
   "cell_type": "markdown",
   "id": "05cc5ea8",
   "metadata": {},
   "source": [
    "#### users_go.csv\n",
    "[К оглавлению](#Оглавление)"
   ]
  },
  {
   "cell_type": "code",
   "execution_count": 4,
   "id": "de3a1a82",
   "metadata": {
    "scrolled": false
   },
   "outputs": [
    {
     "name": "stdout",
     "output_type": "stream",
     "text": [
      "\n",
      "Общая информация о датафрейме .head()\n",
      "\n"
     ]
    },
    {
     "data": {
      "text/html": [
       "<div>\n",
       "<style scoped>\n",
       "    .dataframe tbody tr th:only-of-type {\n",
       "        vertical-align: middle;\n",
       "    }\n",
       "\n",
       "    .dataframe tbody tr th {\n",
       "        vertical-align: top;\n",
       "    }\n",
       "\n",
       "    .dataframe thead th {\n",
       "        text-align: right;\n",
       "    }\n",
       "</style>\n",
       "<table border=\"1\" class=\"dataframe\">\n",
       "  <thead>\n",
       "    <tr style=\"text-align: right;\">\n",
       "      <th></th>\n",
       "      <th>user_id</th>\n",
       "      <th>name</th>\n",
       "      <th>age</th>\n",
       "      <th>city</th>\n",
       "      <th>subscription_type</th>\n",
       "    </tr>\n",
       "  </thead>\n",
       "  <tbody>\n",
       "    <tr>\n",
       "      <th>0</th>\n",
       "      <td>1</td>\n",
       "      <td>Кира</td>\n",
       "      <td>22</td>\n",
       "      <td>Тюмень</td>\n",
       "      <td>ultra</td>\n",
       "    </tr>\n",
       "    <tr>\n",
       "      <th>1</th>\n",
       "      <td>2</td>\n",
       "      <td>Станислав</td>\n",
       "      <td>31</td>\n",
       "      <td>Омск</td>\n",
       "      <td>ultra</td>\n",
       "    </tr>\n",
       "    <tr>\n",
       "      <th>2</th>\n",
       "      <td>3</td>\n",
       "      <td>Алексей</td>\n",
       "      <td>20</td>\n",
       "      <td>Москва</td>\n",
       "      <td>ultra</td>\n",
       "    </tr>\n",
       "    <tr>\n",
       "      <th>3</th>\n",
       "      <td>4</td>\n",
       "      <td>Константин</td>\n",
       "      <td>26</td>\n",
       "      <td>Ростов-на-Дону</td>\n",
       "      <td>ultra</td>\n",
       "    </tr>\n",
       "    <tr>\n",
       "      <th>4</th>\n",
       "      <td>5</td>\n",
       "      <td>Адель</td>\n",
       "      <td>28</td>\n",
       "      <td>Омск</td>\n",
       "      <td>ultra</td>\n",
       "    </tr>\n",
       "    <tr>\n",
       "      <th>5</th>\n",
       "      <td>6</td>\n",
       "      <td>Регина</td>\n",
       "      <td>25</td>\n",
       "      <td>Краснодар</td>\n",
       "      <td>ultra</td>\n",
       "    </tr>\n",
       "    <tr>\n",
       "      <th>6</th>\n",
       "      <td>7</td>\n",
       "      <td>Игорь</td>\n",
       "      <td>23</td>\n",
       "      <td>Омск</td>\n",
       "      <td>ultra</td>\n",
       "    </tr>\n",
       "    <tr>\n",
       "      <th>7</th>\n",
       "      <td>8</td>\n",
       "      <td>Юрий</td>\n",
       "      <td>23</td>\n",
       "      <td>Краснодар</td>\n",
       "      <td>ultra</td>\n",
       "    </tr>\n",
       "    <tr>\n",
       "      <th>8</th>\n",
       "      <td>9</td>\n",
       "      <td>Ян</td>\n",
       "      <td>21</td>\n",
       "      <td>Пятигорск</td>\n",
       "      <td>ultra</td>\n",
       "    </tr>\n",
       "    <tr>\n",
       "      <th>9</th>\n",
       "      <td>10</td>\n",
       "      <td>Валерий</td>\n",
       "      <td>18</td>\n",
       "      <td>Екатеринбург</td>\n",
       "      <td>ultra</td>\n",
       "    </tr>\n",
       "  </tbody>\n",
       "</table>\n",
       "</div>"
      ],
      "text/plain": [
       "   user_id        name  age            city subscription_type\n",
       "0        1        Кира   22          Тюмень             ultra\n",
       "1        2   Станислав   31            Омск             ultra\n",
       "2        3     Алексей   20          Москва             ultra\n",
       "3        4  Константин   26  Ростов-на-Дону             ultra\n",
       "4        5       Адель   28            Омск             ultra\n",
       "5        6      Регина   25       Краснодар             ultra\n",
       "6        7       Игорь   23            Омск             ultra\n",
       "7        8        Юрий   23       Краснодар             ultra\n",
       "8        9          Ян   21       Пятигорск             ultra\n",
       "9       10     Валерий   18    Екатеринбург             ultra"
      ]
     },
     "metadata": {},
     "output_type": "display_data"
    },
    {
     "name": "stdout",
     "output_type": "stream",
     "text": [
      "\n",
      "Общая информация о датафрейме .info()\n",
      "\n",
      "<class 'pandas.core.frame.DataFrame'>\n",
      "RangeIndex: 1565 entries, 0 to 1564\n",
      "Data columns (total 5 columns):\n",
      " #   Column             Non-Null Count  Dtype \n",
      "---  ------             --------------  ----- \n",
      " 0   user_id            1565 non-null   int64 \n",
      " 1   name               1565 non-null   object\n",
      " 2   age                1565 non-null   int64 \n",
      " 3   city               1565 non-null   object\n",
      " 4   subscription_type  1565 non-null   object\n",
      "dtypes: int64(2), object(3)\n",
      "memory usage: 61.3+ KB\n"
     ]
    },
    {
     "data": {
      "text/plain": [
       "None"
      ]
     },
     "metadata": {},
     "output_type": "display_data"
    },
    {
     "name": "stdout",
     "output_type": "stream",
     "text": [
      "\n",
      "Общая информация о датафрейме .describe()\n",
      "\n"
     ]
    },
    {
     "data": {
      "text/html": [
       "<div>\n",
       "<style scoped>\n",
       "    .dataframe tbody tr th:only-of-type {\n",
       "        vertical-align: middle;\n",
       "    }\n",
       "\n",
       "    .dataframe tbody tr th {\n",
       "        vertical-align: top;\n",
       "    }\n",
       "\n",
       "    .dataframe thead th {\n",
       "        text-align: right;\n",
       "    }\n",
       "</style>\n",
       "<table border=\"1\" class=\"dataframe\">\n",
       "  <thead>\n",
       "    <tr style=\"text-align: right;\">\n",
       "      <th></th>\n",
       "      <th>user_id</th>\n",
       "      <th>age</th>\n",
       "    </tr>\n",
       "  </thead>\n",
       "  <tbody>\n",
       "    <tr>\n",
       "      <th>count</th>\n",
       "      <td>1565.000000</td>\n",
       "      <td>1565.000000</td>\n",
       "    </tr>\n",
       "    <tr>\n",
       "      <th>mean</th>\n",
       "      <td>762.633866</td>\n",
       "      <td>24.922045</td>\n",
       "    </tr>\n",
       "    <tr>\n",
       "      <th>std</th>\n",
       "      <td>443.260155</td>\n",
       "      <td>4.553496</td>\n",
       "    </tr>\n",
       "    <tr>\n",
       "      <th>min</th>\n",
       "      <td>1.000000</td>\n",
       "      <td>12.000000</td>\n",
       "    </tr>\n",
       "    <tr>\n",
       "      <th>25%</th>\n",
       "      <td>378.000000</td>\n",
       "      <td>22.000000</td>\n",
       "    </tr>\n",
       "    <tr>\n",
       "      <th>50%</th>\n",
       "      <td>762.000000</td>\n",
       "      <td>25.000000</td>\n",
       "    </tr>\n",
       "    <tr>\n",
       "      <th>75%</th>\n",
       "      <td>1146.000000</td>\n",
       "      <td>28.000000</td>\n",
       "    </tr>\n",
       "    <tr>\n",
       "      <th>max</th>\n",
       "      <td>1534.000000</td>\n",
       "      <td>43.000000</td>\n",
       "    </tr>\n",
       "  </tbody>\n",
       "</table>\n",
       "</div>"
      ],
      "text/plain": [
       "           user_id          age\n",
       "count  1565.000000  1565.000000\n",
       "mean    762.633866    24.922045\n",
       "std     443.260155     4.553496\n",
       "min       1.000000    12.000000\n",
       "25%     378.000000    22.000000\n",
       "50%     762.000000    25.000000\n",
       "75%    1146.000000    28.000000\n",
       "max    1534.000000    43.000000"
      ]
     },
     "metadata": {},
     "output_type": "display_data"
    },
    {
     "name": "stdout",
     "output_type": "stream",
     "text": [
      "\n",
      "Общая информация о датафрейме .hist()\n",
      "\n"
     ]
    },
    {
     "data": {
      "image/png": "[encoded data removed]",
      "text/plain": [
       "<Figure size 1080x360 with 2 Axes>"
      ]
     },
     "metadata": {
      "needs_background": "light"
     },
     "output_type": "display_data"
    }
   ],
   "source": [
    "data_info(users_go)"
   ]
  },
  {
   "cell_type": "markdown",
   "id": "9a4811e2",
   "metadata": {},
   "source": [
    "##### Выводы по разделу\n",
    "[К оглавлению](#Оглавление)\n",
    "\n",
    "Описание столбцов:\n",
    "1. Наименования столбцов соответствуют описанию. \n",
    "2. Наименования столбцов составлены должным образом.\n",
    "\n",
    "Предварительное исследование пропусков в данных:\n",
    "1. Пропуски данных отсутствуют.\n",
    "\n",
    "Исследование типов данных: \n",
    "1. `user_id` (int64) - формат данных соответствует\n",
    "2. `name` (object) - формат данных соответствует\n",
    "3. `age` (int64) - формат данных соответствует\n",
    "4. `city` (object) - формат данных соответствует\n",
    "5. `subscription_type` (object) - формат данных соответствует\n",
    "\n",
    "Предварительное исследование значений столбцов:\n",
    "1. В столбце `user_id` максимальное значение - `1534`, хотя общее количество строк - `1565`. Данный датафрейм содержит информацию о пользователях, id присваевается как порядковый номер. Возможно, имеются дубликаты, проверить.\n",
    "2. Столбец `age` не имеет выбросов, значения адекватные"
   ]
  },
  {
   "cell_type": "markdown",
   "id": "1c10e077",
   "metadata": {},
   "source": [
    "#### rides_go.csv\n",
    "[К оглавлению](#Оглавление)"
   ]
  },
  {
   "cell_type": "code",
   "execution_count": 5,
   "id": "ef3cd632",
   "metadata": {
    "scrolled": false
   },
   "outputs": [
    {
     "name": "stdout",
     "output_type": "stream",
     "text": [
      "\n",
      "Общая информация о датафрейме .head()\n",
      "\n"
     ]
    },
    {
     "data": {
      "text/html": [
       "<div>\n",
       "<style scoped>\n",
       "    .dataframe tbody tr th:only-of-type {\n",
       "        vertical-align: middle;\n",
       "    }\n",
       "\n",
       "    .dataframe tbody tr th {\n",
       "        vertical-align: top;\n",
       "    }\n",
       "\n",
       "    .dataframe thead th {\n",
       "        text-align: right;\n",
       "    }\n",
       "</style>\n",
       "<table border=\"1\" class=\"dataframe\">\n",
       "  <thead>\n",
       "    <tr style=\"text-align: right;\">\n",
       "      <th></th>\n",
       "      <th>user_id</th>\n",
       "      <th>distance</th>\n",
       "      <th>duration</th>\n",
       "      <th>date</th>\n",
       "    </tr>\n",
       "  </thead>\n",
       "  <tbody>\n",
       "    <tr>\n",
       "      <th>0</th>\n",
       "      <td>1</td>\n",
       "      <td>4409.919140</td>\n",
       "      <td>25.599769</td>\n",
       "      <td>2021-01-01</td>\n",
       "    </tr>\n",
       "    <tr>\n",
       "      <th>1</th>\n",
       "      <td>1</td>\n",
       "      <td>2617.592153</td>\n",
       "      <td>15.816871</td>\n",
       "      <td>2021-01-18</td>\n",
       "    </tr>\n",
       "    <tr>\n",
       "      <th>2</th>\n",
       "      <td>1</td>\n",
       "      <td>754.159807</td>\n",
       "      <td>6.232113</td>\n",
       "      <td>2021-04-20</td>\n",
       "    </tr>\n",
       "    <tr>\n",
       "      <th>3</th>\n",
       "      <td>1</td>\n",
       "      <td>2694.783254</td>\n",
       "      <td>18.511000</td>\n",
       "      <td>2021-08-11</td>\n",
       "    </tr>\n",
       "    <tr>\n",
       "      <th>4</th>\n",
       "      <td>1</td>\n",
       "      <td>4028.687306</td>\n",
       "      <td>26.265803</td>\n",
       "      <td>2021-08-28</td>\n",
       "    </tr>\n",
       "    <tr>\n",
       "      <th>5</th>\n",
       "      <td>1</td>\n",
       "      <td>2770.890808</td>\n",
       "      <td>16.650138</td>\n",
       "      <td>2021-10-09</td>\n",
       "    </tr>\n",
       "    <tr>\n",
       "      <th>6</th>\n",
       "      <td>1</td>\n",
       "      <td>3039.020292</td>\n",
       "      <td>14.927879</td>\n",
       "      <td>2021-10-19</td>\n",
       "    </tr>\n",
       "    <tr>\n",
       "      <th>7</th>\n",
       "      <td>1</td>\n",
       "      <td>2842.118050</td>\n",
       "      <td>23.117468</td>\n",
       "      <td>2021-11-06</td>\n",
       "    </tr>\n",
       "    <tr>\n",
       "      <th>8</th>\n",
       "      <td>1</td>\n",
       "      <td>3412.690668</td>\n",
       "      <td>15.238072</td>\n",
       "      <td>2021-11-14</td>\n",
       "    </tr>\n",
       "    <tr>\n",
       "      <th>9</th>\n",
       "      <td>1</td>\n",
       "      <td>748.690645</td>\n",
       "      <td>15.041884</td>\n",
       "      <td>2021-11-22</td>\n",
       "    </tr>\n",
       "  </tbody>\n",
       "</table>\n",
       "</div>"
      ],
      "text/plain": [
       "   user_id     distance   duration        date\n",
       "0        1  4409.919140  25.599769  2021-01-01\n",
       "1        1  2617.592153  15.816871  2021-01-18\n",
       "2        1   754.159807   6.232113  2021-04-20\n",
       "3        1  2694.783254  18.511000  2021-08-11\n",
       "4        1  4028.687306  26.265803  2021-08-28\n",
       "5        1  2770.890808  16.650138  2021-10-09\n",
       "6        1  3039.020292  14.927879  2021-10-19\n",
       "7        1  2842.118050  23.117468  2021-11-06\n",
       "8        1  3412.690668  15.238072  2021-11-14\n",
       "9        1   748.690645  15.041884  2021-11-22"
      ]
     },
     "metadata": {},
     "output_type": "display_data"
    },
    {
     "name": "stdout",
     "output_type": "stream",
     "text": [
      "\n",
      "Общая информация о датафрейме .info()\n",
      "\n",
      "<class 'pandas.core.frame.DataFrame'>\n",
      "RangeIndex: 18068 entries, 0 to 18067\n",
      "Data columns (total 4 columns):\n",
      " #   Column    Non-Null Count  Dtype  \n",
      "---  ------    --------------  -----  \n",
      " 0   user_id   18068 non-null  int64  \n",
      " 1   distance  18068 non-null  float64\n",
      " 2   duration  18068 non-null  float64\n",
      " 3   date      18068 non-null  object \n",
      "dtypes: float64(2), int64(1), object(1)\n",
      "memory usage: 564.8+ KB\n"
     ]
    },
    {
     "data": {
      "text/plain": [
       "None"
      ]
     },
     "metadata": {},
     "output_type": "display_data"
    },
    {
     "name": "stdout",
     "output_type": "stream",
     "text": [
      "\n",
      "Общая информация о датафрейме .describe()\n",
      "\n"
     ]
    },
    {
     "data": {
      "text/html": [
       "<div>\n",
       "<style scoped>\n",
       "    .dataframe tbody tr th:only-of-type {\n",
       "        vertical-align: middle;\n",
       "    }\n",
       "\n",
       "    .dataframe tbody tr th {\n",
       "        vertical-align: top;\n",
       "    }\n",
       "\n",
       "    .dataframe thead th {\n",
       "        text-align: right;\n",
       "    }\n",
       "</style>\n",
       "<table border=\"1\" class=\"dataframe\">\n",
       "  <thead>\n",
       "    <tr style=\"text-align: right;\">\n",
       "      <th></th>\n",
       "      <th>user_id</th>\n",
       "      <th>distance</th>\n",
       "      <th>duration</th>\n",
       "    </tr>\n",
       "  </thead>\n",
       "  <tbody>\n",
       "    <tr>\n",
       "      <th>count</th>\n",
       "      <td>18068.000000</td>\n",
       "      <td>18068.000000</td>\n",
       "      <td>18068.000000</td>\n",
       "    </tr>\n",
       "    <tr>\n",
       "      <th>mean</th>\n",
       "      <td>842.869936</td>\n",
       "      <td>3070.659976</td>\n",
       "      <td>17.805011</td>\n",
       "    </tr>\n",
       "    <tr>\n",
       "      <th>std</th>\n",
       "      <td>434.734317</td>\n",
       "      <td>1116.831209</td>\n",
       "      <td>6.091051</td>\n",
       "    </tr>\n",
       "    <tr>\n",
       "      <th>min</th>\n",
       "      <td>1.000000</td>\n",
       "      <td>0.855683</td>\n",
       "      <td>0.500000</td>\n",
       "    </tr>\n",
       "    <tr>\n",
       "      <th>25%</th>\n",
       "      <td>487.000000</td>\n",
       "      <td>2543.226360</td>\n",
       "      <td>13.597563</td>\n",
       "    </tr>\n",
       "    <tr>\n",
       "      <th>50%</th>\n",
       "      <td>889.000000</td>\n",
       "      <td>3133.609994</td>\n",
       "      <td>17.678395</td>\n",
       "    </tr>\n",
       "    <tr>\n",
       "      <th>75%</th>\n",
       "      <td>1213.250000</td>\n",
       "      <td>3776.222735</td>\n",
       "      <td>21.724800</td>\n",
       "    </tr>\n",
       "    <tr>\n",
       "      <th>max</th>\n",
       "      <td>1534.000000</td>\n",
       "      <td>7211.007745</td>\n",
       "      <td>40.823963</td>\n",
       "    </tr>\n",
       "  </tbody>\n",
       "</table>\n",
       "</div>"
      ],
      "text/plain": [
       "            user_id      distance      duration\n",
       "count  18068.000000  18068.000000  18068.000000\n",
       "mean     842.869936   3070.659976     17.805011\n",
       "std      434.734317   1116.831209      6.091051\n",
       "min        1.000000      0.855683      0.500000\n",
       "25%      487.000000   2543.226360     13.597563\n",
       "50%      889.000000   3133.609994     17.678395\n",
       "75%     1213.250000   3776.222735     21.724800\n",
       "max     1534.000000   7211.007745     40.823963"
      ]
     },
     "metadata": {},
     "output_type": "display_data"
    },
    {
     "name": "stdout",
     "output_type": "stream",
     "text": [
      "\n",
      "Общая информация о датафрейме .hist()\n",
      "\n"
     ]
    },
    {
     "data": {
      "image/png": "[encoded data removed]",
      "text/plain": [
       "<Figure size 1080x360 with 4 Axes>"
      ]
     },
     "metadata": {
      "needs_background": "light"
     },
     "output_type": "display_data"
    }
   ],
   "source": [
    "data_info(rides_go)"
   ]
  },
  {
   "cell_type": "markdown",
   "id": "7e93523e",
   "metadata": {},
   "source": [
    "##### Выводы по разделу\n",
    "[К оглавлению](#Оглавление)\n",
    "\n",
    "\n",
    "Описание столбцов:\n",
    "1. Наименования столбцов соответствуют описанию. \n",
    "2. Наименования столбцов составлены должным образом.\n",
    "\n",
    "Предварительное исследование пропусков в данных:\n",
    "1. Пропуски данных отсутствуют.\n",
    "\n",
    "Исследование типов данных: \n",
    "1. `user_id` (int64) - формат данных соответствует\n",
    "2. `distance` (float64) - формат данных соответствует\n",
    "3. `duration` (float64) - формат данных соответствует\n",
    "4. `date` (object) - привести формат к типу данных pandas\n",
    "\n",
    "Предварительное исследование значений столбцов:\n",
    "1. В столбце `user_id` также максимальное значение - `1534`\n",
    "2. Столбец `distance` не имеет выбросов, значения адекватные\n",
    "3. Столбец `duration` не имеет выбросов, значения адекватные"
   ]
  },
  {
   "cell_type": "markdown",
   "id": "3b81de8a",
   "metadata": {},
   "source": [
    "#### subscriptions_go.csv\n",
    "[К оглавлению](#Оглавление)"
   ]
  },
  {
   "cell_type": "code",
   "execution_count": 6,
   "id": "98ac625d",
   "metadata": {},
   "outputs": [
    {
     "name": "stdout",
     "output_type": "stream",
     "text": [
      "\n",
      "Общая информация о датафрейме .head()\n",
      "\n"
     ]
    },
    {
     "data": {
      "text/html": [
       "<div>\n",
       "<style scoped>\n",
       "    .dataframe tbody tr th:only-of-type {\n",
       "        vertical-align: middle;\n",
       "    }\n",
       "\n",
       "    .dataframe tbody tr th {\n",
       "        vertical-align: top;\n",
       "    }\n",
       "\n",
       "    .dataframe thead th {\n",
       "        text-align: right;\n",
       "    }\n",
       "</style>\n",
       "<table border=\"1\" class=\"dataframe\">\n",
       "  <thead>\n",
       "    <tr style=\"text-align: right;\">\n",
       "      <th></th>\n",
       "      <th>subscription_type</th>\n",
       "      <th>minute_price</th>\n",
       "      <th>start_ride_price</th>\n",
       "      <th>subscription_fee</th>\n",
       "    </tr>\n",
       "  </thead>\n",
       "  <tbody>\n",
       "    <tr>\n",
       "      <th>0</th>\n",
       "      <td>free</td>\n",
       "      <td>8</td>\n",
       "      <td>50</td>\n",
       "      <td>0</td>\n",
       "    </tr>\n",
       "    <tr>\n",
       "      <th>1</th>\n",
       "      <td>ultra</td>\n",
       "      <td>6</td>\n",
       "      <td>0</td>\n",
       "      <td>199</td>\n",
       "    </tr>\n",
       "  </tbody>\n",
       "</table>\n",
       "</div>"
      ],
      "text/plain": [
       "  subscription_type  minute_price  start_ride_price  subscription_fee\n",
       "0              free             8                50                 0\n",
       "1             ultra             6                 0               199"
      ]
     },
     "metadata": {},
     "output_type": "display_data"
    },
    {
     "name": "stdout",
     "output_type": "stream",
     "text": [
      "\n",
      "Общая информация о датафрейме .info()\n",
      "\n",
      "<class 'pandas.core.frame.DataFrame'>\n",
      "RangeIndex: 2 entries, 0 to 1\n",
      "Data columns (total 4 columns):\n",
      " #   Column             Non-Null Count  Dtype \n",
      "---  ------             --------------  ----- \n",
      " 0   subscription_type  2 non-null      object\n",
      " 1   minute_price       2 non-null      int64 \n",
      " 2   start_ride_price   2 non-null      int64 \n",
      " 3   subscription_fee   2 non-null      int64 \n",
      "dtypes: int64(3), object(1)\n",
      "memory usage: 192.0+ bytes\n"
     ]
    },
    {
     "data": {
      "text/plain": [
       "None"
      ]
     },
     "metadata": {},
     "output_type": "display_data"
    },
    {
     "name": "stdout",
     "output_type": "stream",
     "text": [
      "\n",
      "Общая информация о датафрейме .describe()\n",
      "\n"
     ]
    },
    {
     "data": {
      "text/html": [
       "<div>\n",
       "<style scoped>\n",
       "    .dataframe tbody tr th:only-of-type {\n",
       "        vertical-align: middle;\n",
       "    }\n",
       "\n",
       "    .dataframe tbody tr th {\n",
       "        vertical-align: top;\n",
       "    }\n",
       "\n",
       "    .dataframe thead th {\n",
       "        text-align: right;\n",
       "    }\n",
       "</style>\n",
       "<table border=\"1\" class=\"dataframe\">\n",
       "  <thead>\n",
       "    <tr style=\"text-align: right;\">\n",
       "      <th></th>\n",
       "      <th>minute_price</th>\n",
       "      <th>start_ride_price</th>\n",
       "      <th>subscription_fee</th>\n",
       "    </tr>\n",
       "  </thead>\n",
       "  <tbody>\n",
       "    <tr>\n",
       "      <th>count</th>\n",
       "      <td>2.000000</td>\n",
       "      <td>2.000000</td>\n",
       "      <td>2.000000</td>\n",
       "    </tr>\n",
       "    <tr>\n",
       "      <th>mean</th>\n",
       "      <td>7.000000</td>\n",
       "      <td>25.000000</td>\n",
       "      <td>99.500000</td>\n",
       "    </tr>\n",
       "    <tr>\n",
       "      <th>std</th>\n",
       "      <td>1.414214</td>\n",
       "      <td>35.355339</td>\n",
       "      <td>140.714249</td>\n",
       "    </tr>\n",
       "    <tr>\n",
       "      <th>min</th>\n",
       "      <td>6.000000</td>\n",
       "      <td>0.000000</td>\n",
       "      <td>0.000000</td>\n",
       "    </tr>\n",
       "    <tr>\n",
       "      <th>25%</th>\n",
       "      <td>6.500000</td>\n",
       "      <td>12.500000</td>\n",
       "      <td>49.750000</td>\n",
       "    </tr>\n",
       "    <tr>\n",
       "      <th>50%</th>\n",
       "      <td>7.000000</td>\n",
       "      <td>25.000000</td>\n",
       "      <td>99.500000</td>\n",
       "    </tr>\n",
       "    <tr>\n",
       "      <th>75%</th>\n",
       "      <td>7.500000</td>\n",
       "      <td>37.500000</td>\n",
       "      <td>149.250000</td>\n",
       "    </tr>\n",
       "    <tr>\n",
       "      <th>max</th>\n",
       "      <td>8.000000</td>\n",
       "      <td>50.000000</td>\n",
       "      <td>199.000000</td>\n",
       "    </tr>\n",
       "  </tbody>\n",
       "</table>\n",
       "</div>"
      ],
      "text/plain": [
       "       minute_price  start_ride_price  subscription_fee\n",
       "count      2.000000          2.000000          2.000000\n",
       "mean       7.000000         25.000000         99.500000\n",
       "std        1.414214         35.355339        140.714249\n",
       "min        6.000000          0.000000          0.000000\n",
       "25%        6.500000         12.500000         49.750000\n",
       "50%        7.000000         25.000000         99.500000\n",
       "75%        7.500000         37.500000        149.250000\n",
       "max        8.000000         50.000000        199.000000"
      ]
     },
     "metadata": {},
     "output_type": "display_data"
    },
    {
     "name": "stdout",
     "output_type": "stream",
     "text": [
      "\n",
      "Общая информация о датафрейме .hist()\n",
      "\n"
     ]
    },
    {
     "data": {
      "image/png": "[encoded data removed]",
      "text/plain": [
       "<Figure size 1080x360 with 4 Axes>"
      ]
     },
     "metadata": {
      "needs_background": "light"
     },
     "output_type": "display_data"
    }
   ],
   "source": [
    "data_info(subscriptions_go)"
   ]
  },
  {
   "cell_type": "markdown",
   "id": "5d803dc6",
   "metadata": {},
   "source": [
    "##### Выводы по разделу\n",
    "[К оглавлению](#Оглавление)\n",
    "\n",
    "Описание столбцов:\n",
    "1. Наименования столбцов соответствуют описанию. \n",
    "2. Наименования столбцов составлены должным образом.\n",
    "\n",
    "Предварительное исследование пропусков в данных:\n",
    "1. Пропуски данных отсутствуют.\n",
    "\n",
    "Исследование типов данных: \n",
    "1. `subscription_type` (object) - формат данных соответствует\n",
    "2. `minute_price` (int64) - формат данных соответствует\n",
    "3. `start_ride_price` (int64) - формат данных соответствует\n",
    "4. `subscription_fee` (int64) - формат данных соответствует\n",
    "\n",
    "Предварительное исследование значений столбцов:\n",
    "1. Столбец `minute_price` не имеет выбросов, значения адекватные\n",
    "2. Столбец `start_ride_price` не имеет выбросов, значения адекватные\n",
    "3. Столбец `subscription_fee` не имеет выбросов, значения адекватные"
   ]
  },
  {
   "cell_type": "markdown",
   "id": "a66d5115",
   "metadata": {},
   "source": [
    "#### Выводы по главе\n",
    "[К оглавлению](#Оглавление)\n",
    "\n",
    "Описание столбцов:\n",
    "1. Наименования столбцов соответствуют описанию. \n",
    "2. Наименования столбцов составлены должным образом.\n",
    "\n",
    "Предварительное исследование пропусков в данных:\n",
    "1. Пропуски данных отсутствуют.\n",
    "\n",
    "Исследование типов данных: \n",
    "1. `date` (object) - привести формат к типу данных pandas\n",
    "\n",
    "Предварительное исследование значений столбцов:\n",
    "1. В данных не имеется выбросов и каких-либо аномальных значений\n",
    "\n",
    "Выявлены общие столбцы для объединения данных:\n",
    "1. `users_go` и `rides_go`\n",
    "    - user_id\n",
    "2. `users_go` и `subscriptions_go`\n",
    "    - subscription_type"
   ]
  },
  {
   "cell_type": "markdown",
   "id": "bb47e8e8",
   "metadata": {},
   "source": [
    "-+-+-+-+-+-+-+-+-+-+-+-+-+-+-+-+-+-+-+-+-+-+-+-+-+-+-+-+-+-+-+-+-+-+-+-+-+-+-+-+-+-+-+-+-+-+-+-+-+-+-+-+-+-+-+-+-+-+-+-+-+-+-+-+-+-+-+-+-+-+"
   ]
  },
  {
   "cell_type": "markdown",
   "id": "bfe7f8db",
   "metadata": {},
   "source": [
    "### Шаг 4. Предобработка данных\n",
    "[К оглавлению](#Оглавление)"
   ]
  },
  {
   "cell_type": "markdown",
   "id": "3e4f7054",
   "metadata": {},
   "source": [
    "#### Обработка пропущенных значений\n",
    "[К оглавлению](#Оглавление)"
   ]
  },
  {
   "cell_type": "code",
   "execution_count": 7,
   "id": "d79d839f",
   "metadata": {},
   "outputs": [
    {
     "name": "stdout",
     "output_type": "stream",
     "text": [
      "\n",
      "Количество пропусков в датафрейме users_go\n",
      " user_id              0\n",
      "name                 0\n",
      "age                  0\n",
      "city                 0\n",
      "subscription_type    0\n",
      "dtype: int64\n",
      "\n",
      "Количество пропусков в датафрейме rides_go\n",
      " user_id     0\n",
      "distance    0\n",
      "duration    0\n",
      "date        0\n",
      "dtype: int64\n",
      "\n",
      "Количество пропусков в датафрейме subscriptions_go\n",
      " subscription_type    0\n",
      "minute_price         0\n",
      "start_ride_price     0\n",
      "subscription_fee     0\n",
      "dtype: int64\n"
     ]
    }
   ],
   "source": [
    "print('\\nКоличество пропусков в датафрейме users_go\\n', users_go.isna().sum())\n",
    "print('\\nКоличество пропусков в датафрейме rides_go\\n', rides_go.isna().sum())\n",
    "print('\\nКоличество пропусков в датафрейме subscriptions_go\\n', subscriptions_go.isna().sum())"
   ]
  },
  {
   "cell_type": "markdown",
   "id": "c3857026",
   "metadata": {},
   "source": [
    "##### Выводы по разделу\n",
    "[К оглавлению](#Оглавление)\n",
    "\n",
    "Пропусков не выявлено"
   ]
  },
  {
   "cell_type": "markdown",
   "id": "d1939a2c",
   "metadata": {},
   "source": [
    "#### Обработка явных дубликатов\n",
    "[К оглавлению](#Оглавление)\n",
    "\n",
    "Проверим наличие неявных дубликатов во всех данных"
   ]
  },
  {
   "cell_type": "code",
   "execution_count": 8,
   "id": "ba50e591",
   "metadata": {},
   "outputs": [
    {
     "name": "stdout",
     "output_type": "stream",
     "text": [
      "\n",
      "Количество дубликатов в датафрейме users_go\n",
      " 31\n",
      "\n",
      "Количество дубликатов в датафрейме rides_go\n",
      " 0\n",
      "\n",
      "Количество дубликатов в датафрейме subscriptions_go\n",
      " 0\n"
     ]
    }
   ],
   "source": [
    "print('\\nКоличество дубликатов в датафрейме users_go\\n', users_go.duplicated().sum())\n",
    "print('\\nКоличество дубликатов в датафрейме rides_go\\n', rides_go.duplicated().sum())\n",
    "print('\\nКоличество дубликатов в датафрейме subscriptions_go\\n', subscriptions_go.duplicated().sum())"
   ]
  },
  {
   "cell_type": "markdown",
   "id": "263e48f5",
   "metadata": {},
   "source": [
    "Как и было отмечено при ознакомлении с данными, обнаружены дубликаты.\n",
    "\n",
    "Удалим такие строки"
   ]
  },
  {
   "cell_type": "code",
   "execution_count": 9,
   "id": "929e337c",
   "metadata": {},
   "outputs": [],
   "source": [
    "users_go.drop_duplicates(inplace=True)"
   ]
  },
  {
   "cell_type": "markdown",
   "id": "5db5adcc",
   "metadata": {},
   "source": [
    "##### Выводы по разделу\n",
    "[К оглавлению](#Оглавление)\n",
    "\n",
    "Были обнаружены и удалены дубликаты в датафрейме `users_go`"
   ]
  },
  {
   "cell_type": "markdown",
   "id": "071b5037",
   "metadata": {},
   "source": [
    "#### Обработка неявных дубликатов\n",
    "[К оглавлению](#Оглавление)\n",
    "\n",
    "Проверим некоторые столбцы данных на наличие неявных дубликатов и других дефектов в данных, которые могут быть выявлены методом unique()"
   ]
  },
  {
   "cell_type": "code",
   "execution_count": 10,
   "id": "9061396c",
   "metadata": {
    "scrolled": false
   },
   "outputs": [
    {
     "data": {
      "text/plain": [
       "array(['Тюмень', 'Омск', 'Москва', 'Ростов-на-Дону', 'Краснодар',\n",
       "       'Пятигорск', 'Екатеринбург', 'Сочи'], dtype=object)"
      ]
     },
     "execution_count": 10,
     "metadata": {},
     "output_type": "execute_result"
    }
   ],
   "source": [
    "users_go['city'].unique()"
   ]
  },
  {
   "cell_type": "code",
   "execution_count": 11,
   "id": "8738344c",
   "metadata": {},
   "outputs": [
    {
     "data": {
      "text/plain": [
       "array(['ultra', 'free'], dtype=object)"
      ]
     },
     "execution_count": 11,
     "metadata": {},
     "output_type": "execute_result"
    }
   ],
   "source": [
    "users_go['subscription_type'].unique()"
   ]
  },
  {
   "cell_type": "code",
   "execution_count": 12,
   "id": "8443c08d",
   "metadata": {},
   "outputs": [
    {
     "data": {
      "text/plain": [
       "array([8, 6])"
      ]
     },
     "execution_count": 12,
     "metadata": {},
     "output_type": "execute_result"
    }
   ],
   "source": [
    "subscriptions_go['minute_price'].unique()"
   ]
  },
  {
   "cell_type": "code",
   "execution_count": 13,
   "id": "82944f53",
   "metadata": {},
   "outputs": [
    {
     "data": {
      "text/plain": [
       "array([50,  0])"
      ]
     },
     "execution_count": 13,
     "metadata": {},
     "output_type": "execute_result"
    }
   ],
   "source": [
    "subscriptions_go['start_ride_price'].unique()"
   ]
  },
  {
   "cell_type": "code",
   "execution_count": 14,
   "id": "2e61391d",
   "metadata": {},
   "outputs": [
    {
     "data": {
      "text/plain": [
       "array([  0, 199])"
      ]
     },
     "execution_count": 14,
     "metadata": {},
     "output_type": "execute_result"
    }
   ],
   "source": [
    "subscriptions_go['subscription_fee'].unique()"
   ]
  },
  {
   "cell_type": "markdown",
   "id": "b023bf1f",
   "metadata": {},
   "source": [
    "##### Выводы по разделу\n",
    "[К оглавлению](#Оглавление)\n",
    "\n",
    "Неявных дубликатов не обнаружено."
   ]
  },
  {
   "cell_type": "markdown",
   "id": "d322649d",
   "metadata": {},
   "source": [
    "#### Изменение типов данных\n",
    "[К оглавлению](#Оглавление)"
   ]
  },
  {
   "cell_type": "markdown",
   "id": "78fdcfe7",
   "metadata": {},
   "source": [
    "##### Привести столбец date к типу даты pandas\n",
    "[К оглавлению](#Оглавление)"
   ]
  },
  {
   "cell_type": "code",
   "execution_count": 15,
   "id": "aee35a3c",
   "metadata": {},
   "outputs": [],
   "source": [
    "rides_go['date'] = pd.to_datetime(rides_go['date'], format = '%Y-%m-%d')"
   ]
  },
  {
   "cell_type": "markdown",
   "id": "5825432f",
   "metadata": {},
   "source": [
    "#### Создать новый столбец с номером месяца на основе столбца date\n",
    "[К оглавлению](#Оглавление)"
   ]
  },
  {
   "cell_type": "markdown",
   "id": "d5bbcf3d",
   "metadata": {},
   "source": [
    "Проверим, за какие годы предоставлены данные"
   ]
  },
  {
   "cell_type": "code",
   "execution_count": 16,
   "id": "b299c276",
   "metadata": {},
   "outputs": [
    {
     "data": {
      "image/png": "[encoded data removed]",
      "text/plain": [
       "<Figure size 432x288 with 1 Axes>"
      ]
     },
     "metadata": {
      "needs_background": "light"
     },
     "output_type": "display_data"
    },
    {
     "data": {
      "text/plain": [
       "array([2021])"
      ]
     },
     "execution_count": 16,
     "metadata": {},
     "output_type": "execute_result"
    }
   ],
   "source": [
    "rides_go['date'].dt.year.hist()\n",
    "plt.show()\n",
    "rides_go['date'].dt.year.unique()"
   ]
  },
  {
   "cell_type": "markdown",
   "id": "384cbf66",
   "metadata": {},
   "source": [
    "Так как данные только за 2021 год, пересечения с другими годами не будет."
   ]
  },
  {
   "cell_type": "code",
   "execution_count": 17,
   "id": "7ecd7a5d",
   "metadata": {},
   "outputs": [
    {
     "data": {
      "text/plain": [
       "0    1\n",
       "1    1\n",
       "2    4\n",
       "3    8\n",
       "4    8\n",
       "Name: month, dtype: int64"
      ]
     },
     "execution_count": 17,
     "metadata": {},
     "output_type": "execute_result"
    }
   ],
   "source": [
    "#создадим новый столбец и выведем его первые 5 строк \n",
    "rides_go['month'] = rides_go['date'].dt.month \n",
    "rides_go['month'].head()"
   ]
  },
  {
   "cell_type": "markdown",
   "id": "a92c400d",
   "metadata": {},
   "source": [
    "##### Выводы по разделу\n",
    "[К оглавлению](#Оглавление)\n",
    "\n",
    "Был создан новый столбец `month` в датафрейме `rides_go` с номером месяца\n",
    "Измененение других типов не требуется"
   ]
  },
  {
   "cell_type": "markdown",
   "id": "26e52a15",
   "metadata": {},
   "source": [
    "#### Выводы по главе\n",
    "[К оглавлению](#Оглавление)\n",
    "\n",
    "Выполнена предобработка данных:\n",
    "- Обработка пропущенных значений\n",
    "    - пропущенных значений не обнаружено\n",
    "- Обработка неявных дубликатов\n",
    "    - неявных дубликатов не обнаружено\n",
    "- Обработка явных дубликатов\n",
    "    - удалены явные дубликаты в users_go\n",
    "- Изменение типов данных\n",
    "    - изменен столбец date к типу даты pandas\n",
    "    - в иных столбцах изменение типа данных не требуется\n",
    "- Создание нового столбца с номером месяца на основе столбца date\n",
    "    - задача выполнена"
   ]
  },
  {
   "cell_type": "markdown",
   "id": "b91a3531",
   "metadata": {},
   "source": [
    "-+-+-+-+-+-+-+-+-+-+-+-+-+-+-+-+-+-+-+-+-+-+-+-+-+-+-+-+-+-+-+-+-+-+-+-+-+-+-+-+-+-+-+-+-+-+-+-+-+-+-+-+-+-+-+-+-+-+-+-+-+-+-+-+-+-+-+-+-+-+"
   ]
  },
  {
   "cell_type": "markdown",
   "id": "7a1a4933",
   "metadata": {},
   "source": [
    "### Шаг 5. Исследовательский анализ данных\n",
    "[К оглавлению](#Оглавление)\n",
    "\n",
    "Разработаем функции для анализа категориальных и числовых данных"
   ]
  },
  {
   "cell_type": "code",
   "execution_count": 18,
   "id": "3847b8b5",
   "metadata": {},
   "outputs": [],
   "source": [
    "def analyze_category(data, column, title, x_label, y_label):\n",
    "    \n",
    "    #Функция выводит основную информацию о пользователях по категориям:\n",
    "    #сводную таблицу с группировкой по user_id\n",
    "    #На вход подаётся датафрейм и исследуемый столбец\n",
    "    #Например (users_go, 'city')\n",
    "    \n",
    "    \n",
    "    #создадим сводную таблицу\n",
    "    pivot_table = data.pivot_table(index=column, values='user_id', aggfunc=['count'])\n",
    "    pivot_table.columns = ['Число пользователей']\n",
    "    pivot_table = pivot_table.sort_values(by='Число пользователей', ascending = False)\n",
    "    display(pivot_table)  \n",
    "    if((column != 'city') and (column != 'age')):\n",
    "    # выводим диаграмму круговую\n",
    "        plt.pie(pivot_table['Число пользователей'],\n",
    "            labels = pivot_table.index,\n",
    "            colors=sns.color_palette('Spectral'),\n",
    "            radius=2,\n",
    "            autopct='%.1f%%',\n",
    "            textprops={'size': 'medium'},) \n",
    "        plt.title(title, pad=100)\n",
    "        plt.show()\n",
    "    \n",
    "    #выводим столбчатую диаграмму\n",
    "    pivot_table.plot(kind='bar',figsize = (15,7), color='Orange')\n",
    "    plt.title(title)\n",
    "    plt.xlabel(x_label)\n",
    "    plt.ylabel(y_label)\n",
    "    plt.show() "
   ]
  },
  {
   "cell_type": "code",
   "execution_count": 19,
   "id": "b2a63972",
   "metadata": {},
   "outputs": [],
   "source": [
    "def analyze_number(data, column_1, column_2, column_3, title, x_label, y_label):\n",
    "    \n",
    "    #Функция предназначена для исследования числовых значений\n",
    "    #На вход подаётся датафрейм и исследуемые столбцы\n",
    "    #Например (rides_go, 'user_id', 'distance', 'month')\n",
    "\n",
    "    #вычислим основные показатели столбца: максимальное значение, минимальное, среднее, медианное\n",
    "    print('\\nМаксимальное значение: ', round(data[column_2].max(),2))\n",
    "    print('\\nМинимальное значение: ', round(data[column_2].min(),2))\n",
    "    print('\\nСреднее значение: ', round(data[column_2].mean(),2))\n",
    "    print('\\nМедианное значение: ', round(data[column_2].median(),2))\n",
    "   \n",
    "    print('\\nГистограмма')\n",
    "    #выводим гистограмму\n",
    "    sns.histplot(data=data,\n",
    "                 x=column_2,\n",
    "                 bins=50,\n",
    "                 kde = True,\n",
    "                 color = 'Green')\n",
    "    plt.title(title)\n",
    "    plt.xlabel(x_label)\n",
    "    plt.ylabel(y_label)\n",
    "    plt.show()\n",
    "    print('Диаграмма размаха')\n",
    "    #выводим диаграмму размаха\n",
    "    sns.boxplot(x=data[column_2], palette=\"Blues\")\n",
    "    plt.title(title)\n",
    "    plt.xlabel(x_label)\n",
    "    plt.show()\n",
    "    #составим сводную  таблицу\n",
    "    pivot_table = data.pivot_table(index=column_1, values=column_2, aggfunc=['count', 'mean'])\n",
    "    pivot_table.columns = ['Количество поездок', 'Среднее']\n",
    "    #форматируем вывод таблиц\n",
    "    pd.options.display.float_format = '{:.2f}'.format\n",
    "    #выводим таблицы на экран\n",
    "    print('\\nТоп 5 лидеров по среднему значению')\n",
    "    display(pivot_table.sort_values(by='Среднее', ascending = False).head(5))\n",
    "    print('\\nТоп 5 антилидеров по среднему значению')\n",
    "    display(pivot_table.sort_values(by='Среднее', ascending = True).head(5))\n",
    "    \n",
    "    print('\\nРаспределение средних значений в зависимости от месяца')\n",
    "    #составим сводную  таблицу\n",
    "    pivot_table = data.pivot_table(index=column_3, values=column_2, aggfunc=['count', 'mean'])\n",
    "    pivot_table.columns = ['Количество поездок', 'Среднее']\n",
    "    #выводим таблицы на экран\n",
    "    display(pivot_table.sort_values(by='Среднее', ascending = False).head(12))"
   ]
  },
  {
   "cell_type": "markdown",
   "id": "509c37b9",
   "metadata": {},
   "source": [
    "#### Частота встречаемости городов\n",
    "[К оглавлению](#Оглавление)"
   ]
  },
  {
   "cell_type": "code",
   "execution_count": 20,
   "id": "f274d9e4",
   "metadata": {
    "scrolled": false
   },
   "outputs": [
    {
     "data": {
      "text/html": [
       "<div>\n",
       "<style scoped>\n",
       "    .dataframe tbody tr th:only-of-type {\n",
       "        vertical-align: middle;\n",
       "    }\n",
       "\n",
       "    .dataframe tbody tr th {\n",
       "        vertical-align: top;\n",
       "    }\n",
       "\n",
       "    .dataframe thead th {\n",
       "        text-align: right;\n",
       "    }\n",
       "</style>\n",
       "<table border=\"1\" class=\"dataframe\">\n",
       "  <thead>\n",
       "    <tr style=\"text-align: right;\">\n",
       "      <th></th>\n",
       "      <th>Число пользователей</th>\n",
       "    </tr>\n",
       "    <tr>\n",
       "      <th>city</th>\n",
       "      <th></th>\n",
       "    </tr>\n",
       "  </thead>\n",
       "  <tbody>\n",
       "    <tr>\n",
       "      <th>Пятигорск</th>\n",
       "      <td>219</td>\n",
       "    </tr>\n",
       "    <tr>\n",
       "      <th>Екатеринбург</th>\n",
       "      <td>204</td>\n",
       "    </tr>\n",
       "    <tr>\n",
       "      <th>Ростов-на-Дону</th>\n",
       "      <td>198</td>\n",
       "    </tr>\n",
       "    <tr>\n",
       "      <th>Краснодар</th>\n",
       "      <td>193</td>\n",
       "    </tr>\n",
       "    <tr>\n",
       "      <th>Сочи</th>\n",
       "      <td>189</td>\n",
       "    </tr>\n",
       "    <tr>\n",
       "      <th>Омск</th>\n",
       "      <td>183</td>\n",
       "    </tr>\n",
       "    <tr>\n",
       "      <th>Тюмень</th>\n",
       "      <td>180</td>\n",
       "    </tr>\n",
       "    <tr>\n",
       "      <th>Москва</th>\n",
       "      <td>168</td>\n",
       "    </tr>\n",
       "  </tbody>\n",
       "</table>\n",
       "</div>"
      ],
      "text/plain": [
       "                Число пользователей\n",
       "city                               \n",
       "Пятигорск                       219\n",
       "Екатеринбург                    204\n",
       "Ростов-на-Дону                  198\n",
       "Краснодар                       193\n",
       "Сочи                            189\n",
       "Омск                            183\n",
       "Тюмень                          180\n",
       "Москва                          168"
      ]
     },
     "metadata": {},
     "output_type": "display_data"
    },
    {
     "data": {
      "image/png": "[encoded data removed]",
      "text/plain": [
       "<Figure size 1080x504 with 1 Axes>"
      ]
     },
     "metadata": {
      "needs_background": "light"
     },
     "output_type": "display_data"
    }
   ],
   "source": [
    "analyze_category(users_go, 'city', 'Распределение пользователей по городам', 'Населённые пункты', 'Количество пользователей')"
   ]
  },
  {
   "cell_type": "markdown",
   "id": "ca23bba2",
   "metadata": {},
   "source": [
    "##### Выводы по разделу\n",
    "[К оглавлению](#Оглавление)\n",
    "\n",
    "Как видно, больше всего пользователей в г. Пятигорск, а меньше всего в Москве.\n",
    "\n",
    "В целом, количество пользователей равномерно распределено по городам, что также вызывает подозрения, ведь города имеют разное население.\n",
    "\n",
    "Возможно, количество самокатов в каждом городе  одинаковое и пользователей в городах с большим населением было бы больше, если бы у них были самокаты. "
   ]
  },
  {
   "cell_type": "markdown",
   "id": "bd9cc24a",
   "metadata": {},
   "source": [
    "#### Соотношение пользователей с подпиской и без подписки\n",
    "[К оглавлению](#Оглавление)\n",
    "\n",
    "Вычислим количество пользователей с подпиской `free` и `ultra`"
   ]
  },
  {
   "cell_type": "code",
   "execution_count": 21,
   "id": "c2038bfc",
   "metadata": {
    "scrolled": false
   },
   "outputs": [
    {
     "data": {
      "text/html": [
       "<div>\n",
       "<style scoped>\n",
       "    .dataframe tbody tr th:only-of-type {\n",
       "        vertical-align: middle;\n",
       "    }\n",
       "\n",
       "    .dataframe tbody tr th {\n",
       "        vertical-align: top;\n",
       "    }\n",
       "\n",
       "    .dataframe thead th {\n",
       "        text-align: right;\n",
       "    }\n",
       "</style>\n",
       "<table border=\"1\" class=\"dataframe\">\n",
       "  <thead>\n",
       "    <tr style=\"text-align: right;\">\n",
       "      <th></th>\n",
       "      <th>Число пользователей</th>\n",
       "    </tr>\n",
       "    <tr>\n",
       "      <th>subscription_type</th>\n",
       "      <th></th>\n",
       "    </tr>\n",
       "  </thead>\n",
       "  <tbody>\n",
       "    <tr>\n",
       "      <th>free</th>\n",
       "      <td>835</td>\n",
       "    </tr>\n",
       "    <tr>\n",
       "      <th>ultra</th>\n",
       "      <td>699</td>\n",
       "    </tr>\n",
       "  </tbody>\n",
       "</table>\n",
       "</div>"
      ],
      "text/plain": [
       "                   Число пользователей\n",
       "subscription_type                     \n",
       "free                               835\n",
       "ultra                              699"
      ]
     },
     "metadata": {},
     "output_type": "display_data"
    },
    {
     "data": {
      "image/png": "[encoded data removed]",
      "text/plain": [
       "<Figure size 432x288 with 1 Axes>"
      ]
     },
     "metadata": {},
     "output_type": "display_data"
    },
    {
     "data": {
      "image/png": "[encoded data removed]",
      "text/plain": [
       "<Figure size 1080x504 with 1 Axes>"
      ]
     },
     "metadata": {
      "needs_background": "light"
     },
     "output_type": "display_data"
    }
   ],
   "source": [
    "analyze_category(users_go, \n",
    "                 'subscription_type', \n",
    "                 'Распределение пользователей по типу подписки', \n",
    "                 'Тип подписки', \n",
    "                 'Количество пользователей')"
   ]
  },
  {
   "cell_type": "markdown",
   "id": "76e7974a",
   "metadata": {},
   "source": [
    "##### Выводы по разделу\n",
    "[К оглавлению](#Оглавление)\n",
    "\n",
    "Как видно из диаграммы, пользователей с подпиской `ultra` меньше. Возможно, стоит предоставить таким пользователям больше привелегий: улучшить качество обслуживания, сделать бонусную программу и т.д. Это поможет увеличить количество пользователей с подпиской `ultra`"
   ]
  },
  {
   "cell_type": "markdown",
   "id": "7e50bf74",
   "metadata": {},
   "source": [
    "#### Возраст пользователей\n",
    "[К оглавлению](#Оглавление)"
   ]
  },
  {
   "cell_type": "code",
   "execution_count": 22,
   "id": "1bb09c3d",
   "metadata": {
    "scrolled": false
   },
   "outputs": [
    {
     "data": {
      "text/html": [
       "<div>\n",
       "<style scoped>\n",
       "    .dataframe tbody tr th:only-of-type {\n",
       "        vertical-align: middle;\n",
       "    }\n",
       "\n",
       "    .dataframe tbody tr th {\n",
       "        vertical-align: top;\n",
       "    }\n",
       "\n",
       "    .dataframe thead th {\n",
       "        text-align: right;\n",
       "    }\n",
       "</style>\n",
       "<table border=\"1\" class=\"dataframe\">\n",
       "  <thead>\n",
       "    <tr style=\"text-align: right;\">\n",
       "      <th></th>\n",
       "      <th>Число пользователей</th>\n",
       "    </tr>\n",
       "    <tr>\n",
       "      <th>age</th>\n",
       "      <th></th>\n",
       "    </tr>\n",
       "  </thead>\n",
       "  <tbody>\n",
       "    <tr>\n",
       "      <th>25</th>\n",
       "      <td>145</td>\n",
       "    </tr>\n",
       "    <tr>\n",
       "      <th>24</th>\n",
       "      <td>132</td>\n",
       "    </tr>\n",
       "    <tr>\n",
       "      <th>26</th>\n",
       "      <td>131</td>\n",
       "    </tr>\n",
       "    <tr>\n",
       "      <th>23</th>\n",
       "      <td>129</td>\n",
       "    </tr>\n",
       "    <tr>\n",
       "      <th>27</th>\n",
       "      <td>119</td>\n",
       "    </tr>\n",
       "    <tr>\n",
       "      <th>22</th>\n",
       "      <td>119</td>\n",
       "    </tr>\n",
       "    <tr>\n",
       "      <th>28</th>\n",
       "      <td>112</td>\n",
       "    </tr>\n",
       "    <tr>\n",
       "      <th>21</th>\n",
       "      <td>93</td>\n",
       "    </tr>\n",
       "    <tr>\n",
       "      <th>20</th>\n",
       "      <td>71</td>\n",
       "    </tr>\n",
       "    <tr>\n",
       "      <th>30</th>\n",
       "      <td>68</td>\n",
       "    </tr>\n",
       "    <tr>\n",
       "      <th>29</th>\n",
       "      <td>68</td>\n",
       "    </tr>\n",
       "    <tr>\n",
       "      <th>31</th>\n",
       "      <td>48</td>\n",
       "    </tr>\n",
       "    <tr>\n",
       "      <th>19</th>\n",
       "      <td>47</td>\n",
       "    </tr>\n",
       "    <tr>\n",
       "      <th>18</th>\n",
       "      <td>46</td>\n",
       "    </tr>\n",
       "    <tr>\n",
       "      <th>32</th>\n",
       "      <td>41</td>\n",
       "    </tr>\n",
       "    <tr>\n",
       "      <th>33</th>\n",
       "      <td>39</td>\n",
       "    </tr>\n",
       "    <tr>\n",
       "      <th>17</th>\n",
       "      <td>26</td>\n",
       "    </tr>\n",
       "    <tr>\n",
       "      <th>34</th>\n",
       "      <td>19</td>\n",
       "    </tr>\n",
       "    <tr>\n",
       "      <th>16</th>\n",
       "      <td>19</td>\n",
       "    </tr>\n",
       "    <tr>\n",
       "      <th>35</th>\n",
       "      <td>15</td>\n",
       "    </tr>\n",
       "    <tr>\n",
       "      <th>15</th>\n",
       "      <td>13</td>\n",
       "    </tr>\n",
       "    <tr>\n",
       "      <th>14</th>\n",
       "      <td>9</td>\n",
       "    </tr>\n",
       "    <tr>\n",
       "      <th>13</th>\n",
       "      <td>8</td>\n",
       "    </tr>\n",
       "    <tr>\n",
       "      <th>36</th>\n",
       "      <td>6</td>\n",
       "    </tr>\n",
       "    <tr>\n",
       "      <th>12</th>\n",
       "      <td>4</td>\n",
       "    </tr>\n",
       "    <tr>\n",
       "      <th>38</th>\n",
       "      <td>3</td>\n",
       "    </tr>\n",
       "    <tr>\n",
       "      <th>37</th>\n",
       "      <td>2</td>\n",
       "    </tr>\n",
       "    <tr>\n",
       "      <th>39</th>\n",
       "      <td>1</td>\n",
       "    </tr>\n",
       "    <tr>\n",
       "      <th>43</th>\n",
       "      <td>1</td>\n",
       "    </tr>\n",
       "  </tbody>\n",
       "</table>\n",
       "</div>"
      ],
      "text/plain": [
       "     Число пользователей\n",
       "age                     \n",
       "25                   145\n",
       "24                   132\n",
       "26                   131\n",
       "23                   129\n",
       "27                   119\n",
       "22                   119\n",
       "28                   112\n",
       "21                    93\n",
       "20                    71\n",
       "30                    68\n",
       "29                    68\n",
       "31                    48\n",
       "19                    47\n",
       "18                    46\n",
       "32                    41\n",
       "33                    39\n",
       "17                    26\n",
       "34                    19\n",
       "16                    19\n",
       "35                    15\n",
       "15                    13\n",
       "14                     9\n",
       "13                     8\n",
       "36                     6\n",
       "12                     4\n",
       "38                     3\n",
       "37                     2\n",
       "39                     1\n",
       "43                     1"
      ]
     },
     "metadata": {},
     "output_type": "display_data"
    },
    {
     "data": {
      "image/png": "[encoded data removed]",
      "text/plain": [
       "<Figure size 1080x504 with 1 Axes>"
      ]
     },
     "metadata": {
      "needs_background": "light"
     },
     "output_type": "display_data"
    }
   ],
   "source": [
    "analyze_category(users_go, 'age',\n",
    "                 'Распределение пользователей по возрасту', \n",
    "                 'Возраст', \n",
    "                 'Количество пользователей')"
   ]
  },
  {
   "cell_type": "markdown",
   "id": "39d3abc9",
   "metadata": {},
   "source": [
    "Найдём максимальный, минимальный и средний возраст пользователя"
   ]
  },
  {
   "cell_type": "code",
   "execution_count": 23,
   "id": "8a37fc73",
   "metadata": {},
   "outputs": [
    {
     "name": "stdout",
     "output_type": "stream",
     "text": [
      "count    1534.000000\n",
      "mean       24.903520\n",
      "std         4.572367\n",
      "min        12.000000\n",
      "25%        22.000000\n",
      "50%        25.000000\n",
      "75%        28.000000\n",
      "max        43.000000\n",
      "Name: age, dtype: float64\n",
      "\n",
      "Минимальный возраст пользователя:  12\n",
      "Максимальный возраст пользователя:  43\n",
      "Медианный возраст пользователя:  25.0\n"
     ]
    }
   ],
   "source": [
    "print(users_go['age'].describe())\n",
    "\n",
    "print('\\nМинимальный возраст пользователя: ', users_go['age'].min())\n",
    "print('Максимальный возраст пользователя: ',users_go['age'].max())\n",
    "print('Медианный возраст пользователя: ', round(users_go['age'].median(),3))"
   ]
  },
  {
   "cell_type": "markdown",
   "id": "33acb1bc",
   "metadata": {},
   "source": [
    "##### Выводы по разделу\n",
    "[К оглавлению](#Оглавление)\n",
    "\n",
    "- Больше всего пользователей имеют возраст 25 лет\n",
    "- Меньше всего пользователей младше 18 и старше 32 лет\n",
    "- Минимальный возраст пользователя:  12\n",
    "- Максимальный возраст пользователя:  43\n",
    "- Средний возраст пользователя:  25.0\n",
    "\n",
    "Благодаря исследованию мы получили некоторый портрет нашего клиента: в основном, это молодые люди в возрасте от 18 до 32 лет.\n",
    "\n",
    "Что, в целом, логично для такого вида транспорта, так как самокаты предназначены для взрослых, а также травмоопасны, поэтому люди старше 30 менее охотно берут их в аренду, а детям они не очень подходят по размеру."
   ]
  },
  {
   "cell_type": "markdown",
   "id": "0ce7fd67",
   "metadata": {},
   "source": [
    "#### Расстояние, которое пользователь преодолел за одну поездку\n",
    "[К оглавлению](#Оглавление)"
   ]
  },
  {
   "cell_type": "code",
   "execution_count": 24,
   "id": "2f8a83c6",
   "metadata": {
    "scrolled": false
   },
   "outputs": [
    {
     "name": "stdout",
     "output_type": "stream",
     "text": [
      "\n",
      "Максимальное значение:  7211.01\n",
      "\n",
      "Минимальное значение:  0.86\n",
      "\n",
      "Среднее значение:  3070.66\n",
      "\n",
      "Медианное значение:  3133.61\n",
      "\n",
      "Гистограмма\n"
     ]
    },
    {
     "data": {
      "image/png": "[encoded data removed]",
      "text/plain": [
       "<Figure size 432x288 with 1 Axes>"
      ]
     },
     "metadata": {
      "needs_background": "light"
     },
     "output_type": "display_data"
    },
    {
     "name": "stdout",
     "output_type": "stream",
     "text": [
      "Диаграмма размаха\n"
     ]
    },
    {
     "data": {
      "image/png": "[encoded data removed]",
      "text/plain": [
       "<Figure size 432x288 with 1 Axes>"
      ]
     },
     "metadata": {
      "needs_background": "light"
     },
     "output_type": "display_data"
    },
    {
     "name": "stdout",
     "output_type": "stream",
     "text": [
      "\n",
      "Топ 5 лидеров по среднему значению\n"
     ]
    },
    {
     "data": {
      "text/html": [
       "<div>\n",
       "<style scoped>\n",
       "    .dataframe tbody tr th:only-of-type {\n",
       "        vertical-align: middle;\n",
       "    }\n",
       "\n",
       "    .dataframe tbody tr th {\n",
       "        vertical-align: top;\n",
       "    }\n",
       "\n",
       "    .dataframe thead th {\n",
       "        text-align: right;\n",
       "    }\n",
       "</style>\n",
       "<table border=\"1\" class=\"dataframe\">\n",
       "  <thead>\n",
       "    <tr style=\"text-align: right;\">\n",
       "      <th></th>\n",
       "      <th>Количество поездок</th>\n",
       "      <th>Среднее</th>\n",
       "    </tr>\n",
       "    <tr>\n",
       "      <th>user_id</th>\n",
       "      <th></th>\n",
       "      <th></th>\n",
       "    </tr>\n",
       "  </thead>\n",
       "  <tbody>\n",
       "    <tr>\n",
       "      <th>1309</th>\n",
       "      <td>8</td>\n",
       "      <td>4287.52</td>\n",
       "    </tr>\n",
       "    <tr>\n",
       "      <th>850</th>\n",
       "      <td>12</td>\n",
       "      <td>4004.84</td>\n",
       "    </tr>\n",
       "    <tr>\n",
       "      <th>644</th>\n",
       "      <td>3</td>\n",
       "      <td>3939.77</td>\n",
       "    </tr>\n",
       "    <tr>\n",
       "      <th>465</th>\n",
       "      <td>9</td>\n",
       "      <td>3917.56</td>\n",
       "    </tr>\n",
       "    <tr>\n",
       "      <th>381</th>\n",
       "      <td>8</td>\n",
       "      <td>3905.04</td>\n",
       "    </tr>\n",
       "  </tbody>\n",
       "</table>\n",
       "</div>"
      ],
      "text/plain": [
       "         Количество поездок  Среднее\n",
       "user_id                             \n",
       "1309                      8  4287.52\n",
       "850                      12  4004.84\n",
       "644                       3  3939.77\n",
       "465                       9  3917.56\n",
       "381                       8  3905.04"
      ]
     },
     "metadata": {},
     "output_type": "display_data"
    },
    {
     "name": "stdout",
     "output_type": "stream",
     "text": [
      "\n",
      "Топ 5 антилидеров по среднему значению\n"
     ]
    },
    {
     "data": {
      "text/html": [
       "<div>\n",
       "<style scoped>\n",
       "    .dataframe tbody tr th:only-of-type {\n",
       "        vertical-align: middle;\n",
       "    }\n",
       "\n",
       "    .dataframe tbody tr th {\n",
       "        vertical-align: top;\n",
       "    }\n",
       "\n",
       "    .dataframe thead th {\n",
       "        text-align: right;\n",
       "    }\n",
       "</style>\n",
       "<table border=\"1\" class=\"dataframe\">\n",
       "  <thead>\n",
       "    <tr style=\"text-align: right;\">\n",
       "      <th></th>\n",
       "      <th>Количество поездок</th>\n",
       "      <th>Среднее</th>\n",
       "    </tr>\n",
       "    <tr>\n",
       "      <th>user_id</th>\n",
       "      <th></th>\n",
       "      <th></th>\n",
       "    </tr>\n",
       "  </thead>\n",
       "  <tbody>\n",
       "    <tr>\n",
       "      <th>908</th>\n",
       "      <td>8</td>\n",
       "      <td>1630.79</td>\n",
       "    </tr>\n",
       "    <tr>\n",
       "      <th>1495</th>\n",
       "      <td>5</td>\n",
       "      <td>1767.76</td>\n",
       "    </tr>\n",
       "    <tr>\n",
       "      <th>1433</th>\n",
       "      <td>10</td>\n",
       "      <td>1991.25</td>\n",
       "    </tr>\n",
       "    <tr>\n",
       "      <th>1011</th>\n",
       "      <td>13</td>\n",
       "      <td>2065.92</td>\n",
       "    </tr>\n",
       "    <tr>\n",
       "      <th>883</th>\n",
       "      <td>9</td>\n",
       "      <td>2094.47</td>\n",
       "    </tr>\n",
       "  </tbody>\n",
       "</table>\n",
       "</div>"
      ],
      "text/plain": [
       "         Количество поездок  Среднее\n",
       "user_id                             \n",
       "908                       8  1630.79\n",
       "1495                      5  1767.76\n",
       "1433                     10  1991.25\n",
       "1011                     13  2065.92\n",
       "883                       9  2094.47"
      ]
     },
     "metadata": {},
     "output_type": "display_data"
    },
    {
     "name": "stdout",
     "output_type": "stream",
     "text": [
      "\n",
      "Распределение средних значений в зависимости от месяца\n"
     ]
    },
    {
     "data": {
      "text/html": [
       "<div>\n",
       "<style scoped>\n",
       "    .dataframe tbody tr th:only-of-type {\n",
       "        vertical-align: middle;\n",
       "    }\n",
       "\n",
       "    .dataframe tbody tr th {\n",
       "        vertical-align: top;\n",
       "    }\n",
       "\n",
       "    .dataframe thead th {\n",
       "        text-align: right;\n",
       "    }\n",
       "</style>\n",
       "<table border=\"1\" class=\"dataframe\">\n",
       "  <thead>\n",
       "    <tr style=\"text-align: right;\">\n",
       "      <th></th>\n",
       "      <th>Количество поездок</th>\n",
       "      <th>Среднее</th>\n",
       "    </tr>\n",
       "    <tr>\n",
       "      <th>month</th>\n",
       "      <th></th>\n",
       "      <th></th>\n",
       "    </tr>\n",
       "  </thead>\n",
       "  <tbody>\n",
       "    <tr>\n",
       "      <th>5</th>\n",
       "      <td>1560</td>\n",
       "      <td>3116.59</td>\n",
       "    </tr>\n",
       "    <tr>\n",
       "      <th>12</th>\n",
       "      <td>1527</td>\n",
       "      <td>3110.85</td>\n",
       "    </tr>\n",
       "    <tr>\n",
       "      <th>7</th>\n",
       "      <td>1529</td>\n",
       "      <td>3094.94</td>\n",
       "    </tr>\n",
       "    <tr>\n",
       "      <th>6</th>\n",
       "      <td>1553</td>\n",
       "      <td>3090.77</td>\n",
       "    </tr>\n",
       "    <tr>\n",
       "      <th>1</th>\n",
       "      <td>1585</td>\n",
       "      <td>3089.84</td>\n",
       "    </tr>\n",
       "    <tr>\n",
       "      <th>11</th>\n",
       "      <td>1418</td>\n",
       "      <td>3067.76</td>\n",
       "    </tr>\n",
       "    <tr>\n",
       "      <th>9</th>\n",
       "      <td>1517</td>\n",
       "      <td>3060.27</td>\n",
       "    </tr>\n",
       "    <tr>\n",
       "      <th>2</th>\n",
       "      <td>1336</td>\n",
       "      <td>3051.07</td>\n",
       "    </tr>\n",
       "    <tr>\n",
       "      <th>4</th>\n",
       "      <td>1506</td>\n",
       "      <td>3044.43</td>\n",
       "    </tr>\n",
       "    <tr>\n",
       "      <th>3</th>\n",
       "      <td>1544</td>\n",
       "      <td>3043.40</td>\n",
       "    </tr>\n",
       "    <tr>\n",
       "      <th>8</th>\n",
       "      <td>1518</td>\n",
       "      <td>3036.65</td>\n",
       "    </tr>\n",
       "    <tr>\n",
       "      <th>10</th>\n",
       "      <td>1475</td>\n",
       "      <td>3035.06</td>\n",
       "    </tr>\n",
       "  </tbody>\n",
       "</table>\n",
       "</div>"
      ],
      "text/plain": [
       "       Количество поездок  Среднее\n",
       "month                             \n",
       "5                    1560  3116.59\n",
       "12                   1527  3110.85\n",
       "7                    1529  3094.94\n",
       "6                    1553  3090.77\n",
       "1                    1585  3089.84\n",
       "11                   1418  3067.76\n",
       "9                    1517  3060.27\n",
       "2                    1336  3051.07\n",
       "4                    1506  3044.43\n",
       "3                    1544  3043.40\n",
       "8                    1518  3036.65\n",
       "10                   1475  3035.06"
      ]
     },
     "metadata": {},
     "output_type": "display_data"
    }
   ],
   "source": [
    "analyze_number(rides_go,\n",
    "               'user_id',\n",
    "               'distance',\n",
    "               'month',\n",
    "               'Распределение пользователей по пройденному расстоянию за одну поездку', \n",
    "               'Расстояние, м', \n",
    "               'Количество пользователей')"
   ]
  },
  {
   "cell_type": "markdown",
   "id": "532d35f1",
   "metadata": {},
   "source": [
    "##### Выводы по разделу\n",
    "[К оглавлению](#Оглавление)\n",
    "\n",
    "Средняя длительность поездки составляет 3 км, основной диапазон значений от 2.5 до 3.5 км\n",
    "\n",
    "Есть два локальных экстремума на  длине дистанции 0.5 км и 3 км. Это может объясняться тем, что пользователи делятся на две категории: для поездки из точки А в точку Б (тогда, когда пешком идти далековато, но для вызова такси слишком близко - долго ждать), а также тех, кто использует самокаты для прогулочных целей.\n",
    "\n",
    "Максимальное значение 7.2 км, минимальное значение - менее 1 метра.\n",
    "\n",
    "В целом, данные распределены равномерно, однако, странно, что показатели не имеют никакой сезонности в зависимости от месяца."
   ]
  },
  {
   "cell_type": "markdown",
   "id": "1bfb4f9b",
   "metadata": {},
   "source": [
    "#### Продолжительность поездок\n",
    "[К оглавлению](#Оглавление)"
   ]
  },
  {
   "cell_type": "code",
   "execution_count": 25,
   "id": "a9e8b182",
   "metadata": {
    "scrolled": false
   },
   "outputs": [
    {
     "name": "stdout",
     "output_type": "stream",
     "text": [
      "\n",
      "Максимальное значение:  40.82\n",
      "\n",
      "Минимальное значение:  0.5\n",
      "\n",
      "Среднее значение:  17.81\n",
      "\n",
      "Медианное значение:  17.68\n",
      "\n",
      "Гистограмма\n"
     ]
    },
    {
     "data": {
      "image/png": "[encoded data removed]",
      "text/plain": [
       "<Figure size 432x288 with 1 Axes>"
      ]
     },
     "metadata": {
      "needs_background": "light"
     },
     "output_type": "display_data"
    },
    {
     "name": "stdout",
     "output_type": "stream",
     "text": [
      "Диаграмма размаха\n"
     ]
    },
    {
     "data": {
      "image/png": "[encoded data removed]",
      "text/plain": [
       "<Figure size 432x288 with 1 Axes>"
      ]
     },
     "metadata": {
      "needs_background": "light"
     },
     "output_type": "display_data"
    },
    {
     "name": "stdout",
     "output_type": "stream",
     "text": [
      "\n",
      "Топ 5 лидеров по среднему значению\n"
     ]
    },
    {
     "data": {
      "text/html": [
       "<div>\n",
       "<style scoped>\n",
       "    .dataframe tbody tr th:only-of-type {\n",
       "        vertical-align: middle;\n",
       "    }\n",
       "\n",
       "    .dataframe tbody tr th {\n",
       "        vertical-align: top;\n",
       "    }\n",
       "\n",
       "    .dataframe thead th {\n",
       "        text-align: right;\n",
       "    }\n",
       "</style>\n",
       "<table border=\"1\" class=\"dataframe\">\n",
       "  <thead>\n",
       "    <tr style=\"text-align: right;\">\n",
       "      <th></th>\n",
       "      <th>Количество поездок</th>\n",
       "      <th>Среднее</th>\n",
       "    </tr>\n",
       "    <tr>\n",
       "      <th>user_id</th>\n",
       "      <th></th>\n",
       "      <th></th>\n",
       "    </tr>\n",
       "  </thead>\n",
       "  <tbody>\n",
       "    <tr>\n",
       "      <th>657</th>\n",
       "      <td>5</td>\n",
       "      <td>26.14</td>\n",
       "    </tr>\n",
       "    <tr>\n",
       "      <th>643</th>\n",
       "      <td>4</td>\n",
       "      <td>25.84</td>\n",
       "    </tr>\n",
       "    <tr>\n",
       "      <th>354</th>\n",
       "      <td>3</td>\n",
       "      <td>25.66</td>\n",
       "    </tr>\n",
       "    <tr>\n",
       "      <th>522</th>\n",
       "      <td>6</td>\n",
       "      <td>25.38</td>\n",
       "    </tr>\n",
       "    <tr>\n",
       "      <th>126</th>\n",
       "      <td>5</td>\n",
       "      <td>25.36</td>\n",
       "    </tr>\n",
       "  </tbody>\n",
       "</table>\n",
       "</div>"
      ],
      "text/plain": [
       "         Количество поездок  Среднее\n",
       "user_id                             \n",
       "657                       5    26.14\n",
       "643                       4    25.84\n",
       "354                       3    25.66\n",
       "522                       6    25.38\n",
       "126                       5    25.36"
      ]
     },
     "metadata": {},
     "output_type": "display_data"
    },
    {
     "name": "stdout",
     "output_type": "stream",
     "text": [
      "\n",
      "Топ 5 антилидеров по среднему значению\n"
     ]
    },
    {
     "data": {
      "text/html": [
       "<div>\n",
       "<style scoped>\n",
       "    .dataframe tbody tr th:only-of-type {\n",
       "        vertical-align: middle;\n",
       "    }\n",
       "\n",
       "    .dataframe tbody tr th {\n",
       "        vertical-align: top;\n",
       "    }\n",
       "\n",
       "    .dataframe thead th {\n",
       "        text-align: right;\n",
       "    }\n",
       "</style>\n",
       "<table border=\"1\" class=\"dataframe\">\n",
       "  <thead>\n",
       "    <tr style=\"text-align: right;\">\n",
       "      <th></th>\n",
       "      <th>Количество поездок</th>\n",
       "      <th>Среднее</th>\n",
       "    </tr>\n",
       "    <tr>\n",
       "      <th>user_id</th>\n",
       "      <th></th>\n",
       "      <th></th>\n",
       "    </tr>\n",
       "  </thead>\n",
       "  <tbody>\n",
       "    <tr>\n",
       "      <th>908</th>\n",
       "      <td>8</td>\n",
       "      <td>11.16</td>\n",
       "    </tr>\n",
       "    <tr>\n",
       "      <th>73</th>\n",
       "      <td>3</td>\n",
       "      <td>11.39</td>\n",
       "    </tr>\n",
       "    <tr>\n",
       "      <th>1243</th>\n",
       "      <td>9</td>\n",
       "      <td>12.12</td>\n",
       "    </tr>\n",
       "    <tr>\n",
       "      <th>1256</th>\n",
       "      <td>9</td>\n",
       "      <td>12.82</td>\n",
       "    </tr>\n",
       "    <tr>\n",
       "      <th>801</th>\n",
       "      <td>8</td>\n",
       "      <td>12.86</td>\n",
       "    </tr>\n",
       "  </tbody>\n",
       "</table>\n",
       "</div>"
      ],
      "text/plain": [
       "         Количество поездок  Среднее\n",
       "user_id                             \n",
       "908                       8    11.16\n",
       "73                        3    11.39\n",
       "1243                      9    12.12\n",
       "1256                      9    12.82\n",
       "801                       8    12.86"
      ]
     },
     "metadata": {},
     "output_type": "display_data"
    },
    {
     "name": "stdout",
     "output_type": "stream",
     "text": [
      "\n",
      "Распределение средних значений в зависимости от месяца\n"
     ]
    },
    {
     "data": {
      "text/html": [
       "<div>\n",
       "<style scoped>\n",
       "    .dataframe tbody tr th:only-of-type {\n",
       "        vertical-align: middle;\n",
       "    }\n",
       "\n",
       "    .dataframe tbody tr th {\n",
       "        vertical-align: top;\n",
       "    }\n",
       "\n",
       "    .dataframe thead th {\n",
       "        text-align: right;\n",
       "    }\n",
       "</style>\n",
       "<table border=\"1\" class=\"dataframe\">\n",
       "  <thead>\n",
       "    <tr style=\"text-align: right;\">\n",
       "      <th></th>\n",
       "      <th>Количество поездок</th>\n",
       "      <th>Среднее</th>\n",
       "    </tr>\n",
       "    <tr>\n",
       "      <th>month</th>\n",
       "      <th></th>\n",
       "      <th></th>\n",
       "    </tr>\n",
       "  </thead>\n",
       "  <tbody>\n",
       "    <tr>\n",
       "      <th>5</th>\n",
       "      <td>1560</td>\n",
       "      <td>18.04</td>\n",
       "    </tr>\n",
       "    <tr>\n",
       "      <th>6</th>\n",
       "      <td>1553</td>\n",
       "      <td>17.93</td>\n",
       "    </tr>\n",
       "    <tr>\n",
       "      <th>7</th>\n",
       "      <td>1529</td>\n",
       "      <td>17.91</td>\n",
       "    </tr>\n",
       "    <tr>\n",
       "      <th>4</th>\n",
       "      <td>1506</td>\n",
       "      <td>17.90</td>\n",
       "    </tr>\n",
       "    <tr>\n",
       "      <th>1</th>\n",
       "      <td>1585</td>\n",
       "      <td>17.84</td>\n",
       "    </tr>\n",
       "    <tr>\n",
       "      <th>12</th>\n",
       "      <td>1527</td>\n",
       "      <td>17.83</td>\n",
       "    </tr>\n",
       "    <tr>\n",
       "      <th>11</th>\n",
       "      <td>1418</td>\n",
       "      <td>17.80</td>\n",
       "    </tr>\n",
       "    <tr>\n",
       "      <th>9</th>\n",
       "      <td>1517</td>\n",
       "      <td>17.78</td>\n",
       "    </tr>\n",
       "    <tr>\n",
       "      <th>2</th>\n",
       "      <td>1336</td>\n",
       "      <td>17.71</td>\n",
       "    </tr>\n",
       "    <tr>\n",
       "      <th>8</th>\n",
       "      <td>1518</td>\n",
       "      <td>17.69</td>\n",
       "    </tr>\n",
       "    <tr>\n",
       "      <th>10</th>\n",
       "      <td>1475</td>\n",
       "      <td>17.63</td>\n",
       "    </tr>\n",
       "    <tr>\n",
       "      <th>3</th>\n",
       "      <td>1544</td>\n",
       "      <td>17.57</td>\n",
       "    </tr>\n",
       "  </tbody>\n",
       "</table>\n",
       "</div>"
      ],
      "text/plain": [
       "       Количество поездок  Среднее\n",
       "month                             \n",
       "5                    1560    18.04\n",
       "6                    1553    17.93\n",
       "7                    1529    17.91\n",
       "4                    1506    17.90\n",
       "1                    1585    17.84\n",
       "12                   1527    17.83\n",
       "11                   1418    17.80\n",
       "9                    1517    17.78\n",
       "2                    1336    17.71\n",
       "8                    1518    17.69\n",
       "10                   1475    17.63\n",
       "3                    1544    17.57"
      ]
     },
     "metadata": {},
     "output_type": "display_data"
    }
   ],
   "source": [
    "analyze_number(rides_go,\n",
    "               'user_id',\n",
    "               'duration',\n",
    "               'month',\n",
    "               'Распределение пользователей по продолжительности за одну поездку', \n",
    "               'Время, мин', \n",
    "               'Количество пользователей')"
   ]
  },
  {
   "cell_type": "markdown",
   "id": "8a562cb7",
   "metadata": {},
   "source": [
    "**Минимальное значение 0.5 минут вызывает подозрения, возможно, в выборку попали значения с испытаний (например, приложения и функций системы оплаты) либо это пользователи, которые сразу отказались от поездки.**\n",
    "\n",
    "Исследуем более подробно это явление. Для этого ограничим выборку для построения гистограммы 5-ю минутами."
   ]
  },
  {
   "cell_type": "code",
   "execution_count": 26,
   "id": "9a0b1f98",
   "metadata": {},
   "outputs": [
    {
     "data": {
      "image/png": "[encoded data removed]",
      "text/plain": [
       "<Figure size 432x288 with 1 Axes>"
      ]
     },
     "metadata": {
      "needs_background": "light"
     },
     "output_type": "display_data"
    },
    {
     "data": {
      "text/plain": [
       "12013   0.50\n",
       "15132   0.50\n",
       "15492   0.50\n",
       "10699   0.50\n",
       "10698   0.50\n",
       "10692   0.50\n",
       "10650   0.50\n",
       "10484   0.50\n",
       "10457   0.50\n",
       "10426   0.50\n",
       "Name: duration, dtype: float64"
      ]
     },
     "execution_count": 26,
     "metadata": {},
     "output_type": "execute_result"
    }
   ],
   "source": [
    "sns.histplot(data=rides_go,\n",
    "                 x=rides_go.query('duration < 5')['duration'],\n",
    "                 bins=50,\n",
    "                 kde = True,\n",
    "                 color = 'Blue')\n",
    "plt.title('Гистограмма распределения длительности поездки менее 5 минут')\n",
    "plt.xlabel('Время, мин')\n",
    "plt.ylabel('Количество пользователей')\n",
    "plt.show()\n",
    "\n",
    "rides_go.query('duration < 5')['duration'].sort_values().head(10)"
   ]
  },
  {
   "cell_type": "markdown",
   "id": "c4c08be4",
   "metadata": {},
   "source": [
    "Как видно, более 80 пользователей с подозрительно короткими поездками, при этом такие значения равны 0.5 минут. Также есть большой промежуток без значений между 30 секундами и 2 минутами.\n",
    "\n",
    "Гипотезу с отказом пользователя от поездки мы не отвергаем, так как есть и поездки длительностью 2-5 минут.\n",
    "\n",
    "Точных причин мы не знаем, но, по всей видимости, система регистрации длительности поездки записывает пользователей с поездкой менее 2 минут как 0.5 минут.Это может быть связано с переходными процессами (передача информации и запись данных в базу на сервере занимает время, поэтому логично, что разработчики решили сливать такие значения в одну \"кучу\"). Тем не менее, лучше уточнить у разработчиков.\n",
    "\n",
    "Для дополнительной проверки гипотезы об отказе пользователей от поездки выясним, это были пользователи free или ultra (так как пользователи с подпиской ultra вряд ли откажутся от поездки, они уже пользовались сервисом ранее, отказ от поездки не выглядит резонным).\n",
    "\n",
    "А также выясним, сколько всего таких значений и какое их соотношение к общему числу поездок для принятия решения о том, исказит ли это наше исследование. "
   ]
  },
  {
   "cell_type": "code",
   "execution_count": 27,
   "id": "0287acbd",
   "metadata": {},
   "outputs": [
    {
     "name": "stdout",
     "output_type": "stream",
     "text": [
      "Количество поездок длительностью 0.5 минут:  95\n"
     ]
    }
   ],
   "source": [
    "#Подсчитаем, сколько значений длительностью 0.5 минут\n",
    "print('Количество поездок длительностью 0.5 минут: ', rides_go.query('duration == 0.5')['duration'].count())"
   ]
  },
  {
   "cell_type": "code",
   "execution_count": 28,
   "id": "7e45bfb4",
   "metadata": {},
   "outputs": [
    {
     "name": "stdout",
     "output_type": "stream",
     "text": [
      "Общее число поездок:  18068\n"
     ]
    }
   ],
   "source": [
    "print('Общее число поездок: ',rides_go['duration'].count())"
   ]
  },
  {
   "cell_type": "code",
   "execution_count": 29,
   "id": "90ca6cc9",
   "metadata": {},
   "outputs": [
    {
     "name": "stdout",
     "output_type": "stream",
     "text": [
      "Соотношение числа поездок с длительностью 0.5 минут к общему числу поездок, % : 0.526\n"
     ]
    }
   ],
   "source": [
    "print('Соотношение числа поездок с длительностью 0.5 минут к общему числу поездок, % :' \\\n",
    "      ,round(rides_go.query('duration == 0.5')['duration'].count() / rides_go['duration'].count() * 100, 3))"
   ]
  },
  {
   "cell_type": "code",
   "execution_count": 30,
   "id": "a74af972",
   "metadata": {},
   "outputs": [
    {
     "name": "stdout",
     "output_type": "stream",
     "text": [
      "Количество поездок длительностью 0.5 минут без подписки:  95\n",
      "Количество поездок длительностью 0.5 минут с подпиской:  0\n"
     ]
    }
   ],
   "source": [
    "thirty_seconds_to_analyze  = users_go.merge(rides_go, on='user_id')\n",
    "print('Количество поездок длительностью 0.5 минут без подписки: ' \\\n",
    "      , thirty_seconds_to_analyze.query('(duration == 0.5) and (subscription_type == \"free\")')['duration'].count())\n",
    "print('Количество поездок длительностью 0.5 минут с подпиской: ' \\\n",
    "      , thirty_seconds_to_analyze.query('(duration == 0.5) and (subscription_type == \"ultra\")')['duration'].count())"
   ]
  },
  {
   "cell_type": "markdown",
   "id": "1654307b",
   "metadata": {},
   "source": [
    "Таким образом, наша гипотеза о том, что пользователи отказывались после оплаты ещё больше подтвердилась. \n",
    "Таких записей очень мало, поэтому их можно удалить после объединения данных, чтобы они не повлияли на результаты дальнейшего исследования"
   ]
  },
  {
   "cell_type": "markdown",
   "id": "aed4bb00",
   "metadata": {},
   "source": [
    "##### Выводы по разделу\n",
    "[К оглавлению](#Оглавление)\n",
    "\n",
    "Минимальное значение 0.5 минут вызывает подозрения, возможно, в выборку попали пользователи, которые сразу отказались от поездки. Гипотеза подтвердилась, т.к. это пользователи без подписки, но, тем не менее, желательно уточнить у разработчиков.\n",
    "Таких значений всего 0.52% от общего числа, поэтому их можно удалить после объединения данных, чтобы они не повлияли на результаты дальнейшего исследования\n",
    "\n",
    "В среднем поездка длится 17.81 минуты, что соответствует пройденному среднему расстоянию.\n",
    "\n",
    "Подозрение вызывает также распределение среднего значения по месяцам."
   ]
  },
  {
   "cell_type": "markdown",
   "id": "7c85a4bd",
   "metadata": {},
   "source": [
    "#### Выводы по главе\n",
    "[К оглавлению](#Оглавление)\n",
    "\n",
    "Обобщим полученные в ходе исследования выводы:\n",
    "\n",
    "Больше всего пользователей в г. Пятигорск, а меньше всего в Москве.\n",
    "\n",
    "В целом, количество пользователей равномерно распределено по городам, что также вызывает подозрения, ведь города имеют разное население.\n",
    "\n",
    "Возможно, количество самокатов в каждом городе  одинаковое и пользователей в городах с большим населением было бы больше, если бы у них были самокаты. \n",
    "\n",
    "Исследования возраста пользователей показало:\n",
    "- Больше всего пользователей имеют возраст 25 лет\n",
    "- Меньше всего пользователей младше 18 и старше 32 лет\n",
    "- Минимальный возраст пользователя:  12\n",
    "- Максимальный возраст пользователя:  43\n",
    "- Средний возраст пользователя:  25.0\n",
    "\n",
    "Благодаря исследованию мы получили некоторый портрет нашего клиента: в основном, это молодые люди в возрасте от 18 до 32 лет.\n",
    "\n",
    "Что, в целом, логично для такого вида транспорта, так как самокаты предназначены для взрослых, а также травмоопасны, поэтому люди старше 30 менее охотно берут их в аренду, а детям они не очень подходят по размеру.\n",
    "\n",
    "Что касается пройденному расстоянию и длительности поездки:\n",
    "\n",
    "- Средняя длительность поездки составляет 3 км, основной диапазон значений от 2.5 до 3.5 км\n",
    "- Есть два локальных экстремума на  длине дистанции 0.5 км и 3 км. Это может говорить о том, что пользователи используют самокаты для коротких перемещений от точки А до точки Б, но, в основном, самокаты используются для прогулок.\n",
    "\n",
    "Максимальное значение 7.2 км, минимальное значение - менее 1 метра. Минимальное значение 0.5 минут вызывает подозрения, возможно, в выборку попали пользователи, которые сразу отказались от поездки. Гипотеза подтвердилась, т.к. это пользователи без подписки, но, тем не менее, желательно уточнить у разработчиков. Таких значений всего 0.52% от общего числа, поэтому их можно **удалить** после объединения данных, чтобы они не повлияли на результаты дальнейшего исследования\n",
    "\n",
    "В среднем поездка длится 17.81 минуты, что соответствует пройденному среднему расстоянию.\n",
    "\n",
    "В целом, данные распределены равномерно, однако, странно, что показатели не имеют никакой сезонности в зависимости от месяца."
   ]
  },
  {
   "cell_type": "markdown",
   "id": "cbddf720",
   "metadata": {},
   "source": [
    "-+-+-+-+-+-+-+-+-+-+-+-+-+-+-+-+-+-+-+-+-+-+-+-+-+-+-+-+-+-+-+-+-+-+-+-+-+-+-+-+-+-+-+-+-+-+-+-+-+-+-+-+-+-+-+-+-+-+-+-+-+-+-+-+-+-+-+-+-+-+"
   ]
  },
  {
   "cell_type": "markdown",
   "id": "47a8a559",
   "metadata": {},
   "source": [
    "### Шаг 6. Объединение данных\n",
    "[К оглавлению](#Оглавление)"
   ]
  },
  {
   "cell_type": "markdown",
   "id": "a6b259e3",
   "metadata": {},
   "source": [
    "#### Объединение данных о пользователях, поездках и подписках в один датафрейм при помощи метода merge()\n",
    "[К оглавлению](#Оглавление)"
   ]
  },
  {
   "cell_type": "code",
   "execution_count": 31,
   "id": "b257dc64",
   "metadata": {},
   "outputs": [
    {
     "data": {
      "text/html": [
       "<div>\n",
       "<style scoped>\n",
       "    .dataframe tbody tr th:only-of-type {\n",
       "        vertical-align: middle;\n",
       "    }\n",
       "\n",
       "    .dataframe tbody tr th {\n",
       "        vertical-align: top;\n",
       "    }\n",
       "\n",
       "    .dataframe thead th {\n",
       "        text-align: right;\n",
       "    }\n",
       "</style>\n",
       "<table border=\"1\" class=\"dataframe\">\n",
       "  <thead>\n",
       "    <tr style=\"text-align: right;\">\n",
       "      <th></th>\n",
       "      <th>user_id</th>\n",
       "      <th>name</th>\n",
       "      <th>age</th>\n",
       "      <th>city</th>\n",
       "      <th>subscription_type</th>\n",
       "      <th>distance</th>\n",
       "      <th>duration</th>\n",
       "      <th>date</th>\n",
       "      <th>month</th>\n",
       "    </tr>\n",
       "  </thead>\n",
       "  <tbody>\n",
       "    <tr>\n",
       "      <th>0</th>\n",
       "      <td>1</td>\n",
       "      <td>Кира</td>\n",
       "      <td>22</td>\n",
       "      <td>Тюмень</td>\n",
       "      <td>ultra</td>\n",
       "      <td>4409.92</td>\n",
       "      <td>25.60</td>\n",
       "      <td>2021-01-01</td>\n",
       "      <td>1</td>\n",
       "    </tr>\n",
       "    <tr>\n",
       "      <th>1</th>\n",
       "      <td>1</td>\n",
       "      <td>Кира</td>\n",
       "      <td>22</td>\n",
       "      <td>Тюмень</td>\n",
       "      <td>ultra</td>\n",
       "      <td>2617.59</td>\n",
       "      <td>15.82</td>\n",
       "      <td>2021-01-18</td>\n",
       "      <td>1</td>\n",
       "    </tr>\n",
       "    <tr>\n",
       "      <th>2</th>\n",
       "      <td>1</td>\n",
       "      <td>Кира</td>\n",
       "      <td>22</td>\n",
       "      <td>Тюмень</td>\n",
       "      <td>ultra</td>\n",
       "      <td>754.16</td>\n",
       "      <td>6.23</td>\n",
       "      <td>2021-04-20</td>\n",
       "      <td>4</td>\n",
       "    </tr>\n",
       "    <tr>\n",
       "      <th>3</th>\n",
       "      <td>1</td>\n",
       "      <td>Кира</td>\n",
       "      <td>22</td>\n",
       "      <td>Тюмень</td>\n",
       "      <td>ultra</td>\n",
       "      <td>2694.78</td>\n",
       "      <td>18.51</td>\n",
       "      <td>2021-08-11</td>\n",
       "      <td>8</td>\n",
       "    </tr>\n",
       "    <tr>\n",
       "      <th>4</th>\n",
       "      <td>1</td>\n",
       "      <td>Кира</td>\n",
       "      <td>22</td>\n",
       "      <td>Тюмень</td>\n",
       "      <td>ultra</td>\n",
       "      <td>4028.69</td>\n",
       "      <td>26.27</td>\n",
       "      <td>2021-08-28</td>\n",
       "      <td>8</td>\n",
       "    </tr>\n",
       "    <tr>\n",
       "      <th>5</th>\n",
       "      <td>1</td>\n",
       "      <td>Кира</td>\n",
       "      <td>22</td>\n",
       "      <td>Тюмень</td>\n",
       "      <td>ultra</td>\n",
       "      <td>2770.89</td>\n",
       "      <td>16.65</td>\n",
       "      <td>2021-10-09</td>\n",
       "      <td>10</td>\n",
       "    </tr>\n",
       "    <tr>\n",
       "      <th>6</th>\n",
       "      <td>1</td>\n",
       "      <td>Кира</td>\n",
       "      <td>22</td>\n",
       "      <td>Тюмень</td>\n",
       "      <td>ultra</td>\n",
       "      <td>3039.02</td>\n",
       "      <td>14.93</td>\n",
       "      <td>2021-10-19</td>\n",
       "      <td>10</td>\n",
       "    </tr>\n",
       "    <tr>\n",
       "      <th>7</th>\n",
       "      <td>1</td>\n",
       "      <td>Кира</td>\n",
       "      <td>22</td>\n",
       "      <td>Тюмень</td>\n",
       "      <td>ultra</td>\n",
       "      <td>2842.12</td>\n",
       "      <td>23.12</td>\n",
       "      <td>2021-11-06</td>\n",
       "      <td>11</td>\n",
       "    </tr>\n",
       "    <tr>\n",
       "      <th>8</th>\n",
       "      <td>1</td>\n",
       "      <td>Кира</td>\n",
       "      <td>22</td>\n",
       "      <td>Тюмень</td>\n",
       "      <td>ultra</td>\n",
       "      <td>3412.69</td>\n",
       "      <td>15.24</td>\n",
       "      <td>2021-11-14</td>\n",
       "      <td>11</td>\n",
       "    </tr>\n",
       "    <tr>\n",
       "      <th>9</th>\n",
       "      <td>1</td>\n",
       "      <td>Кира</td>\n",
       "      <td>22</td>\n",
       "      <td>Тюмень</td>\n",
       "      <td>ultra</td>\n",
       "      <td>748.69</td>\n",
       "      <td>15.04</td>\n",
       "      <td>2021-11-22</td>\n",
       "      <td>11</td>\n",
       "    </tr>\n",
       "  </tbody>\n",
       "</table>\n",
       "</div>"
      ],
      "text/plain": [
       "   user_id  name  age    city subscription_type  distance  duration  \\\n",
       "0        1  Кира   22  Тюмень             ultra   4409.92     25.60   \n",
       "1        1  Кира   22  Тюмень             ultra   2617.59     15.82   \n",
       "2        1  Кира   22  Тюмень             ultra    754.16      6.23   \n",
       "3        1  Кира   22  Тюмень             ultra   2694.78     18.51   \n",
       "4        1  Кира   22  Тюмень             ultra   4028.69     26.27   \n",
       "5        1  Кира   22  Тюмень             ultra   2770.89     16.65   \n",
       "6        1  Кира   22  Тюмень             ultra   3039.02     14.93   \n",
       "7        1  Кира   22  Тюмень             ultra   2842.12     23.12   \n",
       "8        1  Кира   22  Тюмень             ultra   3412.69     15.24   \n",
       "9        1  Кира   22  Тюмень             ultra    748.69     15.04   \n",
       "\n",
       "        date  month  \n",
       "0 2021-01-01      1  \n",
       "1 2021-01-18      1  \n",
       "2 2021-04-20      4  \n",
       "3 2021-08-11      8  \n",
       "4 2021-08-28      8  \n",
       "5 2021-10-09     10  \n",
       "6 2021-10-19     10  \n",
       "7 2021-11-06     11  \n",
       "8 2021-11-14     11  \n",
       "9 2021-11-22     11  "
      ]
     },
     "metadata": {},
     "output_type": "display_data"
    },
    {
     "name": "stdout",
     "output_type": "stream",
     "text": [
      "<class 'pandas.core.frame.DataFrame'>\n",
      "Int64Index: 18068 entries, 0 to 18067\n",
      "Data columns (total 9 columns):\n",
      " #   Column             Non-Null Count  Dtype         \n",
      "---  ------             --------------  -----         \n",
      " 0   user_id            18068 non-null  int64         \n",
      " 1   name               18068 non-null  object        \n",
      " 2   age                18068 non-null  int64         \n",
      " 3   city               18068 non-null  object        \n",
      " 4   subscription_type  18068 non-null  object        \n",
      " 5   distance           18068 non-null  float64       \n",
      " 6   duration           18068 non-null  float64       \n",
      " 7   date               18068 non-null  datetime64[ns]\n",
      " 8   month              18068 non-null  int64         \n",
      "dtypes: datetime64[ns](1), float64(2), int64(3), object(3)\n",
      "memory usage: 1.4+ MB\n"
     ]
    }
   ],
   "source": [
    "#объединим users_go и rides_go, т.к. они имеют общий столбец user_id и проверим, что получилось\n",
    "#По умолчанию how='inner' объединяются только те значения, которые можно найти в обеих таблицах.\n",
    "#Что нас вполне устраивает\n",
    "data_merged = users_go.merge(rides_go, on='user_id')\n",
    "display(data_merged.head(10))\n",
    "data_merged.info()"
   ]
  },
  {
   "cell_type": "code",
   "execution_count": 32,
   "id": "3d161403",
   "metadata": {},
   "outputs": [
    {
     "data": {
      "text/html": [
       "<div>\n",
       "<style scoped>\n",
       "    .dataframe tbody tr th:only-of-type {\n",
       "        vertical-align: middle;\n",
       "    }\n",
       "\n",
       "    .dataframe tbody tr th {\n",
       "        vertical-align: top;\n",
       "    }\n",
       "\n",
       "    .dataframe thead th {\n",
       "        text-align: right;\n",
       "    }\n",
       "</style>\n",
       "<table border=\"1\" class=\"dataframe\">\n",
       "  <thead>\n",
       "    <tr style=\"text-align: right;\">\n",
       "      <th></th>\n",
       "      <th>user_id</th>\n",
       "      <th>name</th>\n",
       "      <th>age</th>\n",
       "      <th>city</th>\n",
       "      <th>subscription_type</th>\n",
       "      <th>distance</th>\n",
       "      <th>duration</th>\n",
       "      <th>date</th>\n",
       "      <th>month</th>\n",
       "      <th>minute_price</th>\n",
       "      <th>start_ride_price</th>\n",
       "      <th>subscription_fee</th>\n",
       "    </tr>\n",
       "  </thead>\n",
       "  <tbody>\n",
       "    <tr>\n",
       "      <th>0</th>\n",
       "      <td>1</td>\n",
       "      <td>Кира</td>\n",
       "      <td>22</td>\n",
       "      <td>Тюмень</td>\n",
       "      <td>ultra</td>\n",
       "      <td>4409.92</td>\n",
       "      <td>25.60</td>\n",
       "      <td>2021-01-01</td>\n",
       "      <td>1</td>\n",
       "      <td>6</td>\n",
       "      <td>0</td>\n",
       "      <td>199</td>\n",
       "    </tr>\n",
       "    <tr>\n",
       "      <th>1</th>\n",
       "      <td>1</td>\n",
       "      <td>Кира</td>\n",
       "      <td>22</td>\n",
       "      <td>Тюмень</td>\n",
       "      <td>ultra</td>\n",
       "      <td>2617.59</td>\n",
       "      <td>15.82</td>\n",
       "      <td>2021-01-18</td>\n",
       "      <td>1</td>\n",
       "      <td>6</td>\n",
       "      <td>0</td>\n",
       "      <td>199</td>\n",
       "    </tr>\n",
       "    <tr>\n",
       "      <th>2</th>\n",
       "      <td>1</td>\n",
       "      <td>Кира</td>\n",
       "      <td>22</td>\n",
       "      <td>Тюмень</td>\n",
       "      <td>ultra</td>\n",
       "      <td>754.16</td>\n",
       "      <td>6.23</td>\n",
       "      <td>2021-04-20</td>\n",
       "      <td>4</td>\n",
       "      <td>6</td>\n",
       "      <td>0</td>\n",
       "      <td>199</td>\n",
       "    </tr>\n",
       "    <tr>\n",
       "      <th>3</th>\n",
       "      <td>1</td>\n",
       "      <td>Кира</td>\n",
       "      <td>22</td>\n",
       "      <td>Тюмень</td>\n",
       "      <td>ultra</td>\n",
       "      <td>2694.78</td>\n",
       "      <td>18.51</td>\n",
       "      <td>2021-08-11</td>\n",
       "      <td>8</td>\n",
       "      <td>6</td>\n",
       "      <td>0</td>\n",
       "      <td>199</td>\n",
       "    </tr>\n",
       "    <tr>\n",
       "      <th>4</th>\n",
       "      <td>1</td>\n",
       "      <td>Кира</td>\n",
       "      <td>22</td>\n",
       "      <td>Тюмень</td>\n",
       "      <td>ultra</td>\n",
       "      <td>4028.69</td>\n",
       "      <td>26.27</td>\n",
       "      <td>2021-08-28</td>\n",
       "      <td>8</td>\n",
       "      <td>6</td>\n",
       "      <td>0</td>\n",
       "      <td>199</td>\n",
       "    </tr>\n",
       "    <tr>\n",
       "      <th>5</th>\n",
       "      <td>1</td>\n",
       "      <td>Кира</td>\n",
       "      <td>22</td>\n",
       "      <td>Тюмень</td>\n",
       "      <td>ultra</td>\n",
       "      <td>2770.89</td>\n",
       "      <td>16.65</td>\n",
       "      <td>2021-10-09</td>\n",
       "      <td>10</td>\n",
       "      <td>6</td>\n",
       "      <td>0</td>\n",
       "      <td>199</td>\n",
       "    </tr>\n",
       "    <tr>\n",
       "      <th>6</th>\n",
       "      <td>1</td>\n",
       "      <td>Кира</td>\n",
       "      <td>22</td>\n",
       "      <td>Тюмень</td>\n",
       "      <td>ultra</td>\n",
       "      <td>3039.02</td>\n",
       "      <td>14.93</td>\n",
       "      <td>2021-10-19</td>\n",
       "      <td>10</td>\n",
       "      <td>6</td>\n",
       "      <td>0</td>\n",
       "      <td>199</td>\n",
       "    </tr>\n",
       "    <tr>\n",
       "      <th>7</th>\n",
       "      <td>1</td>\n",
       "      <td>Кира</td>\n",
       "      <td>22</td>\n",
       "      <td>Тюмень</td>\n",
       "      <td>ultra</td>\n",
       "      <td>2842.12</td>\n",
       "      <td>23.12</td>\n",
       "      <td>2021-11-06</td>\n",
       "      <td>11</td>\n",
       "      <td>6</td>\n",
       "      <td>0</td>\n",
       "      <td>199</td>\n",
       "    </tr>\n",
       "    <tr>\n",
       "      <th>8</th>\n",
       "      <td>1</td>\n",
       "      <td>Кира</td>\n",
       "      <td>22</td>\n",
       "      <td>Тюмень</td>\n",
       "      <td>ultra</td>\n",
       "      <td>3412.69</td>\n",
       "      <td>15.24</td>\n",
       "      <td>2021-11-14</td>\n",
       "      <td>11</td>\n",
       "      <td>6</td>\n",
       "      <td>0</td>\n",
       "      <td>199</td>\n",
       "    </tr>\n",
       "    <tr>\n",
       "      <th>9</th>\n",
       "      <td>1</td>\n",
       "      <td>Кира</td>\n",
       "      <td>22</td>\n",
       "      <td>Тюмень</td>\n",
       "      <td>ultra</td>\n",
       "      <td>748.69</td>\n",
       "      <td>15.04</td>\n",
       "      <td>2021-11-22</td>\n",
       "      <td>11</td>\n",
       "      <td>6</td>\n",
       "      <td>0</td>\n",
       "      <td>199</td>\n",
       "    </tr>\n",
       "  </tbody>\n",
       "</table>\n",
       "</div>"
      ],
      "text/plain": [
       "   user_id  name  age    city subscription_type  distance  duration  \\\n",
       "0        1  Кира   22  Тюмень             ultra   4409.92     25.60   \n",
       "1        1  Кира   22  Тюмень             ultra   2617.59     15.82   \n",
       "2        1  Кира   22  Тюмень             ultra    754.16      6.23   \n",
       "3        1  Кира   22  Тюмень             ultra   2694.78     18.51   \n",
       "4        1  Кира   22  Тюмень             ultra   4028.69     26.27   \n",
       "5        1  Кира   22  Тюмень             ultra   2770.89     16.65   \n",
       "6        1  Кира   22  Тюмень             ultra   3039.02     14.93   \n",
       "7        1  Кира   22  Тюмень             ultra   2842.12     23.12   \n",
       "8        1  Кира   22  Тюмень             ultra   3412.69     15.24   \n",
       "9        1  Кира   22  Тюмень             ultra    748.69     15.04   \n",
       "\n",
       "        date  month  minute_price  start_ride_price  subscription_fee  \n",
       "0 2021-01-01      1             6                 0               199  \n",
       "1 2021-01-18      1             6                 0               199  \n",
       "2 2021-04-20      4             6                 0               199  \n",
       "3 2021-08-11      8             6                 0               199  \n",
       "4 2021-08-28      8             6                 0               199  \n",
       "5 2021-10-09     10             6                 0               199  \n",
       "6 2021-10-19     10             6                 0               199  \n",
       "7 2021-11-06     11             6                 0               199  \n",
       "8 2021-11-14     11             6                 0               199  \n",
       "9 2021-11-22     11             6                 0               199  "
      ]
     },
     "metadata": {},
     "output_type": "display_data"
    },
    {
     "name": "stdout",
     "output_type": "stream",
     "text": [
      "<class 'pandas.core.frame.DataFrame'>\n",
      "Int64Index: 18068 entries, 0 to 18067\n",
      "Data columns (total 12 columns):\n",
      " #   Column             Non-Null Count  Dtype         \n",
      "---  ------             --------------  -----         \n",
      " 0   user_id            18068 non-null  int64         \n",
      " 1   name               18068 non-null  object        \n",
      " 2   age                18068 non-null  int64         \n",
      " 3   city               18068 non-null  object        \n",
      " 4   subscription_type  18068 non-null  object        \n",
      " 5   distance           18068 non-null  float64       \n",
      " 6   duration           18068 non-null  float64       \n",
      " 7   date               18068 non-null  datetime64[ns]\n",
      " 8   month              18068 non-null  int64         \n",
      " 9   minute_price       18068 non-null  int64         \n",
      " 10  start_ride_price   18068 non-null  int64         \n",
      " 11  subscription_fee   18068 non-null  int64         \n",
      "dtypes: datetime64[ns](1), float64(2), int64(6), object(3)\n",
      "memory usage: 1.8+ MB\n"
     ]
    }
   ],
   "source": [
    "#теперь объединим с subscriptions_go\n",
    "data_merged = data_merged.merge(subscriptions_go, on='subscription_type')\n",
    "display(data_merged.head(10))\n",
    "data_merged.info()"
   ]
  },
  {
   "cell_type": "markdown",
   "id": "f83dea59",
   "metadata": {},
   "source": [
    "Проверим результаты объединения по количеству строк"
   ]
  },
  {
   "cell_type": "code",
   "execution_count": 33,
   "id": "ff557d9d",
   "metadata": {},
   "outputs": [
    {
     "name": "stdout",
     "output_type": "stream",
     "text": [
      "Количество строк в users_go:  1534\n",
      "Количество строк в rides_go:  18068\n",
      "Количество строк в subscriptions_go:  2\n",
      "Количество строк в новой таблице:  18068\n"
     ]
    }
   ],
   "source": [
    "print('Количество строк в users_go: ', len(users_go))\n",
    "print('Количество строк в rides_go: ', len(rides_go))\n",
    "print('Количество строк в subscriptions_go: ', len(subscriptions_go))\n",
    "\n",
    "print('Количество строк в новой таблице: ', len(data_merged))"
   ]
  },
  {
   "cell_type": "markdown",
   "id": "d25269ca",
   "metadata": {},
   "source": [
    "Количество строк совпадает, объединение прошло успешно.\n",
    "\n",
    "В соответствии с выводами главы 5, исключим строки со значением длительности поездки 0.5 минут"
   ]
  },
  {
   "cell_type": "code",
   "execution_count": 34,
   "id": "c1526544",
   "metadata": {},
   "outputs": [
    {
     "name": "stdout",
     "output_type": "stream",
     "text": [
      "Количество строк в новой таблице:  17973\n",
      "Строк исключено:  95\n"
     ]
    }
   ],
   "source": [
    "data_merged = data_merged.query('duration != 0.5')\n",
    "print('Количество строк в новой таблице: ', len(data_merged))\n",
    "print('Строк исключено: ', len(rides_go) - len(data_merged))"
   ]
  },
  {
   "cell_type": "markdown",
   "id": "d4a31d46",
   "metadata": {},
   "source": [
    "#### Создание датафрейма c данными о пользователях без подписки\n",
    "[К оглавлению](#Оглавление)"
   ]
  },
  {
   "cell_type": "code",
   "execution_count": 35,
   "id": "b5450c5e",
   "metadata": {},
   "outputs": [
    {
     "data": {
      "text/html": [
       "<div>\n",
       "<style scoped>\n",
       "    .dataframe tbody tr th:only-of-type {\n",
       "        vertical-align: middle;\n",
       "    }\n",
       "\n",
       "    .dataframe tbody tr th {\n",
       "        vertical-align: top;\n",
       "    }\n",
       "\n",
       "    .dataframe thead th {\n",
       "        text-align: right;\n",
       "    }\n",
       "</style>\n",
       "<table border=\"1\" class=\"dataframe\">\n",
       "  <thead>\n",
       "    <tr style=\"text-align: right;\">\n",
       "      <th></th>\n",
       "      <th>user_id</th>\n",
       "      <th>name</th>\n",
       "      <th>age</th>\n",
       "      <th>city</th>\n",
       "      <th>subscription_type</th>\n",
       "      <th>distance</th>\n",
       "      <th>duration</th>\n",
       "      <th>date</th>\n",
       "      <th>month</th>\n",
       "      <th>minute_price</th>\n",
       "      <th>start_ride_price</th>\n",
       "      <th>subscription_fee</th>\n",
       "    </tr>\n",
       "  </thead>\n",
       "  <tbody>\n",
       "    <tr>\n",
       "      <th>6500</th>\n",
       "      <td>700</td>\n",
       "      <td>Айдар</td>\n",
       "      <td>22</td>\n",
       "      <td>Омск</td>\n",
       "      <td>free</td>\n",
       "      <td>2515.69</td>\n",
       "      <td>14.94</td>\n",
       "      <td>2021-01-02</td>\n",
       "      <td>1</td>\n",
       "      <td>8</td>\n",
       "      <td>50</td>\n",
       "      <td>0</td>\n",
       "    </tr>\n",
       "    <tr>\n",
       "      <th>6501</th>\n",
       "      <td>700</td>\n",
       "      <td>Айдар</td>\n",
       "      <td>22</td>\n",
       "      <td>Омск</td>\n",
       "      <td>free</td>\n",
       "      <td>846.93</td>\n",
       "      <td>16.23</td>\n",
       "      <td>2021-02-01</td>\n",
       "      <td>2</td>\n",
       "      <td>8</td>\n",
       "      <td>50</td>\n",
       "      <td>0</td>\n",
       "    </tr>\n",
       "    <tr>\n",
       "      <th>6502</th>\n",
       "      <td>700</td>\n",
       "      <td>Айдар</td>\n",
       "      <td>22</td>\n",
       "      <td>Омск</td>\n",
       "      <td>free</td>\n",
       "      <td>4004.43</td>\n",
       "      <td>20.02</td>\n",
       "      <td>2021-02-04</td>\n",
       "      <td>2</td>\n",
       "      <td>8</td>\n",
       "      <td>50</td>\n",
       "      <td>0</td>\n",
       "    </tr>\n",
       "    <tr>\n",
       "      <th>6503</th>\n",
       "      <td>700</td>\n",
       "      <td>Айдар</td>\n",
       "      <td>22</td>\n",
       "      <td>Омск</td>\n",
       "      <td>free</td>\n",
       "      <td>1205.91</td>\n",
       "      <td>9.78</td>\n",
       "      <td>2021-02-10</td>\n",
       "      <td>2</td>\n",
       "      <td>8</td>\n",
       "      <td>50</td>\n",
       "      <td>0</td>\n",
       "    </tr>\n",
       "    <tr>\n",
       "      <th>6504</th>\n",
       "      <td>700</td>\n",
       "      <td>Айдар</td>\n",
       "      <td>22</td>\n",
       "      <td>Омск</td>\n",
       "      <td>free</td>\n",
       "      <td>3047.38</td>\n",
       "      <td>17.43</td>\n",
       "      <td>2021-02-14</td>\n",
       "      <td>2</td>\n",
       "      <td>8</td>\n",
       "      <td>50</td>\n",
       "      <td>0</td>\n",
       "    </tr>\n",
       "    <tr>\n",
       "      <th>6505</th>\n",
       "      <td>700</td>\n",
       "      <td>Айдар</td>\n",
       "      <td>22</td>\n",
       "      <td>Омск</td>\n",
       "      <td>free</td>\n",
       "      <td>4342.00</td>\n",
       "      <td>22.37</td>\n",
       "      <td>2021-02-23</td>\n",
       "      <td>2</td>\n",
       "      <td>8</td>\n",
       "      <td>50</td>\n",
       "      <td>0</td>\n",
       "    </tr>\n",
       "    <tr>\n",
       "      <th>6506</th>\n",
       "      <td>700</td>\n",
       "      <td>Айдар</td>\n",
       "      <td>22</td>\n",
       "      <td>Омск</td>\n",
       "      <td>free</td>\n",
       "      <td>3798.33</td>\n",
       "      <td>18.24</td>\n",
       "      <td>2021-03-03</td>\n",
       "      <td>3</td>\n",
       "      <td>8</td>\n",
       "      <td>50</td>\n",
       "      <td>0</td>\n",
       "    </tr>\n",
       "    <tr>\n",
       "      <th>6507</th>\n",
       "      <td>700</td>\n",
       "      <td>Айдар</td>\n",
       "      <td>22</td>\n",
       "      <td>Омск</td>\n",
       "      <td>free</td>\n",
       "      <td>2984.55</td>\n",
       "      <td>15.42</td>\n",
       "      <td>2021-04-09</td>\n",
       "      <td>4</td>\n",
       "      <td>8</td>\n",
       "      <td>50</td>\n",
       "      <td>0</td>\n",
       "    </tr>\n",
       "    <tr>\n",
       "      <th>6508</th>\n",
       "      <td>700</td>\n",
       "      <td>Айдар</td>\n",
       "      <td>22</td>\n",
       "      <td>Омск</td>\n",
       "      <td>free</td>\n",
       "      <td>3360.11</td>\n",
       "      <td>16.77</td>\n",
       "      <td>2021-06-12</td>\n",
       "      <td>6</td>\n",
       "      <td>8</td>\n",
       "      <td>50</td>\n",
       "      <td>0</td>\n",
       "    </tr>\n",
       "    <tr>\n",
       "      <th>6509</th>\n",
       "      <td>700</td>\n",
       "      <td>Айдар</td>\n",
       "      <td>22</td>\n",
       "      <td>Омск</td>\n",
       "      <td>free</td>\n",
       "      <td>2567.54</td>\n",
       "      <td>11.31</td>\n",
       "      <td>2021-06-23</td>\n",
       "      <td>6</td>\n",
       "      <td>8</td>\n",
       "      <td>50</td>\n",
       "      <td>0</td>\n",
       "    </tr>\n",
       "  </tbody>\n",
       "</table>\n",
       "</div>"
      ],
      "text/plain": [
       "      user_id   name  age  city subscription_type  distance  duration  \\\n",
       "6500      700  Айдар   22  Омск              free   2515.69     14.94   \n",
       "6501      700  Айдар   22  Омск              free    846.93     16.23   \n",
       "6502      700  Айдар   22  Омск              free   4004.43     20.02   \n",
       "6503      700  Айдар   22  Омск              free   1205.91      9.78   \n",
       "6504      700  Айдар   22  Омск              free   3047.38     17.43   \n",
       "6505      700  Айдар   22  Омск              free   4342.00     22.37   \n",
       "6506      700  Айдар   22  Омск              free   3798.33     18.24   \n",
       "6507      700  Айдар   22  Омск              free   2984.55     15.42   \n",
       "6508      700  Айдар   22  Омск              free   3360.11     16.77   \n",
       "6509      700  Айдар   22  Омск              free   2567.54     11.31   \n",
       "\n",
       "           date  month  minute_price  start_ride_price  subscription_fee  \n",
       "6500 2021-01-02      1             8                50                 0  \n",
       "6501 2021-02-01      2             8                50                 0  \n",
       "6502 2021-02-04      2             8                50                 0  \n",
       "6503 2021-02-10      2             8                50                 0  \n",
       "6504 2021-02-14      2             8                50                 0  \n",
       "6505 2021-02-23      2             8                50                 0  \n",
       "6506 2021-03-03      3             8                50                 0  \n",
       "6507 2021-04-09      4             8                50                 0  \n",
       "6508 2021-06-12      6             8                50                 0  \n",
       "6509 2021-06-23      6             8                50                 0  "
      ]
     },
     "metadata": {},
     "output_type": "display_data"
    },
    {
     "name": "stdout",
     "output_type": "stream",
     "text": [
      "<class 'pandas.core.frame.DataFrame'>\n",
      "Int64Index: 11473 entries, 6500 to 18067\n",
      "Data columns (total 12 columns):\n",
      " #   Column             Non-Null Count  Dtype         \n",
      "---  ------             --------------  -----         \n",
      " 0   user_id            11473 non-null  int64         \n",
      " 1   name               11473 non-null  object        \n",
      " 2   age                11473 non-null  int64         \n",
      " 3   city               11473 non-null  object        \n",
      " 4   subscription_type  11473 non-null  object        \n",
      " 5   distance           11473 non-null  float64       \n",
      " 6   duration           11473 non-null  float64       \n",
      " 7   date               11473 non-null  datetime64[ns]\n",
      " 8   month              11473 non-null  int64         \n",
      " 9   minute_price       11473 non-null  int64         \n",
      " 10  start_ride_price   11473 non-null  int64         \n",
      " 11  subscription_fee   11473 non-null  int64         \n",
      "dtypes: datetime64[ns](1), float64(2), int64(6), object(3)\n",
      "memory usage: 1.1+ MB\n"
     ]
    }
   ],
   "source": [
    "#для среза воспользуемся методом query()\n",
    "data_merged_free = data_merged.query('subscription_type == \"free\"')\n",
    "display(data_merged_free.head(10))\n",
    "data_merged_free.info()"
   ]
  },
  {
   "cell_type": "markdown",
   "id": "f81f4f6f",
   "metadata": {},
   "source": [
    "#### Создание датафрейма с данными о пользователях с подпиской\n",
    "[К оглавлению](#Оглавление)"
   ]
  },
  {
   "cell_type": "code",
   "execution_count": 36,
   "id": "32bf9c2e",
   "metadata": {},
   "outputs": [
    {
     "data": {
      "text/html": [
       "<div>\n",
       "<style scoped>\n",
       "    .dataframe tbody tr th:only-of-type {\n",
       "        vertical-align: middle;\n",
       "    }\n",
       "\n",
       "    .dataframe tbody tr th {\n",
       "        vertical-align: top;\n",
       "    }\n",
       "\n",
       "    .dataframe thead th {\n",
       "        text-align: right;\n",
       "    }\n",
       "</style>\n",
       "<table border=\"1\" class=\"dataframe\">\n",
       "  <thead>\n",
       "    <tr style=\"text-align: right;\">\n",
       "      <th></th>\n",
       "      <th>user_id</th>\n",
       "      <th>name</th>\n",
       "      <th>age</th>\n",
       "      <th>city</th>\n",
       "      <th>subscription_type</th>\n",
       "      <th>distance</th>\n",
       "      <th>duration</th>\n",
       "      <th>date</th>\n",
       "      <th>month</th>\n",
       "      <th>minute_price</th>\n",
       "      <th>start_ride_price</th>\n",
       "      <th>subscription_fee</th>\n",
       "    </tr>\n",
       "  </thead>\n",
       "  <tbody>\n",
       "    <tr>\n",
       "      <th>0</th>\n",
       "      <td>1</td>\n",
       "      <td>Кира</td>\n",
       "      <td>22</td>\n",
       "      <td>Тюмень</td>\n",
       "      <td>ultra</td>\n",
       "      <td>4409.92</td>\n",
       "      <td>25.60</td>\n",
       "      <td>2021-01-01</td>\n",
       "      <td>1</td>\n",
       "      <td>6</td>\n",
       "      <td>0</td>\n",
       "      <td>199</td>\n",
       "    </tr>\n",
       "    <tr>\n",
       "      <th>1</th>\n",
       "      <td>1</td>\n",
       "      <td>Кира</td>\n",
       "      <td>22</td>\n",
       "      <td>Тюмень</td>\n",
       "      <td>ultra</td>\n",
       "      <td>2617.59</td>\n",
       "      <td>15.82</td>\n",
       "      <td>2021-01-18</td>\n",
       "      <td>1</td>\n",
       "      <td>6</td>\n",
       "      <td>0</td>\n",
       "      <td>199</td>\n",
       "    </tr>\n",
       "    <tr>\n",
       "      <th>2</th>\n",
       "      <td>1</td>\n",
       "      <td>Кира</td>\n",
       "      <td>22</td>\n",
       "      <td>Тюмень</td>\n",
       "      <td>ultra</td>\n",
       "      <td>754.16</td>\n",
       "      <td>6.23</td>\n",
       "      <td>2021-04-20</td>\n",
       "      <td>4</td>\n",
       "      <td>6</td>\n",
       "      <td>0</td>\n",
       "      <td>199</td>\n",
       "    </tr>\n",
       "    <tr>\n",
       "      <th>3</th>\n",
       "      <td>1</td>\n",
       "      <td>Кира</td>\n",
       "      <td>22</td>\n",
       "      <td>Тюмень</td>\n",
       "      <td>ultra</td>\n",
       "      <td>2694.78</td>\n",
       "      <td>18.51</td>\n",
       "      <td>2021-08-11</td>\n",
       "      <td>8</td>\n",
       "      <td>6</td>\n",
       "      <td>0</td>\n",
       "      <td>199</td>\n",
       "    </tr>\n",
       "    <tr>\n",
       "      <th>4</th>\n",
       "      <td>1</td>\n",
       "      <td>Кира</td>\n",
       "      <td>22</td>\n",
       "      <td>Тюмень</td>\n",
       "      <td>ultra</td>\n",
       "      <td>4028.69</td>\n",
       "      <td>26.27</td>\n",
       "      <td>2021-08-28</td>\n",
       "      <td>8</td>\n",
       "      <td>6</td>\n",
       "      <td>0</td>\n",
       "      <td>199</td>\n",
       "    </tr>\n",
       "    <tr>\n",
       "      <th>5</th>\n",
       "      <td>1</td>\n",
       "      <td>Кира</td>\n",
       "      <td>22</td>\n",
       "      <td>Тюмень</td>\n",
       "      <td>ultra</td>\n",
       "      <td>2770.89</td>\n",
       "      <td>16.65</td>\n",
       "      <td>2021-10-09</td>\n",
       "      <td>10</td>\n",
       "      <td>6</td>\n",
       "      <td>0</td>\n",
       "      <td>199</td>\n",
       "    </tr>\n",
       "    <tr>\n",
       "      <th>6</th>\n",
       "      <td>1</td>\n",
       "      <td>Кира</td>\n",
       "      <td>22</td>\n",
       "      <td>Тюмень</td>\n",
       "      <td>ultra</td>\n",
       "      <td>3039.02</td>\n",
       "      <td>14.93</td>\n",
       "      <td>2021-10-19</td>\n",
       "      <td>10</td>\n",
       "      <td>6</td>\n",
       "      <td>0</td>\n",
       "      <td>199</td>\n",
       "    </tr>\n",
       "    <tr>\n",
       "      <th>7</th>\n",
       "      <td>1</td>\n",
       "      <td>Кира</td>\n",
       "      <td>22</td>\n",
       "      <td>Тюмень</td>\n",
       "      <td>ultra</td>\n",
       "      <td>2842.12</td>\n",
       "      <td>23.12</td>\n",
       "      <td>2021-11-06</td>\n",
       "      <td>11</td>\n",
       "      <td>6</td>\n",
       "      <td>0</td>\n",
       "      <td>199</td>\n",
       "    </tr>\n",
       "    <tr>\n",
       "      <th>8</th>\n",
       "      <td>1</td>\n",
       "      <td>Кира</td>\n",
       "      <td>22</td>\n",
       "      <td>Тюмень</td>\n",
       "      <td>ultra</td>\n",
       "      <td>3412.69</td>\n",
       "      <td>15.24</td>\n",
       "      <td>2021-11-14</td>\n",
       "      <td>11</td>\n",
       "      <td>6</td>\n",
       "      <td>0</td>\n",
       "      <td>199</td>\n",
       "    </tr>\n",
       "    <tr>\n",
       "      <th>9</th>\n",
       "      <td>1</td>\n",
       "      <td>Кира</td>\n",
       "      <td>22</td>\n",
       "      <td>Тюмень</td>\n",
       "      <td>ultra</td>\n",
       "      <td>748.69</td>\n",
       "      <td>15.04</td>\n",
       "      <td>2021-11-22</td>\n",
       "      <td>11</td>\n",
       "      <td>6</td>\n",
       "      <td>0</td>\n",
       "      <td>199</td>\n",
       "    </tr>\n",
       "  </tbody>\n",
       "</table>\n",
       "</div>"
      ],
      "text/plain": [
       "   user_id  name  age    city subscription_type  distance  duration  \\\n",
       "0        1  Кира   22  Тюмень             ultra   4409.92     25.60   \n",
       "1        1  Кира   22  Тюмень             ultra   2617.59     15.82   \n",
       "2        1  Кира   22  Тюмень             ultra    754.16      6.23   \n",
       "3        1  Кира   22  Тюмень             ultra   2694.78     18.51   \n",
       "4        1  Кира   22  Тюмень             ultra   4028.69     26.27   \n",
       "5        1  Кира   22  Тюмень             ultra   2770.89     16.65   \n",
       "6        1  Кира   22  Тюмень             ultra   3039.02     14.93   \n",
       "7        1  Кира   22  Тюмень             ultra   2842.12     23.12   \n",
       "8        1  Кира   22  Тюмень             ultra   3412.69     15.24   \n",
       "9        1  Кира   22  Тюмень             ultra    748.69     15.04   \n",
       "\n",
       "        date  month  minute_price  start_ride_price  subscription_fee  \n",
       "0 2021-01-01      1             6                 0               199  \n",
       "1 2021-01-18      1             6                 0               199  \n",
       "2 2021-04-20      4             6                 0               199  \n",
       "3 2021-08-11      8             6                 0               199  \n",
       "4 2021-08-28      8             6                 0               199  \n",
       "5 2021-10-09     10             6                 0               199  \n",
       "6 2021-10-19     10             6                 0               199  \n",
       "7 2021-11-06     11             6                 0               199  \n",
       "8 2021-11-14     11             6                 0               199  \n",
       "9 2021-11-22     11             6                 0               199  "
      ]
     },
     "metadata": {},
     "output_type": "display_data"
    },
    {
     "name": "stdout",
     "output_type": "stream",
     "text": [
      "<class 'pandas.core.frame.DataFrame'>\n",
      "Int64Index: 6500 entries, 0 to 6499\n",
      "Data columns (total 12 columns):\n",
      " #   Column             Non-Null Count  Dtype         \n",
      "---  ------             --------------  -----         \n",
      " 0   user_id            6500 non-null   int64         \n",
      " 1   name               6500 non-null   object        \n",
      " 2   age                6500 non-null   int64         \n",
      " 3   city               6500 non-null   object        \n",
      " 4   subscription_type  6500 non-null   object        \n",
      " 5   distance           6500 non-null   float64       \n",
      " 6   duration           6500 non-null   float64       \n",
      " 7   date               6500 non-null   datetime64[ns]\n",
      " 8   month              6500 non-null   int64         \n",
      " 9   minute_price       6500 non-null   int64         \n",
      " 10  start_ride_price   6500 non-null   int64         \n",
      " 11  subscription_fee   6500 non-null   int64         \n",
      "dtypes: datetime64[ns](1), float64(2), int64(6), object(3)\n",
      "memory usage: 660.2+ KB\n"
     ]
    }
   ],
   "source": [
    "#для среза воспользуемся методом query()\n",
    "data_merged_ultra = data_merged.query('subscription_type == \"ultra\"')\n",
    "display(data_merged_ultra.head(10))\n",
    "data_merged_ultra.info()"
   ]
  },
  {
   "cell_type": "markdown",
   "id": "8a3c7f45",
   "metadata": {},
   "source": [
    "#### Визуализизация информации о расстоянии и времени поездок для пользователей обеих категорий\n",
    "[К оглавлению](#Оглавление)"
   ]
  },
  {
   "cell_type": "markdown",
   "id": "f83f5848",
   "metadata": {},
   "source": [
    "##### Визуализизация информации о расстоянии для пользователей с подпиской `free` и `ultra`\n",
    "[К оглавлению](#Оглавление)"
   ]
  },
  {
   "cell_type": "code",
   "execution_count": 37,
   "id": "dbac5138",
   "metadata": {
    "scrolled": false
   },
   "outputs": [
    {
     "data": {
      "image/png": "[encoded data removed]",
      "text/plain": [
       "<Figure size 1080x504 with 1 Axes>"
      ]
     },
     "metadata": {},
     "output_type": "display_data"
    }
   ],
   "source": [
    "sns.set(rc = {'figure.figsize':(15,7)})\n",
    "sns.histplot(data=data_merged_free, x='distance', color=\"skyblue\", label=\"Пользователи без подписки\", bins=100)\n",
    "sns.histplot(data=data_merged_ultra, x='distance', color=\"blue\", label=\"Пользователи с подпиской\", bins=100)\n",
    "plt.legend() \n",
    "plt.title('Сравнение пройденного расстояния для пользователей с подпиской и без')\n",
    "plt.xlabel('Расстояние, м')\n",
    "plt.ylabel('Количество пользователей')\n",
    "plt.show()"
   ]
  },
  {
   "cell_type": "markdown",
   "id": "d45e5eed",
   "metadata": {},
   "source": [
    "Рассмотрим разницу между показателями данных"
   ]
  },
  {
   "cell_type": "code",
   "execution_count": 38,
   "id": "830cb26e",
   "metadata": {},
   "outputs": [
    {
     "data": {
      "text/plain": [
       "count   -4973.00\n",
       "mean       87.07\n",
       "std      -398.65\n",
       "min       243.35\n",
       "25%       424.57\n",
       "50%        46.55\n",
       "75%      -323.40\n",
       "max     -1366.23\n",
       "Name: distance, dtype: float64"
      ]
     },
     "execution_count": 38,
     "metadata": {},
     "output_type": "execute_result"
    }
   ],
   "source": [
    "data_merged_ultra['distance'].describe() - data_merged_free['distance'].describe()"
   ]
  },
  {
   "cell_type": "markdown",
   "id": "043125b4",
   "metadata": {},
   "source": [
    "##### Визуализизация информации о времени поездок для пользователей с подпиской `free` и `ultra`\n",
    "[К оглавлению](#Оглавление)"
   ]
  },
  {
   "cell_type": "code",
   "execution_count": 39,
   "id": "4ef3fe39",
   "metadata": {},
   "outputs": [
    {
     "data": {
      "image/png": "[encoded data removed]",
      "text/plain": [
       "<Figure size 1080x504 with 1 Axes>"
      ]
     },
     "metadata": {},
     "output_type": "display_data"
    }
   ],
   "source": [
    "sns.set(rc = {'figure.figsize':(15,7)})\n",
    "sns.histplot(data=data_merged_free, x='duration', color=\"#f5ac84\", label=\"Пользователи без подписки\", bins=100)\n",
    "sns.histplot(data=data_merged_ultra, x='duration', color=\"#d94d00\", label=\"Пользователи с подпиской\", bins=100)\n",
    "plt.legend() \n",
    "plt.title('Сравнение пройденного расстояния для пользователей с подпиской и без')\n",
    "plt.xlabel('Расстояние, м')\n",
    "plt.ylabel('Количество пользователей')\n",
    "plt.show()"
   ]
  },
  {
   "cell_type": "code",
   "execution_count": 40,
   "id": "e25e7636",
   "metadata": {},
   "outputs": [
    {
     "data": {
      "text/plain": [
       "count   -4973.00\n",
       "mean        1.01\n",
       "std        -0.59\n",
       "min         1.72\n",
       "25%         1.44\n",
       "50%         0.79\n",
       "75%         0.25\n",
       "max         5.88\n",
       "Name: duration, dtype: float64"
      ]
     },
     "execution_count": 40,
     "metadata": {},
     "output_type": "execute_result"
    }
   ],
   "source": [
    "data_merged_ultra['duration'].describe() - data_merged_free['duration'].describe()"
   ]
  },
  {
   "cell_type": "markdown",
   "id": "bfd297e4",
   "metadata": {},
   "source": [
    "#### Выводы по главе\n",
    "[К оглавлению](#Оглавление)\n",
    "\n",
    "На основе всех данных была создана новые таблицы:\n",
    "- data_merged (собраны все данные)\n",
    "- data_merged_free (все данные по пользователям без подписки)\n",
    "- data_merged_ultra (все данные по пользователям с подпиской)\n",
    "\n",
    "Выполнено исследование показателей пользователей с подпиской и без.\n",
    "Рассмотрим основные показатели.\n",
    "**Пользователи без подписки `free`**\n",
    "- Расстояние:\n",
    "    - Максимальное значение:  больше на 1366.23 м у пользователей без подписки\n",
    "    - Минимальное значение:  больше на 243.35 м у пользователей с подпиской\n",
    "    - Среднее значение: больше на 87.07 м у пользователей с подпиской\n",
    "- Время: \n",
    "    - Максимальное значение:  больше на 5.88 мин у пользователей с подпиской\n",
    "    - Минимальное значение: больше на 1.72 мин у пользователей с подпиской\n",
    "    - Среднее значение:  больше на 1.01 мин у пользователей с подпиской\n",
    "    \n",
    "Как видно, вне зависимости от наличия подписки пользователи в среднем проезжают более 3 км со средним временем более 17 минут, но, тем не менее средние значения для пользователей с подпиской несколько выше.\n",
    "\n",
    "Максимаальные показатели по пройденному расстоянию выше для пользователей без подписки, но это, скорее, исключение из правил, поэтому ориентироваться на такие показатели не стоит"
   ]
  },
  {
   "cell_type": "markdown",
   "id": "0b2fe010",
   "metadata": {},
   "source": [
    "-+-+-+-+-+-+-+-+-+-+-+-+-+-+-+-+-+-+-+-+-+-+-+-+-+-+-+-+-+-+-+-+-+-+-+-+-+-+-+-+-+-+-+-+-+-+-+-+-+-+-+-+-+-+-+-+-+-+-+-+-+-+-+-+-+-+-+-+-+-+"
   ]
  },
  {
   "cell_type": "markdown",
   "id": "bf5fdbef",
   "metadata": {},
   "source": [
    "### Шаг 7. Подсчёт выручки\n",
    "[К оглавлению](#Оглавление)"
   ]
  },
  {
   "cell_type": "markdown",
   "id": "bdc9f6eb",
   "metadata": {},
   "source": [
    "#### Создание датафрейма с агрегированными данными о поездках на основе датафрейма с объединёнными данными\n",
    "[К оглавлению](#Оглавление)\n",
    "\n",
    "Найти за каждый месяц:\n",
    "- суммарное расстояние;\n",
    "- количество поездок;\n",
    "- суммарное время для каждого пользователя за каждый месяц."
   ]
  },
  {
   "cell_type": "code",
   "execution_count": 41,
   "id": "2debfedc",
   "metadata": {
    "scrolled": false
   },
   "outputs": [
    {
     "data": {
      "text/html": [
       "<div>\n",
       "<style scoped>\n",
       "    .dataframe tbody tr th:only-of-type {\n",
       "        vertical-align: middle;\n",
       "    }\n",
       "\n",
       "    .dataframe tbody tr th {\n",
       "        vertical-align: top;\n",
       "    }\n",
       "\n",
       "    .dataframe thead th {\n",
       "        text-align: right;\n",
       "    }\n",
       "</style>\n",
       "<table border=\"1\" class=\"dataframe\">\n",
       "  <thead>\n",
       "    <tr style=\"text-align: right;\">\n",
       "      <th></th>\n",
       "      <th></th>\n",
       "      <th>count</th>\n",
       "      <th>dist_sum</th>\n",
       "      <th>time_sum</th>\n",
       "      <th>minute_price</th>\n",
       "      <th>start_ride_price</th>\n",
       "      <th>subscription_fee</th>\n",
       "      <th>subscription_type</th>\n",
       "    </tr>\n",
       "    <tr>\n",
       "      <th>month</th>\n",
       "      <th>user_id</th>\n",
       "      <th></th>\n",
       "      <th></th>\n",
       "      <th></th>\n",
       "      <th></th>\n",
       "      <th></th>\n",
       "      <th></th>\n",
       "      <th></th>\n",
       "    </tr>\n",
       "  </thead>\n",
       "  <tbody>\n",
       "    <tr>\n",
       "      <th rowspan=\"5\" valign=\"top\">1</th>\n",
       "      <th>1</th>\n",
       "      <td>2</td>\n",
       "      <td>7027.51</td>\n",
       "      <td>42.00</td>\n",
       "      <td>6</td>\n",
       "      <td>0</td>\n",
       "      <td>199</td>\n",
       "      <td>ultra</td>\n",
       "    </tr>\n",
       "    <tr>\n",
       "      <th>3</th>\n",
       "      <td>1</td>\n",
       "      <td>3061.78</td>\n",
       "      <td>13.00</td>\n",
       "      <td>6</td>\n",
       "      <td>0</td>\n",
       "      <td>199</td>\n",
       "      <td>ultra</td>\n",
       "    </tr>\n",
       "    <tr>\n",
       "      <th>5</th>\n",
       "      <td>1</td>\n",
       "      <td>3914.65</td>\n",
       "      <td>13.00</td>\n",
       "      <td>6</td>\n",
       "      <td>0</td>\n",
       "      <td>199</td>\n",
       "      <td>ultra</td>\n",
       "    </tr>\n",
       "    <tr>\n",
       "      <th>7</th>\n",
       "      <td>2</td>\n",
       "      <td>6478.08</td>\n",
       "      <td>28.00</td>\n",
       "      <td>6</td>\n",
       "      <td>0</td>\n",
       "      <td>199</td>\n",
       "      <td>ultra</td>\n",
       "    </tr>\n",
       "    <tr>\n",
       "      <th>12</th>\n",
       "      <td>1</td>\n",
       "      <td>3577.15</td>\n",
       "      <td>33.00</td>\n",
       "      <td>6</td>\n",
       "      <td>0</td>\n",
       "      <td>199</td>\n",
       "      <td>ultra</td>\n",
       "    </tr>\n",
       "    <tr>\n",
       "      <th>...</th>\n",
       "      <th>...</th>\n",
       "      <td>...</td>\n",
       "      <td>...</td>\n",
       "      <td>...</td>\n",
       "      <td>...</td>\n",
       "      <td>...</td>\n",
       "      <td>...</td>\n",
       "      <td>...</td>\n",
       "    </tr>\n",
       "    <tr>\n",
       "      <th rowspan=\"5\" valign=\"top\">12</th>\n",
       "      <th>1525</th>\n",
       "      <td>1</td>\n",
       "      <td>4597.85</td>\n",
       "      <td>34.00</td>\n",
       "      <td>8</td>\n",
       "      <td>50</td>\n",
       "      <td>0</td>\n",
       "      <td>free</td>\n",
       "    </tr>\n",
       "    <tr>\n",
       "      <th>1526</th>\n",
       "      <td>1</td>\n",
       "      <td>3644.12</td>\n",
       "      <td>23.00</td>\n",
       "      <td>8</td>\n",
       "      <td>50</td>\n",
       "      <td>0</td>\n",
       "      <td>free</td>\n",
       "    </tr>\n",
       "    <tr>\n",
       "      <th>1528</th>\n",
       "      <td>1</td>\n",
       "      <td>3998.57</td>\n",
       "      <td>11.00</td>\n",
       "      <td>8</td>\n",
       "      <td>50</td>\n",
       "      <td>0</td>\n",
       "      <td>free</td>\n",
       "    </tr>\n",
       "    <tr>\n",
       "      <th>1532</th>\n",
       "      <td>2</td>\n",
       "      <td>6111.89</td>\n",
       "      <td>42.00</td>\n",
       "      <td>8</td>\n",
       "      <td>50</td>\n",
       "      <td>0</td>\n",
       "      <td>free</td>\n",
       "    </tr>\n",
       "    <tr>\n",
       "      <th>1534</th>\n",
       "      <td>1</td>\n",
       "      <td>2371.71</td>\n",
       "      <td>16.00</td>\n",
       "      <td>8</td>\n",
       "      <td>50</td>\n",
       "      <td>0</td>\n",
       "      <td>free</td>\n",
       "    </tr>\n",
       "  </tbody>\n",
       "</table>\n",
       "<p>11300 rows × 7 columns</p>\n",
       "</div>"
      ],
      "text/plain": [
       "               count  dist_sum  time_sum  minute_price  start_ride_price  \\\n",
       "month user_id                                                              \n",
       "1     1            2   7027.51     42.00             6                 0   \n",
       "      3            1   3061.78     13.00             6                 0   \n",
       "      5            1   3914.65     13.00             6                 0   \n",
       "      7            2   6478.08     28.00             6                 0   \n",
       "      12           1   3577.15     33.00             6                 0   \n",
       "...              ...       ...       ...           ...               ...   \n",
       "12    1525         1   4597.85     34.00             8                50   \n",
       "      1526         1   3644.12     23.00             8                50   \n",
       "      1528         1   3998.57     11.00             8                50   \n",
       "      1532         2   6111.89     42.00             8                50   \n",
       "      1534         1   2371.71     16.00             8                50   \n",
       "\n",
       "               subscription_fee subscription_type  \n",
       "month user_id                                      \n",
       "1     1                     199             ultra  \n",
       "      3                     199             ultra  \n",
       "      5                     199             ultra  \n",
       "      7                     199             ultra  \n",
       "      12                    199             ultra  \n",
       "...                         ...               ...  \n",
       "12    1525                    0              free  \n",
       "      1526                    0              free  \n",
       "      1528                    0              free  \n",
       "      1532                    0              free  \n",
       "      1534                    0              free  \n",
       "\n",
       "[11300 rows x 7 columns]"
      ]
     },
     "execution_count": 41,
     "metadata": {},
     "output_type": "execute_result"
    }
   ],
   "source": [
    "#округлим значения столбца time_sum\n",
    "data_merged['duration'] = np.ceil(data_merged['duration']) \n",
    "\n",
    "\"\"\"\n",
    "создадим сводную таблицу и выведем первые 10 строк\n",
    "так как на значения дополнительных столбцов\n",
    "'subscription_type',\n",
    "'minute_price',\n",
    "'start_ride_price',\n",
    "'subscription_fee'\n",
    "аггрегирующие функции min,max,mean и некоторые другие никак не повлияют, применим к ним функцию max\n",
    "\"\"\"\n",
    "\n",
    "data_merged_agg = data_merged.pivot_table(index=['month', 'user_id'],\n",
    "                                          values=['distance',\n",
    "                                                  'duration',\n",
    "                                                  'subscription_type',\n",
    "                                                  'minute_price',\n",
    "                                                  'start_ride_price',\n",
    "                                                  'subscription_fee'],\n",
    "                                          aggfunc={'distance': [\"count\", \"sum\"],\n",
    "                                                   'duration': [\"sum\"],\n",
    "                                                   'subscription_type' : [\"max\"],\n",
    "                                                   'minute_price' : [\"max\"],\n",
    "                                                   'start_ride_price' : [\"max\"],\n",
    "                                                   'subscription_fee' : [\"max\"]})\n",
    "#Переименуем столбцы\n",
    "data_merged_agg.columns =  ['count',\n",
    "                            'dist_sum',\n",
    "                            'time_sum', \n",
    "                            'minute_price', \n",
    "                            'start_ride_price',\n",
    "                            'subscription_fee',\n",
    "                            'subscription_type']\n",
    "#Выведем на экран таблицу\n",
    "data_merged_agg"
   ]
  },
  {
   "cell_type": "markdown",
   "id": "bf801760",
   "metadata": {},
   "source": [
    "Проверяем значения в столбцах"
   ]
  },
  {
   "cell_type": "code",
   "execution_count": 42,
   "id": "a2f4f999",
   "metadata": {},
   "outputs": [
    {
     "data": {
      "text/plain": [
       "array([6, 8])"
      ]
     },
     "execution_count": 42,
     "metadata": {},
     "output_type": "execute_result"
    }
   ],
   "source": [
    "data_merged_agg['minute_price'].unique()"
   ]
  },
  {
   "cell_type": "code",
   "execution_count": 43,
   "id": "ef0f2a5c",
   "metadata": {},
   "outputs": [
    {
     "data": {
      "text/plain": [
       "array([ 0, 50])"
      ]
     },
     "execution_count": 43,
     "metadata": {},
     "output_type": "execute_result"
    }
   ],
   "source": [
    "data_merged_agg['start_ride_price'].unique()"
   ]
  },
  {
   "cell_type": "code",
   "execution_count": 44,
   "id": "d0614b6b",
   "metadata": {},
   "outputs": [
    {
     "data": {
      "text/plain": [
       "array([199,   0])"
      ]
     },
     "execution_count": 44,
     "metadata": {},
     "output_type": "execute_result"
    }
   ],
   "source": [
    "data_merged_agg['subscription_fee'].unique()"
   ]
  },
  {
   "cell_type": "code",
   "execution_count": 45,
   "id": "add5cd5d",
   "metadata": {},
   "outputs": [
    {
     "data": {
      "text/plain": [
       "array(['ultra', 'free'], dtype=object)"
      ]
     },
     "execution_count": 45,
     "metadata": {},
     "output_type": "execute_result"
    }
   ],
   "source": [
    "data_merged_agg['subscription_type'].unique()"
   ]
  },
  {
   "cell_type": "code",
   "execution_count": 46,
   "id": "c0b142e1",
   "metadata": {},
   "outputs": [
    {
     "data": {
      "text/html": [
       "<div>\n",
       "<style scoped>\n",
       "    .dataframe tbody tr th:only-of-type {\n",
       "        vertical-align: middle;\n",
       "    }\n",
       "\n",
       "    .dataframe tbody tr th {\n",
       "        vertical-align: top;\n",
       "    }\n",
       "\n",
       "    .dataframe thead th {\n",
       "        text-align: right;\n",
       "    }\n",
       "</style>\n",
       "<table border=\"1\" class=\"dataframe\">\n",
       "  <thead>\n",
       "    <tr style=\"text-align: right;\">\n",
       "      <th></th>\n",
       "      <th>user_id</th>\n",
       "      <th>name</th>\n",
       "      <th>age</th>\n",
       "      <th>city</th>\n",
       "      <th>subscription_type</th>\n",
       "      <th>distance</th>\n",
       "      <th>duration</th>\n",
       "      <th>date</th>\n",
       "      <th>month</th>\n",
       "      <th>minute_price</th>\n",
       "      <th>start_ride_price</th>\n",
       "      <th>subscription_fee</th>\n",
       "    </tr>\n",
       "  </thead>\n",
       "  <tbody>\n",
       "    <tr>\n",
       "      <th>0</th>\n",
       "      <td>1</td>\n",
       "      <td>Кира</td>\n",
       "      <td>22</td>\n",
       "      <td>Тюмень</td>\n",
       "      <td>ultra</td>\n",
       "      <td>4409.92</td>\n",
       "      <td>26.00</td>\n",
       "      <td>2021-01-01</td>\n",
       "      <td>1</td>\n",
       "      <td>6</td>\n",
       "      <td>0</td>\n",
       "      <td>199</td>\n",
       "    </tr>\n",
       "    <tr>\n",
       "      <th>1</th>\n",
       "      <td>1</td>\n",
       "      <td>Кира</td>\n",
       "      <td>22</td>\n",
       "      <td>Тюмень</td>\n",
       "      <td>ultra</td>\n",
       "      <td>2617.59</td>\n",
       "      <td>16.00</td>\n",
       "      <td>2021-01-18</td>\n",
       "      <td>1</td>\n",
       "      <td>6</td>\n",
       "      <td>0</td>\n",
       "      <td>199</td>\n",
       "    </tr>\n",
       "  </tbody>\n",
       "</table>\n",
       "</div>"
      ],
      "text/plain": [
       "   user_id  name  age    city subscription_type  distance  duration  \\\n",
       "0        1  Кира   22  Тюмень             ultra   4409.92     26.00   \n",
       "1        1  Кира   22  Тюмень             ultra   2617.59     16.00   \n",
       "\n",
       "        date  month  minute_price  start_ride_price  subscription_fee  \n",
       "0 2021-01-01      1             6                 0               199  \n",
       "1 2021-01-18      1             6                 0               199  "
      ]
     },
     "execution_count": 46,
     "metadata": {},
     "output_type": "execute_result"
    }
   ],
   "source": [
    "data_merged.query('(user_id  == 1) and (month == 1)').head()"
   ]
  },
  {
   "cell_type": "markdown",
   "id": "4f872efa",
   "metadata": {},
   "source": [
    "Проверка прошла  успешно, значения совпадают"
   ]
  },
  {
   "cell_type": "markdown",
   "id": "a3ea284d",
   "metadata": {},
   "source": [
    "#### Добавить столбец с помесячной выручкой, которую принёс каждый пользователь. \n",
    "[К оглавлению](#Оглавление)\n",
    "\n",
    "Для этого необходимо обратиться к информации об условиях оплаты для подписчиков и тех, у кого нет подписки. Продолжительность каждой поездки в каждой строке исходного датафрейма для подсчёта стоимости округляется до следующего целого числа: например, значения 25.3, 25.5 и 26.0 должны быть преобразованы к 26."
   ]
  },
  {
   "cell_type": "markdown",
   "id": "08bb810f",
   "metadata": {},
   "source": [
    "Помесячная выручка считается по формуле: стоимость старта поездки ×  количество поездок + стоимость одной минуты поездки × общая продолжительность всех поездок в минутах + стоимость подписки."
   ]
  },
  {
   "cell_type": "code",
   "execution_count": 47,
   "id": "deeba759",
   "metadata": {},
   "outputs": [
    {
     "data": {
      "text/html": [
       "<div>\n",
       "<style scoped>\n",
       "    .dataframe tbody tr th:only-of-type {\n",
       "        vertical-align: middle;\n",
       "    }\n",
       "\n",
       "    .dataframe tbody tr th {\n",
       "        vertical-align: top;\n",
       "    }\n",
       "\n",
       "    .dataframe thead th {\n",
       "        text-align: right;\n",
       "    }\n",
       "</style>\n",
       "<table border=\"1\" class=\"dataframe\">\n",
       "  <thead>\n",
       "    <tr style=\"text-align: right;\">\n",
       "      <th></th>\n",
       "      <th></th>\n",
       "      <th>count</th>\n",
       "      <th>dist_sum</th>\n",
       "      <th>time_sum</th>\n",
       "      <th>minute_price</th>\n",
       "      <th>start_ride_price</th>\n",
       "      <th>subscription_fee</th>\n",
       "      <th>subscription_type</th>\n",
       "      <th>month_income</th>\n",
       "    </tr>\n",
       "    <tr>\n",
       "      <th>month</th>\n",
       "      <th>user_id</th>\n",
       "      <th></th>\n",
       "      <th></th>\n",
       "      <th></th>\n",
       "      <th></th>\n",
       "      <th></th>\n",
       "      <th></th>\n",
       "      <th></th>\n",
       "      <th></th>\n",
       "    </tr>\n",
       "  </thead>\n",
       "  <tbody>\n",
       "    <tr>\n",
       "      <th rowspan=\"5\" valign=\"top\">1</th>\n",
       "      <th>1</th>\n",
       "      <td>2</td>\n",
       "      <td>7027.51</td>\n",
       "      <td>42.00</td>\n",
       "      <td>6</td>\n",
       "      <td>0</td>\n",
       "      <td>199</td>\n",
       "      <td>ultra</td>\n",
       "      <td>451.00</td>\n",
       "    </tr>\n",
       "    <tr>\n",
       "      <th>3</th>\n",
       "      <td>1</td>\n",
       "      <td>3061.78</td>\n",
       "      <td>13.00</td>\n",
       "      <td>6</td>\n",
       "      <td>0</td>\n",
       "      <td>199</td>\n",
       "      <td>ultra</td>\n",
       "      <td>277.00</td>\n",
       "    </tr>\n",
       "    <tr>\n",
       "      <th>5</th>\n",
       "      <td>1</td>\n",
       "      <td>3914.65</td>\n",
       "      <td>13.00</td>\n",
       "      <td>6</td>\n",
       "      <td>0</td>\n",
       "      <td>199</td>\n",
       "      <td>ultra</td>\n",
       "      <td>277.00</td>\n",
       "    </tr>\n",
       "    <tr>\n",
       "      <th>7</th>\n",
       "      <td>2</td>\n",
       "      <td>6478.08</td>\n",
       "      <td>28.00</td>\n",
       "      <td>6</td>\n",
       "      <td>0</td>\n",
       "      <td>199</td>\n",
       "      <td>ultra</td>\n",
       "      <td>367.00</td>\n",
       "    </tr>\n",
       "    <tr>\n",
       "      <th>12</th>\n",
       "      <td>1</td>\n",
       "      <td>3577.15</td>\n",
       "      <td>33.00</td>\n",
       "      <td>6</td>\n",
       "      <td>0</td>\n",
       "      <td>199</td>\n",
       "      <td>ultra</td>\n",
       "      <td>397.00</td>\n",
       "    </tr>\n",
       "    <tr>\n",
       "      <th>...</th>\n",
       "      <th>...</th>\n",
       "      <td>...</td>\n",
       "      <td>...</td>\n",
       "      <td>...</td>\n",
       "      <td>...</td>\n",
       "      <td>...</td>\n",
       "      <td>...</td>\n",
       "      <td>...</td>\n",
       "      <td>...</td>\n",
       "    </tr>\n",
       "    <tr>\n",
       "      <th rowspan=\"5\" valign=\"top\">12</th>\n",
       "      <th>1525</th>\n",
       "      <td>1</td>\n",
       "      <td>4597.85</td>\n",
       "      <td>34.00</td>\n",
       "      <td>8</td>\n",
       "      <td>50</td>\n",
       "      <td>0</td>\n",
       "      <td>free</td>\n",
       "      <td>322.00</td>\n",
       "    </tr>\n",
       "    <tr>\n",
       "      <th>1526</th>\n",
       "      <td>1</td>\n",
       "      <td>3644.12</td>\n",
       "      <td>23.00</td>\n",
       "      <td>8</td>\n",
       "      <td>50</td>\n",
       "      <td>0</td>\n",
       "      <td>free</td>\n",
       "      <td>234.00</td>\n",
       "    </tr>\n",
       "    <tr>\n",
       "      <th>1528</th>\n",
       "      <td>1</td>\n",
       "      <td>3998.57</td>\n",
       "      <td>11.00</td>\n",
       "      <td>8</td>\n",
       "      <td>50</td>\n",
       "      <td>0</td>\n",
       "      <td>free</td>\n",
       "      <td>138.00</td>\n",
       "    </tr>\n",
       "    <tr>\n",
       "      <th>1532</th>\n",
       "      <td>2</td>\n",
       "      <td>6111.89</td>\n",
       "      <td>42.00</td>\n",
       "      <td>8</td>\n",
       "      <td>50</td>\n",
       "      <td>0</td>\n",
       "      <td>free</td>\n",
       "      <td>436.00</td>\n",
       "    </tr>\n",
       "    <tr>\n",
       "      <th>1534</th>\n",
       "      <td>1</td>\n",
       "      <td>2371.71</td>\n",
       "      <td>16.00</td>\n",
       "      <td>8</td>\n",
       "      <td>50</td>\n",
       "      <td>0</td>\n",
       "      <td>free</td>\n",
       "      <td>178.00</td>\n",
       "    </tr>\n",
       "  </tbody>\n",
       "</table>\n",
       "<p>11300 rows × 8 columns</p>\n",
       "</div>"
      ],
      "text/plain": [
       "               count  dist_sum  time_sum  minute_price  start_ride_price  \\\n",
       "month user_id                                                              \n",
       "1     1            2   7027.51     42.00             6                 0   \n",
       "      3            1   3061.78     13.00             6                 0   \n",
       "      5            1   3914.65     13.00             6                 0   \n",
       "      7            2   6478.08     28.00             6                 0   \n",
       "      12           1   3577.15     33.00             6                 0   \n",
       "...              ...       ...       ...           ...               ...   \n",
       "12    1525         1   4597.85     34.00             8                50   \n",
       "      1526         1   3644.12     23.00             8                50   \n",
       "      1528         1   3998.57     11.00             8                50   \n",
       "      1532         2   6111.89     42.00             8                50   \n",
       "      1534         1   2371.71     16.00             8                50   \n",
       "\n",
       "               subscription_fee subscription_type  month_income  \n",
       "month user_id                                                    \n",
       "1     1                     199             ultra        451.00  \n",
       "      3                     199             ultra        277.00  \n",
       "      5                     199             ultra        277.00  \n",
       "      7                     199             ultra        367.00  \n",
       "      12                    199             ultra        397.00  \n",
       "...                         ...               ...           ...  \n",
       "12    1525                    0              free        322.00  \n",
       "      1526                    0              free        234.00  \n",
       "      1528                    0              free        138.00  \n",
       "      1532                    0              free        436.00  \n",
       "      1534                    0              free        178.00  \n",
       "\n",
       "[11300 rows x 8 columns]"
      ]
     },
     "execution_count": 47,
     "metadata": {},
     "output_type": "execute_result"
    }
   ],
   "source": [
    "data_merged_agg['month_income'] = (data_merged_agg['start_ride_price'] * \n",
    "                                   data_merged_agg['count'] + \n",
    "                                   data_merged_agg['minute_price'] * \n",
    "                                   data_merged_agg['time_sum'] + \n",
    "                                   data_merged_agg['subscription_fee'])\n",
    "\n",
    "data_merged_agg"
   ]
  },
  {
   "cell_type": "code",
   "execution_count": 48,
   "id": "1b8258e5",
   "metadata": {},
   "outputs": [
    {
     "data": {
      "text/plain": [
       "451"
      ]
     },
     "execution_count": 48,
     "metadata": {},
     "output_type": "execute_result"
    }
   ],
   "source": [
    "#Вручную проверим значения для первой строки\n",
    "0*2+6*42+199"
   ]
  },
  {
   "cell_type": "markdown",
   "id": "3f2e3380",
   "metadata": {},
   "source": [
    "Проверка успешна"
   ]
  },
  {
   "cell_type": "markdown",
   "id": "9d5ba7ca",
   "metadata": {},
   "source": [
    "#### Выводы по главе\n",
    "[К оглавлению](#Оглавление)\n",
    "\n",
    "Выполнены задачи:\n",
    "- найдено суммарное расстояние, количество поездок и суммарное время для каждого пользователя за каждый месяц. Для этого подготовлена таблица `data_merged_agg`\n",
    "- расчитана помесячная выручка"
   ]
  },
  {
   "cell_type": "markdown",
   "id": "c8295810",
   "metadata": {},
   "source": [
    "-+-+-+-+-+-+-+-+-+-+-+-+-+-+-+-+-+-+-+-+-+-+-+-+-+-+-+-+-+-+-+-+-+-+-+-+-+-+-+-+-+-+-+-+-+-+-+-+-+-+-+-+-+-+-+-+-+-+-+-+-+-+-+-+-+-+-+-+-+-+"
   ]
  },
  {
   "cell_type": "markdown",
   "id": "9b7c0801",
   "metadata": {},
   "source": [
    "### Шаг 8. Проверка гипотез\n",
    "[К оглавлению](#Оглавление)"
   ]
  },
  {
   "cell_type": "markdown",
   "id": "9b582aca",
   "metadata": {},
   "source": [
    "#### Тратят ли пользователи с подпиской больше времени на поездки?\n",
    "[К оглавлению](#Оглавление)\n",
    "\n",
    "Важно понять, тратят ли пользователи с подпиской больше времени на поездки? Если да, то пользователи с подпиской могут быть «выгоднее» для компании. Проверьте гипотезу. Используйте исходные данные о продолжительности каждой сессии — отдельно для подписчиков и тех, у кого нет подписки.\n",
    "\n",
    "**Определим две гипотезы.**\n",
    "- H<sub>0</sub>: `data_merged_free['duration']` = `data_merged_ultra['duration']`\n",
    "- H<sub>1</sub>: `data_merged_free['duration']` < `data_merged_ultra['duration']`\n",
    "\n",
    "Где:\n",
    "- `data_merged_free['duration']` - время поездок без подписки\n",
    "- `data_merged_ultra['duration']` - время поездок с подпиской"
   ]
  },
  {
   "cell_type": "code",
   "execution_count": 49,
   "id": "2c3ef0b7",
   "metadata": {},
   "outputs": [
    {
     "name": "stdout",
     "output_type": "stream",
     "text": [
      "p-value: 4.704468074453899e-28\n",
      "Отвергаем нулевую гипотезу\n"
     ]
    }
   ],
   "source": [
    "first_group_total = data_merged_ultra['duration']\n",
    "second_group_total = data_merged_free['duration']\n",
    "alpha = 0.05 # уровень статистической значимости\n",
    "# если p-value окажется меньше него, отвергнем гипотезу\n",
    "\n",
    "# проводим ttest для двух выборок, в качестве альтернативной используем одностороннюю гипотезу «больше»\n",
    "results = st.ttest_ind(first_group_total, second_group_total, alternative='greater')\n",
    "\n",
    "print(f'p-value: {results.pvalue}')\n",
    "\n",
    "# проверяем p-value\n",
    "if results.pvalue < alpha:\n",
    "    print('Отвергаем нулевую гипотезу')\n",
    "else:\n",
    "    print('Нет оснований отвергнуть нулевую гипотезу')"
   ]
  },
  {
   "cell_type": "markdown",
   "id": "3c392918",
   "metadata": {},
   "source": [
    "Для проверки гипотез также выведем средние значения продолжительности поездок"
   ]
  },
  {
   "cell_type": "code",
   "execution_count": 50,
   "id": "9dbdb86e",
   "metadata": {},
   "outputs": [
    {
     "name": "stdout",
     "output_type": "stream",
     "text": [
      "Средняя продолжительность поездки пользователей без подписки:  17.53\n",
      "Средняя продолжительность поездки пользователей с подпиской:  18.54\n",
      "Соотношение, %: 5.45\n"
     ]
    }
   ],
   "source": [
    "print('Средняя продолжительность поездки пользователей без подписки: ',round(data_merged_free['duration'].mean(),2))\n",
    "print('Средняя продолжительность поездки пользователей с подпиской: ',round(data_merged_ultra['duration'].mean(),2))\n",
    "print('Соотношение, %:', round((1-data_merged_free['duration'].mean()/data_merged_ultra['duration'].mean())*100,2))"
   ]
  },
  {
   "cell_type": "markdown",
   "id": "451d0731",
   "metadata": {},
   "source": [
    "Как видно, разница внушительная"
   ]
  },
  {
   "cell_type": "markdown",
   "id": "8a55b764",
   "metadata": {},
   "source": [
    "##### Выводы по разделу\n",
    "[К оглавлению](#Оглавление)\n",
    "\n",
    "Полученное значение p-value (1.2804098316645618e-34) меньше заданного уровня значимости alpha = 0.05, поэтому можно отвергнуть нулевую гипотезу. Есть основания говорить, что пользователи с подпиской тратят в сервисе больше денег."
   ]
  },
  {
   "cell_type": "markdown",
   "id": "60388db3",
   "metadata": {},
   "source": [
    "#### Среднее расстояние, которое проезжают пользователи с подпиской за одну поездку, не превышает 3130 метров?\n",
    "[К оглавлению](#Оглавление)\n",
    "\n",
    "Расстояние одной поездки в 3130 метров — оптимальное с точки зрения износа самоката. Можно ли сказать, что среднее расстояние, которое проезжают пользователи с подпиской за одну поездку, не превышает 3130 метров? Проверьте гипотезу и сделайте выводы.\n",
    "\n",
    "**Определим две гипотезы.**\n",
    "- H<sub>0</sub>: `data_merged_ultra['distance']` = 3130\n",
    "- H<sub>1</sub>: `data_merged_ultra['distance']` > 3130\n",
    "\n",
    "Где:\n",
    "- `data_merged_ultra['distance']` - расстояние, пройденное пользователями с подпиской\n"
   ]
  },
  {
   "cell_type": "code",
   "execution_count": 51,
   "id": "02a73aae",
   "metadata": {},
   "outputs": [
    {
     "name": "stdout",
     "output_type": "stream",
     "text": [
      "p-значение: 0.9195368847849785\n",
      "Не получилось отвергнуть нулевую гипотезу\n"
     ]
    }
   ],
   "source": [
    "dataset = data_merged_ultra['distance']\n",
    "interested_value = 3130 # проверяемое значение\n",
    "\n",
    "alpha = 0.05 # уровень статистической значимости\n",
    "\n",
    "results = st.ttest_1samp(dataset, \n",
    "                         interested_value,\n",
    "                         alternative='greater') # метод st.ttest_1samp\n",
    "\n",
    "print('p-значение:', results.pvalue) \n",
    "\n",
    "if (results.pvalue < alpha):\n",
    "    print('Отвергаем нулевую гипотезу')\n",
    "else:\n",
    "    print('Не получилось отвергнуть нулевую гипотезу')"
   ]
  },
  {
   "cell_type": "code",
   "execution_count": 52,
   "id": "71a734ba",
   "metadata": {},
   "outputs": [
    {
     "name": "stdout",
     "output_type": "stream",
     "text": [
      "Среднее расстояние за одну поездку пользователей без подписки:  3028.37\n",
      "Среднее расстояние за одну поездку пользователей с подпиской:  3115.45\n",
      "Соотношение, %: 2.79\n"
     ]
    }
   ],
   "source": [
    "print('Среднее расстояние за одну поездку пользователей без подписки: ',round(data_merged_free['distance'].mean(),2))\n",
    "print('Среднее расстояние за одну поездку пользователей с подпиской: ',round(data_merged_ultra['distance'].mean(),2))\n",
    "print('Соотношение, %:', round((1-data_merged_free['distance'].mean()/data_merged_ultra['distance'].mean())*100,2))"
   ]
  },
  {
   "cell_type": "markdown",
   "id": "341f2973",
   "metadata": {},
   "source": [
    "##### Выводы по разделу\n",
    "[К оглавлению](#Оглавление)\n",
    "\n",
    "Среднее расстояние, которое проезжают пользователи с подпиской за одну поездку, статистически значимо не отличается от оптимального расстояния 3130 метров. Самокаты раньше времени ломаться не будут."
   ]
  },
  {
   "cell_type": "markdown",
   "id": "d8b5cd52",
   "metadata": {},
   "source": [
    "#### Будет ли помесячная выручка от пользователей с подпиской по месяцам выше, чем выручка от пользователей без подписки. \n",
    "[К оглавлению](#Оглавление)\n",
    "\n",
    "Проверьте гипотезу о том, будет ли помесячная выручка от пользователей с подпиской по месяцам выше, чем выручка от пользователей без подписки. Сделайте вывод.\n",
    "\n",
    "**Определим две гипотезы.**\n",
    "- H<sub>0</sub>: `data_merged_agg['выручка без подписки']` = `data_merged_agg['выручка с подпиской']`\n",
    "- H<sub>1</sub>: `data_merged_agg['выручка без подписки']` < `data_merged_agg['выручка с подпиской']`\n",
    "\n",
    "Где:\n",
    "- `data_merged_agg['выручка без подписки']` - помесячная выручка от пользователей без подписки\n",
    "- `data_merged_agg['выручка с подпиской']` - помесячная выручка от пользователей с подпиской"
   ]
  },
  {
   "cell_type": "code",
   "execution_count": 53,
   "id": "fbb2e79e",
   "metadata": {},
   "outputs": [
    {
     "name": "stdout",
     "output_type": "stream",
     "text": [
      "p-value: 2.0314113674863288e-30\n",
      "Отвергаем нулевую гипотезу\n"
     ]
    }
   ],
   "source": [
    "first_group_total = data_merged_agg.query('subscription_type == \"ultra\"')['month_income']\n",
    "second_group_total = data_merged_agg.query('subscription_type == \"free\"')['month_income']\n",
    "alpha = 0.05 # уровень статистической значимости\n",
    "# если p-value окажется меньше него, отвергнем гипотезу\n",
    "\n",
    "# проводим ttest для двух выборок, в качестве альтернативной используем одностороннюю гипотезу «больше»\n",
    "results = st.ttest_ind(first_group_total, second_group_total, alternative='greater')\n",
    "\n",
    "print(f'p-value: {results.pvalue}')\n",
    "\n",
    "# проверяем p-value\n",
    "if results.pvalue < alpha:\n",
    "    print('Отвергаем нулевую гипотезу')\n",
    "else:\n",
    "    print('Нет оснований отвергнуть нулевую гипотезу')"
   ]
  },
  {
   "cell_type": "code",
   "execution_count": 54,
   "id": "0e4e3974",
   "metadata": {},
   "outputs": [
    {
     "name": "stdout",
     "output_type": "stream",
     "text": [
      "Средняя выручка за месяц без подписки:  329.33\n",
      "Средняя выручка за месяц с подпиской:  362.79\n",
      "Соотношение, %: 9.22\n"
     ]
    }
   ],
   "source": [
    "print('Средняя выручка за месяц без подписки: ' \\\n",
    "      ,round(data_merged_agg.query('subscription_type == \"free\"')['month_income'].mean(),2))\n",
    "print('Средняя выручка за месяц с подпиской: ' \\\n",
    "      ,round(data_merged_agg.query('subscription_type == \"ultra\"')['month_income'].mean(),2))\n",
    "print('Соотношение, %:' \\\n",
    "      , round((1-data_merged_agg.query('subscription_type == \"free\"')['month_income'] \\\n",
    "      .mean()/data_merged_agg.query('subscription_type == \"ultra\"')['month_income'].mean())*100,2))"
   ]
  },
  {
   "cell_type": "markdown",
   "id": "86598edd",
   "metadata": {},
   "source": [
    "##### Выводы по разделу\n",
    "[К оглавлению](#Оглавление)\n",
    "\n",
    "Проверка гипотез показала, что помесячная выручка от пользователей с подпиской по месяцам выше, чем выручка от пользователей без подписки"
   ]
  },
  {
   "cell_type": "markdown",
   "id": "7492dfad",
   "metadata": {},
   "source": [
    "#### Количество обращений до и после обновления\n",
    "[К оглавлению](#Оглавление)\n",
    "\n",
    "Представьте такую ситуацию: техническая команда сервиса обновила сервера, с которыми взаимодействует мобильное приложение. Она надеется, что из-за этого количество обращений в техподдержку значимо снизилось. Некоторый файл содержит для каждого пользователя данные о количестве обращений до обновления и после него. Какой тест вам понадобился бы для проверки этой гипотезы?"
   ]
  },
  {
   "cell_type": "markdown",
   "id": "45b2e94f",
   "metadata": {},
   "source": [
    "##### Ответ\n",
    "[К оглавлению](#Оглавление)\n",
    "\n",
    "В данном случае будет применяться гипотеза о равенстве средних для зависимых (парных) выборок\n",
    "\n",
    "**Определим две гипотезы.**\n",
    "- H<sub>0</sub>: `количество обращений после обновления` = `количество обращений до обновления`\n",
    "- H<sub>1</sub>: `количество обращений после обновления` >  `количество обращений до обновления`\n",
    "\n",
    "Чтобы проверить гипотезу о равенстве среднего генеральной совокупности для зависимых (парных) выборок в Python, применяется метод `scipy.stats.ttest_rel()`, с набором данных до и после.\n",
    "\n",
    "Код будет выглядеть примерно следующим образом:\n",
    "\n",
    "`before = количество обращений до обновления`\n",
    "\n",
    "`after = количество обращений после обновления`\n",
    "\n",
    "`alpha = 0.05 # уровень статистической значимости`\n",
    "\n",
    "`results = st.ttest_rel(before, after, alternative = 'greater')`\n",
    "\n",
    "`print('p-значение:', results.pvalue)`\n",
    "\n",
    "`if results.pvalue < alpha:`\n",
    "    \n",
    "    print('Отвергаем нулевую гипотезу о равенстве среднего веса посылок')\n",
    "    \n",
    "`else:`\n",
    "    \n",
    "    print('Не получилось отвергнуть нулевую гипотезу о равенстве среднего веса посылок')"
   ]
  },
  {
   "cell_type": "markdown",
   "id": "eafdf951",
   "metadata": {},
   "source": [
    "#### Выводы по главе\n",
    "[К оглавлению](#Оглавление)\n",
    "\n",
    "Обобщим полученные по разделам выводы:\n",
    "\n",
    "**Тратят ли пользователи с подпиской больше времени на поездки?**\n",
    "- Полученное значение p-value (1.2804098316645618e-34) меньше заданного уровня значимости alpha = 0.05, поэтому можно отвергнуть нулевую гипотезу. Есть основания говорить, что пользователи с подпиской тратят в сервисе больше денег.\n",
    "\n",
    "**Среднее расстояние, которое проезжают пользователи с подпиской за одну поездку, не превышает 3130 метров?**\n",
    "- Проверка гипотезы показала, что среднее расстояние, которое проезжают пользователи с подпиской за одну поездку, равно 3130 метров\n",
    "\n",
    "**Будет ли помесячная выручка от пользователей с подпиской по месяцам выше, чем выручка от пользователей без подписки.**\n",
    "- Проверка гипотез показала, что помесячная выручка от пользователей с подпиской по месяцам выше, чем выручка от пользователей без подписки"
   ]
  },
  {
   "cell_type": "markdown",
   "id": "e12a9693",
   "metadata": {},
   "source": [
    "-+-+-+-+-+-+-+-+-+-+-+-+-+-+-+-+-+-+-+-+-+-+-+-+-+-+-+-+-+-+-+-+-+-+-+-+-+-+-+-+-+-+-+-+-+-+-+-+-+-+-+-+-+-+-+-+-+-+-+-+-+-+-+-+-+-+-+-+-+-+"
   ]
  },
  {
   "cell_type": "markdown",
   "id": "036816c8",
   "metadata": {},
   "source": [
    "### Шаг 9. Распределения \n",
    "[К оглавлению](#Оглавление)\n",
    "\n",
    "(необязательное задание) \n",
    "(к сожалению, на текущий момент не успеваю сделать)"
   ]
  },
  {
   "cell_type": "markdown",
   "id": "ee789fcb",
   "metadata": {},
   "source": [
    "#### Акция с раздачей промокодов на один бесплатный месяц подписки\n",
    "[К оглавлению](#Оглавление)\n",
    "\n",
    "Отделу маркетинга GoFast поставили задачу: нужно провести акцию с раздачей промокодов на один бесплатный месяц подписки, в рамках которой как минимум 100 существующих клиентов должны продлить эту подписку. То есть по завершении периода действия подписки пользователь может либо отказаться от неё, либо продлить, совершив соответствующий платёж. \n",
    "Эта акция уже проводилась ранее и по итогу выяснилось, что после бесплатного пробного периода подписку продлевают \n",
    "10% пользователей. Выясните, какое минимальное количество промокодов нужно разослать, чтобы вероятность не выполнить план была примерно 5%. Подберите параметры распределения, описывающего эту ситуацию, постройте график распределения и сформулируйте ответ на вопрос о количестве промокодов."
   ]
  },
  {
   "cell_type": "markdown",
   "id": "6a317ae9",
   "metadata": {},
   "source": [
    "##### Выводы по разделу\n",
    "[К оглавлению](#Оглавление)"
   ]
  },
  {
   "cell_type": "markdown",
   "id": "242e579f",
   "metadata": {},
   "source": [
    "#### Push-уведомления в мобильном приложении\n",
    "[К оглавлению](#Оглавление)\n",
    "\n",
    "Отдел маркетинга рассылает клиентам push-уведомления в мобильном приложении. Клиенты могут открыть его или не открывать. Известно, что уведомления открывают около 40 % получивших клиентов. Отдел планирует разослать 1 млн уведомлений. С помощью аппроксимации постройте примерный график распределения и оцените вероятность того, что уведомление откроют не более 399,5 тыс. пользователей."
   ]
  },
  {
   "cell_type": "markdown",
   "id": "b766e435",
   "metadata": {},
   "source": [
    "##### Выводы по разделу\n",
    "[К оглавлению](#Оглавление)"
   ]
  },
  {
   "cell_type": "markdown",
   "id": "a7d30b62",
   "metadata": {},
   "source": [
    "#### Выводы по главе\n",
    "[К оглавлению](#Оглавление)"
   ]
  },
  {
   "cell_type": "markdown",
   "id": "45d26bd5",
   "metadata": {},
   "source": [
    "-+-+-+-+-+-+-+-+-+-+-+-+-+-+-+-+-+-+-+-+-+-+-+-+-+-+-+-+-+-+-+-+-+-+-+-+-+-+-+-+-+-+-+-+-+-+-+-+-+-+-+-+-+-+-+-+-+-+-+-+-+-+-+-+-+-+-+-+-+-+"
   ]
  },
  {
   "cell_type": "markdown",
   "id": "7e4db2c4",
   "metadata": {},
   "source": [
    "## Общий вывод\n",
    "[К оглавлению](#Оглавление)\n",
    "\n",
    "Выполнен анализ данных: \n",
    "\n",
    "- Частота встречаемости городов;\n",
    "    - Больше всего пользователей в г. Пятигорск, а меньше всего в Москве. В целом, количество пользователей равномерно распределено по городам, что также вызывает подозрения, ведь города имеют разное население. Возможно, количество самокатов в каждом городе одинаковое и пользователей в городах с большим населением было бы больше, если бы у них были самокаты.\n",
    "\n",
    "- Соотношение пользователей с подпиской и без подписки;\n",
    "    - Пользователей с подпиской ultra меньше. Возможно, стоит предоставить таким пользователям больше привелегий: улучшить качество обслуживания, сделать бонусную программу и т.д. Это поможет увеличить количество пользователей с подпиской ultra\n",
    "\n",
    "- Возраст пользователей;\n",
    "    - Больше всего пользователей имеют возраст 25 лет. Меньше всего пользователей младше 18 и старше 32 лет. Минимальный возраст пользователя: 12. Максимальный возраст пользователя: 43. Средний возраст пользователя: 25.0. Благодаря исследованию мы получили некоторый портрет нашего клиента: в основном, это молодые люди в возрасте от 18 до 32 лет. Что, в целом, логично для такого вида транспорта, так как самокаты предназначены для взрослых, а также травмоопасны, поэтому люди старше 30 менее охотно берут их в аренду, а детям они не очень подходят по размеру.\n",
    "\n",
    "- Расстояние, которое пользователь преодолел за одну поездку;\n",
    "    - Средняя длительность поездки составляет 3 км, основной диапазон значений от 2.5 до 3.5 км. Есть два локальных экстремума на длине дистанции 0.5 км и 3 км. Это можно объяснить тем, что пользователи используют самокаты для коротких поездок, в том случае, если пешком идти далеко, а для такси расстояние слишком маленькое и придётся его ждать. Во втором случае, вероятно, самокаты используются для прогулочных целей. Максимальное значение 7.2 км, минимальное значение - менее 1 метра. В целом, данные распределены равномерно, однако, странно, что показатели не имеют никакой сезонности в зависимости от месяца.\n",
    "\n",
    "- Продолжительность поездок.\n",
    "    - Минимальное значение 0.5 минут вызывает подозрения, возможно, в выборку попали значения пользователей, которые сразу отказались от поездки.Точных причин мы не знаем, но, по всей видимости, система регистрации длительности поездки записывает пользователей с поездкой менее 2 минут как 0.5 минут.Это может быть связано с переходными процессами (передача информации и запись данных в базу на сервере занимает время, поэтому логично, что разработчики решили объединить эти значения). Тем не менее, лучше уточнить данную информацию у разработчиков. Данные значение, ввиду их малочисленности, были исключены из данных в рамках проведения исследования. В среднем поездка длится 17.81 минуты, что соответствует пройденному среднему расстоянию. Подозрение вызывает также распределение среднего значения по месяцам.\n",
    "\n",
    "Проверка гипотез, которые могут помочь бизнесу:\n",
    "\n",
    "**Тратят ли пользователи с подпиской больше времени на поездки?**\n",
    "- Полученное значение p-value (1.2804098316645618e-34) меньше заданного уровня значимости alpha = 0.05, поэтому можно отвергнуть нулевую гипотезу. Есть основания говорить, что пользователи с подпиской тратят в сервисе больше денег.\n",
    "\n",
    "- Средняя продолжительность поездки пользователей без подписки:  17.53\n",
    "- Средняя продолжительность поездки пользователей с подпиской:  18.54\n",
    "- Соотношение, % 5.45\n",
    "\n",
    "**Среднее расстояние, которое проезжают пользователи с подпиской за одну поездку, не превышает 3130 метров?**\n",
    "- Среднее расстояние, которое проезжают пользователи с подпиской за одну поездку, статистически значимо не отличается от оптимального расстояния 3130 метров. Самокаты раньше времени ломаться не будут.\n",
    "\n",
    "- Среднее расстояние за одну поездку пользователей без подписки:  3028.37\n",
    "- Среднее расстояние за одну поездку пользователей с подпиской:  3115.45\n",
    "- Соотношение, %: 2.79\n",
    "\n",
    "**Будет ли помесячная выручка от пользователей с подпиской по месяцам выше, чем выручка от пользователей без подписки.**\n",
    "- Проверка гипотез показала, что помесячная выручка от пользователей с подпиской по месяцам выше, чем выручка от пользователей без подписки\n",
    "\n",
    "- Средняя выручка за месяц без подписки:  329.33\n",
    "- Средняя выручка за месяц с подпиской:  362.79\n",
    "- Соотношение, %: 9.22\n",
    "\n",
    "**Ответить на вопрос заказчика:**\n",
    "- Количество обращений до и после обновления. Представьте такую ситуацию: техническая команда сервиса обновила сервера, с которыми взаимодействует мобильное приложение. Она надеется, что из-за этого количество обращений в техподдержку значимо снизилось. Некоторый файл содержит для каждого пользователя данные о количестве обращений до обновления и после него. Какой тест вам понадобился бы для проверки этой гипотезы?\n",
    "\n",
    "В данном случае будет применяться гипотеза о равенстве средних для зависимых (парных) выборок\n",
    "\n",
    "**Определим две гипотезы.**\n",
    "- H<sub>0</sub>: `количество обращений после обновления` = `количество обращений до обновления`\n",
    "- H<sub>1</sub>: `количество обращений после обновления` >  `количество обращений до обновления`\n",
    "\n",
    "Чтобы проверить гипотезу о равенстве среднего генеральной совокупности для зависимых (парных) выборок в Python, применяется метод `scipy.stats.ttest_rel()`, с набором данных до и после.\n",
    "\n",
    "Код будет выглядеть примерно следующим образом:\n",
    "\n",
    "`before = количество обращений до обновления`\n",
    "\n",
    "`after = количество обращений после обновления`\n",
    "\n",
    "`alpha = 0.05 # уровень статистической значимости`\n",
    "\n",
    "`results = st.ttest_rel(before, after, alternative = 'greater')`\n",
    "\n",
    "`print('p-значение:', results.pvalue)`\n",
    "\n",
    "`if results.pvalue < alpha:`\n",
    "    \n",
    "    print('Отвергаем нулевую гипотезу о равенстве среднего веса посылок')\n",
    "    \n",
    "`else:`\n",
    "    \n",
    "    print('Не получилось отвергнуть нулевую гипотезу о равенстве среднего веса посылок')\n",
    "    \n",
    "В рамках достижения целей проекта решены следующие **задачи**:\n",
    "- Исследована общая информация о датафреймах\n",
    "- Выполнена предобработка данных\n",
    "    - Обработка пропущенных значений (пропущенные значения не обнаружены)\n",
    "    - Обработка неявных дубликатов (неявные дубликаты не обнаружены) \n",
    "    - Обработка явных дубликатов (явные дубликаты обнаружены, но в небольшом количестве)\n",
    "    - Изменение типов данных (изменен тип данных в столбце с датами)\n",
    "    - Создан новый столбей с номером месяца на основе столбца date\n",
    "- Выполнен исследовательский анализ данных\n",
    "- Осуществлено объединение данных по ТЗ заказчика\n",
    "- Подсчет выручки по месяцам\n",
    "- Осуществлена проверка гипотез"
   ]
  }
 ],
 "metadata": {
  "ExecuteTimeLog": [
   {
    "duration": 380,
    "start_time": "2023-10-30T18:46:22.002Z"
   },
   {
    "duration": 1252,
    "start_time": "2023-10-30T19:49:26.894Z"
   },
   {
    "duration": 1236,
    "start_time": "2023-10-30T19:58:03.855Z"
   },
   {
    "duration": 1198,
    "start_time": "2023-10-30T20:09:19.558Z"
   },
   {
    "duration": 446,
    "start_time": "2023-10-30T20:28:37.437Z"
   },
   {
    "duration": 3,
    "start_time": "2023-10-30T20:36:59.270Z"
   },
   {
    "duration": 403,
    "start_time": "2023-10-30T20:37:05.096Z"
   },
   {
    "duration": 3,
    "start_time": "2023-10-30T20:38:04.910Z"
   },
   {
    "duration": 397,
    "start_time": "2023-10-30T20:38:07.225Z"
   },
   {
    "duration": 4,
    "start_time": "2023-10-30T20:38:27.979Z"
   },
   {
    "duration": 303,
    "start_time": "2023-10-30T20:38:28.691Z"
   },
   {
    "duration": 4,
    "start_time": "2023-10-30T20:39:41.387Z"
   },
   {
    "duration": 296,
    "start_time": "2023-10-30T20:39:42.423Z"
   },
   {
    "duration": 4,
    "start_time": "2023-10-30T20:39:52.818Z"
   },
   {
    "duration": 386,
    "start_time": "2023-10-30T20:39:53.575Z"
   },
   {
    "duration": 4,
    "start_time": "2023-10-30T20:40:04.495Z"
   },
   {
    "duration": 307,
    "start_time": "2023-10-30T20:40:05.168Z"
   },
   {
    "duration": 5,
    "start_time": "2023-10-30T20:42:36.325Z"
   },
   {
    "duration": 283,
    "start_time": "2023-10-30T20:42:37.007Z"
   },
   {
    "duration": 4,
    "start_time": "2023-10-30T20:42:43.806Z"
   },
   {
    "duration": 271,
    "start_time": "2023-10-30T20:42:44.380Z"
   },
   {
    "duration": 4,
    "start_time": "2023-10-30T20:42:50.387Z"
   },
   {
    "duration": 288,
    "start_time": "2023-10-30T20:42:50.920Z"
   },
   {
    "duration": 6,
    "start_time": "2023-10-30T20:44:32.267Z"
   },
   {
    "duration": 345,
    "start_time": "2023-10-30T20:44:33.871Z"
   },
   {
    "duration": 4,
    "start_time": "2023-10-30T20:44:48.265Z"
   },
   {
    "duration": 367,
    "start_time": "2023-10-30T20:44:49.021Z"
   },
   {
    "duration": 3,
    "start_time": "2023-10-30T20:44:56.597Z"
   },
   {
    "duration": 352,
    "start_time": "2023-10-30T20:44:57.251Z"
   },
   {
    "duration": 470,
    "start_time": "2023-10-30T20:59:27.151Z"
   },
   {
    "duration": 1421,
    "start_time": "2023-10-30T21:45:17.364Z"
   },
   {
    "duration": 205,
    "start_time": "2023-10-30T21:45:18.787Z"
   },
   {
    "duration": 5,
    "start_time": "2023-10-30T21:45:18.994Z"
   },
   {
    "duration": 354,
    "start_time": "2023-10-30T21:45:19.002Z"
   },
   {
    "duration": 431,
    "start_time": "2023-10-30T21:45:19.358Z"
   },
   {
    "duration": 435,
    "start_time": "2023-10-30T21:45:19.791Z"
   },
   {
    "duration": 10,
    "start_time": "2023-10-30T22:08:20.688Z"
   },
   {
    "duration": 10,
    "start_time": "2023-10-30T22:08:40.064Z"
   },
   {
    "duration": 10,
    "start_time": "2023-10-30T22:08:52.900Z"
   },
   {
    "duration": 12,
    "start_time": "2023-10-30T22:10:00.048Z"
   },
   {
    "duration": 16,
    "start_time": "2023-10-30T22:15:59.742Z"
   },
   {
    "duration": 13,
    "start_time": "2023-10-30T22:18:54.452Z"
   },
   {
    "duration": 5,
    "start_time": "2023-10-30T22:18:55.802Z"
   },
   {
    "duration": 4,
    "start_time": "2023-10-30T22:22:26.571Z"
   },
   {
    "duration": 87,
    "start_time": "2023-10-30T22:23:45.375Z"
   },
   {
    "duration": 5,
    "start_time": "2023-10-30T22:23:52.455Z"
   },
   {
    "duration": 4,
    "start_time": "2023-10-30T22:27:23.516Z"
   },
   {
    "duration": 4,
    "start_time": "2023-10-30T22:27:24.033Z"
   },
   {
    "duration": 5,
    "start_time": "2023-10-30T22:27:24.558Z"
   },
   {
    "duration": 8,
    "start_time": "2023-10-30T22:33:09.215Z"
   },
   {
    "duration": 98,
    "start_time": "2023-10-30T22:39:19.140Z"
   },
   {
    "duration": 144,
    "start_time": "2023-10-30T22:39:24.951Z"
   },
   {
    "duration": 129,
    "start_time": "2023-10-30T22:39:38.159Z"
   },
   {
    "duration": 118,
    "start_time": "2023-10-30T22:40:57.779Z"
   },
   {
    "duration": 7,
    "start_time": "2023-10-30T22:42:05.963Z"
   },
   {
    "duration": 1290,
    "start_time": "2023-10-30T22:57:01.652Z"
   },
   {
    "duration": 1162,
    "start_time": "2023-10-30T22:57:20.866Z"
   },
   {
    "duration": 126,
    "start_time": "2023-10-30T22:57:30.303Z"
   },
   {
    "duration": 141,
    "start_time": "2023-10-30T22:59:13.757Z"
   },
   {
    "duration": 9,
    "start_time": "2023-10-30T23:00:34.029Z"
   },
   {
    "duration": 16,
    "start_time": "2023-10-30T23:00:41.693Z"
   },
   {
    "duration": 13,
    "start_time": "2023-10-30T23:00:57.338Z"
   },
   {
    "duration": 16,
    "start_time": "2023-10-30T23:01:15.121Z"
   },
   {
    "duration": 118,
    "start_time": "2023-10-30T23:01:15.549Z"
   },
   {
    "duration": 22,
    "start_time": "2023-10-30T23:01:49.796Z"
   },
   {
    "duration": 15,
    "start_time": "2023-10-30T23:02:01.031Z"
   },
   {
    "duration": 1188,
    "start_time": "2023-10-30T23:02:31.188Z"
   },
   {
    "duration": 136,
    "start_time": "2023-10-30T23:02:45.092Z"
   },
   {
    "duration": 15,
    "start_time": "2023-10-30T23:04:10.492Z"
   },
   {
    "duration": 15,
    "start_time": "2023-10-30T23:04:38.432Z"
   },
   {
    "duration": 14,
    "start_time": "2023-10-30T23:05:03.173Z"
   },
   {
    "duration": 14,
    "start_time": "2023-10-30T23:05:18.393Z"
   },
   {
    "duration": 13,
    "start_time": "2023-10-30T23:05:49.443Z"
   },
   {
    "duration": 1280,
    "start_time": "2023-10-30T23:08:16.757Z"
   },
   {
    "duration": 107,
    "start_time": "2023-10-30T23:09:22.592Z"
   },
   {
    "duration": 308,
    "start_time": "2023-10-30T23:09:39.626Z"
   },
   {
    "duration": 155,
    "start_time": "2023-10-30T23:10:01.960Z"
   },
   {
    "duration": 317,
    "start_time": "2023-10-30T23:10:27.993Z"
   },
   {
    "duration": 309,
    "start_time": "2023-10-30T23:10:59.148Z"
   },
   {
    "duration": 406,
    "start_time": "2023-10-30T23:12:24.640Z"
   },
   {
    "duration": 20,
    "start_time": "2023-10-30T23:13:30.198Z"
   },
   {
    "duration": 1396,
    "start_time": "2023-10-30T23:13:31.443Z"
   },
   {
    "duration": 14,
    "start_time": "2023-10-30T23:13:50.785Z"
   },
   {
    "duration": 312,
    "start_time": "2023-10-30T23:13:51.948Z"
   },
   {
    "duration": 14,
    "start_time": "2023-10-30T23:19:15.949Z"
   },
   {
    "duration": 16,
    "start_time": "2023-10-30T23:19:23.221Z"
   },
   {
    "duration": 15,
    "start_time": "2023-10-30T23:19:36.393Z"
   },
   {
    "duration": 7,
    "start_time": "2023-10-30T23:25:07.868Z"
   },
   {
    "duration": 5,
    "start_time": "2023-10-30T23:25:22.374Z"
   },
   {
    "duration": 7,
    "start_time": "2023-10-30T23:25:27.167Z"
   },
   {
    "duration": 15,
    "start_time": "2023-10-30T23:25:52.825Z"
   },
   {
    "duration": 22,
    "start_time": "2023-10-30T23:26:13.525Z"
   },
   {
    "duration": 18,
    "start_time": "2023-10-30T23:26:18.370Z"
   },
   {
    "duration": 6,
    "start_time": "2023-10-30T23:26:19.405Z"
   },
   {
    "duration": 45,
    "start_time": "2023-10-31T09:07:36.357Z"
   },
   {
    "duration": 1310,
    "start_time": "2023-10-31T09:07:46.941Z"
   },
   {
    "duration": 190,
    "start_time": "2023-10-31T09:07:48.253Z"
   },
   {
    "duration": 4,
    "start_time": "2023-10-31T09:07:48.445Z"
   },
   {
    "duration": 298,
    "start_time": "2023-10-31T09:07:48.451Z"
   },
   {
    "duration": 424,
    "start_time": "2023-10-31T09:07:48.750Z"
   },
   {
    "duration": 409,
    "start_time": "2023-10-31T09:07:49.176Z"
   },
   {
    "duration": 9,
    "start_time": "2023-10-31T09:07:49.586Z"
   },
   {
    "duration": 17,
    "start_time": "2023-10-31T09:07:49.596Z"
   },
   {
    "duration": 5,
    "start_time": "2023-10-31T09:07:49.614Z"
   },
   {
    "duration": 21,
    "start_time": "2023-10-31T09:07:49.621Z"
   },
   {
    "duration": 5,
    "start_time": "2023-10-31T09:07:49.643Z"
   },
   {
    "duration": 10,
    "start_time": "2023-10-31T09:07:49.649Z"
   },
   {
    "duration": 4,
    "start_time": "2023-10-31T09:07:49.662Z"
   },
   {
    "duration": 14,
    "start_time": "2023-10-31T09:07:49.668Z"
   },
   {
    "duration": 7,
    "start_time": "2023-10-31T09:07:49.683Z"
   },
   {
    "duration": 137,
    "start_time": "2023-10-31T09:07:49.691Z"
   },
   {
    "duration": 12,
    "start_time": "2023-10-31T09:07:49.829Z"
   },
   {
    "duration": 21,
    "start_time": "2023-10-31T09:07:49.843Z"
   },
   {
    "duration": 326,
    "start_time": "2023-10-31T09:07:49.866Z"
   },
   {
    "duration": 8,
    "start_time": "2023-10-31T09:07:50.193Z"
   },
   {
    "duration": 6,
    "start_time": "2023-10-31T09:08:16.159Z"
   },
   {
    "duration": 3,
    "start_time": "2023-10-31T09:09:39.398Z"
   },
   {
    "duration": 3,
    "start_time": "2023-10-31T09:09:41.319Z"
   },
   {
    "duration": 10,
    "start_time": "2023-10-31T09:10:16.321Z"
   },
   {
    "duration": 5,
    "start_time": "2023-10-31T09:10:47.109Z"
   },
   {
    "duration": 107,
    "start_time": "2023-10-31T09:10:53.184Z"
   },
   {
    "duration": 5,
    "start_time": "2023-10-31T09:11:12.924Z"
   },
   {
    "duration": 3,
    "start_time": "2023-10-31T09:11:19.418Z"
   },
   {
    "duration": 7,
    "start_time": "2023-10-31T09:11:36.731Z"
   },
   {
    "duration": 5,
    "start_time": "2023-10-31T09:12:35.738Z"
   },
   {
    "duration": 7,
    "start_time": "2023-10-31T09:12:44.357Z"
   },
   {
    "duration": 3,
    "start_time": "2023-10-31T09:12:50.986Z"
   },
   {
    "duration": 120,
    "start_time": "2023-10-31T09:16:18.706Z"
   },
   {
    "duration": 64,
    "start_time": "2023-10-31T09:17:09.864Z"
   },
   {
    "duration": 4,
    "start_time": "2023-10-31T09:17:14.843Z"
   },
   {
    "duration": 6,
    "start_time": "2023-10-31T09:17:20.446Z"
   },
   {
    "duration": 258,
    "start_time": "2023-10-31T09:17:32.648Z"
   },
   {
    "duration": 72,
    "start_time": "2023-10-31T09:17:43.200Z"
   },
   {
    "duration": 69,
    "start_time": "2023-10-31T09:24:53.865Z"
   },
   {
    "duration": 79,
    "start_time": "2023-10-31T09:25:09.031Z"
   },
   {
    "duration": 80,
    "start_time": "2023-10-31T09:25:12.444Z"
   },
   {
    "duration": 69,
    "start_time": "2023-10-31T09:25:19.874Z"
   },
   {
    "duration": 6,
    "start_time": "2023-10-31T09:35:12.489Z"
   },
   {
    "duration": 5,
    "start_time": "2023-10-31T09:35:40.029Z"
   },
   {
    "duration": 7,
    "start_time": "2023-10-31T09:35:56.597Z"
   },
   {
    "duration": 5,
    "start_time": "2023-10-31T09:36:02.043Z"
   },
   {
    "duration": 4,
    "start_time": "2023-10-31T09:46:16.557Z"
   },
   {
    "duration": 18,
    "start_time": "2023-10-31T09:46:47.844Z"
   },
   {
    "duration": 4,
    "start_time": "2023-10-31T09:47:24.934Z"
   },
   {
    "duration": 280,
    "start_time": "2023-10-31T09:47:28.653Z"
   },
   {
    "duration": 226,
    "start_time": "2023-10-31T09:48:29.295Z"
   },
   {
    "duration": 678,
    "start_time": "2023-10-31T09:49:30.170Z"
   },
   {
    "duration": 6,
    "start_time": "2023-10-31T09:53:13.043Z"
   },
   {
    "duration": 324,
    "start_time": "2023-10-31T09:53:14.044Z"
   },
   {
    "duration": 4,
    "start_time": "2023-10-31T09:53:27.685Z"
   },
   {
    "duration": 303,
    "start_time": "2023-10-31T09:53:28.565Z"
   },
   {
    "duration": 5,
    "start_time": "2023-10-31T09:53:38.882Z"
   },
   {
    "duration": 320,
    "start_time": "2023-10-31T09:53:39.685Z"
   },
   {
    "duration": 235,
    "start_time": "2023-10-31T09:54:04.602Z"
   },
   {
    "duration": 713,
    "start_time": "2023-10-31T09:54:21.273Z"
   },
   {
    "duration": 6,
    "start_time": "2023-10-31T09:55:12.985Z"
   },
   {
    "duration": 302,
    "start_time": "2023-10-31T09:55:13.682Z"
   },
   {
    "duration": 220,
    "start_time": "2023-10-31T09:55:18.408Z"
   },
   {
    "duration": 644,
    "start_time": "2023-10-31T09:55:21.220Z"
   },
   {
    "duration": 7,
    "start_time": "2023-10-31T09:57:40.120Z"
   },
   {
    "duration": 5,
    "start_time": "2023-10-31T09:59:28.495Z"
   },
   {
    "duration": 67,
    "start_time": "2023-10-31T09:59:41.005Z"
   },
   {
    "duration": 7,
    "start_time": "2023-10-31T09:59:45.364Z"
   },
   {
    "duration": 8,
    "start_time": "2023-10-31T10:01:17.951Z"
   },
   {
    "duration": 10,
    "start_time": "2023-10-31T10:01:25.143Z"
   },
   {
    "duration": 4,
    "start_time": "2023-10-31T10:01:29.981Z"
   },
   {
    "duration": 3,
    "start_time": "2023-10-31T10:01:44.681Z"
   },
   {
    "duration": 5,
    "start_time": "2023-10-31T10:01:50.194Z"
   },
   {
    "duration": 4,
    "start_time": "2023-10-31T10:42:09.865Z"
   },
   {
    "duration": 6,
    "start_time": "2023-10-31T10:42:11.621Z"
   },
   {
    "duration": 3,
    "start_time": "2023-10-31T10:42:12.009Z"
   },
   {
    "duration": 15,
    "start_time": "2023-10-31T10:43:10.690Z"
   },
   {
    "duration": 3,
    "start_time": "2023-10-31T10:43:44.087Z"
   },
   {
    "duration": 11,
    "start_time": "2023-10-31T10:43:49.517Z"
   },
   {
    "duration": 3,
    "start_time": "2023-10-31T10:47:56.898Z"
   },
   {
    "duration": 29,
    "start_time": "2023-10-31T10:48:06.842Z"
   },
   {
    "duration": 4,
    "start_time": "2023-10-31T10:50:11.215Z"
   },
   {
    "duration": 22,
    "start_time": "2023-10-31T10:50:15.482Z"
   },
   {
    "duration": 4,
    "start_time": "2023-10-31T10:53:03.670Z"
   },
   {
    "duration": 70,
    "start_time": "2023-10-31T10:53:07.594Z"
   },
   {
    "duration": 7,
    "start_time": "2023-10-31T10:53:37.593Z"
   },
   {
    "duration": 32,
    "start_time": "2023-10-31T10:53:44.957Z"
   },
   {
    "duration": 4,
    "start_time": "2023-10-31T10:53:55.659Z"
   },
   {
    "duration": 1224,
    "start_time": "2023-10-31T10:54:01.835Z"
   },
   {
    "duration": 76,
    "start_time": "2023-10-31T10:54:03.062Z"
   },
   {
    "duration": 5,
    "start_time": "2023-10-31T10:54:03.139Z"
   },
   {
    "duration": 377,
    "start_time": "2023-10-31T10:54:03.146Z"
   },
   {
    "duration": 451,
    "start_time": "2023-10-31T10:54:03.525Z"
   },
   {
    "duration": 428,
    "start_time": "2023-10-31T10:54:03.978Z"
   },
   {
    "duration": 8,
    "start_time": "2023-10-31T10:54:04.408Z"
   },
   {
    "duration": 35,
    "start_time": "2023-10-31T10:54:04.418Z"
   },
   {
    "duration": 6,
    "start_time": "2023-10-31T10:54:04.456Z"
   },
   {
    "duration": 5,
    "start_time": "2023-10-31T10:54:04.464Z"
   },
   {
    "duration": 14,
    "start_time": "2023-10-31T10:54:04.471Z"
   },
   {
    "duration": 6,
    "start_time": "2023-10-31T10:54:04.487Z"
   },
   {
    "duration": 6,
    "start_time": "2023-10-31T10:54:04.495Z"
   },
   {
    "duration": 4,
    "start_time": "2023-10-31T10:54:04.503Z"
   },
   {
    "duration": 8,
    "start_time": "2023-10-31T10:54:04.508Z"
   },
   {
    "duration": 149,
    "start_time": "2023-10-31T10:54:04.517Z"
   },
   {
    "duration": 7,
    "start_time": "2023-10-31T10:54:04.668Z"
   },
   {
    "duration": 5,
    "start_time": "2023-10-31T10:54:04.677Z"
   },
   {
    "duration": 7,
    "start_time": "2023-10-31T10:54:04.684Z"
   },
   {
    "duration": 366,
    "start_time": "2023-10-31T10:54:04.692Z"
   },
   {
    "duration": 334,
    "start_time": "2023-10-31T10:54:05.060Z"
   },
   {
    "duration": 723,
    "start_time": "2023-10-31T10:54:05.397Z"
   },
   {
    "duration": 7,
    "start_time": "2023-10-31T10:54:06.122Z"
   },
   {
    "duration": 95,
    "start_time": "2023-10-31T10:54:06.131Z"
   },
   {
    "duration": 5,
    "start_time": "2023-10-31T10:59:32.553Z"
   },
   {
    "duration": 35,
    "start_time": "2023-10-31T10:59:36.827Z"
   },
   {
    "duration": 3,
    "start_time": "2023-10-31T11:00:24.693Z"
   },
   {
    "duration": 21,
    "start_time": "2023-10-31T11:00:30.700Z"
   },
   {
    "duration": 5,
    "start_time": "2023-10-31T11:04:37.337Z"
   },
   {
    "duration": 23,
    "start_time": "2023-10-31T11:04:43.135Z"
   },
   {
    "duration": 6,
    "start_time": "2023-10-31T11:14:51.702Z"
   },
   {
    "duration": 23,
    "start_time": "2023-10-31T11:14:58.495Z"
   },
   {
    "duration": 5,
    "start_time": "2023-10-31T11:15:11.216Z"
   },
   {
    "duration": 23,
    "start_time": "2023-10-31T11:15:14.884Z"
   },
   {
    "duration": 4,
    "start_time": "2023-10-31T11:16:11.838Z"
   },
   {
    "duration": 21,
    "start_time": "2023-10-31T11:16:15.515Z"
   },
   {
    "duration": 4,
    "start_time": "2023-10-31T11:17:38.149Z"
   },
   {
    "duration": 96,
    "start_time": "2023-10-31T11:17:55.091Z"
   },
   {
    "duration": 5,
    "start_time": "2023-10-31T11:18:07.466Z"
   },
   {
    "duration": 23,
    "start_time": "2023-10-31T11:18:12.018Z"
   },
   {
    "duration": 5,
    "start_time": "2023-10-31T11:22:37.055Z"
   },
   {
    "duration": 167,
    "start_time": "2023-10-31T11:22:41.232Z"
   },
   {
    "duration": 8,
    "start_time": "2023-10-31T11:23:51.012Z"
   },
   {
    "duration": 144,
    "start_time": "2023-10-31T11:23:55.767Z"
   },
   {
    "duration": 4,
    "start_time": "2023-10-31T11:24:31.416Z"
   },
   {
    "duration": 187,
    "start_time": "2023-10-31T11:24:35.502Z"
   },
   {
    "duration": 5,
    "start_time": "2023-10-31T11:24:45.013Z"
   },
   {
    "duration": 148,
    "start_time": "2023-10-31T11:24:48.231Z"
   },
   {
    "duration": 4,
    "start_time": "2023-10-31T11:25:18.433Z"
   },
   {
    "duration": 220,
    "start_time": "2023-10-31T11:25:21.545Z"
   },
   {
    "duration": 5,
    "start_time": "2023-10-31T11:26:10.467Z"
   },
   {
    "duration": 1057,
    "start_time": "2023-10-31T11:26:13.685Z"
   },
   {
    "duration": 5,
    "start_time": "2023-10-31T11:26:34.707Z"
   },
   {
    "duration": 994,
    "start_time": "2023-10-31T11:26:37.820Z"
   },
   {
    "duration": 5,
    "start_time": "2023-10-31T11:27:53.608Z"
   },
   {
    "duration": 7,
    "start_time": "2023-10-31T11:28:36.305Z"
   },
   {
    "duration": 262,
    "start_time": "2023-10-31T11:28:36.313Z"
   },
   {
    "duration": 5,
    "start_time": "2023-10-31T11:32:47.975Z"
   },
   {
    "duration": 373,
    "start_time": "2023-10-31T11:32:51.754Z"
   },
   {
    "duration": 6,
    "start_time": "2023-10-31T11:35:02.323Z"
   },
   {
    "duration": 561,
    "start_time": "2023-10-31T11:35:05.832Z"
   },
   {
    "duration": 6,
    "start_time": "2023-10-31T11:36:03.831Z"
   },
   {
    "duration": 612,
    "start_time": "2023-10-31T11:36:07.115Z"
   },
   {
    "duration": 6,
    "start_time": "2023-10-31T11:36:49.926Z"
   },
   {
    "duration": 524,
    "start_time": "2023-10-31T11:36:52.588Z"
   },
   {
    "duration": 8,
    "start_time": "2023-10-31T11:40:06.275Z"
   },
   {
    "duration": 427,
    "start_time": "2023-10-31T11:40:08.713Z"
   },
   {
    "duration": 5,
    "start_time": "2023-10-31T11:41:12.748Z"
   },
   {
    "duration": 422,
    "start_time": "2023-10-31T11:41:15.935Z"
   },
   {
    "duration": 5,
    "start_time": "2023-10-31T11:42:15.936Z"
   },
   {
    "duration": 389,
    "start_time": "2023-10-31T11:42:18.852Z"
   },
   {
    "duration": 6,
    "start_time": "2023-10-31T11:42:26.578Z"
   },
   {
    "duration": 356,
    "start_time": "2023-10-31T11:42:28.587Z"
   },
   {
    "duration": 6,
    "start_time": "2023-10-31T11:46:26.354Z"
   },
   {
    "duration": 487,
    "start_time": "2023-10-31T11:46:31.971Z"
   },
   {
    "duration": 5,
    "start_time": "2023-10-31T11:47:24.720Z"
   },
   {
    "duration": 478,
    "start_time": "2023-10-31T11:47:27.147Z"
   },
   {
    "duration": 5,
    "start_time": "2023-10-31T11:54:37.527Z"
   },
   {
    "duration": 446,
    "start_time": "2023-10-31T11:54:40.072Z"
   },
   {
    "duration": 6,
    "start_time": "2023-10-31T11:55:11.226Z"
   },
   {
    "duration": 462,
    "start_time": "2023-10-31T11:55:15.066Z"
   },
   {
    "duration": 7,
    "start_time": "2023-10-31T12:17:09.335Z"
   },
   {
    "duration": 532,
    "start_time": "2023-10-31T12:17:12.425Z"
   },
   {
    "duration": 7,
    "start_time": "2023-10-31T12:18:19.144Z"
   },
   {
    "duration": 1092,
    "start_time": "2023-10-31T12:18:21.914Z"
   },
   {
    "duration": 9,
    "start_time": "2023-10-31T12:29:22.519Z"
   },
   {
    "duration": 1182,
    "start_time": "2023-10-31T12:29:27.867Z"
   },
   {
    "duration": 1185,
    "start_time": "2023-10-31T12:30:37.926Z"
   },
   {
    "duration": 7,
    "start_time": "2023-10-31T12:30:51.409Z"
   },
   {
    "duration": 866,
    "start_time": "2023-10-31T12:30:55.136Z"
   },
   {
    "duration": 9,
    "start_time": "2023-10-31T12:31:50.719Z"
   },
   {
    "duration": 2761,
    "start_time": "2023-10-31T12:31:53.329Z"
   },
   {
    "duration": 8,
    "start_time": "2023-10-31T12:41:47.419Z"
   },
   {
    "duration": 627,
    "start_time": "2023-10-31T12:41:51.146Z"
   },
   {
    "duration": 8,
    "start_time": "2023-10-31T12:42:13.436Z"
   },
   {
    "duration": 628,
    "start_time": "2023-10-31T12:42:17.847Z"
   },
   {
    "duration": 721,
    "start_time": "2023-10-31T12:43:53.920Z"
   },
   {
    "duration": 7,
    "start_time": "2023-10-31T12:44:50.794Z"
   },
   {
    "duration": 588,
    "start_time": "2023-10-31T12:44:54.775Z"
   },
   {
    "duration": 663,
    "start_time": "2023-10-31T12:44:58.098Z"
   },
   {
    "duration": 8,
    "start_time": "2023-10-31T13:09:55.310Z"
   },
   {
    "duration": 459,
    "start_time": "2023-10-31T13:09:59.269Z"
   },
   {
    "duration": 632,
    "start_time": "2023-10-31T13:10:01.947Z"
   },
   {
    "duration": 10,
    "start_time": "2023-10-31T13:10:34.737Z"
   },
   {
    "duration": 480,
    "start_time": "2023-10-31T13:10:37.271Z"
   },
   {
    "duration": 505,
    "start_time": "2023-10-31T13:10:43.841Z"
   },
   {
    "duration": 16,
    "start_time": "2023-10-31T13:31:16.640Z"
   },
   {
    "duration": 25,
    "start_time": "2023-10-31T13:35:11.675Z"
   },
   {
    "duration": 27,
    "start_time": "2023-10-31T13:36:14.247Z"
   },
   {
    "duration": 26,
    "start_time": "2023-10-31T13:38:18.064Z"
   },
   {
    "duration": 76,
    "start_time": "2023-10-31T13:38:42.328Z"
   },
   {
    "duration": 6,
    "start_time": "2023-10-31T13:39:39.373Z"
   },
   {
    "duration": 22,
    "start_time": "2023-10-31T13:39:57.846Z"
   },
   {
    "duration": 21,
    "start_time": "2023-10-31T13:41:03.377Z"
   },
   {
    "duration": 16,
    "start_time": "2023-10-31T13:45:10.438Z"
   },
   {
    "duration": 481,
    "start_time": "2023-10-31T13:46:19.559Z"
   },
   {
    "duration": 567,
    "start_time": "2023-10-31T13:47:08.008Z"
   },
   {
    "duration": 314,
    "start_time": "2023-10-31T13:48:30.067Z"
   },
   {
    "duration": 323,
    "start_time": "2023-10-31T13:48:30.484Z"
   },
   {
    "duration": 8,
    "start_time": "2023-10-31T14:28:47.158Z"
   },
   {
    "duration": 282,
    "start_time": "2023-10-31T14:28:48.754Z"
   },
   {
    "duration": 210,
    "start_time": "2023-10-31T14:28:50.412Z"
   },
   {
    "duration": 709,
    "start_time": "2023-10-31T14:28:52.287Z"
   },
   {
    "duration": 582,
    "start_time": "2023-10-31T14:28:54.567Z"
   },
   {
    "duration": 525,
    "start_time": "2023-10-31T14:29:19.003Z"
   },
   {
    "duration": 492,
    "start_time": "2023-10-31T14:29:40.549Z"
   },
   {
    "duration": 497,
    "start_time": "2023-10-31T14:29:42.342Z"
   },
   {
    "duration": 130,
    "start_time": "2023-10-31T14:37:00.538Z"
   },
   {
    "duration": 70,
    "start_time": "2023-10-31T14:37:16.131Z"
   },
   {
    "duration": 129,
    "start_time": "2023-10-31T14:37:19.513Z"
   },
   {
    "duration": 91,
    "start_time": "2023-10-31T14:47:07.678Z"
   },
   {
    "duration": 35,
    "start_time": "2023-10-31T14:47:58.625Z"
   },
   {
    "duration": 28,
    "start_time": "2023-10-31T14:48:20.030Z"
   },
   {
    "duration": 110,
    "start_time": "2023-10-31T14:48:39.872Z"
   },
   {
    "duration": 25,
    "start_time": "2023-10-31T14:49:12.373Z"
   },
   {
    "duration": 25,
    "start_time": "2023-10-31T14:49:21.687Z"
   },
   {
    "duration": 35,
    "start_time": "2023-10-31T14:50:05.480Z"
   },
   {
    "duration": 22,
    "start_time": "2023-10-31T14:52:53.091Z"
   },
   {
    "duration": 25,
    "start_time": "2023-10-31T14:54:29.473Z"
   },
   {
    "duration": 3,
    "start_time": "2023-10-31T14:55:05.503Z"
   },
   {
    "duration": 8,
    "start_time": "2023-10-31T14:55:09.470Z"
   },
   {
    "duration": 8,
    "start_time": "2023-10-31T14:55:15.237Z"
   },
   {
    "duration": 8,
    "start_time": "2023-10-31T14:55:20.541Z"
   },
   {
    "duration": 23,
    "start_time": "2023-10-31T15:01:38.443Z"
   },
   {
    "duration": 8,
    "start_time": "2023-10-31T15:01:45.065Z"
   },
   {
    "duration": 15,
    "start_time": "2023-10-31T15:07:56.435Z"
   },
   {
    "duration": 23,
    "start_time": "2023-10-31T15:08:28.094Z"
   },
   {
    "duration": 16,
    "start_time": "2023-10-31T15:09:13.708Z"
   },
   {
    "duration": 1163,
    "start_time": "2023-10-31T15:10:20.640Z"
   },
   {
    "duration": 70,
    "start_time": "2023-10-31T15:10:21.804Z"
   },
   {
    "duration": 4,
    "start_time": "2023-10-31T15:10:21.875Z"
   },
   {
    "duration": 314,
    "start_time": "2023-10-31T15:10:21.881Z"
   },
   {
    "duration": 440,
    "start_time": "2023-10-31T15:10:22.196Z"
   },
   {
    "duration": 406,
    "start_time": "2023-10-31T15:10:22.637Z"
   },
   {
    "duration": 12,
    "start_time": "2023-10-31T15:10:23.044Z"
   },
   {
    "duration": 11,
    "start_time": "2023-10-31T15:10:23.058Z"
   },
   {
    "duration": 4,
    "start_time": "2023-10-31T15:10:23.071Z"
   },
   {
    "duration": 4,
    "start_time": "2023-10-31T15:10:23.078Z"
   },
   {
    "duration": 4,
    "start_time": "2023-10-31T15:10:23.084Z"
   },
   {
    "duration": 9,
    "start_time": "2023-10-31T15:10:23.090Z"
   },
   {
    "duration": 40,
    "start_time": "2023-10-31T15:10:23.101Z"
   },
   {
    "duration": 6,
    "start_time": "2023-10-31T15:10:23.142Z"
   },
   {
    "duration": 10,
    "start_time": "2023-10-31T15:10:23.150Z"
   },
   {
    "duration": 150,
    "start_time": "2023-10-31T15:10:23.161Z"
   },
   {
    "duration": 6,
    "start_time": "2023-10-31T15:10:23.312Z"
   },
   {
    "duration": 5,
    "start_time": "2023-10-31T15:10:23.320Z"
   },
   {
    "duration": 27,
    "start_time": "2023-10-31T15:10:23.326Z"
   },
   {
    "duration": 326,
    "start_time": "2023-10-31T15:10:23.355Z"
   },
   {
    "duration": 304,
    "start_time": "2023-10-31T15:10:23.683Z"
   },
   {
    "duration": 673,
    "start_time": "2023-10-31T15:10:23.988Z"
   },
   {
    "duration": 5,
    "start_time": "2023-10-31T15:10:24.662Z"
   },
   {
    "duration": 599,
    "start_time": "2023-10-31T15:10:24.669Z"
   },
   {
    "duration": 611,
    "start_time": "2023-10-31T15:10:25.269Z"
   },
   {
    "duration": 29,
    "start_time": "2023-10-31T15:10:25.881Z"
   },
   {
    "duration": 63,
    "start_time": "2023-10-31T15:10:25.911Z"
   },
   {
    "duration": 25,
    "start_time": "2023-10-31T15:10:25.977Z"
   },
   {
    "duration": 111,
    "start_time": "2023-10-31T15:10:26.003Z"
   },
   {
    "duration": 555,
    "start_time": "2023-10-31T15:10:26.116Z"
   },
   {
    "duration": 508,
    "start_time": "2023-10-31T15:10:26.672Z"
   },
   {
    "duration": 348,
    "start_time": "2023-10-31T15:10:27.182Z"
   },
   {
    "duration": 366,
    "start_time": "2023-10-31T15:10:27.531Z"
   },
   {
    "duration": 135,
    "start_time": "2023-10-31T15:10:27.899Z"
   },
   {
    "duration": 0,
    "start_time": "2023-10-31T15:10:28.035Z"
   },
   {
    "duration": 16,
    "start_time": "2023-10-31T15:10:49.606Z"
   },
   {
    "duration": 31,
    "start_time": "2023-10-31T15:11:00.432Z"
   },
   {
    "duration": 16,
    "start_time": "2023-10-31T15:24:42.405Z"
   },
   {
    "duration": 14,
    "start_time": "2023-10-31T15:24:53.506Z"
   },
   {
    "duration": 1230,
    "start_time": "2023-10-31T15:27:16.929Z"
   },
   {
    "duration": 988,
    "start_time": "2023-10-31T15:27:33.076Z"
   },
   {
    "duration": 910,
    "start_time": "2023-10-31T15:28:20.744Z"
   },
   {
    "duration": 945,
    "start_time": "2023-10-31T15:30:11.048Z"
   },
   {
    "duration": 1132,
    "start_time": "2023-10-31T15:30:30.549Z"
   },
   {
    "duration": 5,
    "start_time": "2023-10-31T15:31:01.327Z"
   },
   {
    "duration": 975,
    "start_time": "2023-10-31T15:31:22.958Z"
   },
   {
    "duration": 4,
    "start_time": "2023-10-31T15:32:40.560Z"
   },
   {
    "duration": 8,
    "start_time": "2023-10-31T15:32:41.040Z"
   },
   {
    "duration": 4,
    "start_time": "2023-10-31T15:32:41.519Z"
   },
   {
    "duration": 4,
    "start_time": "2023-10-31T15:32:41.932Z"
   },
   {
    "duration": 947,
    "start_time": "2023-10-31T15:35:00.150Z"
   },
   {
    "duration": 993,
    "start_time": "2023-10-31T15:35:07.530Z"
   },
   {
    "duration": 899,
    "start_time": "2023-10-31T15:35:11.459Z"
   },
   {
    "duration": 9,
    "start_time": "2023-10-31T15:35:28.244Z"
   },
   {
    "duration": 1754,
    "start_time": "2023-10-31T15:38:03.907Z"
   },
   {
    "duration": 1702,
    "start_time": "2023-10-31T15:38:53.520Z"
   },
   {
    "duration": 1710,
    "start_time": "2023-10-31T15:39:56.751Z"
   },
   {
    "duration": 871,
    "start_time": "2023-10-31T15:43:22.664Z"
   },
   {
    "duration": 16,
    "start_time": "2023-10-31T15:50:34.274Z"
   },
   {
    "duration": 17,
    "start_time": "2023-10-31T15:51:28.750Z"
   },
   {
    "duration": 90,
    "start_time": "2023-10-31T15:52:18.928Z"
   },
   {
    "duration": 16,
    "start_time": "2023-10-31T15:53:09.808Z"
   },
   {
    "duration": 13,
    "start_time": "2023-10-31T15:56:05.863Z"
   },
   {
    "duration": 11,
    "start_time": "2023-10-31T15:56:49.685Z"
   },
   {
    "duration": 13,
    "start_time": "2023-10-31T15:57:32.614Z"
   },
   {
    "duration": 3,
    "start_time": "2023-10-31T16:00:39.371Z"
   },
   {
    "duration": 7,
    "start_time": "2023-10-31T16:01:23.141Z"
   },
   {
    "duration": 16,
    "start_time": "2023-10-31T16:01:31.285Z"
   },
   {
    "duration": 3,
    "start_time": "2023-10-31T16:03:08.051Z"
   },
   {
    "duration": 3,
    "start_time": "2023-10-31T16:03:11.217Z"
   },
   {
    "duration": 4,
    "start_time": "2023-10-31T16:03:20.344Z"
   },
   {
    "duration": 3,
    "start_time": "2023-10-31T16:03:23.547Z"
   },
   {
    "duration": 3,
    "start_time": "2023-10-31T16:03:29.283Z"
   },
   {
    "duration": 18,
    "start_time": "2023-10-31T16:04:08.194Z"
   },
   {
    "duration": 4,
    "start_time": "2023-10-31T16:04:30.791Z"
   },
   {
    "duration": 16,
    "start_time": "2023-10-31T16:04:41.719Z"
   },
   {
    "duration": 3,
    "start_time": "2023-10-31T16:04:42.896Z"
   },
   {
    "duration": 3,
    "start_time": "2023-10-31T16:04:45.161Z"
   },
   {
    "duration": 16,
    "start_time": "2023-10-31T16:04:49.930Z"
   },
   {
    "duration": 3,
    "start_time": "2023-10-31T16:04:51.371Z"
   },
   {
    "duration": 4,
    "start_time": "2023-10-31T16:04:57.933Z"
   },
   {
    "duration": 1117,
    "start_time": "2023-10-31T16:05:09.319Z"
   },
   {
    "duration": 67,
    "start_time": "2023-10-31T16:05:10.439Z"
   },
   {
    "duration": 5,
    "start_time": "2023-10-31T16:05:10.507Z"
   },
   {
    "duration": 294,
    "start_time": "2023-10-31T16:05:10.514Z"
   },
   {
    "duration": 376,
    "start_time": "2023-10-31T16:05:10.810Z"
   },
   {
    "duration": 379,
    "start_time": "2023-10-31T16:05:11.188Z"
   },
   {
    "duration": 9,
    "start_time": "2023-10-31T16:05:11.569Z"
   },
   {
    "duration": 12,
    "start_time": "2023-10-31T16:05:11.580Z"
   },
   {
    "duration": 5,
    "start_time": "2023-10-31T16:05:11.594Z"
   },
   {
    "duration": 5,
    "start_time": "2023-10-31T16:05:11.602Z"
   },
   {
    "duration": 33,
    "start_time": "2023-10-31T16:05:11.608Z"
   },
   {
    "duration": 5,
    "start_time": "2023-10-31T16:05:11.642Z"
   },
   {
    "duration": 5,
    "start_time": "2023-10-31T16:05:11.648Z"
   },
   {
    "duration": 10,
    "start_time": "2023-10-31T16:05:11.655Z"
   },
   {
    "duration": 17,
    "start_time": "2023-10-31T16:05:11.667Z"
   },
   {
    "duration": 124,
    "start_time": "2023-10-31T16:05:11.686Z"
   },
   {
    "duration": 6,
    "start_time": "2023-10-31T16:05:11.812Z"
   },
   {
    "duration": 4,
    "start_time": "2023-10-31T16:05:11.820Z"
   },
   {
    "duration": 9,
    "start_time": "2023-10-31T16:05:11.839Z"
   },
   {
    "duration": 339,
    "start_time": "2023-10-31T16:05:11.850Z"
   },
   {
    "duration": 325,
    "start_time": "2023-10-31T16:05:12.191Z"
   },
   {
    "duration": 776,
    "start_time": "2023-10-31T16:05:12.519Z"
   },
   {
    "duration": 5,
    "start_time": "2023-10-31T16:05:13.297Z"
   },
   {
    "duration": 554,
    "start_time": "2023-10-31T16:05:13.303Z"
   },
   {
    "duration": 530,
    "start_time": "2023-10-31T16:05:13.859Z"
   },
   {
    "duration": 25,
    "start_time": "2023-10-31T16:05:14.391Z"
   },
   {
    "duration": 45,
    "start_time": "2023-10-31T16:05:14.417Z"
   },
   {
    "duration": 23,
    "start_time": "2023-10-31T16:05:14.465Z"
   },
   {
    "duration": 100,
    "start_time": "2023-10-31T16:05:14.489Z"
   },
   {
    "duration": 530,
    "start_time": "2023-10-31T16:05:14.591Z"
   },
   {
    "duration": 499,
    "start_time": "2023-10-31T16:05:15.122Z"
   },
   {
    "duration": 315,
    "start_time": "2023-10-31T16:05:15.640Z"
   },
   {
    "duration": 342,
    "start_time": "2023-10-31T16:05:15.957Z"
   },
   {
    "duration": 901,
    "start_time": "2023-10-31T16:05:16.300Z"
   },
   {
    "duration": 3,
    "start_time": "2023-10-31T16:05:17.203Z"
   },
   {
    "duration": 7,
    "start_time": "2023-10-31T16:05:17.207Z"
   },
   {
    "duration": 6,
    "start_time": "2023-10-31T16:05:17.215Z"
   },
   {
    "duration": 18,
    "start_time": "2023-10-31T16:05:17.222Z"
   },
   {
    "duration": 14,
    "start_time": "2023-10-31T16:05:17.242Z"
   },
   {
    "duration": 12,
    "start_time": "2023-10-31T16:05:17.258Z"
   },
   {
    "duration": 20,
    "start_time": "2023-10-31T16:05:17.272Z"
   },
   {
    "duration": 4,
    "start_time": "2023-10-31T16:05:17.293Z"
   },
   {
    "duration": 3,
    "start_time": "2023-10-31T16:05:32.635Z"
   },
   {
    "duration": 94,
    "start_time": "2023-10-31T16:13:53.560Z"
   },
   {
    "duration": 229,
    "start_time": "2023-10-31T16:14:01.045Z"
   },
   {
    "duration": 422,
    "start_time": "2023-10-31T16:14:17.890Z"
   },
   {
    "duration": 275,
    "start_time": "2023-10-31T16:14:26.155Z"
   },
   {
    "duration": 115,
    "start_time": "2023-10-31T16:14:42.573Z"
   },
   {
    "duration": 22,
    "start_time": "2023-10-31T16:16:20.892Z"
   },
   {
    "duration": 275,
    "start_time": "2023-10-31T16:16:59.860Z"
   },
   {
    "duration": 413,
    "start_time": "2023-10-31T16:17:07.323Z"
   },
   {
    "duration": 222,
    "start_time": "2023-10-31T16:17:14.522Z"
   },
   {
    "duration": 249,
    "start_time": "2023-10-31T16:18:39.249Z"
   },
   {
    "duration": 213,
    "start_time": "2023-10-31T16:19:11.689Z"
   },
   {
    "duration": 1249,
    "start_time": "2023-10-31T16:19:56.628Z"
   },
   {
    "duration": 10,
    "start_time": "2023-10-31T16:20:22.881Z"
   },
   {
    "duration": 1403,
    "start_time": "2023-10-31T16:20:49.467Z"
   },
   {
    "duration": 20,
    "start_time": "2023-10-31T16:21:11.434Z"
   },
   {
    "duration": 16,
    "start_time": "2023-10-31T16:21:28.902Z"
   },
   {
    "duration": 17,
    "start_time": "2023-10-31T16:23:36.653Z"
   },
   {
    "duration": 16,
    "start_time": "2023-10-31T16:23:51.711Z"
   },
   {
    "duration": 22,
    "start_time": "2023-10-31T16:24:21.524Z"
   },
   {
    "duration": 17,
    "start_time": "2023-10-31T16:24:43.162Z"
   },
   {
    "duration": 32,
    "start_time": "2023-10-31T16:25:38.541Z"
   },
   {
    "duration": 5,
    "start_time": "2023-10-31T16:56:24.799Z"
   },
   {
    "duration": 6,
    "start_time": "2023-10-31T16:56:30.766Z"
   },
   {
    "duration": 5,
    "start_time": "2023-10-31T16:56:38.052Z"
   },
   {
    "duration": 5,
    "start_time": "2023-10-31T16:56:44.274Z"
   },
   {
    "duration": 5,
    "start_time": "2023-10-31T17:01:00.242Z"
   },
   {
    "duration": 5,
    "start_time": "2023-10-31T17:01:07.284Z"
   },
   {
    "duration": 5,
    "start_time": "2023-10-31T17:07:28.803Z"
   },
   {
    "duration": 4,
    "start_time": "2023-10-31T17:08:46.667Z"
   },
   {
    "duration": 5,
    "start_time": "2023-10-31T17:10:34.907Z"
   },
   {
    "duration": 5,
    "start_time": "2023-10-31T17:11:36.395Z"
   },
   {
    "duration": 7,
    "start_time": "2023-10-31T17:22:18.453Z"
   },
   {
    "duration": 5,
    "start_time": "2023-10-31T17:23:02.973Z"
   },
   {
    "duration": 5,
    "start_time": "2023-10-31T17:23:16.885Z"
   },
   {
    "duration": 5,
    "start_time": "2023-10-31T17:23:21.094Z"
   },
   {
    "duration": 10,
    "start_time": "2023-10-31T17:58:57.566Z"
   },
   {
    "duration": 14,
    "start_time": "2023-10-31T17:59:06.896Z"
   },
   {
    "duration": 14,
    "start_time": "2023-10-31T18:03:12.380Z"
   },
   {
    "duration": 13,
    "start_time": "2023-10-31T18:03:57.342Z"
   },
   {
    "duration": 15,
    "start_time": "2023-10-31T18:04:05.045Z"
   },
   {
    "duration": 15,
    "start_time": "2023-10-31T18:07:24.447Z"
   },
   {
    "duration": 1105,
    "start_time": "2023-10-31T18:36:08.937Z"
   },
   {
    "duration": 66,
    "start_time": "2023-10-31T18:36:10.044Z"
   },
   {
    "duration": 4,
    "start_time": "2023-10-31T18:36:10.111Z"
   },
   {
    "duration": 311,
    "start_time": "2023-10-31T18:36:10.117Z"
   },
   {
    "duration": 375,
    "start_time": "2023-10-31T18:36:10.430Z"
   },
   {
    "duration": 372,
    "start_time": "2023-10-31T18:36:10.806Z"
   },
   {
    "duration": 9,
    "start_time": "2023-10-31T18:36:11.179Z"
   },
   {
    "duration": 10,
    "start_time": "2023-10-31T18:36:11.189Z"
   },
   {
    "duration": 4,
    "start_time": "2023-10-31T18:36:11.201Z"
   },
   {
    "duration": 8,
    "start_time": "2023-10-31T18:36:11.207Z"
   },
   {
    "duration": 25,
    "start_time": "2023-10-31T18:36:11.216Z"
   },
   {
    "duration": 4,
    "start_time": "2023-10-31T18:36:11.242Z"
   },
   {
    "duration": 20,
    "start_time": "2023-10-31T18:36:11.248Z"
   },
   {
    "duration": 4,
    "start_time": "2023-10-31T18:36:11.269Z"
   },
   {
    "duration": 7,
    "start_time": "2023-10-31T18:36:11.275Z"
   },
   {
    "duration": 118,
    "start_time": "2023-10-31T18:36:11.283Z"
   },
   {
    "duration": 5,
    "start_time": "2023-10-31T18:36:11.403Z"
   },
   {
    "duration": 4,
    "start_time": "2023-10-31T18:36:11.410Z"
   },
   {
    "duration": 7,
    "start_time": "2023-10-31T18:36:11.415Z"
   },
   {
    "duration": 302,
    "start_time": "2023-10-31T18:36:11.440Z"
   },
   {
    "duration": 286,
    "start_time": "2023-10-31T18:36:11.744Z"
   },
   {
    "duration": 688,
    "start_time": "2023-10-31T18:36:12.032Z"
   },
   {
    "duration": 5,
    "start_time": "2023-10-31T18:36:12.722Z"
   },
   {
    "duration": 508,
    "start_time": "2023-10-31T18:36:12.739Z"
   },
   {
    "duration": 502,
    "start_time": "2023-10-31T18:36:13.248Z"
   },
   {
    "duration": 26,
    "start_time": "2023-10-31T18:36:13.751Z"
   },
   {
    "duration": 27,
    "start_time": "2023-10-31T18:36:13.778Z"
   },
   {
    "duration": 47,
    "start_time": "2023-10-31T18:36:13.808Z"
   },
   {
    "duration": 93,
    "start_time": "2023-10-31T18:36:13.857Z"
   },
   {
    "duration": 462,
    "start_time": "2023-10-31T18:36:13.951Z"
   },
   {
    "duration": 484,
    "start_time": "2023-10-31T18:36:14.415Z"
   },
   {
    "duration": 304,
    "start_time": "2023-10-31T18:36:14.900Z"
   },
   {
    "duration": 321,
    "start_time": "2023-10-31T18:36:15.205Z"
   },
   {
    "duration": 967,
    "start_time": "2023-10-31T18:36:15.539Z"
   },
   {
    "duration": 4,
    "start_time": "2023-10-31T18:36:16.507Z"
   },
   {
    "duration": 6,
    "start_time": "2023-10-31T18:36:16.512Z"
   },
   {
    "duration": 21,
    "start_time": "2023-10-31T18:36:16.519Z"
   },
   {
    "duration": 18,
    "start_time": "2023-10-31T18:36:16.542Z"
   },
   {
    "duration": 12,
    "start_time": "2023-10-31T18:36:16.561Z"
   },
   {
    "duration": 9,
    "start_time": "2023-10-31T18:36:16.574Z"
   },
   {
    "duration": 17,
    "start_time": "2023-10-31T18:36:16.584Z"
   },
   {
    "duration": 4,
    "start_time": "2023-10-31T18:36:16.602Z"
   },
   {
    "duration": 34,
    "start_time": "2023-10-31T18:36:16.607Z"
   },
   {
    "duration": 5,
    "start_time": "2023-10-31T18:36:16.643Z"
   },
   {
    "duration": 21,
    "start_time": "2023-10-31T18:36:16.650Z"
   },
   {
    "duration": 1034,
    "start_time": "2023-10-31T18:47:38.200Z"
   },
   {
    "duration": 64,
    "start_time": "2023-10-31T18:47:39.236Z"
   },
   {
    "duration": 4,
    "start_time": "2023-10-31T18:47:39.301Z"
   },
   {
    "duration": 281,
    "start_time": "2023-10-31T18:47:39.306Z"
   },
   {
    "duration": 385,
    "start_time": "2023-10-31T18:47:39.589Z"
   },
   {
    "duration": 406,
    "start_time": "2023-10-31T18:47:39.975Z"
   },
   {
    "duration": 8,
    "start_time": "2023-10-31T18:47:40.383Z"
   },
   {
    "duration": 16,
    "start_time": "2023-10-31T18:47:40.392Z"
   },
   {
    "duration": 4,
    "start_time": "2023-10-31T18:47:40.409Z"
   },
   {
    "duration": 7,
    "start_time": "2023-10-31T18:47:40.415Z"
   },
   {
    "duration": 19,
    "start_time": "2023-10-31T18:47:40.423Z"
   },
   {
    "duration": 7,
    "start_time": "2023-10-31T18:47:40.443Z"
   },
   {
    "duration": 6,
    "start_time": "2023-10-31T18:47:40.452Z"
   },
   {
    "duration": 5,
    "start_time": "2023-10-31T18:47:40.460Z"
   },
   {
    "duration": 9,
    "start_time": "2023-10-31T18:47:40.466Z"
   },
   {
    "duration": 127,
    "start_time": "2023-10-31T18:47:40.477Z"
   },
   {
    "duration": 7,
    "start_time": "2023-10-31T18:47:40.606Z"
   },
   {
    "duration": 25,
    "start_time": "2023-10-31T18:47:40.614Z"
   },
   {
    "duration": 8,
    "start_time": "2023-10-31T18:47:40.641Z"
   },
   {
    "duration": 306,
    "start_time": "2023-10-31T18:47:40.650Z"
   },
   {
    "duration": 290,
    "start_time": "2023-10-31T18:47:40.958Z"
   },
   {
    "duration": 647,
    "start_time": "2023-10-31T18:47:41.250Z"
   },
   {
    "duration": 6,
    "start_time": "2023-10-31T18:47:41.899Z"
   },
   {
    "duration": 552,
    "start_time": "2023-10-31T18:47:41.906Z"
   },
   {
    "duration": 581,
    "start_time": "2023-10-31T18:47:42.459Z"
   },
   {
    "duration": 25,
    "start_time": "2023-10-31T18:47:43.041Z"
   },
   {
    "duration": 25,
    "start_time": "2023-10-31T18:47:43.068Z"
   },
   {
    "duration": 45,
    "start_time": "2023-10-31T18:47:43.096Z"
   },
   {
    "duration": 79,
    "start_time": "2023-10-31T18:47:43.143Z"
   },
   {
    "duration": 491,
    "start_time": "2023-10-31T18:47:43.223Z"
   },
   {
    "duration": 508,
    "start_time": "2023-10-31T18:47:43.716Z"
   },
   {
    "duration": 300,
    "start_time": "2023-10-31T18:47:44.240Z"
   },
   {
    "duration": 315,
    "start_time": "2023-10-31T18:47:44.541Z"
   },
   {
    "duration": 942,
    "start_time": "2023-10-31T18:47:44.858Z"
   },
   {
    "duration": 4,
    "start_time": "2023-10-31T18:47:45.801Z"
   },
   {
    "duration": 6,
    "start_time": "2023-10-31T18:47:45.807Z"
   },
   {
    "duration": 5,
    "start_time": "2023-10-31T18:47:45.814Z"
   },
   {
    "duration": 21,
    "start_time": "2023-10-31T18:47:45.820Z"
   },
   {
    "duration": 14,
    "start_time": "2023-10-31T18:47:45.842Z"
   },
   {
    "duration": 8,
    "start_time": "2023-10-31T18:47:45.858Z"
   },
   {
    "duration": 16,
    "start_time": "2023-10-31T18:47:45.867Z"
   },
   {
    "duration": 3,
    "start_time": "2023-10-31T18:47:45.885Z"
   },
   {
    "duration": 7,
    "start_time": "2023-10-31T18:47:45.889Z"
   },
   {
    "duration": 5,
    "start_time": "2023-10-31T18:47:45.897Z"
   },
   {
    "duration": 46,
    "start_time": "2023-10-31T18:47:45.903Z"
   },
   {
    "duration": 1036,
    "start_time": "2023-10-31T18:51:13.988Z"
   },
   {
    "duration": 66,
    "start_time": "2023-10-31T18:51:15.025Z"
   },
   {
    "duration": 3,
    "start_time": "2023-10-31T18:51:15.093Z"
   },
   {
    "duration": 282,
    "start_time": "2023-10-31T18:51:15.098Z"
   },
   {
    "duration": 375,
    "start_time": "2023-10-31T18:51:15.382Z"
   },
   {
    "duration": 361,
    "start_time": "2023-10-31T18:51:15.758Z"
   },
   {
    "duration": 8,
    "start_time": "2023-10-31T18:51:16.121Z"
   },
   {
    "duration": 12,
    "start_time": "2023-10-31T18:51:16.140Z"
   },
   {
    "duration": 4,
    "start_time": "2023-10-31T18:51:16.154Z"
   },
   {
    "duration": 4,
    "start_time": "2023-10-31T18:51:16.160Z"
   },
   {
    "duration": 5,
    "start_time": "2023-10-31T18:51:16.165Z"
   },
   {
    "duration": 6,
    "start_time": "2023-10-31T18:51:16.171Z"
   },
   {
    "duration": 5,
    "start_time": "2023-10-31T18:51:16.179Z"
   },
   {
    "duration": 7,
    "start_time": "2023-10-31T18:51:16.185Z"
   },
   {
    "duration": 9,
    "start_time": "2023-10-31T18:51:16.193Z"
   },
   {
    "duration": 166,
    "start_time": "2023-10-31T18:51:16.203Z"
   },
   {
    "duration": 5,
    "start_time": "2023-10-31T18:51:16.371Z"
   },
   {
    "duration": 13,
    "start_time": "2023-10-31T18:51:16.377Z"
   },
   {
    "duration": 7,
    "start_time": "2023-10-31T18:51:16.391Z"
   },
   {
    "duration": 287,
    "start_time": "2023-10-31T18:51:16.399Z"
   },
   {
    "duration": 276,
    "start_time": "2023-10-31T18:51:16.688Z"
   },
   {
    "duration": 600,
    "start_time": "2023-10-31T18:51:16.966Z"
   },
   {
    "duration": 4,
    "start_time": "2023-10-31T18:51:17.568Z"
   },
   {
    "duration": 565,
    "start_time": "2023-10-31T18:51:17.574Z"
   },
   {
    "duration": 485,
    "start_time": "2023-10-31T18:51:18.141Z"
   },
   {
    "duration": 37,
    "start_time": "2023-10-31T18:51:18.627Z"
   },
   {
    "duration": 27,
    "start_time": "2023-10-31T18:51:18.665Z"
   },
   {
    "duration": 47,
    "start_time": "2023-10-31T18:51:18.696Z"
   },
   {
    "duration": 76,
    "start_time": "2023-10-31T18:51:18.745Z"
   },
   {
    "duration": 489,
    "start_time": "2023-10-31T18:51:18.823Z"
   },
   {
    "duration": 495,
    "start_time": "2023-10-31T18:51:19.313Z"
   },
   {
    "duration": 304,
    "start_time": "2023-10-31T18:51:19.809Z"
   },
   {
    "duration": 310,
    "start_time": "2023-10-31T18:51:20.114Z"
   },
   {
    "duration": 896,
    "start_time": "2023-10-31T18:51:20.440Z"
   },
   {
    "duration": 4,
    "start_time": "2023-10-31T18:51:21.339Z"
   },
   {
    "duration": 8,
    "start_time": "2023-10-31T18:51:21.345Z"
   },
   {
    "duration": 13,
    "start_time": "2023-10-31T18:51:21.354Z"
   },
   {
    "duration": 18,
    "start_time": "2023-10-31T18:51:21.368Z"
   },
   {
    "duration": 23,
    "start_time": "2023-10-31T18:51:21.387Z"
   },
   {
    "duration": 10,
    "start_time": "2023-10-31T18:51:21.411Z"
   },
   {
    "duration": 17,
    "start_time": "2023-10-31T18:51:21.423Z"
   },
   {
    "duration": 4,
    "start_time": "2023-10-31T18:51:21.441Z"
   },
   {
    "duration": 18,
    "start_time": "2023-10-31T18:51:21.446Z"
   },
   {
    "duration": 38,
    "start_time": "2023-10-31T18:51:21.465Z"
   },
   {
    "duration": 10,
    "start_time": "2023-10-31T18:51:21.505Z"
   },
   {
    "duration": 1156,
    "start_time": "2023-11-01T01:19:52.090Z"
   },
   {
    "duration": 68,
    "start_time": "2023-11-01T01:19:53.248Z"
   },
   {
    "duration": 4,
    "start_time": "2023-11-01T01:19:53.317Z"
   },
   {
    "duration": 347,
    "start_time": "2023-11-01T01:19:53.323Z"
   },
   {
    "duration": 412,
    "start_time": "2023-11-01T01:19:53.672Z"
   },
   {
    "duration": 423,
    "start_time": "2023-11-01T01:19:54.086Z"
   },
   {
    "duration": 12,
    "start_time": "2023-11-01T01:19:54.511Z"
   },
   {
    "duration": 23,
    "start_time": "2023-11-01T01:19:54.525Z"
   },
   {
    "duration": 29,
    "start_time": "2023-11-01T01:19:54.550Z"
   },
   {
    "duration": 24,
    "start_time": "2023-11-01T01:19:54.583Z"
   },
   {
    "duration": 38,
    "start_time": "2023-11-01T01:19:54.609Z"
   },
   {
    "duration": 14,
    "start_time": "2023-11-01T01:19:54.649Z"
   },
   {
    "duration": 33,
    "start_time": "2023-11-01T01:19:54.665Z"
   },
   {
    "duration": 37,
    "start_time": "2023-11-01T01:19:54.700Z"
   },
   {
    "duration": 43,
    "start_time": "2023-11-01T01:19:54.739Z"
   },
   {
    "duration": 151,
    "start_time": "2023-11-01T01:19:54.784Z"
   },
   {
    "duration": 7,
    "start_time": "2023-11-01T01:19:54.937Z"
   },
   {
    "duration": 23,
    "start_time": "2023-11-01T01:19:54.946Z"
   },
   {
    "duration": 17,
    "start_time": "2023-11-01T01:19:54.971Z"
   },
   {
    "duration": 311,
    "start_time": "2023-11-01T01:19:54.990Z"
   },
   {
    "duration": 306,
    "start_time": "2023-11-01T01:19:55.303Z"
   },
   {
    "duration": 695,
    "start_time": "2023-11-01T01:19:55.611Z"
   },
   {
    "duration": 5,
    "start_time": "2023-11-01T01:19:56.308Z"
   },
   {
    "duration": 518,
    "start_time": "2023-11-01T01:19:56.315Z"
   },
   {
    "duration": 602,
    "start_time": "2023-11-01T01:19:56.835Z"
   },
   {
    "duration": 31,
    "start_time": "2023-11-01T01:19:57.439Z"
   },
   {
    "duration": 61,
    "start_time": "2023-11-01T01:19:57.472Z"
   },
   {
    "duration": 28,
    "start_time": "2023-11-01T01:19:57.538Z"
   },
   {
    "duration": 140,
    "start_time": "2023-11-01T01:19:57.568Z"
   },
   {
    "duration": 500,
    "start_time": "2023-11-01T01:19:57.710Z"
   },
   {
    "duration": 522,
    "start_time": "2023-11-01T01:19:58.212Z"
   },
   {
    "duration": 331,
    "start_time": "2023-11-01T01:19:58.736Z"
   },
   {
    "duration": 364,
    "start_time": "2023-11-01T01:19:59.069Z"
   },
   {
    "duration": 863,
    "start_time": "2023-11-01T01:19:59.435Z"
   },
   {
    "duration": 4,
    "start_time": "2023-11-01T01:20:00.302Z"
   },
   {
    "duration": 92,
    "start_time": "2023-11-01T01:20:00.308Z"
   },
   {
    "duration": 49,
    "start_time": "2023-11-01T01:20:00.401Z"
   },
   {
    "duration": 37,
    "start_time": "2023-11-01T01:20:00.452Z"
   },
   {
    "duration": 50,
    "start_time": "2023-11-01T01:20:00.491Z"
   },
   {
    "duration": 94,
    "start_time": "2023-11-01T01:20:00.543Z"
   },
   {
    "duration": 227,
    "start_time": "2023-11-01T01:20:00.639Z"
   },
   {
    "duration": 91,
    "start_time": "2023-11-01T01:20:00.868Z"
   },
   {
    "duration": 41,
    "start_time": "2023-11-01T01:20:00.961Z"
   },
   {
    "duration": 25,
    "start_time": "2023-11-01T01:20:01.004Z"
   },
   {
    "duration": 74,
    "start_time": "2023-11-01T01:20:01.031Z"
   },
   {
    "duration": 6,
    "start_time": "2023-11-01T01:28:26.673Z"
   },
   {
    "duration": 1157,
    "start_time": "2023-11-01T01:31:27.724Z"
   },
   {
    "duration": 67,
    "start_time": "2023-11-01T01:31:28.883Z"
   },
   {
    "duration": 3,
    "start_time": "2023-11-01T01:31:28.952Z"
   },
   {
    "duration": 384,
    "start_time": "2023-11-01T01:31:28.957Z"
   },
   {
    "duration": 425,
    "start_time": "2023-11-01T01:31:29.343Z"
   },
   {
    "duration": 444,
    "start_time": "2023-11-01T01:31:29.770Z"
   },
   {
    "duration": 11,
    "start_time": "2023-11-01T01:31:30.215Z"
   },
   {
    "duration": 133,
    "start_time": "2023-11-01T01:31:30.228Z"
   },
   {
    "duration": 141,
    "start_time": "2023-11-01T01:31:30.363Z"
   },
   {
    "duration": 39,
    "start_time": "2023-11-01T01:31:30.507Z"
   },
   {
    "duration": 58,
    "start_time": "2023-11-01T01:31:30.548Z"
   },
   {
    "duration": 117,
    "start_time": "2023-11-01T01:31:30.608Z"
   },
   {
    "duration": 51,
    "start_time": "2023-11-01T01:31:30.727Z"
   },
   {
    "duration": 48,
    "start_time": "2023-11-01T01:31:30.780Z"
   },
   {
    "duration": 99,
    "start_time": "2023-11-01T01:31:30.830Z"
   },
   {
    "duration": 158,
    "start_time": "2023-11-01T01:31:30.931Z"
   },
   {
    "duration": 14,
    "start_time": "2023-11-01T01:31:31.091Z"
   },
   {
    "duration": 104,
    "start_time": "2023-11-01T01:31:31.107Z"
   },
   {
    "duration": 122,
    "start_time": "2023-11-01T01:31:31.212Z"
   },
   {
    "duration": 357,
    "start_time": "2023-11-01T01:31:31.336Z"
   },
   {
    "duration": 331,
    "start_time": "2023-11-01T01:31:31.694Z"
   },
   {
    "duration": 705,
    "start_time": "2023-11-01T01:31:32.028Z"
   },
   {
    "duration": 6,
    "start_time": "2023-11-01T01:31:32.736Z"
   },
   {
    "duration": 580,
    "start_time": "2023-11-01T01:31:32.744Z"
   },
   {
    "duration": 512,
    "start_time": "2023-11-01T01:31:33.326Z"
   },
   {
    "duration": 28,
    "start_time": "2023-11-01T01:31:33.840Z"
   },
   {
    "duration": 58,
    "start_time": "2023-11-01T01:31:33.870Z"
   },
   {
    "duration": 28,
    "start_time": "2023-11-01T01:31:33.932Z"
   },
   {
    "duration": 127,
    "start_time": "2023-11-01T01:31:33.962Z"
   },
   {
    "duration": 563,
    "start_time": "2023-11-01T01:31:34.091Z"
   },
   {
    "duration": 555,
    "start_time": "2023-11-01T01:31:34.657Z"
   },
   {
    "duration": 332,
    "start_time": "2023-11-01T01:31:35.214Z"
   },
   {
    "duration": 368,
    "start_time": "2023-11-01T01:31:35.547Z"
   },
   {
    "duration": 861,
    "start_time": "2023-11-01T01:31:35.918Z"
   },
   {
    "duration": 5,
    "start_time": "2023-11-01T01:31:36.781Z"
   },
   {
    "duration": 16,
    "start_time": "2023-11-01T01:31:36.787Z"
   },
   {
    "duration": 17,
    "start_time": "2023-11-01T01:31:36.805Z"
   },
   {
    "duration": 5,
    "start_time": "2023-11-01T01:31:36.824Z"
   },
   {
    "duration": 24,
    "start_time": "2023-11-01T01:31:36.831Z"
   },
   {
    "duration": 23,
    "start_time": "2023-11-01T01:31:36.857Z"
   },
   {
    "duration": 27,
    "start_time": "2023-11-01T01:31:36.882Z"
   },
   {
    "duration": 4,
    "start_time": "2023-11-01T01:31:36.910Z"
   },
   {
    "duration": 8,
    "start_time": "2023-11-01T01:31:36.915Z"
   },
   {
    "duration": 8,
    "start_time": "2023-11-01T01:31:36.925Z"
   },
   {
    "duration": 40,
    "start_time": "2023-11-01T01:31:36.934Z"
   },
   {
    "duration": 1344,
    "start_time": "2023-11-01T16:52:55.006Z"
   },
   {
    "duration": 279,
    "start_time": "2023-11-01T16:52:56.353Z"
   },
   {
    "duration": 4,
    "start_time": "2023-11-01T16:52:56.634Z"
   },
   {
    "duration": 337,
    "start_time": "2023-11-01T16:52:56.640Z"
   },
   {
    "duration": 424,
    "start_time": "2023-11-01T16:52:56.979Z"
   },
   {
    "duration": 415,
    "start_time": "2023-11-01T16:52:57.405Z"
   },
   {
    "duration": 22,
    "start_time": "2023-11-01T16:52:57.822Z"
   },
   {
    "duration": 12,
    "start_time": "2023-11-01T16:52:57.846Z"
   },
   {
    "duration": 5,
    "start_time": "2023-11-01T16:52:57.860Z"
   },
   {
    "duration": 20,
    "start_time": "2023-11-01T16:52:57.867Z"
   },
   {
    "duration": 16,
    "start_time": "2023-11-01T16:52:57.889Z"
   },
   {
    "duration": 22,
    "start_time": "2023-11-01T16:52:57.907Z"
   },
   {
    "duration": 10,
    "start_time": "2023-11-01T16:52:57.931Z"
   },
   {
    "duration": 18,
    "start_time": "2023-11-01T16:52:57.942Z"
   },
   {
    "duration": 11,
    "start_time": "2023-11-01T16:52:57.962Z"
   },
   {
    "duration": 151,
    "start_time": "2023-11-01T16:52:57.975Z"
   },
   {
    "duration": 17,
    "start_time": "2023-11-01T16:52:58.128Z"
   },
   {
    "duration": 114,
    "start_time": "2023-11-01T16:52:58.147Z"
   },
   {
    "duration": 0,
    "start_time": "2023-11-01T16:52:58.264Z"
   },
   {
    "duration": 0,
    "start_time": "2023-11-01T16:52:58.265Z"
   },
   {
    "duration": 0,
    "start_time": "2023-11-01T16:52:58.267Z"
   },
   {
    "duration": 0,
    "start_time": "2023-11-01T16:52:58.268Z"
   },
   {
    "duration": 0,
    "start_time": "2023-11-01T16:52:58.269Z"
   },
   {
    "duration": 0,
    "start_time": "2023-11-01T16:52:58.270Z"
   },
   {
    "duration": 0,
    "start_time": "2023-11-01T16:52:58.271Z"
   },
   {
    "duration": 0,
    "start_time": "2023-11-01T16:52:58.273Z"
   },
   {
    "duration": 0,
    "start_time": "2023-11-01T16:52:58.274Z"
   },
   {
    "duration": 0,
    "start_time": "2023-11-01T16:52:58.275Z"
   },
   {
    "duration": 0,
    "start_time": "2023-11-01T16:52:58.276Z"
   },
   {
    "duration": 0,
    "start_time": "2023-11-01T16:52:58.277Z"
   },
   {
    "duration": 0,
    "start_time": "2023-11-01T16:52:58.279Z"
   },
   {
    "duration": 0,
    "start_time": "2023-11-01T16:52:58.280Z"
   },
   {
    "duration": 0,
    "start_time": "2023-11-01T16:52:58.282Z"
   },
   {
    "duration": 0,
    "start_time": "2023-11-01T16:52:58.284Z"
   },
   {
    "duration": 0,
    "start_time": "2023-11-01T16:52:58.285Z"
   },
   {
    "duration": 0,
    "start_time": "2023-11-01T16:52:58.286Z"
   },
   {
    "duration": 0,
    "start_time": "2023-11-01T16:52:58.288Z"
   },
   {
    "duration": 0,
    "start_time": "2023-11-01T16:52:58.289Z"
   },
   {
    "duration": 0,
    "start_time": "2023-11-01T16:52:58.290Z"
   },
   {
    "duration": 0,
    "start_time": "2023-11-01T16:52:58.291Z"
   },
   {
    "duration": 0,
    "start_time": "2023-11-01T16:52:58.293Z"
   },
   {
    "duration": 0,
    "start_time": "2023-11-01T16:52:58.294Z"
   },
   {
    "duration": 0,
    "start_time": "2023-11-01T16:52:58.296Z"
   },
   {
    "duration": 0,
    "start_time": "2023-11-01T16:52:58.297Z"
   },
   {
    "duration": 0,
    "start_time": "2023-11-01T16:52:58.298Z"
   },
   {
    "duration": 104,
    "start_time": "2023-11-01T16:56:15.320Z"
   },
   {
    "duration": 103,
    "start_time": "2023-11-01T16:56:33.845Z"
   },
   {
    "duration": 143,
    "start_time": "2023-11-01T16:56:44.294Z"
   },
   {
    "duration": 119,
    "start_time": "2023-11-01T16:56:52.303Z"
   },
   {
    "duration": 5,
    "start_time": "2023-11-01T16:57:37.782Z"
   },
   {
    "duration": 139,
    "start_time": "2023-11-01T16:58:51.170Z"
   },
   {
    "duration": 93,
    "start_time": "2023-11-01T16:59:03.110Z"
   },
   {
    "duration": 100,
    "start_time": "2023-11-01T16:59:10.820Z"
   },
   {
    "duration": 108,
    "start_time": "2023-11-01T16:59:21.042Z"
   },
   {
    "duration": 4,
    "start_time": "2023-11-01T16:59:35.916Z"
   },
   {
    "duration": 116,
    "start_time": "2023-11-01T17:00:05.796Z"
   },
   {
    "duration": 121,
    "start_time": "2023-11-01T17:00:11.907Z"
   },
   {
    "duration": 122,
    "start_time": "2023-11-01T17:00:15.515Z"
   },
   {
    "duration": 120,
    "start_time": "2023-11-01T17:00:19.588Z"
   },
   {
    "duration": 117,
    "start_time": "2023-11-01T17:02:18.681Z"
   },
   {
    "duration": 107,
    "start_time": "2023-11-01T17:02:36.515Z"
   },
   {
    "duration": 5,
    "start_time": "2023-11-01T17:03:05.538Z"
   },
   {
    "duration": 1181,
    "start_time": "2023-11-01T17:03:14.207Z"
   },
   {
    "duration": 67,
    "start_time": "2023-11-01T17:03:15.390Z"
   },
   {
    "duration": 4,
    "start_time": "2023-11-01T17:03:15.459Z"
   },
   {
    "duration": 336,
    "start_time": "2023-11-01T17:03:15.464Z"
   },
   {
    "duration": 403,
    "start_time": "2023-11-01T17:03:15.802Z"
   },
   {
    "duration": 397,
    "start_time": "2023-11-01T17:03:16.206Z"
   },
   {
    "duration": 10,
    "start_time": "2023-11-01T17:03:16.604Z"
   },
   {
    "duration": 28,
    "start_time": "2023-11-01T17:03:16.616Z"
   },
   {
    "duration": 5,
    "start_time": "2023-11-01T17:03:16.646Z"
   },
   {
    "duration": 16,
    "start_time": "2023-11-01T17:03:16.653Z"
   },
   {
    "duration": 10,
    "start_time": "2023-11-01T17:03:16.671Z"
   },
   {
    "duration": 7,
    "start_time": "2023-11-01T17:03:16.682Z"
   },
   {
    "duration": 14,
    "start_time": "2023-11-01T17:03:16.690Z"
   },
   {
    "duration": 13,
    "start_time": "2023-11-01T17:03:16.706Z"
   },
   {
    "duration": 11,
    "start_time": "2023-11-01T17:03:16.720Z"
   },
   {
    "duration": 136,
    "start_time": "2023-11-01T17:03:16.733Z"
   },
   {
    "duration": 8,
    "start_time": "2023-11-01T17:03:16.870Z"
   },
   {
    "duration": 12,
    "start_time": "2023-11-01T17:03:16.880Z"
   },
   {
    "duration": 16,
    "start_time": "2023-11-01T17:03:16.894Z"
   },
   {
    "duration": 310,
    "start_time": "2023-11-01T17:03:16.912Z"
   },
   {
    "duration": 235,
    "start_time": "2023-11-01T17:03:17.223Z"
   },
   {
    "duration": 294,
    "start_time": "2023-11-01T17:03:17.460Z"
   },
   {
    "duration": 6,
    "start_time": "2023-11-01T17:03:17.756Z"
   },
   {
    "duration": 617,
    "start_time": "2023-11-01T17:03:17.764Z"
   },
   {
    "duration": 630,
    "start_time": "2023-11-01T17:03:18.383Z"
   },
   {
    "duration": 46,
    "start_time": "2023-11-01T17:03:19.015Z"
   },
   {
    "duration": 35,
    "start_time": "2023-11-01T17:03:19.063Z"
   },
   {
    "duration": 51,
    "start_time": "2023-11-01T17:03:19.101Z"
   },
   {
    "duration": 25,
    "start_time": "2023-11-01T17:03:19.154Z"
   },
   {
    "duration": 565,
    "start_time": "2023-11-01T17:03:19.180Z"
   },
   {
    "duration": 627,
    "start_time": "2023-11-01T17:03:19.747Z"
   },
   {
    "duration": 334,
    "start_time": "2023-11-01T17:03:20.376Z"
   },
   {
    "duration": 402,
    "start_time": "2023-11-01T17:03:20.712Z"
   },
   {
    "duration": 985,
    "start_time": "2023-11-01T17:03:21.116Z"
   },
   {
    "duration": 6,
    "start_time": "2023-11-01T17:03:22.103Z"
   },
   {
    "duration": 18,
    "start_time": "2023-11-01T17:03:22.111Z"
   },
   {
    "duration": 14,
    "start_time": "2023-11-01T17:03:22.131Z"
   },
   {
    "duration": 17,
    "start_time": "2023-11-01T17:03:22.146Z"
   },
   {
    "duration": 18,
    "start_time": "2023-11-01T17:03:22.165Z"
   },
   {
    "duration": 11,
    "start_time": "2023-11-01T17:03:22.184Z"
   },
   {
    "duration": 29,
    "start_time": "2023-11-01T17:03:22.197Z"
   },
   {
    "duration": 4,
    "start_time": "2023-11-01T17:03:22.227Z"
   },
   {
    "duration": 15,
    "start_time": "2023-11-01T17:03:22.232Z"
   },
   {
    "duration": 7,
    "start_time": "2023-11-01T17:03:22.248Z"
   },
   {
    "duration": 15,
    "start_time": "2023-11-01T17:03:22.256Z"
   },
   {
    "duration": 5,
    "start_time": "2023-11-01T17:06:45.775Z"
   },
   {
    "duration": 1227,
    "start_time": "2023-11-01T17:08:01.679Z"
   },
   {
    "duration": 71,
    "start_time": "2023-11-01T17:08:02.908Z"
   },
   {
    "duration": 4,
    "start_time": "2023-11-01T17:08:02.981Z"
   },
   {
    "duration": 412,
    "start_time": "2023-11-01T17:08:02.986Z"
   },
   {
    "duration": 439,
    "start_time": "2023-11-01T17:08:03.399Z"
   },
   {
    "duration": 530,
    "start_time": "2023-11-01T17:08:03.843Z"
   },
   {
    "duration": 12,
    "start_time": "2023-11-01T17:08:04.375Z"
   },
   {
    "duration": 41,
    "start_time": "2023-11-01T17:08:04.389Z"
   },
   {
    "duration": 27,
    "start_time": "2023-11-01T17:08:04.432Z"
   },
   {
    "duration": 37,
    "start_time": "2023-11-01T17:08:04.462Z"
   },
   {
    "duration": 24,
    "start_time": "2023-11-01T17:08:04.500Z"
   },
   {
    "duration": 36,
    "start_time": "2023-11-01T17:08:04.526Z"
   },
   {
    "duration": 33,
    "start_time": "2023-11-01T17:08:04.564Z"
   },
   {
    "duration": 35,
    "start_time": "2023-11-01T17:08:04.598Z"
   },
   {
    "duration": 32,
    "start_time": "2023-11-01T17:08:04.634Z"
   },
   {
    "duration": 160,
    "start_time": "2023-11-01T17:08:04.668Z"
   },
   {
    "duration": 17,
    "start_time": "2023-11-01T17:08:04.830Z"
   },
   {
    "duration": 7,
    "start_time": "2023-11-01T17:08:04.860Z"
   },
   {
    "duration": 47,
    "start_time": "2023-11-01T17:08:04.869Z"
   },
   {
    "duration": 237,
    "start_time": "2023-11-01T17:08:04.918Z"
   },
   {
    "duration": 352,
    "start_time": "2023-11-01T17:08:05.158Z"
   },
   {
    "duration": 805,
    "start_time": "2023-11-01T17:08:05.512Z"
   },
   {
    "duration": 7,
    "start_time": "2023-11-01T17:08:06.319Z"
   },
   {
    "duration": 599,
    "start_time": "2023-11-01T17:08:06.328Z"
   },
   {
    "duration": 590,
    "start_time": "2023-11-01T17:08:06.929Z"
   },
   {
    "duration": 54,
    "start_time": "2023-11-01T17:08:07.521Z"
   },
   {
    "duration": 28,
    "start_time": "2023-11-01T17:08:07.577Z"
   },
   {
    "duration": 55,
    "start_time": "2023-11-01T17:08:07.608Z"
   },
   {
    "duration": 22,
    "start_time": "2023-11-01T17:08:07.664Z"
   },
   {
    "duration": 689,
    "start_time": "2023-11-01T17:08:07.688Z"
   },
   {
    "duration": 593,
    "start_time": "2023-11-01T17:08:08.379Z"
   },
   {
    "duration": 360,
    "start_time": "2023-11-01T17:08:08.974Z"
   },
   {
    "duration": 377,
    "start_time": "2023-11-01T17:08:09.335Z"
   },
   {
    "duration": 1022,
    "start_time": "2023-11-01T17:08:09.714Z"
   },
   {
    "duration": 9,
    "start_time": "2023-11-01T17:08:10.738Z"
   },
   {
    "duration": 79,
    "start_time": "2023-11-01T17:08:10.749Z"
   },
   {
    "duration": 13,
    "start_time": "2023-11-01T17:08:10.829Z"
   },
   {
    "duration": 22,
    "start_time": "2023-11-01T17:08:10.843Z"
   },
   {
    "duration": 14,
    "start_time": "2023-11-01T17:08:10.867Z"
   },
   {
    "duration": 34,
    "start_time": "2023-11-01T17:08:10.884Z"
   },
   {
    "duration": 18,
    "start_time": "2023-11-01T17:08:10.920Z"
   },
   {
    "duration": 4,
    "start_time": "2023-11-01T17:08:10.939Z"
   },
   {
    "duration": 20,
    "start_time": "2023-11-01T17:08:10.945Z"
   },
   {
    "duration": 5,
    "start_time": "2023-11-01T17:08:10.967Z"
   },
   {
    "duration": 11,
    "start_time": "2023-11-01T17:08:10.974Z"
   },
   {
    "duration": 96,
    "start_time": "2023-11-01T17:57:29.743Z"
   },
   {
    "duration": 5,
    "start_time": "2023-11-01T17:57:45.542Z"
   },
   {
    "duration": 207,
    "start_time": "2023-11-01T17:57:49.079Z"
   },
   {
    "duration": 265,
    "start_time": "2023-11-01T17:58:51.847Z"
   },
   {
    "duration": 5,
    "start_time": "2023-11-01T17:59:23.956Z"
   },
   {
    "duration": 93,
    "start_time": "2023-11-01T17:59:24.690Z"
   },
   {
    "duration": 199,
    "start_time": "2023-11-01T17:59:26.268Z"
   },
   {
    "duration": 245,
    "start_time": "2023-11-01T17:59:28.222Z"
   },
   {
    "duration": 5,
    "start_time": "2023-11-01T18:01:16.628Z"
   },
   {
    "duration": 7,
    "start_time": "2023-11-01T18:01:17.401Z"
   },
   {
    "duration": 203,
    "start_time": "2023-11-01T18:01:19.575Z"
   },
   {
    "duration": 251,
    "start_time": "2023-11-01T18:01:21.541Z"
   },
   {
    "duration": 5,
    "start_time": "2023-11-01T18:01:33.582Z"
   },
   {
    "duration": 238,
    "start_time": "2023-11-01T18:01:35.617Z"
   },
   {
    "duration": 9,
    "start_time": "2023-11-01T18:01:47.738Z"
   },
   {
    "duration": 675,
    "start_time": "2023-11-01T18:02:17.625Z"
   },
   {
    "duration": 8,
    "start_time": "2023-11-01T18:05:59.723Z"
   },
   {
    "duration": 427,
    "start_time": "2023-11-01T18:06:12.652Z"
   },
   {
    "duration": 6,
    "start_time": "2023-11-01T18:06:49.301Z"
   },
   {
    "duration": 329,
    "start_time": "2023-11-01T18:06:50.993Z"
   },
   {
    "duration": 327,
    "start_time": "2023-11-01T18:06:55.413Z"
   },
   {
    "duration": 6,
    "start_time": "2023-11-01T18:06:57.827Z"
   },
   {
    "duration": 353,
    "start_time": "2023-11-01T18:06:59.846Z"
   },
   {
    "duration": 5,
    "start_time": "2023-11-01T18:07:14.424Z"
   },
   {
    "duration": 190,
    "start_time": "2023-11-01T18:07:15.863Z"
   },
   {
    "duration": 274,
    "start_time": "2023-11-01T18:07:19.337Z"
   },
   {
    "duration": 385,
    "start_time": "2023-11-01T18:07:24.690Z"
   },
   {
    "duration": 10,
    "start_time": "2023-11-01T18:08:25.651Z"
   },
   {
    "duration": 9,
    "start_time": "2023-11-01T18:09:03.384Z"
   },
   {
    "duration": 8,
    "start_time": "2023-11-01T18:09:07.674Z"
   },
   {
    "duration": 9,
    "start_time": "2023-11-01T18:09:17.124Z"
   },
   {
    "duration": 9,
    "start_time": "2023-11-01T18:09:38.364Z"
   },
   {
    "duration": 9,
    "start_time": "2023-11-01T18:09:43.562Z"
   },
   {
    "duration": 9,
    "start_time": "2023-11-01T18:10:11.072Z"
   },
   {
    "duration": 7,
    "start_time": "2023-11-01T18:14:55.222Z"
   },
   {
    "duration": 4,
    "start_time": "2023-11-01T18:17:28.698Z"
   },
   {
    "duration": 544,
    "start_time": "2023-11-01T18:17:31.975Z"
   },
   {
    "duration": 9,
    "start_time": "2023-11-01T18:17:54.206Z"
   },
   {
    "duration": 580,
    "start_time": "2023-11-01T18:18:01.090Z"
   },
   {
    "duration": 10,
    "start_time": "2023-11-01T18:18:14.117Z"
   },
   {
    "duration": 553,
    "start_time": "2023-11-01T18:18:47.373Z"
   },
   {
    "duration": 552,
    "start_time": "2023-11-01T18:19:12.348Z"
   },
   {
    "duration": 10,
    "start_time": "2023-11-01T18:25:26.784Z"
   },
   {
    "duration": 606,
    "start_time": "2023-11-01T18:25:48.977Z"
   },
   {
    "duration": 567,
    "start_time": "2023-11-01T18:32:30.831Z"
   },
   {
    "duration": 328,
    "start_time": "2023-11-01T19:05:56.074Z"
   },
   {
    "duration": 11,
    "start_time": "2023-11-01T19:10:13.211Z"
   },
   {
    "duration": 12,
    "start_time": "2023-11-01T19:10:26.001Z"
   },
   {
    "duration": 128,
    "start_time": "2023-11-01T19:10:43.669Z"
   },
   {
    "duration": 361,
    "start_time": "2023-11-01T19:10:47.058Z"
   },
   {
    "duration": 385,
    "start_time": "2023-11-01T19:11:20.847Z"
   },
   {
    "duration": 12,
    "start_time": "2023-11-01T19:11:33.799Z"
   },
   {
    "duration": 16,
    "start_time": "2023-11-01T19:11:56.727Z"
   },
   {
    "duration": 331,
    "start_time": "2023-11-01T19:12:12.978Z"
   },
   {
    "duration": 438,
    "start_time": "2023-11-01T19:12:22.182Z"
   },
   {
    "duration": 506,
    "start_time": "2023-11-01T19:12:31.992Z"
   },
   {
    "duration": 343,
    "start_time": "2023-11-01T19:13:37.962Z"
   },
   {
    "duration": 137,
    "start_time": "2023-11-01T19:14:39.713Z"
   },
   {
    "duration": 154,
    "start_time": "2023-11-01T19:15:01.493Z"
   },
   {
    "duration": 141,
    "start_time": "2023-11-01T19:15:10.358Z"
   },
   {
    "duration": 137,
    "start_time": "2023-11-01T19:15:14.677Z"
   },
   {
    "duration": 180,
    "start_time": "2023-11-01T19:15:49.695Z"
   },
   {
    "duration": 194,
    "start_time": "2023-11-01T19:19:42.596Z"
   },
   {
    "duration": 191,
    "start_time": "2023-11-01T19:19:57.169Z"
   },
   {
    "duration": 200,
    "start_time": "2023-11-01T19:33:41.371Z"
   },
   {
    "duration": 2,
    "start_time": "2023-11-01T19:43:44.366Z"
   },
   {
    "duration": 11,
    "start_time": "2023-11-01T19:44:12.091Z"
   },
   {
    "duration": 11,
    "start_time": "2023-11-01T19:44:23.012Z"
   },
   {
    "duration": 7,
    "start_time": "2023-11-01T19:44:33.841Z"
   },
   {
    "duration": 189,
    "start_time": "2023-11-01T19:45:54.766Z"
   },
   {
    "duration": 274,
    "start_time": "2023-11-01T19:45:58.540Z"
   },
   {
    "duration": 7,
    "start_time": "2023-11-01T19:46:32.547Z"
   },
   {
    "duration": 11,
    "start_time": "2023-11-01T19:46:54.032Z"
   },
   {
    "duration": 8,
    "start_time": "2023-11-01T19:47:04.044Z"
   },
   {
    "duration": 129,
    "start_time": "2023-11-01T19:47:56.253Z"
   },
   {
    "duration": 6,
    "start_time": "2023-11-01T19:48:04.698Z"
   },
   {
    "duration": 5,
    "start_time": "2023-11-01T19:48:09.206Z"
   },
   {
    "duration": 101,
    "start_time": "2023-11-01T19:48:27.228Z"
   },
   {
    "duration": 100,
    "start_time": "2023-11-01T19:48:30.888Z"
   },
   {
    "duration": 4,
    "start_time": "2023-11-01T19:48:37.630Z"
   },
   {
    "duration": 118,
    "start_time": "2023-11-01T19:50:23.621Z"
   },
   {
    "duration": 123,
    "start_time": "2023-11-01T19:50:38.133Z"
   },
   {
    "duration": 148,
    "start_time": "2023-11-01T19:51:46.907Z"
   },
   {
    "duration": 96,
    "start_time": "2023-11-01T19:51:54.145Z"
   },
   {
    "duration": 103,
    "start_time": "2023-11-01T19:52:00.626Z"
   },
   {
    "duration": 103,
    "start_time": "2023-11-01T19:53:14.571Z"
   },
   {
    "duration": 101,
    "start_time": "2023-11-01T19:55:50.674Z"
   },
   {
    "duration": 111,
    "start_time": "2023-11-01T19:56:05.037Z"
   },
   {
    "duration": 6,
    "start_time": "2023-11-01T19:56:22.886Z"
   },
   {
    "duration": 6,
    "start_time": "2023-11-01T19:56:37.715Z"
   },
   {
    "duration": 94,
    "start_time": "2023-11-01T19:58:48.125Z"
   },
   {
    "duration": 32,
    "start_time": "2023-11-01T19:59:04.407Z"
   },
   {
    "duration": 38,
    "start_time": "2023-11-01T20:09:51.892Z"
   },
   {
    "duration": 16,
    "start_time": "2023-11-01T20:10:07.590Z"
   },
   {
    "duration": 18,
    "start_time": "2023-11-01T20:10:40.259Z"
   },
   {
    "duration": 20,
    "start_time": "2023-11-01T20:10:48.156Z"
   },
   {
    "duration": 3,
    "start_time": "2023-11-01T20:13:24.538Z"
   },
   {
    "duration": 17,
    "start_time": "2023-11-01T20:18:36.900Z"
   },
   {
    "duration": 15,
    "start_time": "2023-11-01T20:22:24.579Z"
   },
   {
    "duration": 17,
    "start_time": "2023-11-01T20:24:05.234Z"
   },
   {
    "duration": 134,
    "start_time": "2023-11-01T20:25:27.813Z"
   },
   {
    "duration": 17,
    "start_time": "2023-11-01T20:25:32.865Z"
   },
   {
    "duration": 11,
    "start_time": "2023-11-01T20:26:04.315Z"
   },
   {
    "duration": 8,
    "start_time": "2023-11-01T20:26:51.422Z"
   },
   {
    "duration": 130,
    "start_time": "2023-11-01T20:29:02.586Z"
   },
   {
    "duration": 10,
    "start_time": "2023-11-01T20:29:05.444Z"
   },
   {
    "duration": 18,
    "start_time": "2023-11-01T20:30:05.690Z"
   },
   {
    "duration": 9,
    "start_time": "2023-11-01T20:31:08.593Z"
   },
   {
    "duration": 15,
    "start_time": "2023-11-01T20:32:11.705Z"
   },
   {
    "duration": 12,
    "start_time": "2023-11-01T20:32:23.021Z"
   },
   {
    "duration": 11,
    "start_time": "2023-11-01T20:36:29.011Z"
   },
   {
    "duration": 35,
    "start_time": "2023-11-01T20:36:51.278Z"
   },
   {
    "duration": 16,
    "start_time": "2023-11-01T20:40:02.887Z"
   },
   {
    "duration": 21,
    "start_time": "2023-11-01T20:40:36.134Z"
   },
   {
    "duration": 15,
    "start_time": "2023-11-01T20:41:07.595Z"
   },
   {
    "duration": 16,
    "start_time": "2023-11-01T20:41:26.293Z"
   },
   {
    "duration": 16,
    "start_time": "2023-11-01T20:42:07.319Z"
   },
   {
    "duration": 6,
    "start_time": "2023-11-01T20:42:58.603Z"
   },
   {
    "duration": 5,
    "start_time": "2023-11-01T20:42:59.180Z"
   },
   {
    "duration": 7,
    "start_time": "2023-11-01T20:42:59.616Z"
   },
   {
    "duration": 19,
    "start_time": "2023-11-01T20:42:59.893Z"
   },
   {
    "duration": 21,
    "start_time": "2023-11-01T20:43:01.539Z"
   },
   {
    "duration": 17,
    "start_time": "2023-11-01T20:44:42.553Z"
   },
   {
    "duration": 17,
    "start_time": "2023-11-01T20:44:47.960Z"
   },
   {
    "duration": 18,
    "start_time": "2023-11-01T20:45:07.453Z"
   },
   {
    "duration": 18,
    "start_time": "2023-11-01T20:45:11.209Z"
   },
   {
    "duration": 5,
    "start_time": "2023-11-01T20:48:28.639Z"
   },
   {
    "duration": 5,
    "start_time": "2023-11-01T20:48:35.089Z"
   },
   {
    "duration": 26,
    "start_time": "2023-11-01T20:48:40.923Z"
   },
   {
    "duration": 44,
    "start_time": "2023-11-01T20:49:00.809Z"
   },
   {
    "duration": 7,
    "start_time": "2023-11-01T20:49:12.103Z"
   },
   {
    "duration": 112,
    "start_time": "2023-11-01T20:49:21.060Z"
   },
   {
    "duration": 4,
    "start_time": "2023-11-01T20:49:25.481Z"
   },
   {
    "duration": 16,
    "start_time": "2023-11-01T20:49:38.621Z"
   },
   {
    "duration": 17,
    "start_time": "2023-11-01T20:50:29.530Z"
   },
   {
    "duration": 21,
    "start_time": "2023-11-01T20:53:31.113Z"
   },
   {
    "duration": 21,
    "start_time": "2023-11-01T20:54:05.216Z"
   },
   {
    "duration": 21,
    "start_time": "2023-11-01T20:54:19.983Z"
   },
   {
    "duration": 117,
    "start_time": "2023-11-01T20:54:29.845Z"
   },
   {
    "duration": 22,
    "start_time": "2023-11-01T20:54:35.441Z"
   },
   {
    "duration": 23,
    "start_time": "2023-11-01T20:54:58.421Z"
   },
   {
    "duration": 23,
    "start_time": "2023-11-01T20:55:16.967Z"
   },
   {
    "duration": 23,
    "start_time": "2023-11-01T20:55:19.406Z"
   },
   {
    "duration": 24,
    "start_time": "2023-11-01T20:55:20.635Z"
   },
   {
    "duration": 328,
    "start_time": "2023-11-01T20:55:42.515Z"
   },
   {
    "duration": 22,
    "start_time": "2023-11-01T20:55:47.705Z"
   },
   {
    "duration": 167,
    "start_time": "2023-11-01T20:56:30.425Z"
   },
   {
    "duration": 26,
    "start_time": "2023-11-01T20:57:11.892Z"
   },
   {
    "duration": 21,
    "start_time": "2023-11-01T21:02:12.924Z"
   },
   {
    "duration": 23,
    "start_time": "2023-11-01T21:02:38.745Z"
   },
   {
    "duration": 21,
    "start_time": "2023-11-01T21:03:06.053Z"
   },
   {
    "duration": 22,
    "start_time": "2023-11-01T21:03:33.333Z"
   },
   {
    "duration": 23,
    "start_time": "2023-11-01T21:03:44.760Z"
   },
   {
    "duration": 27,
    "start_time": "2023-11-01T21:03:48.060Z"
   },
   {
    "duration": 22,
    "start_time": "2023-11-01T21:04:01.667Z"
   },
   {
    "duration": 27,
    "start_time": "2023-11-01T21:04:14.348Z"
   },
   {
    "duration": 1305,
    "start_time": "2023-11-01T21:04:23.963Z"
   },
   {
    "duration": 70,
    "start_time": "2023-11-01T21:04:25.270Z"
   },
   {
    "duration": 6,
    "start_time": "2023-11-01T21:04:25.341Z"
   },
   {
    "duration": 416,
    "start_time": "2023-11-01T21:04:25.349Z"
   },
   {
    "duration": 458,
    "start_time": "2023-11-01T21:04:25.767Z"
   },
   {
    "duration": 461,
    "start_time": "2023-11-01T21:04:26.227Z"
   },
   {
    "duration": 12,
    "start_time": "2023-11-01T21:04:26.690Z"
   },
   {
    "duration": 34,
    "start_time": "2023-11-01T21:04:26.703Z"
   },
   {
    "duration": 15,
    "start_time": "2023-11-01T21:04:26.739Z"
   },
   {
    "duration": 20,
    "start_time": "2023-11-01T21:04:26.757Z"
   },
   {
    "duration": 52,
    "start_time": "2023-11-01T21:04:26.779Z"
   },
   {
    "duration": 20,
    "start_time": "2023-11-01T21:04:26.833Z"
   },
   {
    "duration": 34,
    "start_time": "2023-11-01T21:04:26.855Z"
   },
   {
    "duration": 25,
    "start_time": "2023-11-01T21:04:26.891Z"
   },
   {
    "duration": 30,
    "start_time": "2023-11-01T21:04:26.918Z"
   },
   {
    "duration": 149,
    "start_time": "2023-11-01T21:04:26.950Z"
   },
   {
    "duration": 8,
    "start_time": "2023-11-01T21:04:27.101Z"
   },
   {
    "duration": 23,
    "start_time": "2023-11-01T21:04:27.111Z"
   },
   {
    "duration": 36,
    "start_time": "2023-11-01T21:04:27.136Z"
   },
   {
    "duration": 288,
    "start_time": "2023-11-01T21:04:27.174Z"
   },
   {
    "duration": 368,
    "start_time": "2023-11-01T21:04:27.464Z"
   },
   {
    "duration": 341,
    "start_time": "2023-11-01T21:04:27.833Z"
   },
   {
    "duration": 10,
    "start_time": "2023-11-01T21:04:28.176Z"
   },
   {
    "duration": 670,
    "start_time": "2023-11-01T21:04:28.188Z"
   },
   {
    "duration": 599,
    "start_time": "2023-11-01T21:04:28.860Z"
   },
   {
    "duration": 328,
    "start_time": "2023-11-01T21:04:29.460Z"
   },
   {
    "duration": 0,
    "start_time": "2023-11-01T21:04:29.790Z"
   },
   {
    "duration": 0,
    "start_time": "2023-11-01T21:04:29.792Z"
   },
   {
    "duration": 0,
    "start_time": "2023-11-01T21:04:29.793Z"
   },
   {
    "duration": 0,
    "start_time": "2023-11-01T21:04:29.795Z"
   },
   {
    "duration": 0,
    "start_time": "2023-11-01T21:04:29.796Z"
   },
   {
    "duration": 0,
    "start_time": "2023-11-01T21:04:29.798Z"
   },
   {
    "duration": 0,
    "start_time": "2023-11-01T21:04:29.799Z"
   },
   {
    "duration": 0,
    "start_time": "2023-11-01T21:04:29.800Z"
   },
   {
    "duration": 0,
    "start_time": "2023-11-01T21:04:29.801Z"
   },
   {
    "duration": 0,
    "start_time": "2023-11-01T21:04:29.803Z"
   },
   {
    "duration": 0,
    "start_time": "2023-11-01T21:04:29.803Z"
   },
   {
    "duration": 0,
    "start_time": "2023-11-01T21:04:29.805Z"
   },
   {
    "duration": 0,
    "start_time": "2023-11-01T21:04:29.806Z"
   },
   {
    "duration": 0,
    "start_time": "2023-11-01T21:04:29.807Z"
   },
   {
    "duration": 0,
    "start_time": "2023-11-01T21:04:29.844Z"
   },
   {
    "duration": 0,
    "start_time": "2023-11-01T21:04:29.846Z"
   },
   {
    "duration": 0,
    "start_time": "2023-11-01T21:04:29.847Z"
   },
   {
    "duration": 0,
    "start_time": "2023-11-01T21:04:29.848Z"
   },
   {
    "duration": 0,
    "start_time": "2023-11-01T21:04:29.849Z"
   },
   {
    "duration": 0,
    "start_time": "2023-11-01T21:04:29.850Z"
   },
   {
    "duration": 0,
    "start_time": "2023-11-01T21:04:29.851Z"
   },
   {
    "duration": 0,
    "start_time": "2023-11-01T21:04:29.852Z"
   },
   {
    "duration": 0,
    "start_time": "2023-11-01T21:04:29.853Z"
   },
   {
    "duration": 0,
    "start_time": "2023-11-01T21:04:29.854Z"
   },
   {
    "duration": 188,
    "start_time": "2023-11-01T21:05:13.381Z"
   },
   {
    "duration": 1163,
    "start_time": "2023-11-01T21:05:22.045Z"
   },
   {
    "duration": 68,
    "start_time": "2023-11-01T21:05:23.210Z"
   },
   {
    "duration": 4,
    "start_time": "2023-11-01T21:05:23.280Z"
   },
   {
    "duration": 317,
    "start_time": "2023-11-01T21:05:23.286Z"
   },
   {
    "duration": 434,
    "start_time": "2023-11-01T21:05:23.604Z"
   },
   {
    "duration": 466,
    "start_time": "2023-11-01T21:05:24.039Z"
   },
   {
    "duration": 9,
    "start_time": "2023-11-01T21:05:24.507Z"
   },
   {
    "duration": 27,
    "start_time": "2023-11-01T21:05:24.518Z"
   },
   {
    "duration": 5,
    "start_time": "2023-11-01T21:05:24.546Z"
   },
   {
    "duration": 17,
    "start_time": "2023-11-01T21:05:24.553Z"
   },
   {
    "duration": 8,
    "start_time": "2023-11-01T21:05:24.572Z"
   },
   {
    "duration": 7,
    "start_time": "2023-11-01T21:05:24.581Z"
   },
   {
    "duration": 12,
    "start_time": "2023-11-01T21:05:24.589Z"
   },
   {
    "duration": 7,
    "start_time": "2023-11-01T21:05:24.603Z"
   },
   {
    "duration": 15,
    "start_time": "2023-11-01T21:05:24.612Z"
   },
   {
    "duration": 131,
    "start_time": "2023-11-01T21:05:24.629Z"
   },
   {
    "duration": 7,
    "start_time": "2023-11-01T21:05:24.762Z"
   },
   {
    "duration": 11,
    "start_time": "2023-11-01T21:05:24.771Z"
   },
   {
    "duration": 12,
    "start_time": "2023-11-01T21:05:24.784Z"
   },
   {
    "duration": 210,
    "start_time": "2023-11-01T21:05:24.798Z"
   },
   {
    "duration": 337,
    "start_time": "2023-11-01T21:05:25.009Z"
   },
   {
    "duration": 284,
    "start_time": "2023-11-01T21:05:25.347Z"
   },
   {
    "duration": 16,
    "start_time": "2023-11-01T21:05:25.633Z"
   },
   {
    "duration": 567,
    "start_time": "2023-11-01T21:05:25.651Z"
   },
   {
    "duration": 576,
    "start_time": "2023-11-01T21:05:26.220Z"
   },
   {
    "duration": 212,
    "start_time": "2023-11-01T21:05:26.798Z"
   },
   {
    "duration": 7,
    "start_time": "2023-11-01T21:05:27.011Z"
   },
   {
    "duration": 4,
    "start_time": "2023-11-01T21:05:27.022Z"
   },
   {
    "duration": 7,
    "start_time": "2023-11-01T21:05:27.045Z"
   },
   {
    "duration": 20,
    "start_time": "2023-11-01T21:05:27.054Z"
   },
   {
    "duration": 20,
    "start_time": "2023-11-01T21:05:27.075Z"
   },
   {
    "duration": 52,
    "start_time": "2023-11-01T21:05:27.096Z"
   },
   {
    "duration": 20,
    "start_time": "2023-11-01T21:05:27.150Z"
   },
   {
    "duration": 28,
    "start_time": "2023-11-01T21:05:27.172Z"
   },
   {
    "duration": 56,
    "start_time": "2023-11-01T21:05:27.202Z"
   },
   {
    "duration": 26,
    "start_time": "2023-11-01T21:05:27.260Z"
   },
   {
    "duration": 23,
    "start_time": "2023-11-01T21:05:27.288Z"
   },
   {
    "duration": 125,
    "start_time": "2023-11-01T21:05:27.313Z"
   },
   {
    "duration": 0,
    "start_time": "2023-11-01T21:05:27.439Z"
   },
   {
    "duration": 0,
    "start_time": "2023-11-01T21:05:27.444Z"
   },
   {
    "duration": 0,
    "start_time": "2023-11-01T21:05:27.445Z"
   },
   {
    "duration": 0,
    "start_time": "2023-11-01T21:05:27.446Z"
   },
   {
    "duration": 0,
    "start_time": "2023-11-01T21:05:27.447Z"
   },
   {
    "duration": 0,
    "start_time": "2023-11-01T21:05:27.448Z"
   },
   {
    "duration": 0,
    "start_time": "2023-11-01T21:05:27.449Z"
   },
   {
    "duration": 0,
    "start_time": "2023-11-01T21:05:27.450Z"
   },
   {
    "duration": 0,
    "start_time": "2023-11-01T21:05:27.451Z"
   },
   {
    "duration": 0,
    "start_time": "2023-11-01T21:05:27.451Z"
   },
   {
    "duration": 1,
    "start_time": "2023-11-01T21:05:27.452Z"
   },
   {
    "duration": 0,
    "start_time": "2023-11-01T21:05:27.454Z"
   },
   {
    "duration": 19,
    "start_time": "2023-11-01T21:06:32.806Z"
   },
   {
    "duration": 19,
    "start_time": "2023-11-01T21:07:16.306Z"
   },
   {
    "duration": 21,
    "start_time": "2023-11-01T21:07:32.071Z"
   },
   {
    "duration": 27,
    "start_time": "2023-11-01T21:07:44.488Z"
   },
   {
    "duration": 18,
    "start_time": "2023-11-01T21:07:49.832Z"
   },
   {
    "duration": 19,
    "start_time": "2023-11-01T21:07:55.591Z"
   },
   {
    "duration": 20,
    "start_time": "2023-11-01T21:08:26.867Z"
   },
   {
    "duration": 26,
    "start_time": "2023-11-01T21:08:34.244Z"
   },
   {
    "duration": 23,
    "start_time": "2023-11-01T21:11:36.422Z"
   },
   {
    "duration": 25,
    "start_time": "2023-11-01T21:11:44.184Z"
   },
   {
    "duration": 24,
    "start_time": "2023-11-01T21:15:04.232Z"
   },
   {
    "duration": 21,
    "start_time": "2023-11-01T21:15:08.418Z"
   },
   {
    "duration": 25,
    "start_time": "2023-11-01T21:18:31.907Z"
   },
   {
    "duration": 18,
    "start_time": "2023-11-01T21:19:27.614Z"
   },
   {
    "duration": 18,
    "start_time": "2023-11-01T21:19:31.675Z"
   },
   {
    "duration": 22,
    "start_time": "2023-11-01T21:20:25.871Z"
   },
   {
    "duration": 25,
    "start_time": "2023-11-01T21:20:43.840Z"
   },
   {
    "duration": 26,
    "start_time": "2023-11-01T21:21:54.362Z"
   },
   {
    "duration": 24,
    "start_time": "2023-11-01T21:22:02.290Z"
   },
   {
    "duration": 24,
    "start_time": "2023-11-01T21:22:12.692Z"
   },
   {
    "duration": 26,
    "start_time": "2023-11-01T21:22:25.194Z"
   },
   {
    "duration": 24,
    "start_time": "2023-11-01T21:22:28.690Z"
   },
   {
    "duration": 25,
    "start_time": "2023-11-01T21:22:32.349Z"
   },
   {
    "duration": 27,
    "start_time": "2023-11-01T21:23:02.716Z"
   },
   {
    "duration": 24,
    "start_time": "2023-11-01T21:23:07.029Z"
   },
   {
    "duration": 25,
    "start_time": "2023-11-01T21:23:18.393Z"
   },
   {
    "duration": 29,
    "start_time": "2023-11-01T21:23:22.187Z"
   },
   {
    "duration": 23,
    "start_time": "2023-11-01T21:23:25.787Z"
   },
   {
    "duration": 36,
    "start_time": "2023-11-01T21:23:33.550Z"
   },
   {
    "duration": 22,
    "start_time": "2023-11-01T21:24:58.482Z"
   },
   {
    "duration": 24,
    "start_time": "2023-11-01T21:25:10.898Z"
   },
   {
    "duration": 23,
    "start_time": "2023-11-01T21:25:17.237Z"
   },
   {
    "duration": 31,
    "start_time": "2023-11-01T21:27:23.027Z"
   },
   {
    "duration": 9,
    "start_time": "2023-11-01T21:29:59.425Z"
   },
   {
    "duration": 10,
    "start_time": "2023-11-01T21:30:29.402Z"
   },
   {
    "duration": 9,
    "start_time": "2023-11-01T21:30:42.558Z"
   },
   {
    "duration": 9,
    "start_time": "2023-11-01T21:30:48.978Z"
   },
   {
    "duration": 1200,
    "start_time": "2023-11-01T21:31:19.230Z"
   },
   {
    "duration": 68,
    "start_time": "2023-11-01T21:31:20.432Z"
   },
   {
    "duration": 4,
    "start_time": "2023-11-01T21:31:20.502Z"
   },
   {
    "duration": 370,
    "start_time": "2023-11-01T21:31:20.509Z"
   },
   {
    "duration": 424,
    "start_time": "2023-11-01T21:31:20.880Z"
   },
   {
    "duration": 414,
    "start_time": "2023-11-01T21:31:21.306Z"
   },
   {
    "duration": 26,
    "start_time": "2023-11-01T21:31:21.722Z"
   },
   {
    "duration": 14,
    "start_time": "2023-11-01T21:31:21.750Z"
   },
   {
    "duration": 7,
    "start_time": "2023-11-01T21:31:21.766Z"
   },
   {
    "duration": 23,
    "start_time": "2023-11-01T21:31:21.777Z"
   },
   {
    "duration": 9,
    "start_time": "2023-11-01T21:31:21.802Z"
   },
   {
    "duration": 26,
    "start_time": "2023-11-01T21:31:21.813Z"
   },
   {
    "duration": 6,
    "start_time": "2023-11-01T21:31:21.841Z"
   },
   {
    "duration": 8,
    "start_time": "2023-11-01T21:31:21.849Z"
   },
   {
    "duration": 9,
    "start_time": "2023-11-01T21:31:21.859Z"
   },
   {
    "duration": 152,
    "start_time": "2023-11-01T21:31:21.870Z"
   },
   {
    "duration": 6,
    "start_time": "2023-11-01T21:31:22.024Z"
   },
   {
    "duration": 14,
    "start_time": "2023-11-01T21:31:22.032Z"
   },
   {
    "duration": 52,
    "start_time": "2023-11-01T21:31:22.048Z"
   },
   {
    "duration": 223,
    "start_time": "2023-11-01T21:31:22.102Z"
   },
   {
    "duration": 376,
    "start_time": "2023-11-01T21:31:22.327Z"
   },
   {
    "duration": 361,
    "start_time": "2023-11-01T21:31:22.705Z"
   },
   {
    "duration": 12,
    "start_time": "2023-11-01T21:31:23.068Z"
   },
   {
    "duration": 649,
    "start_time": "2023-11-01T21:31:23.082Z"
   },
   {
    "duration": 712,
    "start_time": "2023-11-01T21:31:23.745Z"
   },
   {
    "duration": 212,
    "start_time": "2023-11-01T21:31:24.458Z"
   },
   {
    "duration": 7,
    "start_time": "2023-11-01T21:31:24.672Z"
   },
   {
    "duration": 35,
    "start_time": "2023-11-01T21:31:24.682Z"
   },
   {
    "duration": 18,
    "start_time": "2023-11-01T21:31:24.719Z"
   },
   {
    "duration": 21,
    "start_time": "2023-11-01T21:31:24.739Z"
   },
   {
    "duration": 20,
    "start_time": "2023-11-01T21:31:24.761Z"
   },
   {
    "duration": 18,
    "start_time": "2023-11-01T21:31:24.783Z"
   },
   {
    "duration": 9,
    "start_time": "2023-11-01T21:31:24.802Z"
   },
   {
    "duration": 67,
    "start_time": "2023-11-01T21:31:24.812Z"
   },
   {
    "duration": 30,
    "start_time": "2023-11-01T21:31:24.881Z"
   },
   {
    "duration": 47,
    "start_time": "2023-11-01T21:31:24.913Z"
   },
   {
    "duration": 25,
    "start_time": "2023-11-01T21:31:24.961Z"
   },
   {
    "duration": 146,
    "start_time": "2023-11-01T21:31:24.987Z"
   },
   {
    "duration": 0,
    "start_time": "2023-11-01T21:31:25.135Z"
   },
   {
    "duration": 0,
    "start_time": "2023-11-01T21:31:25.136Z"
   },
   {
    "duration": 0,
    "start_time": "2023-11-01T21:31:25.137Z"
   },
   {
    "duration": 0,
    "start_time": "2023-11-01T21:31:25.139Z"
   },
   {
    "duration": 0,
    "start_time": "2023-11-01T21:31:25.140Z"
   },
   {
    "duration": 0,
    "start_time": "2023-11-01T21:31:25.144Z"
   },
   {
    "duration": 0,
    "start_time": "2023-11-01T21:31:25.145Z"
   },
   {
    "duration": 0,
    "start_time": "2023-11-01T21:31:25.146Z"
   },
   {
    "duration": 0,
    "start_time": "2023-11-01T21:31:25.147Z"
   },
   {
    "duration": 0,
    "start_time": "2023-11-01T21:31:25.148Z"
   },
   {
    "duration": 0,
    "start_time": "2023-11-01T21:31:25.149Z"
   },
   {
    "duration": 0,
    "start_time": "2023-11-01T21:31:25.150Z"
   },
   {
    "duration": 345,
    "start_time": "2023-11-01T21:32:07.601Z"
   },
   {
    "duration": 19,
    "start_time": "2023-11-01T21:32:37.645Z"
   },
   {
    "duration": 19,
    "start_time": "2023-11-01T21:32:44.866Z"
   },
   {
    "duration": 19,
    "start_time": "2023-11-01T21:32:49.967Z"
   },
   {
    "duration": 20,
    "start_time": "2023-11-01T21:33:03.392Z"
   },
   {
    "duration": 8,
    "start_time": "2023-11-01T21:33:14.718Z"
   },
   {
    "duration": 18,
    "start_time": "2023-11-01T21:33:58.254Z"
   },
   {
    "duration": 20,
    "start_time": "2023-11-01T21:34:08.396Z"
   },
   {
    "duration": 10,
    "start_time": "2023-11-01T21:34:19.420Z"
   },
   {
    "duration": 9,
    "start_time": "2023-11-01T21:34:45.979Z"
   },
   {
    "duration": 9,
    "start_time": "2023-11-01T21:34:57.137Z"
   },
   {
    "duration": 9,
    "start_time": "2023-11-01T21:35:10.068Z"
   },
   {
    "duration": 9,
    "start_time": "2023-11-01T21:35:20.905Z"
   },
   {
    "duration": 9,
    "start_time": "2023-11-01T21:35:25.377Z"
   },
   {
    "duration": 9,
    "start_time": "2023-11-01T21:35:28.811Z"
   },
   {
    "duration": 8,
    "start_time": "2023-11-01T21:35:31.780Z"
   },
   {
    "duration": 105,
    "start_time": "2023-11-01T21:36:06.970Z"
   },
   {
    "duration": 8,
    "start_time": "2023-11-01T21:36:27.235Z"
   },
   {
    "duration": 10,
    "start_time": "2023-11-01T21:36:38.772Z"
   },
   {
    "duration": 9,
    "start_time": "2023-11-01T21:37:28.503Z"
   },
   {
    "duration": 9,
    "start_time": "2023-11-01T21:37:39.528Z"
   },
   {
    "duration": 10,
    "start_time": "2023-11-01T21:37:53.433Z"
   },
   {
    "duration": 9,
    "start_time": "2023-11-01T21:38:00.993Z"
   },
   {
    "duration": 9,
    "start_time": "2023-11-01T21:38:16.615Z"
   },
   {
    "duration": 15,
    "start_time": "2023-11-01T21:38:51.174Z"
   },
   {
    "duration": 15,
    "start_time": "2023-11-01T21:38:58.443Z"
   },
   {
    "duration": 10,
    "start_time": "2023-11-01T21:39:26.688Z"
   },
   {
    "duration": 880,
    "start_time": "2023-11-01T21:40:36.116Z"
   },
   {
    "duration": 10,
    "start_time": "2023-11-01T21:41:35.290Z"
   },
   {
    "duration": 9,
    "start_time": "2023-11-01T21:43:26.351Z"
   },
   {
    "duration": 9,
    "start_time": "2023-11-01T21:43:56.436Z"
   },
   {
    "duration": 10,
    "start_time": "2023-11-01T21:44:43.773Z"
   },
   {
    "duration": 10,
    "start_time": "2023-11-01T21:53:35.057Z"
   },
   {
    "duration": 19,
    "start_time": "2023-11-01T21:54:04.787Z"
   },
   {
    "duration": 32,
    "start_time": "2023-11-01T22:00:32.365Z"
   },
   {
    "duration": 29,
    "start_time": "2023-11-01T22:00:42.214Z"
   },
   {
    "duration": 31,
    "start_time": "2023-11-01T22:00:49.374Z"
   },
   {
    "duration": 18,
    "start_time": "2023-11-01T22:01:00.849Z"
   },
   {
    "duration": 28,
    "start_time": "2023-11-01T22:01:06.139Z"
   },
   {
    "duration": 31,
    "start_time": "2023-11-01T22:01:33.729Z"
   },
   {
    "duration": 9,
    "start_time": "2023-11-01T22:03:37.996Z"
   },
   {
    "duration": 4,
    "start_time": "2023-11-01T22:03:57.243Z"
   },
   {
    "duration": 5,
    "start_time": "2023-11-01T22:04:07.509Z"
   },
   {
    "duration": 5,
    "start_time": "2023-11-01T22:04:40.691Z"
   },
   {
    "duration": 5,
    "start_time": "2023-11-01T22:06:09.770Z"
   },
   {
    "duration": 29,
    "start_time": "2023-11-01T22:07:02.605Z"
   },
   {
    "duration": 5,
    "start_time": "2023-11-01T22:10:35.316Z"
   },
   {
    "duration": 5,
    "start_time": "2023-11-01T22:11:09.253Z"
   },
   {
    "duration": 10,
    "start_time": "2023-11-01T22:14:25.415Z"
   },
   {
    "duration": 9,
    "start_time": "2023-11-01T22:14:34.384Z"
   },
   {
    "duration": 11,
    "start_time": "2023-11-01T22:15:34.970Z"
   },
   {
    "duration": 7,
    "start_time": "2023-11-01T22:15:50.218Z"
   },
   {
    "duration": 1077,
    "start_time": "2023-11-01T22:20:34.997Z"
   },
   {
    "duration": 68,
    "start_time": "2023-11-01T22:20:36.076Z"
   },
   {
    "duration": 4,
    "start_time": "2023-11-01T22:20:36.145Z"
   },
   {
    "duration": 332,
    "start_time": "2023-11-01T22:20:36.151Z"
   },
   {
    "duration": 393,
    "start_time": "2023-11-01T22:20:36.485Z"
   },
   {
    "duration": 406,
    "start_time": "2023-11-01T22:20:36.879Z"
   },
   {
    "duration": 10,
    "start_time": "2023-11-01T22:20:37.287Z"
   },
   {
    "duration": 25,
    "start_time": "2023-11-01T22:20:37.298Z"
   },
   {
    "duration": 22,
    "start_time": "2023-11-01T22:20:37.324Z"
   },
   {
    "duration": 18,
    "start_time": "2023-11-01T22:20:37.348Z"
   },
   {
    "duration": 25,
    "start_time": "2023-11-01T22:20:37.368Z"
   },
   {
    "duration": 22,
    "start_time": "2023-11-01T22:20:37.394Z"
   },
   {
    "duration": 24,
    "start_time": "2023-11-01T22:20:37.417Z"
   },
   {
    "duration": 17,
    "start_time": "2023-11-01T22:20:37.442Z"
   },
   {
    "duration": 44,
    "start_time": "2023-11-01T22:20:37.460Z"
   },
   {
    "duration": 146,
    "start_time": "2023-11-01T22:20:37.505Z"
   },
   {
    "duration": 6,
    "start_time": "2023-11-01T22:20:37.652Z"
   },
   {
    "duration": 15,
    "start_time": "2023-11-01T22:20:37.660Z"
   },
   {
    "duration": 63,
    "start_time": "2023-11-01T22:20:37.677Z"
   },
   {
    "duration": 226,
    "start_time": "2023-11-01T22:20:37.742Z"
   },
   {
    "duration": 333,
    "start_time": "2023-11-01T22:20:37.971Z"
   },
   {
    "duration": 301,
    "start_time": "2023-11-01T22:20:38.306Z"
   },
   {
    "duration": 9,
    "start_time": "2023-11-01T22:20:38.609Z"
   },
   {
    "duration": 684,
    "start_time": "2023-11-01T22:20:38.619Z"
   },
   {
    "duration": 589,
    "start_time": "2023-11-01T22:20:39.305Z"
   },
   {
    "duration": 197,
    "start_time": "2023-11-01T22:20:39.895Z"
   },
   {
    "duration": 6,
    "start_time": "2023-11-01T22:20:40.094Z"
   },
   {
    "duration": 28,
    "start_time": "2023-11-01T22:20:40.103Z"
   },
   {
    "duration": 59,
    "start_time": "2023-11-01T22:20:40.133Z"
   },
   {
    "duration": 84,
    "start_time": "2023-11-01T22:20:40.193Z"
   },
   {
    "duration": 54,
    "start_time": "2023-11-01T22:20:40.279Z"
   },
   {
    "duration": 47,
    "start_time": "2023-11-01T22:20:40.335Z"
   },
   {
    "duration": 18,
    "start_time": "2023-11-01T22:20:40.383Z"
   },
   {
    "duration": 19,
    "start_time": "2023-11-01T22:20:40.403Z"
   },
   {
    "duration": 56,
    "start_time": "2023-11-01T22:20:40.424Z"
   },
   {
    "duration": 26,
    "start_time": "2023-11-01T22:20:40.482Z"
   },
   {
    "duration": 113,
    "start_time": "2023-11-01T22:20:40.510Z"
   },
   {
    "duration": 0,
    "start_time": "2023-11-01T22:20:40.625Z"
   },
   {
    "duration": 0,
    "start_time": "2023-11-01T22:20:40.627Z"
   },
   {
    "duration": 0,
    "start_time": "2023-11-01T22:20:40.628Z"
   },
   {
    "duration": 0,
    "start_time": "2023-11-01T22:20:40.629Z"
   },
   {
    "duration": 1,
    "start_time": "2023-11-01T22:20:40.643Z"
   },
   {
    "duration": 0,
    "start_time": "2023-11-01T22:20:40.645Z"
   },
   {
    "duration": 0,
    "start_time": "2023-11-01T22:20:40.646Z"
   },
   {
    "duration": 0,
    "start_time": "2023-11-01T22:20:40.647Z"
   },
   {
    "duration": 0,
    "start_time": "2023-11-01T22:20:40.648Z"
   },
   {
    "duration": 0,
    "start_time": "2023-11-01T22:20:40.650Z"
   },
   {
    "duration": 0,
    "start_time": "2023-11-01T22:20:40.650Z"
   },
   {
    "duration": 0,
    "start_time": "2023-11-01T22:20:40.651Z"
   },
   {
    "duration": 1188,
    "start_time": "2023-11-01T22:31:55.252Z"
   },
   {
    "duration": 68,
    "start_time": "2023-11-01T22:31:56.444Z"
   },
   {
    "duration": 4,
    "start_time": "2023-11-01T22:31:56.513Z"
   },
   {
    "duration": 325,
    "start_time": "2023-11-01T22:31:56.519Z"
   },
   {
    "duration": 433,
    "start_time": "2023-11-01T22:31:56.845Z"
   },
   {
    "duration": 400,
    "start_time": "2023-11-01T22:31:57.280Z"
   },
   {
    "duration": 10,
    "start_time": "2023-11-01T22:31:57.682Z"
   },
   {
    "duration": 11,
    "start_time": "2023-11-01T22:31:57.693Z"
   },
   {
    "duration": 6,
    "start_time": "2023-11-01T22:31:57.705Z"
   },
   {
    "duration": 4,
    "start_time": "2023-11-01T22:31:57.714Z"
   },
   {
    "duration": 28,
    "start_time": "2023-11-01T22:31:57.719Z"
   },
   {
    "duration": 25,
    "start_time": "2023-11-01T22:31:57.749Z"
   },
   {
    "duration": 7,
    "start_time": "2023-11-01T22:31:57.776Z"
   },
   {
    "duration": 11,
    "start_time": "2023-11-01T22:31:57.785Z"
   },
   {
    "duration": 11,
    "start_time": "2023-11-01T22:31:57.797Z"
   },
   {
    "duration": 125,
    "start_time": "2023-11-01T22:31:57.809Z"
   },
   {
    "duration": 13,
    "start_time": "2023-11-01T22:31:57.935Z"
   },
   {
    "duration": 17,
    "start_time": "2023-11-01T22:31:57.950Z"
   },
   {
    "duration": 9,
    "start_time": "2023-11-01T22:31:57.969Z"
   },
   {
    "duration": 195,
    "start_time": "2023-11-01T22:31:57.980Z"
   },
   {
    "duration": 329,
    "start_time": "2023-11-01T22:31:58.176Z"
   },
   {
    "duration": 298,
    "start_time": "2023-11-01T22:31:58.507Z"
   },
   {
    "duration": 10,
    "start_time": "2023-11-01T22:31:58.806Z"
   },
   {
    "duration": 676,
    "start_time": "2023-11-01T22:31:58.818Z"
   },
   {
    "duration": 599,
    "start_time": "2023-11-01T22:31:59.496Z"
   },
   {
    "duration": 207,
    "start_time": "2023-11-01T22:32:00.097Z"
   },
   {
    "duration": 6,
    "start_time": "2023-11-01T22:32:00.306Z"
   },
   {
    "duration": 33,
    "start_time": "2023-11-01T22:32:00.316Z"
   },
   {
    "duration": 33,
    "start_time": "2023-11-01T22:32:00.351Z"
   },
   {
    "duration": 54,
    "start_time": "2023-11-01T22:32:00.386Z"
   },
   {
    "duration": 36,
    "start_time": "2023-11-01T22:32:00.442Z"
   },
   {
    "duration": 78,
    "start_time": "2023-11-01T22:32:00.479Z"
   },
   {
    "duration": 33,
    "start_time": "2023-11-01T22:32:00.559Z"
   },
   {
    "duration": 46,
    "start_time": "2023-11-01T22:32:00.594Z"
   },
   {
    "duration": 72,
    "start_time": "2023-11-01T22:32:00.642Z"
   },
   {
    "duration": 46,
    "start_time": "2023-11-01T22:32:00.717Z"
   },
   {
    "duration": 836,
    "start_time": "2023-11-01T22:33:41.454Z"
   },
   {
    "duration": 4,
    "start_time": "2023-11-01T22:33:42.291Z"
   },
   {
    "duration": 12,
    "start_time": "2023-11-01T22:33:42.297Z"
   },
   {
    "duration": 5,
    "start_time": "2023-11-01T22:33:42.311Z"
   },
   {
    "duration": 12,
    "start_time": "2023-11-01T22:33:42.317Z"
   },
   {
    "duration": 21,
    "start_time": "2023-11-01T22:33:42.330Z"
   },
   {
    "duration": 9,
    "start_time": "2023-11-01T22:33:42.353Z"
   },
   {
    "duration": 30,
    "start_time": "2023-11-01T22:33:42.363Z"
   },
   {
    "duration": 3,
    "start_time": "2023-11-01T22:33:42.395Z"
   },
   {
    "duration": 5,
    "start_time": "2023-11-01T22:33:42.400Z"
   },
   {
    "duration": 5,
    "start_time": "2023-11-01T22:33:42.406Z"
   },
   {
    "duration": 32,
    "start_time": "2023-11-01T22:33:42.413Z"
   },
   {
    "duration": 0,
    "start_time": "2023-11-01T22:37:17.733Z"
   },
   {
    "duration": 1205,
    "start_time": "2023-11-01T22:37:33.992Z"
   },
   {
    "duration": 69,
    "start_time": "2023-11-01T22:37:35.199Z"
   },
   {
    "duration": 4,
    "start_time": "2023-11-01T22:37:35.269Z"
   },
   {
    "duration": 343,
    "start_time": "2023-11-01T22:37:35.274Z"
   },
   {
    "duration": 391,
    "start_time": "2023-11-01T22:37:35.620Z"
   },
   {
    "duration": 422,
    "start_time": "2023-11-01T22:37:36.013Z"
   },
   {
    "duration": 15,
    "start_time": "2023-11-01T22:37:36.436Z"
   },
   {
    "duration": 37,
    "start_time": "2023-11-01T22:37:36.453Z"
   },
   {
    "duration": 5,
    "start_time": "2023-11-01T22:37:36.491Z"
   },
   {
    "duration": 8,
    "start_time": "2023-11-01T22:37:36.497Z"
   },
   {
    "duration": 21,
    "start_time": "2023-11-01T22:37:36.506Z"
   },
   {
    "duration": 12,
    "start_time": "2023-11-01T22:37:36.528Z"
   },
   {
    "duration": 6,
    "start_time": "2023-11-01T22:37:36.542Z"
   },
   {
    "duration": 16,
    "start_time": "2023-11-01T22:37:36.550Z"
   },
   {
    "duration": 16,
    "start_time": "2023-11-01T22:37:36.567Z"
   },
   {
    "duration": 120,
    "start_time": "2023-11-01T22:37:36.584Z"
   },
   {
    "duration": 7,
    "start_time": "2023-11-01T22:37:36.705Z"
   },
   {
    "duration": 5,
    "start_time": "2023-11-01T22:37:36.713Z"
   },
   {
    "duration": 8,
    "start_time": "2023-11-01T22:37:36.719Z"
   },
   {
    "duration": 205,
    "start_time": "2023-11-01T22:37:36.745Z"
   },
   {
    "duration": 335,
    "start_time": "2023-11-01T22:37:36.952Z"
   },
   {
    "duration": 295,
    "start_time": "2023-11-01T22:37:37.288Z"
   },
   {
    "duration": 9,
    "start_time": "2023-11-01T22:37:37.585Z"
   },
   {
    "duration": 601,
    "start_time": "2023-11-01T22:37:37.595Z"
   },
   {
    "duration": 604,
    "start_time": "2023-11-01T22:37:38.198Z"
   },
   {
    "duration": 209,
    "start_time": "2023-11-01T22:37:38.804Z"
   },
   {
    "duration": 6,
    "start_time": "2023-11-01T22:37:39.014Z"
   },
   {
    "duration": 29,
    "start_time": "2023-11-01T22:37:39.022Z"
   },
   {
    "duration": 7,
    "start_time": "2023-11-01T22:37:39.053Z"
   },
   {
    "duration": 24,
    "start_time": "2023-11-01T22:37:39.062Z"
   },
   {
    "duration": 28,
    "start_time": "2023-11-01T22:37:39.088Z"
   },
   {
    "duration": 48,
    "start_time": "2023-11-01T22:37:39.118Z"
   },
   {
    "duration": 69,
    "start_time": "2023-11-01T22:37:39.167Z"
   },
   {
    "duration": 11,
    "start_time": "2023-11-01T22:37:39.238Z"
   },
   {
    "duration": 23,
    "start_time": "2023-11-01T22:37:39.251Z"
   },
   {
    "duration": 22,
    "start_time": "2023-11-01T22:37:39.275Z"
   },
   {
    "duration": 119,
    "start_time": "2023-11-01T22:37:39.299Z"
   },
   {
    "duration": 0,
    "start_time": "2023-11-01T22:37:39.420Z"
   },
   {
    "duration": 0,
    "start_time": "2023-11-01T22:37:39.421Z"
   },
   {
    "duration": 0,
    "start_time": "2023-11-01T22:37:39.422Z"
   },
   {
    "duration": 0,
    "start_time": "2023-11-01T22:37:39.423Z"
   },
   {
    "duration": 0,
    "start_time": "2023-11-01T22:37:39.424Z"
   },
   {
    "duration": 0,
    "start_time": "2023-11-01T22:37:39.426Z"
   },
   {
    "duration": 0,
    "start_time": "2023-11-01T22:37:39.427Z"
   },
   {
    "duration": 0,
    "start_time": "2023-11-01T22:37:39.444Z"
   },
   {
    "duration": 0,
    "start_time": "2023-11-01T22:37:39.446Z"
   },
   {
    "duration": 0,
    "start_time": "2023-11-01T22:37:39.447Z"
   },
   {
    "duration": 0,
    "start_time": "2023-11-01T22:37:39.448Z"
   },
   {
    "duration": 0,
    "start_time": "2023-11-01T22:37:39.449Z"
   },
   {
    "duration": 3,
    "start_time": "2023-11-01T22:38:44.346Z"
   },
   {
    "duration": 12,
    "start_time": "2023-11-01T22:38:44.923Z"
   },
   {
    "duration": 132,
    "start_time": "2023-11-01T22:39:00.713Z"
   },
   {
    "duration": 106,
    "start_time": "2023-11-01T22:39:11.893Z"
   },
   {
    "duration": 113,
    "start_time": "2023-11-01T22:39:19.767Z"
   },
   {
    "duration": 108,
    "start_time": "2023-11-01T22:39:36.346Z"
   },
   {
    "duration": 3,
    "start_time": "2023-11-01T22:39:49.401Z"
   },
   {
    "duration": 103,
    "start_time": "2023-11-01T22:39:51.710Z"
   },
   {
    "duration": 3,
    "start_time": "2023-11-01T22:40:08.217Z"
   },
   {
    "duration": 151,
    "start_time": "2023-11-01T22:40:12.297Z"
   },
   {
    "duration": 159,
    "start_time": "2023-11-01T22:40:48.044Z"
   },
   {
    "duration": 206,
    "start_time": "2023-11-01T22:40:53.698Z"
   },
   {
    "duration": 151,
    "start_time": "2023-11-01T22:41:00.530Z"
   },
   {
    "duration": 147,
    "start_time": "2023-11-01T22:41:29.670Z"
   },
   {
    "duration": 141,
    "start_time": "2023-11-01T22:43:24.060Z"
   },
   {
    "duration": 13,
    "start_time": "2023-11-01T22:46:10.093Z"
   },
   {
    "duration": 247,
    "start_time": "2023-11-01T22:46:21.987Z"
   },
   {
    "duration": 511,
    "start_time": "2023-11-01T22:52:34.783Z"
   },
   {
    "duration": 532,
    "start_time": "2023-11-01T22:57:31.768Z"
   },
   {
    "duration": 598,
    "start_time": "2023-11-01T22:57:38.683Z"
   },
   {
    "duration": 567,
    "start_time": "2023-11-01T22:57:49.820Z"
   },
   {
    "duration": 11,
    "start_time": "2023-11-01T22:59:17.232Z"
   },
   {
    "duration": 599,
    "start_time": "2023-11-01T22:59:25.573Z"
   },
   {
    "duration": 635,
    "start_time": "2023-11-01T22:59:38.455Z"
   },
   {
    "duration": 609,
    "start_time": "2023-11-01T22:59:50.212Z"
   },
   {
    "duration": 818,
    "start_time": "2023-11-01T22:59:54.493Z"
   },
   {
    "duration": 586,
    "start_time": "2023-11-01T23:03:00.635Z"
   },
   {
    "duration": 376,
    "start_time": "2023-11-01T23:03:13.666Z"
   },
   {
    "duration": 679,
    "start_time": "2023-11-01T23:03:23.849Z"
   },
   {
    "duration": 664,
    "start_time": "2023-11-01T23:04:45.644Z"
   },
   {
    "duration": 711,
    "start_time": "2023-11-01T23:04:56.991Z"
   },
   {
    "duration": 527,
    "start_time": "2023-11-01T23:05:03.065Z"
   },
   {
    "duration": 657,
    "start_time": "2023-11-01T23:06:16.634Z"
   },
   {
    "duration": 604,
    "start_time": "2023-11-01T23:06:29.182Z"
   },
   {
    "duration": 504,
    "start_time": "2023-11-01T23:06:57.696Z"
   },
   {
    "duration": 655,
    "start_time": "2023-11-01T23:08:15.950Z"
   },
   {
    "duration": 561,
    "start_time": "2023-11-01T23:09:26.917Z"
   },
   {
    "duration": 177,
    "start_time": "2023-11-01T23:11:09.885Z"
   },
   {
    "duration": 526,
    "start_time": "2023-11-01T23:11:19.925Z"
   },
   {
    "duration": 650,
    "start_time": "2023-11-01T23:14:32.841Z"
   },
   {
    "duration": 379,
    "start_time": "2023-11-01T23:14:58.745Z"
   },
   {
    "duration": 531,
    "start_time": "2023-11-01T23:15:03.517Z"
   },
   {
    "duration": 249,
    "start_time": "2023-11-01T23:17:29.295Z"
   },
   {
    "duration": 516,
    "start_time": "2023-11-01T23:17:45.173Z"
   },
   {
    "duration": 17,
    "start_time": "2023-11-01T23:18:30.982Z"
   },
   {
    "duration": 655,
    "start_time": "2023-11-01T23:20:45.075Z"
   },
   {
    "duration": 573,
    "start_time": "2023-11-01T23:21:24.503Z"
   },
   {
    "duration": 15,
    "start_time": "2023-11-01T23:23:34.125Z"
   },
   {
    "duration": 17,
    "start_time": "2023-11-01T23:23:53.019Z"
   },
   {
    "duration": 103,
    "start_time": "2023-11-01T23:25:37.832Z"
   },
   {
    "duration": 12,
    "start_time": "2023-11-01T23:25:45.875Z"
   },
   {
    "duration": 7,
    "start_time": "2023-11-01T23:25:52.800Z"
   },
   {
    "duration": 7,
    "start_time": "2023-11-01T23:26:11.602Z"
   },
   {
    "duration": 109,
    "start_time": "2023-11-01T23:26:19.792Z"
   },
   {
    "duration": 9,
    "start_time": "2023-11-01T23:26:22.701Z"
   },
   {
    "duration": 9,
    "start_time": "2023-11-01T23:29:33.397Z"
   },
   {
    "duration": 12,
    "start_time": "2023-11-01T23:29:50.046Z"
   },
   {
    "duration": 11,
    "start_time": "2023-11-01T23:31:57.772Z"
   },
   {
    "duration": 15,
    "start_time": "2023-11-01T23:32:16.980Z"
   },
   {
    "duration": 11,
    "start_time": "2023-11-01T23:33:32.055Z"
   },
   {
    "duration": 15,
    "start_time": "2023-11-01T23:33:36.667Z"
   },
   {
    "duration": 11,
    "start_time": "2023-11-01T23:33:52.619Z"
   },
   {
    "duration": 14,
    "start_time": "2023-11-01T23:34:32.542Z"
   },
   {
    "duration": 17,
    "start_time": "2023-11-01T23:34:40.705Z"
   },
   {
    "duration": 17,
    "start_time": "2023-11-01T23:34:45.661Z"
   },
   {
    "duration": 13,
    "start_time": "2023-11-01T23:34:52.605Z"
   },
   {
    "duration": 11,
    "start_time": "2023-11-01T23:35:14.969Z"
   },
   {
    "duration": 9,
    "start_time": "2023-11-01T23:35:57.966Z"
   },
   {
    "duration": 11,
    "start_time": "2023-11-01T23:36:01.867Z"
   },
   {
    "duration": 12,
    "start_time": "2023-11-01T23:36:59.051Z"
   },
   {
    "duration": 11,
    "start_time": "2023-11-01T23:37:02.668Z"
   },
   {
    "duration": 12,
    "start_time": "2023-11-01T23:37:45.311Z"
   },
   {
    "duration": 11,
    "start_time": "2023-11-01T23:39:19.597Z"
   },
   {
    "duration": 14,
    "start_time": "2023-11-01T23:40:24.038Z"
   },
   {
    "duration": 539,
    "start_time": "2023-11-01T23:40:27.240Z"
   },
   {
    "duration": 1118,
    "start_time": "2023-11-01T23:48:45.896Z"
   },
   {
    "duration": 67,
    "start_time": "2023-11-01T23:48:47.017Z"
   },
   {
    "duration": 5,
    "start_time": "2023-11-01T23:48:47.085Z"
   },
   {
    "duration": 316,
    "start_time": "2023-11-01T23:48:47.092Z"
   },
   {
    "duration": 415,
    "start_time": "2023-11-01T23:48:47.410Z"
   },
   {
    "duration": 402,
    "start_time": "2023-11-01T23:48:47.827Z"
   },
   {
    "duration": 14,
    "start_time": "2023-11-01T23:48:48.230Z"
   },
   {
    "duration": 11,
    "start_time": "2023-11-01T23:48:48.246Z"
   },
   {
    "duration": 5,
    "start_time": "2023-11-01T23:48:48.258Z"
   },
   {
    "duration": 24,
    "start_time": "2023-11-01T23:48:48.265Z"
   },
   {
    "duration": 7,
    "start_time": "2023-11-01T23:48:48.290Z"
   },
   {
    "duration": 6,
    "start_time": "2023-11-01T23:48:48.298Z"
   },
   {
    "duration": 6,
    "start_time": "2023-11-01T23:48:48.305Z"
   },
   {
    "duration": 9,
    "start_time": "2023-11-01T23:48:48.313Z"
   },
   {
    "duration": 24,
    "start_time": "2023-11-01T23:48:48.324Z"
   },
   {
    "duration": 133,
    "start_time": "2023-11-01T23:48:48.350Z"
   },
   {
    "duration": 8,
    "start_time": "2023-11-01T23:48:48.485Z"
   },
   {
    "duration": 9,
    "start_time": "2023-11-01T23:48:48.494Z"
   },
   {
    "duration": 9,
    "start_time": "2023-11-01T23:48:48.505Z"
   },
   {
    "duration": 222,
    "start_time": "2023-11-01T23:48:48.516Z"
   },
   {
    "duration": 343,
    "start_time": "2023-11-01T23:48:48.740Z"
   },
   {
    "duration": 298,
    "start_time": "2023-11-01T23:48:49.085Z"
   },
   {
    "duration": 9,
    "start_time": "2023-11-01T23:48:49.385Z"
   },
   {
    "duration": 607,
    "start_time": "2023-11-01T23:48:49.395Z"
   },
   {
    "duration": 618,
    "start_time": "2023-11-01T23:48:50.004Z"
   },
   {
    "duration": 224,
    "start_time": "2023-11-01T23:48:50.624Z"
   },
   {
    "duration": 7,
    "start_time": "2023-11-01T23:48:50.850Z"
   },
   {
    "duration": 19,
    "start_time": "2023-11-01T23:48:50.861Z"
   },
   {
    "duration": 13,
    "start_time": "2023-11-01T23:48:50.881Z"
   },
   {
    "duration": 35,
    "start_time": "2023-11-01T23:48:50.895Z"
   },
   {
    "duration": 33,
    "start_time": "2023-11-01T23:48:50.932Z"
   },
   {
    "duration": 32,
    "start_time": "2023-11-01T23:48:50.967Z"
   },
   {
    "duration": 6,
    "start_time": "2023-11-01T23:48:51.000Z"
   },
   {
    "duration": 39,
    "start_time": "2023-11-01T23:48:51.007Z"
   },
   {
    "duration": 29,
    "start_time": "2023-11-01T23:48:51.049Z"
   },
   {
    "duration": 27,
    "start_time": "2023-11-01T23:48:51.080Z"
   },
   {
    "duration": 687,
    "start_time": "2023-11-01T23:48:51.109Z"
   },
   {
    "duration": 11,
    "start_time": "2023-11-01T23:48:51.797Z"
   },
   {
    "duration": 539,
    "start_time": "2023-11-01T23:48:51.809Z"
   },
   {
    "duration": 10,
    "start_time": "2023-11-01T23:48:52.350Z"
   },
   {
    "duration": 779,
    "start_time": "2023-11-01T23:48:52.362Z"
   },
   {
    "duration": 4,
    "start_time": "2023-11-01T23:48:53.143Z"
   },
   {
    "duration": 6,
    "start_time": "2023-11-01T23:48:53.148Z"
   },
   {
    "duration": 6,
    "start_time": "2023-11-01T23:48:53.155Z"
   },
   {
    "duration": 9,
    "start_time": "2023-11-01T23:48:53.163Z"
   },
   {
    "duration": 19,
    "start_time": "2023-11-01T23:48:53.173Z"
   },
   {
    "duration": 22,
    "start_time": "2023-11-01T23:48:53.193Z"
   },
   {
    "duration": 30,
    "start_time": "2023-11-01T23:48:53.217Z"
   },
   {
    "duration": 3,
    "start_time": "2023-11-01T23:48:53.249Z"
   },
   {
    "duration": 8,
    "start_time": "2023-11-01T23:48:53.254Z"
   },
   {
    "duration": 5,
    "start_time": "2023-11-01T23:48:53.263Z"
   },
   {
    "duration": 15,
    "start_time": "2023-11-01T23:48:53.269Z"
   },
   {
    "duration": 1255,
    "start_time": "2023-11-01T23:52:33.899Z"
   },
   {
    "duration": 820,
    "start_time": "2023-11-01T23:53:48.009Z"
   },
   {
    "duration": 1090,
    "start_time": "2023-11-01T23:53:56.393Z"
   },
   {
    "duration": 67,
    "start_time": "2023-11-01T23:53:57.485Z"
   },
   {
    "duration": 4,
    "start_time": "2023-11-01T23:53:57.554Z"
   },
   {
    "duration": 330,
    "start_time": "2023-11-01T23:53:57.560Z"
   },
   {
    "duration": 410,
    "start_time": "2023-11-01T23:53:57.892Z"
   },
   {
    "duration": 408,
    "start_time": "2023-11-01T23:53:58.304Z"
   },
   {
    "duration": 10,
    "start_time": "2023-11-01T23:53:58.714Z"
   },
   {
    "duration": 28,
    "start_time": "2023-11-01T23:53:58.726Z"
   },
   {
    "duration": 5,
    "start_time": "2023-11-01T23:53:58.755Z"
   },
   {
    "duration": 12,
    "start_time": "2023-11-01T23:53:58.763Z"
   },
   {
    "duration": 14,
    "start_time": "2023-11-01T23:53:58.777Z"
   },
   {
    "duration": 10,
    "start_time": "2023-11-01T23:53:58.793Z"
   },
   {
    "duration": 7,
    "start_time": "2023-11-01T23:53:58.805Z"
   },
   {
    "duration": 7,
    "start_time": "2023-11-01T23:53:58.813Z"
   },
   {
    "duration": 12,
    "start_time": "2023-11-01T23:53:58.822Z"
   },
   {
    "duration": 130,
    "start_time": "2023-11-01T23:53:58.844Z"
   },
   {
    "duration": 6,
    "start_time": "2023-11-01T23:53:58.976Z"
   },
   {
    "duration": 8,
    "start_time": "2023-11-01T23:53:58.984Z"
   },
   {
    "duration": 10,
    "start_time": "2023-11-01T23:53:58.994Z"
   },
   {
    "duration": 234,
    "start_time": "2023-11-01T23:53:59.006Z"
   },
   {
    "duration": 345,
    "start_time": "2023-11-01T23:53:59.244Z"
   },
   {
    "duration": 308,
    "start_time": "2023-11-01T23:53:59.590Z"
   },
   {
    "duration": 9,
    "start_time": "2023-11-01T23:53:59.900Z"
   },
   {
    "duration": 690,
    "start_time": "2023-11-01T23:53:59.911Z"
   },
   {
    "duration": 625,
    "start_time": "2023-11-01T23:54:00.603Z"
   },
   {
    "duration": 217,
    "start_time": "2023-11-01T23:54:01.230Z"
   },
   {
    "duration": 6,
    "start_time": "2023-11-01T23:54:01.448Z"
   },
   {
    "duration": 65,
    "start_time": "2023-11-01T23:54:01.457Z"
   },
   {
    "duration": 41,
    "start_time": "2023-11-01T23:54:01.524Z"
   },
   {
    "duration": 55,
    "start_time": "2023-11-01T23:54:01.567Z"
   },
   {
    "duration": 47,
    "start_time": "2023-11-01T23:54:01.624Z"
   },
   {
    "duration": 91,
    "start_time": "2023-11-01T23:54:01.673Z"
   },
   {
    "duration": 17,
    "start_time": "2023-11-01T23:54:01.766Z"
   },
   {
    "duration": 46,
    "start_time": "2023-11-01T23:54:01.785Z"
   },
   {
    "duration": 92,
    "start_time": "2023-11-01T23:54:01.832Z"
   },
   {
    "duration": 45,
    "start_time": "2023-11-01T23:54:01.925Z"
   },
   {
    "duration": 658,
    "start_time": "2023-11-01T23:54:01.972Z"
   },
   {
    "duration": 18,
    "start_time": "2023-11-01T23:54:02.631Z"
   },
   {
    "duration": 557,
    "start_time": "2023-11-01T23:54:02.650Z"
   },
   {
    "duration": 10,
    "start_time": "2023-11-01T23:54:03.209Z"
   },
   {
    "duration": 908,
    "start_time": "2023-11-01T23:54:03.221Z"
   },
   {
    "duration": 6,
    "start_time": "2023-11-01T23:54:04.130Z"
   },
   {
    "duration": 24,
    "start_time": "2023-11-01T23:54:04.143Z"
   },
   {
    "duration": 54,
    "start_time": "2023-11-01T23:54:04.169Z"
   },
   {
    "duration": 43,
    "start_time": "2023-11-01T23:54:04.225Z"
   },
   {
    "duration": 50,
    "start_time": "2023-11-01T23:54:04.270Z"
   },
   {
    "duration": 24,
    "start_time": "2023-11-01T23:54:04.322Z"
   },
   {
    "duration": 20,
    "start_time": "2023-11-01T23:54:04.347Z"
   },
   {
    "duration": 32,
    "start_time": "2023-11-01T23:54:04.368Z"
   },
   {
    "duration": 38,
    "start_time": "2023-11-01T23:54:04.402Z"
   },
   {
    "duration": 34,
    "start_time": "2023-11-01T23:54:04.442Z"
   },
   {
    "duration": 101,
    "start_time": "2023-11-01T23:55:07.235Z"
   },
   {
    "duration": 98,
    "start_time": "2023-11-01T23:55:16.070Z"
   },
   {
    "duration": 845,
    "start_time": "2023-11-01T23:55:23.188Z"
   },
   {
    "duration": 862,
    "start_time": "2023-11-01T23:58:57.507Z"
   },
   {
    "duration": 1196,
    "start_time": "2023-11-01T23:59:03.158Z"
   },
   {
    "duration": 68,
    "start_time": "2023-11-01T23:59:04.357Z"
   },
   {
    "duration": 4,
    "start_time": "2023-11-01T23:59:04.426Z"
   },
   {
    "duration": 347,
    "start_time": "2023-11-01T23:59:04.432Z"
   },
   {
    "duration": 451,
    "start_time": "2023-11-01T23:59:04.781Z"
   },
   {
    "duration": 438,
    "start_time": "2023-11-01T23:59:05.234Z"
   },
   {
    "duration": 11,
    "start_time": "2023-11-01T23:59:05.674Z"
   },
   {
    "duration": 42,
    "start_time": "2023-11-01T23:59:05.686Z"
   },
   {
    "duration": 11,
    "start_time": "2023-11-01T23:59:05.730Z"
   },
   {
    "duration": 10,
    "start_time": "2023-11-01T23:59:05.744Z"
   },
   {
    "duration": 6,
    "start_time": "2023-11-01T23:59:05.756Z"
   },
   {
    "duration": 36,
    "start_time": "2023-11-01T23:59:05.764Z"
   },
   {
    "duration": 30,
    "start_time": "2023-11-01T23:59:05.802Z"
   },
   {
    "duration": 13,
    "start_time": "2023-11-01T23:59:05.834Z"
   },
   {
    "duration": 56,
    "start_time": "2023-11-01T23:59:05.849Z"
   },
   {
    "duration": 137,
    "start_time": "2023-11-01T23:59:05.907Z"
   },
   {
    "duration": 7,
    "start_time": "2023-11-01T23:59:06.045Z"
   },
   {
    "duration": 6,
    "start_time": "2023-11-01T23:59:06.053Z"
   },
   {
    "duration": 7,
    "start_time": "2023-11-01T23:59:06.060Z"
   },
   {
    "duration": 218,
    "start_time": "2023-11-01T23:59:06.069Z"
   },
   {
    "duration": 334,
    "start_time": "2023-11-01T23:59:06.289Z"
   },
   {
    "duration": 310,
    "start_time": "2023-11-01T23:59:06.625Z"
   },
   {
    "duration": 13,
    "start_time": "2023-11-01T23:59:06.937Z"
   },
   {
    "duration": 551,
    "start_time": "2023-11-01T23:59:06.952Z"
   },
   {
    "duration": 581,
    "start_time": "2023-11-01T23:59:07.505Z"
   },
   {
    "duration": 213,
    "start_time": "2023-11-01T23:59:08.087Z"
   },
   {
    "duration": 6,
    "start_time": "2023-11-01T23:59:08.301Z"
   },
   {
    "duration": 11,
    "start_time": "2023-11-01T23:59:08.309Z"
   },
   {
    "duration": 9,
    "start_time": "2023-11-01T23:59:08.322Z"
   },
   {
    "duration": 19,
    "start_time": "2023-11-01T23:59:08.345Z"
   },
   {
    "duration": 26,
    "start_time": "2023-11-01T23:59:08.366Z"
   },
   {
    "duration": 53,
    "start_time": "2023-11-01T23:59:08.393Z"
   },
   {
    "duration": 5,
    "start_time": "2023-11-01T23:59:08.448Z"
   },
   {
    "duration": 13,
    "start_time": "2023-11-01T23:59:08.455Z"
   },
   {
    "duration": 26,
    "start_time": "2023-11-01T23:59:08.470Z"
   },
   {
    "duration": 52,
    "start_time": "2023-11-01T23:59:08.498Z"
   },
   {
    "duration": 637,
    "start_time": "2023-11-01T23:59:08.551Z"
   },
   {
    "duration": 11,
    "start_time": "2023-11-01T23:59:09.190Z"
   },
   {
    "duration": 536,
    "start_time": "2023-11-01T23:59:09.203Z"
   },
   {
    "duration": 10,
    "start_time": "2023-11-01T23:59:09.744Z"
   },
   {
    "duration": 826,
    "start_time": "2023-11-01T23:59:09.756Z"
   },
   {
    "duration": 5,
    "start_time": "2023-11-01T23:59:10.583Z"
   },
   {
    "duration": 24,
    "start_time": "2023-11-01T23:59:10.590Z"
   },
   {
    "duration": 20,
    "start_time": "2023-11-01T23:59:10.616Z"
   },
   {
    "duration": 36,
    "start_time": "2023-11-01T23:59:10.638Z"
   },
   {
    "duration": 36,
    "start_time": "2023-11-01T23:59:10.676Z"
   },
   {
    "duration": 28,
    "start_time": "2023-11-01T23:59:10.714Z"
   },
   {
    "duration": 12,
    "start_time": "2023-11-01T23:59:10.743Z"
   },
   {
    "duration": 29,
    "start_time": "2023-11-01T23:59:10.757Z"
   },
   {
    "duration": 28,
    "start_time": "2023-11-01T23:59:10.788Z"
   },
   {
    "duration": 31,
    "start_time": "2023-11-01T23:59:10.818Z"
   },
   {
    "duration": 889,
    "start_time": "2023-11-02T00:03:29.802Z"
   },
   {
    "duration": 786,
    "start_time": "2023-11-02T00:04:02.622Z"
   },
   {
    "duration": 1185,
    "start_time": "2023-11-02T00:04:09.259Z"
   },
   {
    "duration": 70,
    "start_time": "2023-11-02T00:04:10.446Z"
   },
   {
    "duration": 5,
    "start_time": "2023-11-02T00:04:10.517Z"
   },
   {
    "duration": 356,
    "start_time": "2023-11-02T00:04:10.524Z"
   },
   {
    "duration": 452,
    "start_time": "2023-11-02T00:04:10.882Z"
   },
   {
    "duration": 413,
    "start_time": "2023-11-02T00:04:11.336Z"
   },
   {
    "duration": 10,
    "start_time": "2023-11-02T00:04:11.751Z"
   },
   {
    "duration": 11,
    "start_time": "2023-11-02T00:04:11.762Z"
   },
   {
    "duration": 6,
    "start_time": "2023-11-02T00:04:11.774Z"
   },
   {
    "duration": 4,
    "start_time": "2023-11-02T00:04:11.783Z"
   },
   {
    "duration": 15,
    "start_time": "2023-11-02T00:04:11.788Z"
   },
   {
    "duration": 43,
    "start_time": "2023-11-02T00:04:11.805Z"
   },
   {
    "duration": 66,
    "start_time": "2023-11-02T00:04:11.850Z"
   },
   {
    "duration": 31,
    "start_time": "2023-11-02T00:04:11.917Z"
   },
   {
    "duration": 12,
    "start_time": "2023-11-02T00:04:11.950Z"
   },
   {
    "duration": 126,
    "start_time": "2023-11-02T00:04:11.963Z"
   },
   {
    "duration": 7,
    "start_time": "2023-11-02T00:04:12.090Z"
   },
   {
    "duration": 7,
    "start_time": "2023-11-02T00:04:12.098Z"
   },
   {
    "duration": 8,
    "start_time": "2023-11-02T00:04:12.107Z"
   },
   {
    "duration": 225,
    "start_time": "2023-11-02T00:04:12.116Z"
   },
   {
    "duration": 330,
    "start_time": "2023-11-02T00:04:12.344Z"
   },
   {
    "duration": 303,
    "start_time": "2023-11-02T00:04:12.676Z"
   },
   {
    "duration": 8,
    "start_time": "2023-11-02T00:04:12.981Z"
   },
   {
    "duration": 617,
    "start_time": "2023-11-02T00:04:12.990Z"
   },
   {
    "duration": 650,
    "start_time": "2023-11-02T00:04:13.609Z"
   },
   {
    "duration": 199,
    "start_time": "2023-11-02T00:04:14.261Z"
   },
   {
    "duration": 6,
    "start_time": "2023-11-02T00:04:14.462Z"
   },
   {
    "duration": 9,
    "start_time": "2023-11-02T00:04:14.472Z"
   },
   {
    "duration": 10,
    "start_time": "2023-11-02T00:04:14.483Z"
   },
   {
    "duration": 21,
    "start_time": "2023-11-02T00:04:14.495Z"
   },
   {
    "duration": 27,
    "start_time": "2023-11-02T00:04:14.545Z"
   },
   {
    "duration": 27,
    "start_time": "2023-11-02T00:04:14.574Z"
   },
   {
    "duration": 4,
    "start_time": "2023-11-02T00:04:14.603Z"
   },
   {
    "duration": 38,
    "start_time": "2023-11-02T00:04:14.609Z"
   },
   {
    "duration": 26,
    "start_time": "2023-11-02T00:04:14.649Z"
   },
   {
    "duration": 23,
    "start_time": "2023-11-02T00:04:14.677Z"
   },
   {
    "duration": 660,
    "start_time": "2023-11-02T00:04:14.702Z"
   },
   {
    "duration": 12,
    "start_time": "2023-11-02T00:04:15.364Z"
   },
   {
    "duration": 569,
    "start_time": "2023-11-02T00:04:15.378Z"
   },
   {
    "duration": 12,
    "start_time": "2023-11-02T00:04:15.950Z"
   },
   {
    "duration": 816,
    "start_time": "2023-11-02T00:04:15.964Z"
   },
   {
    "duration": 4,
    "start_time": "2023-11-02T00:04:16.782Z"
   },
   {
    "duration": 7,
    "start_time": "2023-11-02T00:04:16.788Z"
   },
   {
    "duration": 7,
    "start_time": "2023-11-02T00:04:16.797Z"
   },
   {
    "duration": 8,
    "start_time": "2023-11-02T00:04:16.805Z"
   },
   {
    "duration": 31,
    "start_time": "2023-11-02T00:04:16.814Z"
   },
   {
    "duration": 19,
    "start_time": "2023-11-02T00:04:16.847Z"
   },
   {
    "duration": 21,
    "start_time": "2023-11-02T00:04:16.867Z"
   },
   {
    "duration": 23,
    "start_time": "2023-11-02T00:04:16.890Z"
   },
   {
    "duration": 6,
    "start_time": "2023-11-02T00:04:16.915Z"
   },
   {
    "duration": 12,
    "start_time": "2023-11-02T00:04:16.922Z"
   },
   {
    "duration": 1082,
    "start_time": "2023-11-02T00:06:07.594Z"
   },
   {
    "duration": 68,
    "start_time": "2023-11-02T00:06:08.678Z"
   },
   {
    "duration": 5,
    "start_time": "2023-11-02T00:06:08.747Z"
   },
   {
    "duration": 331,
    "start_time": "2023-11-02T00:06:08.753Z"
   },
   {
    "duration": 420,
    "start_time": "2023-11-02T00:06:09.086Z"
   },
   {
    "duration": 392,
    "start_time": "2023-11-02T00:06:09.508Z"
   },
   {
    "duration": 9,
    "start_time": "2023-11-02T00:06:09.902Z"
   },
   {
    "duration": 17,
    "start_time": "2023-11-02T00:06:09.912Z"
   },
   {
    "duration": 16,
    "start_time": "2023-11-02T00:06:09.931Z"
   },
   {
    "duration": 6,
    "start_time": "2023-11-02T00:06:09.949Z"
   },
   {
    "duration": 5,
    "start_time": "2023-11-02T00:06:09.956Z"
   },
   {
    "duration": 7,
    "start_time": "2023-11-02T00:06:09.963Z"
   },
   {
    "duration": 4,
    "start_time": "2023-11-02T00:06:09.972Z"
   },
   {
    "duration": 5,
    "start_time": "2023-11-02T00:06:09.978Z"
   },
   {
    "duration": 9,
    "start_time": "2023-11-02T00:06:09.984Z"
   },
   {
    "duration": 170,
    "start_time": "2023-11-02T00:06:09.995Z"
   },
   {
    "duration": 6,
    "start_time": "2023-11-02T00:06:10.167Z"
   },
   {
    "duration": 17,
    "start_time": "2023-11-02T00:06:10.175Z"
   },
   {
    "duration": 9,
    "start_time": "2023-11-02T00:06:10.194Z"
   },
   {
    "duration": 233,
    "start_time": "2023-11-02T00:06:10.205Z"
   },
   {
    "duration": 350,
    "start_time": "2023-11-02T00:06:10.440Z"
   },
   {
    "duration": 319,
    "start_time": "2023-11-02T00:06:10.792Z"
   },
   {
    "duration": 10,
    "start_time": "2023-11-02T00:06:11.113Z"
   },
   {
    "duration": 595,
    "start_time": "2023-11-02T00:06:11.125Z"
   },
   {
    "duration": 579,
    "start_time": "2023-11-02T00:06:11.722Z"
   },
   {
    "duration": 210,
    "start_time": "2023-11-02T00:06:12.302Z"
   },
   {
    "duration": 5,
    "start_time": "2023-11-02T00:06:12.513Z"
   },
   {
    "duration": 11,
    "start_time": "2023-11-02T00:06:12.521Z"
   },
   {
    "duration": 15,
    "start_time": "2023-11-02T00:06:12.533Z"
   },
   {
    "duration": 19,
    "start_time": "2023-11-02T00:06:12.549Z"
   },
   {
    "duration": 27,
    "start_time": "2023-11-02T00:06:12.570Z"
   },
   {
    "duration": 52,
    "start_time": "2023-11-02T00:06:12.599Z"
   },
   {
    "duration": 5,
    "start_time": "2023-11-02T00:06:12.653Z"
   },
   {
    "duration": 10,
    "start_time": "2023-11-02T00:06:12.659Z"
   },
   {
    "duration": 25,
    "start_time": "2023-11-02T00:06:12.671Z"
   },
   {
    "duration": 55,
    "start_time": "2023-11-02T00:06:12.697Z"
   },
   {
    "duration": 641,
    "start_time": "2023-11-02T00:06:12.754Z"
   },
   {
    "duration": 10,
    "start_time": "2023-11-02T00:06:13.397Z"
   },
   {
    "duration": 530,
    "start_time": "2023-11-02T00:06:13.409Z"
   },
   {
    "duration": 11,
    "start_time": "2023-11-02T00:06:13.944Z"
   },
   {
    "duration": 898,
    "start_time": "2023-11-02T00:06:13.957Z"
   },
   {
    "duration": 4,
    "start_time": "2023-11-02T00:06:14.856Z"
   },
   {
    "duration": 7,
    "start_time": "2023-11-02T00:06:14.861Z"
   },
   {
    "duration": 21,
    "start_time": "2023-11-02T00:06:14.869Z"
   },
   {
    "duration": 10,
    "start_time": "2023-11-02T00:06:14.891Z"
   },
   {
    "duration": 25,
    "start_time": "2023-11-02T00:06:14.902Z"
   },
   {
    "duration": 27,
    "start_time": "2023-11-02T00:06:14.928Z"
   },
   {
    "duration": 10,
    "start_time": "2023-11-02T00:06:14.957Z"
   },
   {
    "duration": 22,
    "start_time": "2023-11-02T00:06:14.968Z"
   },
   {
    "duration": 116,
    "start_time": "2023-11-02T00:06:14.992Z"
   },
   {
    "duration": 29,
    "start_time": "2023-11-02T00:06:15.110Z"
   },
   {
    "duration": 3,
    "start_time": "2023-11-02T00:15:44.643Z"
   },
   {
    "duration": 113,
    "start_time": "2023-11-02T00:16:01.510Z"
   },
   {
    "duration": 4,
    "start_time": "2023-11-02T00:16:03.641Z"
   },
   {
    "duration": 5,
    "start_time": "2023-11-02T00:16:22.938Z"
   },
   {
    "duration": 6,
    "start_time": "2023-11-02T00:20:20.883Z"
   },
   {
    "duration": 6,
    "start_time": "2023-11-02T00:20:33.432Z"
   },
   {
    "duration": 8,
    "start_time": "2023-11-02T00:20:45.522Z"
   },
   {
    "duration": 123,
    "start_time": "2023-11-02T00:20:52.151Z"
   },
   {
    "duration": 9,
    "start_time": "2023-11-02T00:21:25.024Z"
   },
   {
    "duration": 201,
    "start_time": "2023-11-02T00:22:12.912Z"
   },
   {
    "duration": 5,
    "start_time": "2023-11-02T00:28:30.968Z"
   },
   {
    "duration": 6,
    "start_time": "2023-11-02T00:28:58.223Z"
   },
   {
    "duration": 5,
    "start_time": "2023-11-02T00:31:23.948Z"
   },
   {
    "duration": 6,
    "start_time": "2023-11-02T00:31:25.350Z"
   },
   {
    "duration": 17,
    "start_time": "2023-11-02T00:40:06.340Z"
   },
   {
    "duration": 15,
    "start_time": "2023-11-02T00:44:02.395Z"
   },
   {
    "duration": 15,
    "start_time": "2023-11-02T00:44:09.888Z"
   },
   {
    "duration": 6,
    "start_time": "2023-11-02T01:01:36.939Z"
   },
   {
    "duration": 16,
    "start_time": "2023-11-02T01:03:04.825Z"
   },
   {
    "duration": 1267,
    "start_time": "2023-11-02T01:16:24.151Z"
   },
   {
    "duration": 74,
    "start_time": "2023-11-02T01:16:25.420Z"
   },
   {
    "duration": 3,
    "start_time": "2023-11-02T01:16:25.496Z"
   },
   {
    "duration": 325,
    "start_time": "2023-11-02T01:16:25.501Z"
   },
   {
    "duration": 482,
    "start_time": "2023-11-02T01:16:25.827Z"
   },
   {
    "duration": 442,
    "start_time": "2023-11-02T01:16:26.310Z"
   },
   {
    "duration": 12,
    "start_time": "2023-11-02T01:16:26.754Z"
   },
   {
    "duration": 12,
    "start_time": "2023-11-02T01:16:26.767Z"
   },
   {
    "duration": 7,
    "start_time": "2023-11-02T01:16:26.781Z"
   },
   {
    "duration": 22,
    "start_time": "2023-11-02T01:16:26.791Z"
   },
   {
    "duration": 14,
    "start_time": "2023-11-02T01:16:26.814Z"
   },
   {
    "duration": 6,
    "start_time": "2023-11-02T01:16:26.843Z"
   },
   {
    "duration": 11,
    "start_time": "2023-11-02T01:16:26.851Z"
   },
   {
    "duration": 16,
    "start_time": "2023-11-02T01:16:26.864Z"
   },
   {
    "duration": 11,
    "start_time": "2023-11-02T01:16:26.881Z"
   },
   {
    "duration": 173,
    "start_time": "2023-11-02T01:16:26.893Z"
   },
   {
    "duration": 7,
    "start_time": "2023-11-02T01:16:27.068Z"
   },
   {
    "duration": 6,
    "start_time": "2023-11-02T01:16:27.077Z"
   },
   {
    "duration": 19,
    "start_time": "2023-11-02T01:16:27.085Z"
   },
   {
    "duration": 265,
    "start_time": "2023-11-02T01:16:27.107Z"
   },
   {
    "duration": 332,
    "start_time": "2023-11-02T01:16:27.374Z"
   },
   {
    "duration": 295,
    "start_time": "2023-11-02T01:16:27.708Z"
   },
   {
    "duration": 8,
    "start_time": "2023-11-02T01:16:28.005Z"
   },
   {
    "duration": 592,
    "start_time": "2023-11-02T01:16:28.014Z"
   },
   {
    "duration": 635,
    "start_time": "2023-11-02T01:16:28.608Z"
   },
   {
    "duration": 205,
    "start_time": "2023-11-02T01:16:29.245Z"
   },
   {
    "duration": 6,
    "start_time": "2023-11-02T01:16:29.452Z"
   },
   {
    "duration": 5,
    "start_time": "2023-11-02T01:16:29.461Z"
   },
   {
    "duration": 15,
    "start_time": "2023-11-02T01:16:29.469Z"
   },
   {
    "duration": 30,
    "start_time": "2023-11-02T01:16:29.486Z"
   },
   {
    "duration": 41,
    "start_time": "2023-11-02T01:16:29.518Z"
   },
   {
    "duration": 39,
    "start_time": "2023-11-02T01:16:29.561Z"
   },
   {
    "duration": 5,
    "start_time": "2023-11-02T01:16:29.601Z"
   },
   {
    "duration": 36,
    "start_time": "2023-11-02T01:16:29.608Z"
   },
   {
    "duration": 27,
    "start_time": "2023-11-02T01:16:29.646Z"
   },
   {
    "duration": 24,
    "start_time": "2023-11-02T01:16:29.675Z"
   },
   {
    "duration": 673,
    "start_time": "2023-11-02T01:16:29.700Z"
   },
   {
    "duration": 15,
    "start_time": "2023-11-02T01:16:30.375Z"
   },
   {
    "duration": 636,
    "start_time": "2023-11-02T01:16:30.392Z"
   },
   {
    "duration": 18,
    "start_time": "2023-11-02T01:16:31.030Z"
   },
   {
    "duration": 1012,
    "start_time": "2023-11-02T01:16:31.050Z"
   },
   {
    "duration": 5,
    "start_time": "2023-11-02T01:16:32.064Z"
   },
   {
    "duration": 30,
    "start_time": "2023-11-02T01:16:32.070Z"
   },
   {
    "duration": 28,
    "start_time": "2023-11-02T01:16:32.101Z"
   },
   {
    "duration": 39,
    "start_time": "2023-11-02T01:16:32.131Z"
   },
   {
    "duration": 48,
    "start_time": "2023-11-02T01:16:32.172Z"
   },
   {
    "duration": 36,
    "start_time": "2023-11-02T01:16:32.222Z"
   },
   {
    "duration": 3,
    "start_time": "2023-11-02T01:16:32.260Z"
   },
   {
    "duration": 26,
    "start_time": "2023-11-02T01:16:32.265Z"
   },
   {
    "duration": 9,
    "start_time": "2023-11-02T01:16:32.293Z"
   },
   {
    "duration": 12,
    "start_time": "2023-11-02T01:16:32.304Z"
   },
   {
    "duration": 55,
    "start_time": "2023-11-02T01:16:32.318Z"
   },
   {
    "duration": 41,
    "start_time": "2023-11-02T01:16:32.375Z"
   },
   {
    "duration": 19,
    "start_time": "2023-11-02T01:16:32.419Z"
   },
   {
    "duration": 1243,
    "start_time": "2023-11-02T01:24:30.567Z"
   },
   {
    "duration": 68,
    "start_time": "2023-11-02T01:24:31.812Z"
   },
   {
    "duration": 138,
    "start_time": "2023-11-02T01:24:31.882Z"
   },
   {
    "duration": 342,
    "start_time": "2023-11-02T01:24:32.022Z"
   },
   {
    "duration": 415,
    "start_time": "2023-11-02T01:24:32.366Z"
   },
   {
    "duration": 436,
    "start_time": "2023-11-02T01:24:32.783Z"
   },
   {
    "duration": 11,
    "start_time": "2023-11-02T01:24:33.221Z"
   },
   {
    "duration": 21,
    "start_time": "2023-11-02T01:24:33.233Z"
   },
   {
    "duration": 7,
    "start_time": "2023-11-02T01:24:33.256Z"
   },
   {
    "duration": 7,
    "start_time": "2023-11-02T01:24:33.265Z"
   },
   {
    "duration": 6,
    "start_time": "2023-11-02T01:24:33.273Z"
   },
   {
    "duration": 13,
    "start_time": "2023-11-02T01:24:33.281Z"
   },
   {
    "duration": 5,
    "start_time": "2023-11-02T01:24:33.296Z"
   },
   {
    "duration": 4,
    "start_time": "2023-11-02T01:24:33.303Z"
   },
   {
    "duration": 36,
    "start_time": "2023-11-02T01:24:33.308Z"
   },
   {
    "duration": 132,
    "start_time": "2023-11-02T01:24:33.346Z"
   },
   {
    "duration": 8,
    "start_time": "2023-11-02T01:24:33.480Z"
   },
   {
    "duration": 5,
    "start_time": "2023-11-02T01:24:33.490Z"
   },
   {
    "duration": 9,
    "start_time": "2023-11-02T01:24:33.496Z"
   },
   {
    "duration": 222,
    "start_time": "2023-11-02T01:24:33.506Z"
   },
   {
    "duration": 357,
    "start_time": "2023-11-02T01:24:33.729Z"
   },
   {
    "duration": 345,
    "start_time": "2023-11-02T01:24:34.088Z"
   },
   {
    "duration": 13,
    "start_time": "2023-11-02T01:24:34.434Z"
   },
   {
    "duration": 562,
    "start_time": "2023-11-02T01:24:34.449Z"
   },
   {
    "duration": 592,
    "start_time": "2023-11-02T01:24:35.012Z"
   },
   {
    "duration": 254,
    "start_time": "2023-11-02T01:24:35.606Z"
   },
   {
    "duration": 7,
    "start_time": "2023-11-02T01:24:35.862Z"
   },
   {
    "duration": 5,
    "start_time": "2023-11-02T01:24:35.872Z"
   },
   {
    "duration": 16,
    "start_time": "2023-11-02T01:24:35.880Z"
   },
   {
    "duration": 28,
    "start_time": "2023-11-02T01:24:35.898Z"
   },
   {
    "duration": 33,
    "start_time": "2023-11-02T01:24:35.945Z"
   },
   {
    "duration": 40,
    "start_time": "2023-11-02T01:24:35.980Z"
   },
   {
    "duration": 4,
    "start_time": "2023-11-02T01:24:36.022Z"
   },
   {
    "duration": 27,
    "start_time": "2023-11-02T01:24:36.027Z"
   },
   {
    "duration": 33,
    "start_time": "2023-11-02T01:24:36.056Z"
   },
   {
    "duration": 23,
    "start_time": "2023-11-02T01:24:36.091Z"
   },
   {
    "duration": 638,
    "start_time": "2023-11-02T01:24:36.116Z"
   },
   {
    "duration": 10,
    "start_time": "2023-11-02T01:24:36.756Z"
   },
   {
    "duration": 535,
    "start_time": "2023-11-02T01:24:36.768Z"
   },
   {
    "duration": 11,
    "start_time": "2023-11-02T01:24:37.305Z"
   },
   {
    "duration": 841,
    "start_time": "2023-11-02T01:24:37.317Z"
   },
   {
    "duration": 4,
    "start_time": "2023-11-02T01:24:38.160Z"
   },
   {
    "duration": 31,
    "start_time": "2023-11-02T01:24:38.166Z"
   },
   {
    "duration": 37,
    "start_time": "2023-11-02T01:24:38.199Z"
   },
   {
    "duration": 35,
    "start_time": "2023-11-02T01:24:38.238Z"
   },
   {
    "duration": 36,
    "start_time": "2023-11-02T01:24:38.275Z"
   },
   {
    "duration": 48,
    "start_time": "2023-11-02T01:24:38.312Z"
   },
   {
    "duration": 11,
    "start_time": "2023-11-02T01:24:38.361Z"
   },
   {
    "duration": 35,
    "start_time": "2023-11-02T01:24:38.374Z"
   },
   {
    "duration": 27,
    "start_time": "2023-11-02T01:24:38.411Z"
   },
   {
    "duration": 34,
    "start_time": "2023-11-02T01:24:38.439Z"
   },
   {
    "duration": 38,
    "start_time": "2023-11-02T01:24:38.475Z"
   },
   {
    "duration": 30,
    "start_time": "2023-11-02T01:24:38.514Z"
   },
   {
    "duration": 42,
    "start_time": "2023-11-02T01:24:38.545Z"
   },
   {
    "duration": 1240,
    "start_time": "2023-11-02T14:20:54.814Z"
   },
   {
    "duration": 70,
    "start_time": "2023-11-02T14:20:56.055Z"
   },
   {
    "duration": 5,
    "start_time": "2023-11-02T14:20:56.127Z"
   },
   {
    "duration": 366,
    "start_time": "2023-11-02T14:20:56.135Z"
   },
   {
    "duration": 466,
    "start_time": "2023-11-02T14:20:56.503Z"
   },
   {
    "duration": 441,
    "start_time": "2023-11-02T14:20:56.971Z"
   },
   {
    "duration": 10,
    "start_time": "2023-11-02T14:20:57.414Z"
   },
   {
    "duration": 12,
    "start_time": "2023-11-02T14:20:57.426Z"
   },
   {
    "duration": 4,
    "start_time": "2023-11-02T14:20:57.440Z"
   },
   {
    "duration": 8,
    "start_time": "2023-11-02T14:20:57.447Z"
   },
   {
    "duration": 21,
    "start_time": "2023-11-02T14:20:57.457Z"
   },
   {
    "duration": 36,
    "start_time": "2023-11-02T14:20:57.480Z"
   },
   {
    "duration": 32,
    "start_time": "2023-11-02T14:20:57.518Z"
   },
   {
    "duration": 25,
    "start_time": "2023-11-02T14:20:57.551Z"
   },
   {
    "duration": 39,
    "start_time": "2023-11-02T14:20:57.578Z"
   },
   {
    "duration": 185,
    "start_time": "2023-11-02T14:20:57.619Z"
   },
   {
    "duration": 7,
    "start_time": "2023-11-02T14:20:57.805Z"
   },
   {
    "duration": 44,
    "start_time": "2023-11-02T14:20:57.814Z"
   },
   {
    "duration": 38,
    "start_time": "2023-11-02T14:20:57.861Z"
   },
   {
    "duration": 253,
    "start_time": "2023-11-02T14:20:57.901Z"
   },
   {
    "duration": 358,
    "start_time": "2023-11-02T14:20:58.156Z"
   },
   {
    "duration": 358,
    "start_time": "2023-11-02T14:20:58.515Z"
   },
   {
    "duration": 11,
    "start_time": "2023-11-02T14:20:58.875Z"
   },
   {
    "duration": 623,
    "start_time": "2023-11-02T14:20:58.901Z"
   },
   {
    "duration": 660,
    "start_time": "2023-11-02T14:20:59.526Z"
   },
   {
    "duration": 219,
    "start_time": "2023-11-02T14:21:00.202Z"
   },
   {
    "duration": 251,
    "start_time": "2023-11-02T14:21:00.423Z"
   },
   {
    "duration": 98,
    "start_time": "2023-11-02T14:21:00.680Z"
   },
   {
    "duration": 60,
    "start_time": "2023-11-02T14:21:00.780Z"
   },
   {
    "duration": 143,
    "start_time": "2023-11-02T14:21:00.843Z"
   },
   {
    "duration": 110,
    "start_time": "2023-11-02T14:21:00.988Z"
   },
   {
    "duration": 361,
    "start_time": "2023-11-02T14:21:01.100Z"
   },
   {
    "duration": 176,
    "start_time": "2023-11-02T14:21:01.463Z"
   },
   {
    "duration": 217,
    "start_time": "2023-11-02T14:21:01.641Z"
   },
   {
    "duration": 230,
    "start_time": "2023-11-02T14:21:01.860Z"
   },
   {
    "duration": 320,
    "start_time": "2023-11-02T14:21:02.092Z"
   },
   {
    "duration": 1125,
    "start_time": "2023-11-02T14:21:02.414Z"
   },
   {
    "duration": 11,
    "start_time": "2023-11-02T14:21:03.540Z"
   },
   {
    "duration": 668,
    "start_time": "2023-11-02T14:21:03.552Z"
   },
   {
    "duration": 11,
    "start_time": "2023-11-02T14:21:04.223Z"
   },
   {
    "duration": 1054,
    "start_time": "2023-11-02T14:21:04.237Z"
   },
   {
    "duration": 11,
    "start_time": "2023-11-02T14:21:05.293Z"
   },
   {
    "duration": 35,
    "start_time": "2023-11-02T14:21:05.306Z"
   },
   {
    "duration": 29,
    "start_time": "2023-11-02T14:21:05.343Z"
   },
   {
    "duration": 85,
    "start_time": "2023-11-02T14:21:05.374Z"
   },
   {
    "duration": 38,
    "start_time": "2023-11-02T14:21:05.461Z"
   },
   {
    "duration": 38,
    "start_time": "2023-11-02T14:21:05.500Z"
   },
   {
    "duration": 11,
    "start_time": "2023-11-02T14:21:05.539Z"
   },
   {
    "duration": 263,
    "start_time": "2023-11-02T14:21:05.552Z"
   },
   {
    "duration": 375,
    "start_time": "2023-11-02T14:21:05.816Z"
   },
   {
    "duration": 36,
    "start_time": "2023-11-02T14:21:06.193Z"
   },
   {
    "duration": 61,
    "start_time": "2023-11-02T14:21:06.231Z"
   },
   {
    "duration": 46,
    "start_time": "2023-11-02T14:21:06.294Z"
   },
   {
    "duration": 64,
    "start_time": "2023-11-02T14:21:06.342Z"
   },
   {
    "duration": 1230,
    "start_time": "2023-11-03T19:27:56.475Z"
   },
   {
    "duration": 194,
    "start_time": "2023-11-03T19:27:57.707Z"
   },
   {
    "duration": 4,
    "start_time": "2023-11-03T19:27:57.903Z"
   },
   {
    "duration": 351,
    "start_time": "2023-11-03T19:27:57.909Z"
   },
   {
    "duration": 443,
    "start_time": "2023-11-03T19:27:58.262Z"
   },
   {
    "duration": 453,
    "start_time": "2023-11-03T19:27:58.706Z"
   },
   {
    "duration": 11,
    "start_time": "2023-11-03T19:27:59.160Z"
   },
   {
    "duration": 18,
    "start_time": "2023-11-03T19:27:59.172Z"
   },
   {
    "duration": 6,
    "start_time": "2023-11-03T19:27:59.192Z"
   },
   {
    "duration": 11,
    "start_time": "2023-11-03T19:27:59.202Z"
   },
   {
    "duration": 6,
    "start_time": "2023-11-03T19:27:59.215Z"
   },
   {
    "duration": 28,
    "start_time": "2023-11-03T19:27:59.223Z"
   },
   {
    "duration": 16,
    "start_time": "2023-11-03T19:27:59.253Z"
   },
   {
    "duration": 6,
    "start_time": "2023-11-03T19:27:59.271Z"
   },
   {
    "duration": 10,
    "start_time": "2023-11-03T19:27:59.279Z"
   },
   {
    "duration": 154,
    "start_time": "2023-11-03T19:27:59.290Z"
   },
   {
    "duration": 8,
    "start_time": "2023-11-03T19:27:59.447Z"
   },
   {
    "duration": 6,
    "start_time": "2023-11-03T19:27:59.457Z"
   },
   {
    "duration": 16,
    "start_time": "2023-11-03T19:27:59.465Z"
   },
   {
    "duration": 230,
    "start_time": "2023-11-03T19:27:59.483Z"
   },
   {
    "duration": 371,
    "start_time": "2023-11-03T19:27:59.715Z"
   },
   {
    "duration": 350,
    "start_time": "2023-11-03T19:28:00.089Z"
   },
   {
    "duration": 12,
    "start_time": "2023-11-03T19:28:00.440Z"
   },
   {
    "duration": 607,
    "start_time": "2023-11-03T19:28:00.454Z"
   },
   {
    "duration": 607,
    "start_time": "2023-11-03T19:28:01.062Z"
   },
   {
    "duration": 227,
    "start_time": "2023-11-03T19:28:01.670Z"
   },
   {
    "duration": 6,
    "start_time": "2023-11-03T19:28:01.899Z"
   },
   {
    "duration": 64,
    "start_time": "2023-11-03T19:28:01.908Z"
   },
   {
    "duration": 52,
    "start_time": "2023-11-03T19:28:01.974Z"
   },
   {
    "duration": 47,
    "start_time": "2023-11-03T19:28:02.028Z"
   },
   {
    "duration": 50,
    "start_time": "2023-11-03T19:28:02.077Z"
   },
   {
    "duration": 36,
    "start_time": "2023-11-03T19:28:02.129Z"
   },
   {
    "duration": 18,
    "start_time": "2023-11-03T19:28:02.167Z"
   },
   {
    "duration": 20,
    "start_time": "2023-11-03T19:28:02.187Z"
   },
   {
    "duration": 40,
    "start_time": "2023-11-03T19:28:02.209Z"
   },
   {
    "duration": 30,
    "start_time": "2023-11-03T19:28:02.251Z"
   },
   {
    "duration": 722,
    "start_time": "2023-11-03T19:28:02.284Z"
   },
   {
    "duration": 11,
    "start_time": "2023-11-03T19:28:03.007Z"
   },
   {
    "duration": 609,
    "start_time": "2023-11-03T19:28:03.020Z"
   },
   {
    "duration": 22,
    "start_time": "2023-11-03T19:28:03.631Z"
   },
   {
    "duration": 913,
    "start_time": "2023-11-03T19:28:03.655Z"
   },
   {
    "duration": 5,
    "start_time": "2023-11-03T19:28:04.569Z"
   },
   {
    "duration": 14,
    "start_time": "2023-11-03T19:28:04.575Z"
   },
   {
    "duration": 8,
    "start_time": "2023-11-03T19:28:04.591Z"
   },
   {
    "duration": 28,
    "start_time": "2023-11-03T19:28:04.600Z"
   },
   {
    "duration": 24,
    "start_time": "2023-11-03T19:28:04.630Z"
   },
   {
    "duration": 38,
    "start_time": "2023-11-03T19:28:04.655Z"
   },
   {
    "duration": 23,
    "start_time": "2023-11-03T19:28:04.694Z"
   },
   {
    "duration": 18,
    "start_time": "2023-11-03T19:28:04.718Z"
   },
   {
    "duration": 23,
    "start_time": "2023-11-03T19:28:04.738Z"
   },
   {
    "duration": 20,
    "start_time": "2023-11-03T19:28:04.763Z"
   },
   {
    "duration": 23,
    "start_time": "2023-11-03T19:28:04.785Z"
   },
   {
    "duration": 13,
    "start_time": "2023-11-03T19:28:04.810Z"
   },
   {
    "duration": 20,
    "start_time": "2023-11-03T19:28:04.825Z"
   },
   {
    "duration": 1229,
    "start_time": "2023-12-03T17:33:01.879Z"
   },
   {
    "duration": 189,
    "start_time": "2023-12-03T17:33:03.110Z"
   },
   {
    "duration": 4,
    "start_time": "2023-12-03T17:33:03.301Z"
   },
   {
    "duration": 380,
    "start_time": "2023-12-03T17:33:03.307Z"
   },
   {
    "duration": 487,
    "start_time": "2023-12-03T17:33:03.689Z"
   },
   {
    "duration": 438,
    "start_time": "2023-12-03T17:33:04.177Z"
   },
   {
    "duration": 10,
    "start_time": "2023-12-03T17:33:04.617Z"
   },
   {
    "duration": 71,
    "start_time": "2023-12-03T17:33:04.629Z"
   },
   {
    "duration": 10,
    "start_time": "2023-12-03T17:33:04.702Z"
   },
   {
    "duration": 6,
    "start_time": "2023-12-03T17:33:04.715Z"
   },
   {
    "duration": 5,
    "start_time": "2023-12-03T17:33:04.722Z"
   },
   {
    "duration": 12,
    "start_time": "2023-12-03T17:33:04.729Z"
   },
   {
    "duration": 12,
    "start_time": "2023-12-03T17:33:04.743Z"
   },
   {
    "duration": 5,
    "start_time": "2023-12-03T17:33:04.757Z"
   },
   {
    "duration": 16,
    "start_time": "2023-12-03T17:33:04.764Z"
   },
   {
    "duration": 147,
    "start_time": "2023-12-03T17:33:04.782Z"
   },
   {
    "duration": 7,
    "start_time": "2023-12-03T17:33:04.930Z"
   },
   {
    "duration": 96,
    "start_time": "2023-12-03T17:33:04.939Z"
   },
   {
    "duration": 39,
    "start_time": "2023-12-03T17:33:05.038Z"
   },
   {
    "duration": 238,
    "start_time": "2023-12-03T17:33:05.079Z"
   },
   {
    "duration": 355,
    "start_time": "2023-12-03T17:33:05.319Z"
   },
   {
    "duration": 340,
    "start_time": "2023-12-03T17:33:05.675Z"
   },
   {
    "duration": 10,
    "start_time": "2023-12-03T17:33:06.017Z"
   },
   {
    "duration": 791,
    "start_time": "2023-12-03T17:33:06.029Z"
   },
   {
    "duration": 570,
    "start_time": "2023-12-03T17:33:06.821Z"
   },
   {
    "duration": 210,
    "start_time": "2023-12-03T17:33:07.406Z"
   },
   {
    "duration": 6,
    "start_time": "2023-12-03T17:33:07.617Z"
   },
   {
    "duration": 19,
    "start_time": "2023-12-03T17:33:07.626Z"
   },
   {
    "duration": 21,
    "start_time": "2023-12-03T17:33:07.646Z"
   },
   {
    "duration": 20,
    "start_time": "2023-12-03T17:33:07.669Z"
   },
   {
    "duration": 34,
    "start_time": "2023-12-03T17:33:07.690Z"
   },
   {
    "duration": 31,
    "start_time": "2023-12-03T17:33:07.725Z"
   },
   {
    "duration": 5,
    "start_time": "2023-12-03T17:33:07.757Z"
   },
   {
    "duration": 11,
    "start_time": "2023-12-03T17:33:07.763Z"
   },
   {
    "duration": 27,
    "start_time": "2023-12-03T17:33:07.806Z"
   },
   {
    "duration": 27,
    "start_time": "2023-12-03T17:33:07.835Z"
   },
   {
    "duration": 695,
    "start_time": "2023-12-03T17:33:07.864Z"
   },
   {
    "duration": 12,
    "start_time": "2023-12-03T17:33:08.561Z"
   },
   {
    "duration": 643,
    "start_time": "2023-12-03T17:33:08.575Z"
   },
   {
    "duration": 12,
    "start_time": "2023-12-03T17:33:09.220Z"
   },
   {
    "duration": 904,
    "start_time": "2023-12-03T17:33:09.235Z"
   },
   {
    "duration": 5,
    "start_time": "2023-12-03T17:33:10.141Z"
   },
   {
    "duration": 7,
    "start_time": "2023-12-03T17:33:10.148Z"
   },
   {
    "duration": 5,
    "start_time": "2023-12-03T17:33:10.157Z"
   },
   {
    "duration": 7,
    "start_time": "2023-12-03T17:33:10.163Z"
   },
   {
    "duration": 42,
    "start_time": "2023-12-03T17:33:10.171Z"
   },
   {
    "duration": 21,
    "start_time": "2023-12-03T17:33:10.215Z"
   },
   {
    "duration": 4,
    "start_time": "2023-12-03T17:33:10.238Z"
   },
   {
    "duration": 14,
    "start_time": "2023-12-03T17:33:10.244Z"
   },
   {
    "duration": 12,
    "start_time": "2023-12-03T17:33:10.259Z"
   },
   {
    "duration": 25,
    "start_time": "2023-12-03T17:33:10.272Z"
   },
   {
    "duration": 29,
    "start_time": "2023-12-03T17:33:10.299Z"
   },
   {
    "duration": 11,
    "start_time": "2023-12-03T17:33:10.331Z"
   },
   {
    "duration": 15,
    "start_time": "2023-12-03T17:33:10.344Z"
   },
   {
    "duration": 1161,
    "start_time": "2023-12-27T20:16:28.141Z"
   },
   {
    "duration": 189,
    "start_time": "2023-12-27T20:16:29.304Z"
   },
   {
    "duration": 5,
    "start_time": "2023-12-27T20:16:29.495Z"
   },
   {
    "duration": 333,
    "start_time": "2023-12-27T20:16:29.504Z"
   },
   {
    "duration": 433,
    "start_time": "2023-12-27T20:16:29.838Z"
   },
   {
    "duration": 422,
    "start_time": "2023-12-27T20:16:30.274Z"
   },
   {
    "duration": 12,
    "start_time": "2023-12-27T20:16:30.698Z"
   },
   {
    "duration": 177,
    "start_time": "2023-12-27T20:16:30.722Z"
   },
   {
    "duration": 291,
    "start_time": "2023-12-27T20:16:30.900Z"
   },
   {
    "duration": 327,
    "start_time": "2023-12-27T20:16:31.193Z"
   },
   {
    "duration": 392,
    "start_time": "2023-12-27T20:16:31.522Z"
   },
   {
    "duration": 646,
    "start_time": "2023-12-27T20:16:31.916Z"
   },
   {
    "duration": 186,
    "start_time": "2023-12-27T20:16:32.564Z"
   },
   {
    "duration": 94,
    "start_time": "2023-12-27T20:16:32.752Z"
   },
   {
    "duration": 25,
    "start_time": "2023-12-27T20:16:32.848Z"
   },
   {
    "duration": 150,
    "start_time": "2023-12-27T20:16:32.874Z"
   },
   {
    "duration": 9,
    "start_time": "2023-12-27T20:16:33.026Z"
   },
   {
    "duration": 17,
    "start_time": "2023-12-27T20:16:33.036Z"
   },
   {
    "duration": 22,
    "start_time": "2023-12-27T20:16:33.055Z"
   },
   {
    "duration": 226,
    "start_time": "2023-12-27T20:16:33.079Z"
   },
   {
    "duration": 395,
    "start_time": "2023-12-27T20:16:33.307Z"
   },
   {
    "duration": 310,
    "start_time": "2023-12-27T20:16:33.704Z"
   },
   {
    "duration": 12,
    "start_time": "2023-12-27T20:16:34.016Z"
   },
   {
    "duration": 705,
    "start_time": "2023-12-27T20:16:34.030Z"
   },
   {
    "duration": 793,
    "start_time": "2023-12-27T20:16:34.737Z"
   },
   {
    "duration": 216,
    "start_time": "2023-12-27T20:16:35.532Z"
   },
   {
    "duration": 5,
    "start_time": "2023-12-27T20:16:35.750Z"
   },
   {
    "duration": 41,
    "start_time": "2023-12-27T20:16:35.759Z"
   },
   {
    "duration": 57,
    "start_time": "2023-12-27T20:16:35.801Z"
   },
   {
    "duration": 58,
    "start_time": "2023-12-27T20:16:35.860Z"
   },
   {
    "duration": 44,
    "start_time": "2023-12-27T20:16:35.920Z"
   },
   {
    "duration": 67,
    "start_time": "2023-12-27T20:16:35.966Z"
   },
   {
    "duration": 5,
    "start_time": "2023-12-27T20:16:36.036Z"
   },
   {
    "duration": 13,
    "start_time": "2023-12-27T20:16:36.043Z"
   },
   {
    "duration": 29,
    "start_time": "2023-12-27T20:16:36.058Z"
   },
   {
    "duration": 48,
    "start_time": "2023-12-27T20:16:36.089Z"
   },
   {
    "duration": 676,
    "start_time": "2023-12-27T20:16:36.139Z"
   },
   {
    "duration": 12,
    "start_time": "2023-12-27T20:16:36.821Z"
   },
   {
    "duration": 559,
    "start_time": "2023-12-27T20:16:36.834Z"
   },
   {
    "duration": 10,
    "start_time": "2023-12-27T20:16:37.395Z"
   },
   {
    "duration": 884,
    "start_time": "2023-12-27T20:16:37.407Z"
   },
   {
    "duration": 4,
    "start_time": "2023-12-27T20:16:38.293Z"
   },
   {
    "duration": 159,
    "start_time": "2023-12-27T20:16:38.299Z"
   },
   {
    "duration": 73,
    "start_time": "2023-12-27T20:16:38.460Z"
   },
   {
    "duration": 49,
    "start_time": "2023-12-27T20:16:38.535Z"
   },
   {
    "duration": 30,
    "start_time": "2023-12-27T20:16:38.586Z"
   },
   {
    "duration": 19,
    "start_time": "2023-12-27T20:16:38.618Z"
   },
   {
    "duration": 17,
    "start_time": "2023-12-27T20:16:38.638Z"
   },
   {
    "duration": 27,
    "start_time": "2023-12-27T20:16:38.656Z"
   },
   {
    "duration": 13,
    "start_time": "2023-12-27T20:16:38.685Z"
   },
   {
    "duration": 19,
    "start_time": "2023-12-27T20:16:38.700Z"
   },
   {
    "duration": 25,
    "start_time": "2023-12-27T20:16:38.721Z"
   },
   {
    "duration": 111,
    "start_time": "2023-12-27T20:16:38.747Z"
   },
   {
    "duration": 33,
    "start_time": "2023-12-27T20:16:38.861Z"
   }
  ],
  "celltoolbar": "Необработанный формат ячейки",
  "kernelspec": {
   "display_name": "Python 3 (ipykernel)",
   "language": "python",
   "name": "python3"
  },
  "language_info": {
   "codemirror_mode": {
    "name": "ipython",
    "version": 3
   },
   "file_extension": ".py",
   "mimetype": "text/x-python",
   "name": "python",
   "nbconvert_exporter": "python",
   "pygments_lexer": "ipython3",
   "version": "3.9.5"
  },
  "toc": {
   "base_numbering": 1,
   "nav_menu": {
    "height": "451px",
    "width": "380px"
   },
   "number_sections": true,
   "sideBar": true,
   "skip_h1_title": true,
   "title_cell": "Table of Contents",
   "title_sidebar": "Contents",
   "toc_cell": false,
   "toc_position": {},
   "toc_section_display": true,
   "toc_window_display": false
  }
 },
 "nbformat": 4,
 "nbformat_minor": 5
}
