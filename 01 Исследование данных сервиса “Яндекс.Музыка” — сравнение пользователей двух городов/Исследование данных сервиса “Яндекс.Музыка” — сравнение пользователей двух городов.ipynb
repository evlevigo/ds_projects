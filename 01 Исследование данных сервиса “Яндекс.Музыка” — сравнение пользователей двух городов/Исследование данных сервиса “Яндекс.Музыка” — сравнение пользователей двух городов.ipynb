{
 "cells": [
  {
   "cell_type": "markdown",
   "metadata": {
    "deletable": false,
    "editable": false,
    "id": "E0vqbgi9ay0H"
   },
   "source": [
    "# Яндекс Музыка"
   ]
  },
  {
   "cell_type": "markdown",
   "metadata": {
    "deletable": false,
    "editable": false,
    "id": "VUC88oWjTJw2"
   },
   "source": [
    "Сравнение Москвы и Петербурга окружено мифами. Например:\n",
    " * Москва — мегаполис, подчинённый жёсткому ритму рабочей недели;\n",
    " * Петербург — культурная столица, со своими вкусами.\n",
    "\n",
    "На данных Яндекс Музыки вы сравните поведение пользователей двух столиц.\n",
    "\n",
    "**Цель исследования** — проверьте три гипотезы:\n",
    "1. Активность пользователей зависит от дня недели. Причём в Москве и Петербурге это проявляется по-разному.\n",
    "2. В понедельник утром в Москве преобладают одни жанры, а в Петербурге — другие. Так же и вечером пятницы преобладают разные жанры — в зависимости от города.\n",
    "3. Москва и Петербург предпочитают разные жанры музыки. В Москве чаще слушают поп-музыку, в Петербурге — русский рэп.\n",
    "\n",
    "**Ход исследования**\n",
    "\n",
    "Данные о поведении пользователей вы получите из файла `yandex_music_project.csv`. О качестве данных ничего не известно. Поэтому перед проверкой гипотез понадобится обзор данных.\n",
    "\n",
    "Вы проверите данные на ошибки и оцените их влияние на исследование. Затем, на этапе предобработки вы поищете возможность исправить самые критичные ошибки данных.\n",
    "\n",
    "Таким образом, исследование пройдёт в три этапа:\n",
    " 1. Обзор данных.\n",
    " 2. Предобработка данных.\n",
    " 3. Проверка гипотез.\n",
    "\n"
   ]
  },
  {
   "cell_type": "markdown",
   "metadata": {
    "deletable": false,
    "editable": false,
    "id": "Ml1hmfXC_Zcs"
   },
   "source": [
    "## Обзор данных\n",
    "\n",
    "Составьте первое представление о данных Яндекс Музыки.\n",
    "\n",
    "\n"
   ]
  },
  {
   "cell_type": "markdown",
   "metadata": {
    "deletable": false,
    "editable": false,
    "id": "57eAOGIz_Zcs",
    "tags": [
     "start_task"
    ]
   },
   "source": [
    "**Задание 1**\n",
    "\n",
    "Основной инструмент аналитика — `pandas`. Импортируйте эту библиотеку."
   ]
  },
  {
   "cell_type": "code",
   "execution_count": 1,
   "metadata": {
    "deletable": false,
    "id": "AXN7PHPN_Zcs"
   },
   "outputs": [],
   "source": [
    "# импорт библиотеки pandas\n",
    "import pandas as pd"
   ]
  },
  {
   "cell_type": "markdown",
   "metadata": {
    "deletable": false,
    "editable": false,
    "id": "SG23P8tt_Zcs",
    "tags": [
     "start_task"
    ]
   },
   "source": [
    "**Задание 2**\n",
    "\n",
    "Прочитайте файл `yandex_music_project.csv` из папки `/datasets` и сохраните его в переменной `df`:"
   ]
  },
  {
   "cell_type": "code",
   "execution_count": 2,
   "metadata": {
    "deletable": false,
    "id": "fFVu7vqh_Zct"
   },
   "outputs": [],
   "source": [
    "# чтение файла с данными и сохранение в df\n",
    "df = pd.read_csv('/datasets/yandex_music_project.csv')"
   ]
  },
  {
   "cell_type": "markdown",
   "metadata": {
    "deletable": false,
    "editable": false,
    "id": "rDoOMd3uTqnZ",
    "tags": [
     "start_task"
    ]
   },
   "source": [
    "**Задание 3**\n",
    "\n",
    "\n",
    "Выведите на экран первые десять строк таблицы:"
   ]
  },
  {
   "cell_type": "code",
   "execution_count": 3,
   "metadata": {
    "deletable": false,
    "id": "oWTVX3gW_Zct"
   },
   "outputs": [
    {
     "name": "stdout",
     "output_type": "stream",
     "text": [
      "     userID                        Track            artist   genre  \\\n",
      "0  FFB692EC            Kamigata To Boots  The Mass Missile    rock   \n",
      "1  55204538  Delayed Because of Accident  Andreas Rönnberg    rock   \n",
      "2    20EC38            Funiculì funiculà       Mario Lanza     pop   \n",
      "3  A3DD03C9        Dragons in the Sunset        Fire + Ice    folk   \n",
      "4  E2DC1FAE                  Soul People        Space Echo   dance   \n",
      "5  842029A1                    Преданная         IMPERVTOR  rusrap   \n",
      "6  4CB90AA5                         True      Roman Messer   dance   \n",
      "7  F03E1C1F             Feeling This Way   Polina Griffith   dance   \n",
      "8  8FA1D3BE     И вновь продолжается бой               NaN  ruspop   \n",
      "9  E772D5C0                    Pessimist               NaN   dance   \n",
      "\n",
      "             City        time        Day  \n",
      "0  Saint-Petersburg  20:28:33  Wednesday  \n",
      "1            Moscow  14:07:09     Friday  \n",
      "2  Saint-Petersburg  20:58:07  Wednesday  \n",
      "3  Saint-Petersburg  08:37:09     Monday  \n",
      "4            Moscow  08:34:34     Monday  \n",
      "5  Saint-Petersburg  13:09:41     Friday  \n",
      "6            Moscow  13:00:07  Wednesday  \n",
      "7            Moscow  20:47:49  Wednesday  \n",
      "8            Moscow  09:17:40     Friday  \n",
      "9  Saint-Petersburg  21:20:49  Wednesday  \n"
     ]
    }
   ],
   "source": [
    "# получение первых 10 строк таблицы df\n",
    "print(df.head(10))"
   ]
  },
  {
   "cell_type": "markdown",
   "metadata": {
    "deletable": false,
    "editable": false,
    "id": "EO73Kwic_Zct",
    "tags": [
     "start_task"
    ]
   },
   "source": [
    "**Задание 4**\n",
    "\n",
    "\n",
    "Одной командой получить общую информацию о таблице c помощью метода `info()`:"
   ]
  },
  {
   "cell_type": "code",
   "execution_count": 4,
   "metadata": {
    "deletable": false,
    "id": "DSf2kIb-_Zct"
   },
   "outputs": [
    {
     "name": "stdout",
     "output_type": "stream",
     "text": [
      "<class 'pandas.core.frame.DataFrame'>\n",
      "RangeIndex: 65079 entries, 0 to 65078\n",
      "Data columns (total 7 columns):\n",
      " #   Column    Non-Null Count  Dtype \n",
      "---  ------    --------------  ----- \n",
      " 0     userID  65079 non-null  object\n",
      " 1   Track     63848 non-null  object\n",
      " 2   artist    57876 non-null  object\n",
      " 3   genre     63881 non-null  object\n",
      " 4     City    65079 non-null  object\n",
      " 5   time      65079 non-null  object\n",
      " 6   Day       65079 non-null  object\n",
      "dtypes: object(7)\n",
      "memory usage: 3.5+ MB\n"
     ]
    }
   ],
   "source": [
    "# получение общей информации о данных в таблице df\n",
    "df.info()"
   ]
  },
  {
   "cell_type": "markdown",
   "metadata": {
    "deletable": false,
    "editable": false,
    "id": "TaQ2Iwbr_Zct"
   },
   "source": [
    "Итак, в таблице семь столбцов. Тип данных во всех столбцах — `object`.\n",
    "\n",
    "Согласно документации к данным:\n",
    "* `userID` — идентификатор пользователя;\n",
    "* `Track` — название трека;  \n",
    "* `artist` — имя исполнителя;\n",
    "* `genre` — название жанра;\n",
    "* `City` — город пользователя;\n",
    "* `time` — время начала прослушивания;\n",
    "* `Day` — день недели.\n",
    "\n",
    "Количество значений в столбцах различается. Значит, в данных есть пропущенные значения."
   ]
  },
  {
   "cell_type": "markdown",
   "metadata": {
    "deletable": false,
    "editable": false,
    "id": "4P0UCWzswgEm",
    "tags": [
     "start_task"
    ]
   },
   "source": [
    "**Задание 5**\n",
    "\n",
    "**Вопрос со свободной формой ответа**\n",
    "\n",
    "В названиях колонок видны три нарушения стиля:\n",
    "1. Строчные буквы сочетаются с прописными.\n",
    "2. Встречаются пробелы."
   ]
  },
  {
   "cell_type": "code",
   "execution_count": 5,
   "metadata": {
    "id": "c137-ZstwgEm"
   },
   "outputs": [],
   "source": [
    "# Необходимо внести корректировки в наименования столбцов, убрать пробелы\n"
   ]
  },
  {
   "cell_type": "markdown",
   "metadata": {
    "deletable": false,
    "editable": false,
    "id": "MCB6-dXG_Zct"
   },
   "source": [
    "**Выводы**\n",
    "\n",
    "В каждой строке таблицы — данные о прослушанном треке. Часть колонок описывает саму композицию: название, исполнителя и жанр. Остальные данные рассказывают о пользователе: из какого он города, когда он слушал музыку.\n",
    "\n",
    "Предварительно можно утверждать, что данных достаточно для проверки гипотез. Но встречаются пропуски в данных, а в названиях колонок — расхождения с хорошим стилем.\n",
    "\n",
    "Чтобы двигаться дальше, нужно устранить проблемы в данных."
   ]
  },
  {
   "cell_type": "markdown",
   "metadata": {
    "deletable": false,
    "editable": false,
    "id": "SjYF6Ub9_Zct"
   },
   "source": [
    "## Предобработка данных\n",
    "Исправьте стиль в заголовках столбцов, исключите пропуски. Затем проверьте данные на дубликаты."
   ]
  },
  {
   "cell_type": "markdown",
   "metadata": {
    "deletable": false,
    "editable": false,
    "id": "dIaKXr29_Zct",
    "tags": [
     "start_task"
    ]
   },
   "source": [
    "### Стиль заголовков\n",
    "\n",
    "**Задание 6**\n",
    "\n",
    "Выведите на экран названия столбцов:"
   ]
  },
  {
   "cell_type": "code",
   "execution_count": 6,
   "metadata": {
    "deletable": false,
    "id": "oKOTdF_Q_Zct"
   },
   "outputs": [
    {
     "name": "stdout",
     "output_type": "stream",
     "text": [
      "Index(['  userID', 'Track', 'artist', 'genre', '  City  ', 'time', 'Day'], dtype='object')\n"
     ]
    }
   ],
   "source": [
    "# перечень названий столбцов таблицы df\n",
    "print(df.columns)"
   ]
  },
  {
   "cell_type": "markdown",
   "metadata": {
    "deletable": false,
    "editable": false,
    "id": "zj5534cv_Zct",
    "tags": [
     "start_task"
    ]
   },
   "source": [
    "**Задание 7**\n",
    "\n",
    "\n",
    "Приведите названия в соответствие с хорошим стилем:\n",
    "* несколько слов в названии запишите в «змеином_регистре»,\n",
    "* все символы сделайте строчными,\n",
    "* устраните пробелы.\n",
    "\n",
    "Для этого переименуйте колонки так:\n",
    "* `'  userID'` → `'user_id'`;\n",
    "* `'Track'` → `'track'`;\n",
    "* `'  City  '` → `'city'`;\n",
    "* `'Day'` → `'day'`."
   ]
  },
  {
   "cell_type": "code",
   "execution_count": 7,
   "metadata": {
    "deletable": false,
    "id": "ISlFqs5y_Zct"
   },
   "outputs": [],
   "source": [
    "# переименование столбцов\n",
    "df = df.rename(columns={'  userID': 'user_id','Track': 'track','  City  ': 'city','Day': 'day'})"
   ]
  },
  {
   "cell_type": "markdown",
   "metadata": {
    "deletable": false,
    "editable": false,
    "id": "1dqbh00J_Zct",
    "tags": [
     "start_task"
    ]
   },
   "source": [
    "**Задание 8**\n",
    "\n",
    "\n",
    "Проверьте результат. Для этого ещё раз выведите на экран названия столбцов:"
   ]
  },
  {
   "cell_type": "code",
   "execution_count": 8,
   "metadata": {
    "deletable": false,
    "id": "d4NOAmTW_Zct"
   },
   "outputs": [
    {
     "name": "stdout",
     "output_type": "stream",
     "text": [
      "Index(['user_id', 'track', 'artist', 'genre', 'city', 'time', 'day'], dtype='object')\n"
     ]
    }
   ],
   "source": [
    "# проверка результатов - перечень названий столбцов\n",
    "print(df.columns)"
   ]
  },
  {
   "cell_type": "markdown",
   "metadata": {
    "deletable": false,
    "editable": false,
    "id": "5ISfbcfY_Zct",
    "tags": [
     "start_task"
    ]
   },
   "source": [
    "### Пропуски значений\n",
    "\n",
    "**Задание 9**\n",
    "\n",
    "Сначала посчитайте, сколько в таблице пропущенных значений. Для этого достаточно двух методов `pandas`:"
   ]
  },
  {
   "cell_type": "code",
   "execution_count": 9,
   "metadata": {
    "deletable": false,
    "id": "RskX29qr_Zct"
   },
   "outputs": [
    {
     "data": {
      "text/plain": [
       "user_id       0\n",
       "track      1231\n",
       "artist     7203\n",
       "genre      1198\n",
       "city          0\n",
       "time          0\n",
       "day           0\n",
       "dtype: int64"
      ]
     },
     "execution_count": 9,
     "metadata": {},
     "output_type": "execute_result"
    }
   ],
   "source": [
    "# подсчёт пропусков\n",
    "df.isna().sum()"
   ]
  },
  {
   "cell_type": "markdown",
   "metadata": {
    "deletable": false,
    "editable": false,
    "id": "qubhgnlO_Zct"
   },
   "source": [
    "Не все пропущенные значения влияют на исследование. Так, в `track` и `artist` пропуски не важны для вашей работы. Достаточно заменить их явными обозначениями.\n",
    "\n",
    "Но пропуски в `genre` могут помешать сравнить музыкальные вкусы в Москве и Санкт-Петербурге. На практике было бы правильно установить причину пропусков и восстановить данные. Такой возможности нет в учебном проекте. Поэтому придётся:\n",
    "* заполнить и эти пропуски явными обозначениями;\n",
    "* оценить, насколько они повредят расчётам."
   ]
  },
  {
   "cell_type": "markdown",
   "metadata": {
    "deletable": false,
    "editable": false,
    "id": "fSv2laPA_Zct",
    "tags": [
     "start_task"
    ]
   },
   "source": [
    "**Задание 10**\n",
    "\n",
    "Замените пропущенные значения в столбцах `track`, `artist` и `genre` на строку `'unknown'`. Для этого создайте список `columns_to_replace`, переберите его элементы циклом `for` и для каждого столбца выполните замену пропущенных значений:"
   ]
  },
  {
   "cell_type": "code",
   "execution_count": 10,
   "metadata": {
    "deletable": false,
    "id": "KplB5qWs_Zct"
   },
   "outputs": [],
   "source": [
    "# перебор названий столбцов в цикле и замена пропущенных значений на 'unknown'\n",
    "columns_to_replace = ['track', 'artist', 'genre']\n",
    "for i in columns_to_replace:\n",
    "    df[i] = df[i].fillna('unknown')"
   ]
  },
  {
   "cell_type": "markdown",
   "metadata": {
    "deletable": false,
    "editable": false,
    "id": "Ilsm-MZo_Zct",
    "tags": [
     "start_task"
    ]
   },
   "source": [
    "**Задание 11**\n",
    "\n",
    "Убедитесь, что в таблице не осталось пропусков. Для этого ещё раз посчитайте пропущенные значения."
   ]
  },
  {
   "cell_type": "code",
   "execution_count": 11,
   "metadata": {
    "deletable": false,
    "id": "Tq4nYRX4_Zct"
   },
   "outputs": [
    {
     "data": {
      "text/plain": [
       "user_id    0\n",
       "track      0\n",
       "artist     0\n",
       "genre      0\n",
       "city       0\n",
       "time       0\n",
       "day        0\n",
       "dtype: int64"
      ]
     },
     "execution_count": 11,
     "metadata": {},
     "output_type": "execute_result"
    }
   ],
   "source": [
    "# подсчёт пропусков\n",
    "df.isna().sum()"
   ]
  },
  {
   "cell_type": "markdown",
   "metadata": {
    "deletable": false,
    "editable": false,
    "id": "BWKRtBJ3_Zct",
    "tags": [
     "start_task"
    ]
   },
   "source": [
    "### Дубликаты\n",
    "\n",
    "**Задание 12**\n",
    "\n",
    "Посчитайте явные дубликаты в таблице одной командой:"
   ]
  },
  {
   "cell_type": "code",
   "execution_count": 12,
   "metadata": {
    "deletable": false,
    "id": "36eES_S0_Zct"
   },
   "outputs": [
    {
     "data": {
      "text/plain": [
       "3826"
      ]
     },
     "execution_count": 12,
     "metadata": {},
     "output_type": "execute_result"
    }
   ],
   "source": [
    "# подсчёт явных дубликатов\n",
    "df.duplicated().sum()"
   ]
  },
  {
   "cell_type": "markdown",
   "metadata": {
    "deletable": false,
    "editable": false,
    "id": "Ot25h6XR_Zct",
    "tags": [
     "start_task"
    ]
   },
   "source": [
    "**Задание 13**\n",
    "\n",
    "Вызовите специальный метод `pandas`, чтобы удалить явные дубликаты:"
   ]
  },
  {
   "cell_type": "code",
   "execution_count": 13,
   "metadata": {
    "deletable": false,
    "id": "exFHq6tt_Zct"
   },
   "outputs": [],
   "source": [
    "# удаление явных дубликатов\n",
    "df = df.drop_duplicates()"
   ]
  },
  {
   "cell_type": "markdown",
   "metadata": {
    "deletable": false,
    "editable": false,
    "id": "Im2YwBEG_Zct",
    "tags": [
     "start_task"
    ]
   },
   "source": [
    "**Задание 14**\n",
    "\n",
    "Ещё раз посчитайте явные дубликаты в таблице — убедитесь, что полностью от них избавились:"
   ]
  },
  {
   "cell_type": "code",
   "execution_count": 14,
   "metadata": {
    "deletable": false,
    "id": "-8PuNWQ0_Zct"
   },
   "outputs": [
    {
     "data": {
      "text/plain": [
       "0"
      ]
     },
     "execution_count": 14,
     "metadata": {},
     "output_type": "execute_result"
    }
   ],
   "source": [
    "# проверка на отсутствие дубликатов\n",
    "df.duplicated().sum()"
   ]
  },
  {
   "cell_type": "markdown",
   "metadata": {
    "deletable": false,
    "editable": false,
    "id": "QlFBsxAr_Zct"
   },
   "source": [
    "Теперь избавьтесь от неявных дубликатов в колонке `genre`. Например, название одного и того же жанра может быть записано немного по-разному. Такие ошибки тоже повлияют на результат исследования."
   ]
  },
  {
   "cell_type": "markdown",
   "metadata": {
    "deletable": false,
    "editable": false,
    "id": "eSjWwsOh_Zct",
    "tags": [
     "start_task"
    ]
   },
   "source": [
    "**Задание 15**\n",
    "\n",
    "Выведите на экран список уникальных названий жанров, отсортированный в алфавитном порядке. Для этого:\n",
    "* извлеките нужный столбец датафрейма;\n",
    "* примените к нему метод сортировки;\n",
    "* для отсортированного столбца вызовите метод, который вернёт уникальные значения из столбца."
   ]
  },
  {
   "cell_type": "code",
   "execution_count": 15,
   "metadata": {
    "deletable": false,
    "id": "JIUcqzZN_Zct"
   },
   "outputs": [
    {
     "data": {
      "text/plain": [
       "array(['acid', 'acoustic', 'action', 'adult', 'africa', 'afrikaans',\n",
       "       'alternative', 'alternativepunk', 'ambient', 'americana',\n",
       "       'animated', 'anime', 'arabesk', 'arabic', 'arena',\n",
       "       'argentinetango', 'art', 'audiobook', 'author', 'avantgarde',\n",
       "       'axé', 'baile', 'balkan', 'beats', 'bigroom', 'black', 'bluegrass',\n",
       "       'blues', 'bollywood', 'bossa', 'brazilian', 'breakbeat', 'breaks',\n",
       "       'broadway', 'cantautori', 'cantopop', 'canzone', 'caribbean',\n",
       "       'caucasian', 'celtic', 'chamber', 'chanson', 'children', 'chill',\n",
       "       'chinese', 'choral', 'christian', 'christmas', 'classical',\n",
       "       'classicmetal', 'club', 'colombian', 'comedy', 'conjazz',\n",
       "       'contemporary', 'country', 'cuban', 'dance', 'dancehall',\n",
       "       'dancepop', 'dark', 'death', 'deep', 'deutschrock', 'deutschspr',\n",
       "       'dirty', 'disco', 'dnb', 'documentary', 'downbeat', 'downtempo',\n",
       "       'drum', 'dub', 'dubstep', 'eastern', 'easy', 'electronic',\n",
       "       'electropop', 'emo', 'entehno', 'epicmetal', 'estrada', 'ethnic',\n",
       "       'eurofolk', 'european', 'experimental', 'extrememetal', 'fado',\n",
       "       'fairytail', 'film', 'fitness', 'flamenco', 'folk', 'folklore',\n",
       "       'folkmetal', 'folkrock', 'folktronica', 'forró', 'frankreich',\n",
       "       'französisch', 'french', 'funk', 'future', 'gangsta', 'garage',\n",
       "       'german', 'ghazal', 'gitarre', 'glitch', 'gospel', 'gothic',\n",
       "       'grime', 'grunge', 'gypsy', 'handsup', \"hard'n'heavy\", 'hardcore',\n",
       "       'hardstyle', 'hardtechno', 'hip', 'hip-hop', 'hiphop',\n",
       "       'historisch', 'holiday', 'hop', 'horror', 'house', 'hymn', 'idm',\n",
       "       'independent', 'indian', 'indie', 'indipop', 'industrial',\n",
       "       'inspirational', 'instrumental', 'international', 'irish', 'jam',\n",
       "       'japanese', 'jazz', 'jewish', 'jpop', 'jungle', 'k-pop',\n",
       "       'karadeniz', 'karaoke', 'kayokyoku', 'korean', 'laiko', 'latin',\n",
       "       'latino', 'leftfield', 'local', 'lounge', 'loungeelectronic',\n",
       "       'lovers', 'malaysian', 'mandopop', 'marschmusik', 'meditative',\n",
       "       'mediterranean', 'melodic', 'metal', 'metalcore', 'mexican',\n",
       "       'middle', 'minimal', 'miscellaneous', 'modern', 'mood', 'mpb',\n",
       "       'muslim', 'native', 'neoklassik', 'neue', 'new', 'newage',\n",
       "       'newwave', 'nu', 'nujazz', 'numetal', 'oceania', 'old', 'opera',\n",
       "       'orchestral', 'other', 'piano', 'podcasts', 'pop', 'popdance',\n",
       "       'popelectronic', 'popeurodance', 'poprussian', 'post',\n",
       "       'posthardcore', 'postrock', 'power', 'progmetal', 'progressive',\n",
       "       'psychedelic', 'punjabi', 'punk', 'quebecois', 'ragga', 'ram',\n",
       "       'rancheras', 'rap', 'rave', 'reggae', 'reggaeton', 'regional',\n",
       "       'relax', 'religious', 'retro', 'rhythm', 'rnb', 'rnr', 'rock',\n",
       "       'rockabilly', 'rockalternative', 'rockindie', 'rockother',\n",
       "       'romance', 'roots', 'ruspop', 'rusrap', 'rusrock', 'russian',\n",
       "       'salsa', 'samba', 'scenic', 'schlager', 'self', 'sertanejo',\n",
       "       'shanson', 'shoegazing', 'showtunes', 'singer', 'ska', 'skarock',\n",
       "       'slow', 'smooth', 'soft', 'soul', 'soulful', 'sound', 'soundtrack',\n",
       "       'southern', 'specialty', 'speech', 'spiritual', 'sport',\n",
       "       'stonerrock', 'surf', 'swing', 'synthpop', 'synthrock',\n",
       "       'sängerportrait', 'tango', 'tanzorchester', 'taraftar', 'tatar',\n",
       "       'tech', 'techno', 'teen', 'thrash', 'top', 'traditional',\n",
       "       'tradjazz', 'trance', 'tribal', 'trip', 'triphop', 'tropical',\n",
       "       'türk', 'türkçe', 'ukrrock', 'unknown', 'urban', 'uzbek',\n",
       "       'variété', 'vi', 'videogame', 'vocal', 'western', 'world',\n",
       "       'worldbeat', 'ïîï', 'электроника'], dtype=object)"
      ]
     },
     "execution_count": 15,
     "metadata": {},
     "output_type": "execute_result"
    }
   ],
   "source": [
    "# Просмотр уникальных названий жанров\n",
    "\n",
    "df['genre'].sort_values(ascending=True).unique()"
   ]
  },
  {
   "cell_type": "markdown",
   "metadata": {
    "deletable": false,
    "editable": false,
    "id": "qej-Qmuo_Zct",
    "tags": [
     "start_task"
    ]
   },
   "source": [
    "**Задание 16**\n",
    "\n",
    "Просмотрите список и найдите неявные дубликаты названия `hiphop`. Это могут быть названия с ошибками или альтернативные названия того же жанра.\n",
    "\n",
    "Вы увидите следующие неявные дубликаты:\n",
    "* *hip*,\n",
    "* *hop*,\n",
    "* *hip-hop*.\n",
    "\n",
    "Чтобы очистить от них таблицу, используйте метод `replace()` с двумя аргументами: списком строк-дубликатов (включающий *hip*, *hop* и *hip-hop*) и строкой с правильным значением. Вам нужно исправить колонку `genre` в таблице `df`: заменить каждое значение из списка дубликатов на верное. Вместо `hip`, `hop` и `hip-hop` в таблице должно быть значение `hiphop`:"
   ]
  },
  {
   "cell_type": "code",
   "execution_count": 16,
   "metadata": {
    "deletable": false,
    "id": "ErNDkmns_Zct",
    "scrolled": false
   },
   "outputs": [],
   "source": [
    "# Устранение неявных дубликатов\n",
    "old_name = ['hip', 'hop', 'hip-hop']\n",
    "\n",
    "df['genre'] = df['genre'].replace(old_name, 'hiphop')"
   ]
  },
  {
   "cell_type": "markdown",
   "metadata": {
    "deletable": false,
    "editable": false,
    "id": "zQKF16_RG15m",
    "tags": [
     "start_task"
    ]
   },
   "source": [
    "**Задание 17**\n",
    "\n",
    "Проверьте, что заменили неправильные названия:\n",
    "\n",
    "*   *hip*,\n",
    "*   *hop*,\n",
    "*   *hip-hop*.\n",
    "\n",
    "Выведите отсортированный список уникальных значений столбца `genre`:"
   ]
  },
  {
   "cell_type": "code",
   "execution_count": 17,
   "metadata": {
    "deletable": false,
    "id": "wvixALnFG15m"
   },
   "outputs": [
    {
     "data": {
      "text/plain": [
       "array(['acid', 'acoustic', 'action', 'adult', 'africa', 'afrikaans',\n",
       "       'alternative', 'alternativepunk', 'ambient', 'americana',\n",
       "       'animated', 'anime', 'arabesk', 'arabic', 'arena',\n",
       "       'argentinetango', 'art', 'audiobook', 'author', 'avantgarde',\n",
       "       'axé', 'baile', 'balkan', 'beats', 'bigroom', 'black', 'bluegrass',\n",
       "       'blues', 'bollywood', 'bossa', 'brazilian', 'breakbeat', 'breaks',\n",
       "       'broadway', 'cantautori', 'cantopop', 'canzone', 'caribbean',\n",
       "       'caucasian', 'celtic', 'chamber', 'chanson', 'children', 'chill',\n",
       "       'chinese', 'choral', 'christian', 'christmas', 'classical',\n",
       "       'classicmetal', 'club', 'colombian', 'comedy', 'conjazz',\n",
       "       'contemporary', 'country', 'cuban', 'dance', 'dancehall',\n",
       "       'dancepop', 'dark', 'death', 'deep', 'deutschrock', 'deutschspr',\n",
       "       'dirty', 'disco', 'dnb', 'documentary', 'downbeat', 'downtempo',\n",
       "       'drum', 'dub', 'dubstep', 'eastern', 'easy', 'electronic',\n",
       "       'electropop', 'emo', 'entehno', 'epicmetal', 'estrada', 'ethnic',\n",
       "       'eurofolk', 'european', 'experimental', 'extrememetal', 'fado',\n",
       "       'fairytail', 'film', 'fitness', 'flamenco', 'folk', 'folklore',\n",
       "       'folkmetal', 'folkrock', 'folktronica', 'forró', 'frankreich',\n",
       "       'französisch', 'french', 'funk', 'future', 'gangsta', 'garage',\n",
       "       'german', 'ghazal', 'gitarre', 'glitch', 'gospel', 'gothic',\n",
       "       'grime', 'grunge', 'gypsy', 'handsup', \"hard'n'heavy\", 'hardcore',\n",
       "       'hardstyle', 'hardtechno', 'hiphop', 'historisch', 'holiday',\n",
       "       'horror', 'house', 'hymn', 'idm', 'independent', 'indian', 'indie',\n",
       "       'indipop', 'industrial', 'inspirational', 'instrumental',\n",
       "       'international', 'irish', 'jam', 'japanese', 'jazz', 'jewish',\n",
       "       'jpop', 'jungle', 'k-pop', 'karadeniz', 'karaoke', 'kayokyoku',\n",
       "       'korean', 'laiko', 'latin', 'latino', 'leftfield', 'local',\n",
       "       'lounge', 'loungeelectronic', 'lovers', 'malaysian', 'mandopop',\n",
       "       'marschmusik', 'meditative', 'mediterranean', 'melodic', 'metal',\n",
       "       'metalcore', 'mexican', 'middle', 'minimal', 'miscellaneous',\n",
       "       'modern', 'mood', 'mpb', 'muslim', 'native', 'neoklassik', 'neue',\n",
       "       'new', 'newage', 'newwave', 'nu', 'nujazz', 'numetal', 'oceania',\n",
       "       'old', 'opera', 'orchestral', 'other', 'piano', 'podcasts', 'pop',\n",
       "       'popdance', 'popelectronic', 'popeurodance', 'poprussian', 'post',\n",
       "       'posthardcore', 'postrock', 'power', 'progmetal', 'progressive',\n",
       "       'psychedelic', 'punjabi', 'punk', 'quebecois', 'ragga', 'ram',\n",
       "       'rancheras', 'rap', 'rave', 'reggae', 'reggaeton', 'regional',\n",
       "       'relax', 'religious', 'retro', 'rhythm', 'rnb', 'rnr', 'rock',\n",
       "       'rockabilly', 'rockalternative', 'rockindie', 'rockother',\n",
       "       'romance', 'roots', 'ruspop', 'rusrap', 'rusrock', 'russian',\n",
       "       'salsa', 'samba', 'scenic', 'schlager', 'self', 'sertanejo',\n",
       "       'shanson', 'shoegazing', 'showtunes', 'singer', 'ska', 'skarock',\n",
       "       'slow', 'smooth', 'soft', 'soul', 'soulful', 'sound', 'soundtrack',\n",
       "       'southern', 'specialty', 'speech', 'spiritual', 'sport',\n",
       "       'stonerrock', 'surf', 'swing', 'synthpop', 'synthrock',\n",
       "       'sängerportrait', 'tango', 'tanzorchester', 'taraftar', 'tatar',\n",
       "       'tech', 'techno', 'teen', 'thrash', 'top', 'traditional',\n",
       "       'tradjazz', 'trance', 'tribal', 'trip', 'triphop', 'tropical',\n",
       "       'türk', 'türkçe', 'ukrrock', 'unknown', 'urban', 'uzbek',\n",
       "       'variété', 'vi', 'videogame', 'vocal', 'western', 'world',\n",
       "       'worldbeat', 'ïîï', 'электроника'], dtype=object)"
      ]
     },
     "execution_count": 17,
     "metadata": {},
     "output_type": "execute_result"
    }
   ],
   "source": [
    "# Проверка на неявные дубликаты\n",
    "df['genre'].sort_values(ascending=True).unique()"
   ]
  },
  {
   "cell_type": "markdown",
   "metadata": {
    "deletable": false,
    "editable": false,
    "id": "jz6a9-7HQUDd"
   },
   "source": [
    "**Выводы**\n",
    "\n",
    "Предобработка обнаружила три проблемы в данных:\n",
    "\n",
    "- нарушения в стиле заголовков,\n",
    "- пропущенные значения,\n",
    "- дубликаты — явные и неявные.\n",
    "\n",
    "Вы исправили заголовки, чтобы упростить работу с таблицей. Без дубликатов исследование станет более точным.\n",
    "\n",
    "Пропущенные значения вы заменили на `'unknown'`. Ещё предстоит увидеть, не повредят ли исследованию пропуски в колонке `genre`.\n",
    "\n",
    "Теперь можно перейти к проверке гипотез."
   ]
  },
  {
   "cell_type": "markdown",
   "metadata": {
    "deletable": false,
    "editable": false,
    "id": "WttZHXH0SqKk"
   },
   "source": [
    "## Проверка гипотез"
   ]
  },
  {
   "cell_type": "markdown",
   "metadata": {
    "deletable": false,
    "editable": false,
    "id": "Im936VVi_Zcu"
   },
   "source": [
    "### Сравнение поведения пользователей двух столиц"
   ]
  },
  {
   "cell_type": "markdown",
   "metadata": {
    "deletable": false,
    "editable": false,
    "id": "nwt_MuaL_Zcu"
   },
   "source": [
    "Первая гипотеза утверждает, что пользователи по-разному слушают музыку в Москве и Санкт-Петербурге. Проверьте это предположение по данным о трёх днях недели — понедельнике, среде и пятнице. Для этого:\n",
    "\n",
    "* Разделите пользователей Москвы и Санкт-Петербурга.\n",
    "* Сравните, сколько треков послушала каждая группа пользователей в понедельник, среду и пятницу.\n"
   ]
  },
  {
   "cell_type": "markdown",
   "metadata": {
    "deletable": false,
    "editable": false,
    "id": "8Dw_YMmT_Zcu",
    "tags": [
     "start_task"
    ]
   },
   "source": [
    "**Задание 18**\n",
    "\n",
    "Для тренировки сначала выполните каждый из расчётов по отдельности.\n",
    "\n",
    "Оцените активность пользователей в каждом городе. Сгруппируйте данные по городу и посчитайте прослушивания в каждой группе.\n",
    "\n"
   ]
  },
  {
   "cell_type": "code",
   "execution_count": 18,
   "metadata": {
    "deletable": false,
    "id": "0_Qs96oh_Zcu"
   },
   "outputs": [
    {
     "data": {
      "text/plain": [
       "city\n",
       "Moscow              42741\n",
       "Saint-Petersburg    18512\n",
       "Name: user_id, dtype: int64"
      ]
     },
     "execution_count": 18,
     "metadata": {},
     "output_type": "execute_result"
    }
   ],
   "source": [
    "# Подсчёт прослушиваний в каждом городе\n",
    "df.groupby('city')['user_id'].count()"
   ]
  },
  {
   "cell_type": "markdown",
   "metadata": {
    "deletable": false,
    "editable": false,
    "id": "dzli3w8o_Zcu",
    "tags": [
     "start_task"
    ]
   },
   "source": [
    "В Москве прослушиваний больше, чем в Петербурге. Из этого не следует, что московские пользователи чаще слушают музыку. Просто самих пользователей в Москве больше.\n",
    "\n",
    "**Задание 19**\n",
    "\n",
    "Теперь сгруппируйте данные по дню недели и посчитайте прослушивания в понедельник, среду и пятницу. Учтите, что в данных есть информация о прослушиваниях только за эти дни.\n"
   ]
  },
  {
   "cell_type": "code",
   "execution_count": 19,
   "metadata": {
    "deletable": false,
    "id": "uZMKjiJz_Zcu"
   },
   "outputs": [
    {
     "data": {
      "text/plain": [
       "day\n",
       "Friday       21840\n",
       "Monday       21354\n",
       "Wednesday    18059\n",
       "Name: user_id, dtype: int64"
      ]
     },
     "execution_count": 19,
     "metadata": {},
     "output_type": "execute_result"
    }
   ],
   "source": [
    "# Подсчёт прослушиваний в каждый из трёх дней\n",
    "df.groupby('day')['user_id'].count()"
   ]
  },
  {
   "cell_type": "markdown",
   "metadata": {
    "deletable": false,
    "editable": false,
    "id": "cC2tNrlL_Zcu"
   },
   "source": [
    "В среднем пользователи из двух городов менее активны по средам. Но картина может измениться, если рассмотреть каждый город в отдельности."
   ]
  },
  {
   "cell_type": "markdown",
   "metadata": {
    "deletable": false,
    "editable": false,
    "id": "POzs8bGa_Zcu",
    "tags": [
     "start_task"
    ]
   },
   "source": [
    "**Задание 20**\n",
    "\n",
    "\n",
    "Вы видели, как работает группировка по городу и по дням недели. Теперь напишите функцию, которая объединит два эти расчёта.\n",
    "\n",
    "Создайте функцию `number_tracks()`, которая посчитает прослушивания для заданного дня и города. Ей понадобятся два параметра:\n",
    "* день недели,\n",
    "* название города.\n",
    "\n",
    "В функции сохраните в переменную строки исходной таблицы, у которых значение:\n",
    "  * в колонке `day` равно параметру `day`,\n",
    "  * в колонке `city` равно параметру `city`.\n",
    "\n",
    "Для этого примените последовательную фильтрацию с логической индексацией (или сложные логические выражения в одну строку, если вы уже знакомы с ними).\n",
    "\n",
    "Затем посчитайте значения в столбце `user_id` получившейся таблицы. Результат сохраните в новую переменную. Верните эту переменную из функции."
   ]
  },
  {
   "cell_type": "code",
   "execution_count": 46,
   "metadata": {
    "deletable": false,
    "id": "Nz3GdQB1_Zcu"
   },
   "outputs": [],
   "source": [
    "# <создание функции number_tracks()>\n",
    "# Объявляется функция с двумя параметрами: day, city.\n",
    "# В переменной track_list сохраняются те строки таблицы df, для которых\n",
    "# значение в столбце 'day' равно параметру day и одновременно значение\n",
    "# в столбце 'city' равно параметру city (используйте последовательную фильтрацию\n",
    "# с помощью логической индексации или сложные логические выражения в одну строку, если вы уже знакомы с ними).\n",
    "# В переменной track_list_count сохраняется число значений столбца 'user_id',\n",
    "# рассчитанное методом count() для таблицы track_list.\n",
    "# Функция возвращает число - значение track_list_count.\n",
    "\n",
    "# Функция для подсчёта прослушиваний для конкретного города и дня.\n",
    "# С помощью последовательной фильтрации с логической индексацией она\n",
    "# сначала получит из исходной таблицы строки с нужным днём,\n",
    "# затем из результата отфильтрует строки с нужным городом,\n",
    "# методом count() посчитает количество значений в колонке user_id.\n",
    "# Это количество функция вернёт в качестве результата\n",
    "\n",
    "def number_tracks(day, city):\n",
    "    track_list = df[df['day'] == day]\n",
    "    track_list = track_list[track_list['city'] == city]\n",
    "    track_list_count = track_list['user_id'].count()\n",
    "    return track_list_count\n"
   ]
  },
  {
   "cell_type": "markdown",
   "metadata": {
    "deletable": false,
    "editable": false,
    "id": "ytf7xFrFJQ2r",
    "tags": [
     "start_task"
    ]
   },
   "source": [
    "**Задание 21**\n",
    "\n",
    "Вызовите `number_tracks()` шесть раз, меняя значение параметров — так, чтобы получить данные для каждого города в каждый из трёх дней."
   ]
  },
  {
   "cell_type": "code",
   "execution_count": 47,
   "metadata": {
    "deletable": false,
    "id": "rJcRATNQ_Zcu"
   },
   "outputs": [
    {
     "data": {
      "text/plain": [
       "15740"
      ]
     },
     "execution_count": 47,
     "metadata": {},
     "output_type": "execute_result"
    }
   ],
   "source": [
    "# количество прослушиваний в Москве по понедельникам\n",
    "number_tracks('Monday', 'Moscow')"
   ]
  },
  {
   "cell_type": "code",
   "execution_count": 22,
   "metadata": {
    "deletable": false,
    "id": "hq_ncZ5T_Zcu"
   },
   "outputs": [
    {
     "data": {
      "text/plain": [
       "5614"
      ]
     },
     "execution_count": 22,
     "metadata": {},
     "output_type": "execute_result"
    }
   ],
   "source": [
    "# количество прослушиваний в Санкт-Петербурге по понедельникам\n",
    "number_tracks('Monday', 'Saint-Petersburg')"
   ]
  },
  {
   "cell_type": "code",
   "execution_count": 23,
   "metadata": {
    "deletable": false,
    "id": "_NTy2VPU_Zcu"
   },
   "outputs": [
    {
     "data": {
      "text/plain": [
       "11056"
      ]
     },
     "execution_count": 23,
     "metadata": {},
     "output_type": "execute_result"
    }
   ],
   "source": [
    "# количество прослушиваний в Москве по средам\n",
    "number_tracks('Wednesday', 'Moscow')"
   ]
  },
  {
   "cell_type": "code",
   "execution_count": 24,
   "metadata": {
    "deletable": false,
    "id": "j2y3TAwo_Zcu"
   },
   "outputs": [
    {
     "data": {
      "text/plain": [
       "7003"
      ]
     },
     "execution_count": 24,
     "metadata": {},
     "output_type": "execute_result"
    }
   ],
   "source": [
    "# количество прослушиваний в Санкт-Петербурге по средам\n",
    "number_tracks('Wednesday', 'Saint-Petersburg')"
   ]
  },
  {
   "cell_type": "code",
   "execution_count": 25,
   "metadata": {
    "deletable": false,
    "id": "vYDw5u_K_Zcu"
   },
   "outputs": [
    {
     "data": {
      "text/plain": [
       "15945"
      ]
     },
     "execution_count": 25,
     "metadata": {},
     "output_type": "execute_result"
    }
   ],
   "source": [
    "# количество прослушиваний в Москве по пятницам\n",
    "number_tracks('Friday', 'Moscow')"
   ]
  },
  {
   "cell_type": "code",
   "execution_count": 26,
   "metadata": {
    "deletable": false,
    "id": "8_yzFtW3_Zcu"
   },
   "outputs": [
    {
     "data": {
      "text/plain": [
       "5895"
      ]
     },
     "execution_count": 26,
     "metadata": {},
     "output_type": "execute_result"
    }
   ],
   "source": [
    "# количество прослушиваний в Санкт-Петербурге по пятницам\n",
    "number_tracks('Friday', 'Saint-Petersburg')"
   ]
  },
  {
   "cell_type": "markdown",
   "metadata": {
    "deletable": false,
    "editable": false,
    "id": "7QXffbO-_Zcu",
    "tags": [
     "start_task"
    ]
   },
   "source": [
    "**Задание 22**\n",
    "\n",
    "С помощью конструктора `pd.DataFrame` создайте таблицу, где\n",
    "* названия колонок — `['city', 'monday', 'wednesday', 'friday']`;\n",
    "* данные — результаты, которые вы получили с помощью `number_tracks`."
   ]
  },
  {
   "cell_type": "code",
   "execution_count": 27,
   "metadata": {
    "deletable": false,
    "id": "APAcLpOr_Zcu"
   },
   "outputs": [],
   "source": [
    "# Таблица с результатами\n",
    "columns = ['city', 'monday', 'wednesday', 'friday']\n",
    "data = [15740, 5614, 11056, 7003, 15945, 5895]\n",
    "tracks_data = pd.DataFrame()"
   ]
  },
  {
   "cell_type": "markdown",
   "metadata": {
    "deletable": false,
    "editable": false,
    "id": "-EgPIHYu_Zcu"
   },
   "source": [
    "**Выводы**\n",
    "\n",
    "Данные показывают разницу поведения пользователей:\n",
    "\n",
    "- В Москве пик прослушиваний приходится на понедельник и пятницу, а в среду заметен спад.\n",
    "- В Петербурге, наоборот, больше слушают музыку по средам. Активность в понедельник и пятницу здесь почти в равной мере уступает среде.\n",
    "\n",
    "Значит, данные говорят в пользу первой гипотезы."
   ]
  },
  {
   "cell_type": "markdown",
   "metadata": {
    "deletable": false,
    "editable": false,
    "id": "atZAxtq4_Zcu"
   },
   "source": [
    "### Музыка в начале и в конце недели"
   ]
  },
  {
   "cell_type": "markdown",
   "metadata": {
    "deletable": false,
    "editable": false,
    "id": "eXrQqXFH_Zcu"
   },
   "source": [
    "Согласно второй гипотезе, утром в понедельник в Москве преобладают одни жанры, а в Петербурге — другие. Так же и вечером пятницы преобладают разные жанры — в зависимости от города."
   ]
  },
  {
   "cell_type": "markdown",
   "metadata": {
    "deletable": false,
    "editable": false,
    "id": "S8UcW6Hw_Zcu",
    "tags": [
     "start_task"
    ]
   },
   "source": [
    "**Задание 23**\n",
    "\n",
    "Сохраните таблицы с данными в две переменные:\n",
    "* по Москве — в `moscow_general`;\n",
    "* по Санкт-Петербургу — в `spb_general`."
   ]
  },
  {
   "cell_type": "code",
   "execution_count": 28,
   "metadata": {
    "deletable": false,
    "id": "qeaFfM_P_Zcu"
   },
   "outputs": [],
   "source": [
    "# получение таблицы moscow_general из тех строк таблицы df,\n",
    "# для которых значение в столбце 'city' равно 'Moscow'\n",
    "moscow_general = df[df['city'] == 'Moscow']"
   ]
  },
  {
   "cell_type": "code",
   "execution_count": 29,
   "metadata": {
    "deletable": false,
    "id": "ORaVRKto_Zcu"
   },
   "outputs": [],
   "source": [
    "# получение таблицы spb_general из тех строк таблицы df,\n",
    "# для которых значение в столбце 'city' равно 'Saint-Petersburg'\n",
    "spb_general = df[df['city'] == 'Saint-Petersburg']"
   ]
  },
  {
   "cell_type": "markdown",
   "metadata": {
    "deletable": false,
    "id": "MEJV-CX2_Zcu",
    "tags": [
     "start_task"
    ]
   },
   "source": [
    "**Задание 24**\n",
    "\n",
    "Создайте функцию `genre_weekday()` с четырьмя параметрами:\n",
    "* таблица (датафрейм) с данными,\n",
    "* день недели,\n",
    "* начальная временная метка в формате 'hh:mm',\n",
    "* последняя временная метка в формате 'hh:mm'.\n",
    "\n",
    "Функция должна вернуть информацию о топ-10 жанров тех треков, которые прослушивали в указанный день, в промежутке между двумя отметками времени."
   ]
  },
  {
   "cell_type": "code",
   "execution_count": 30,
   "metadata": {
    "deletable": false,
    "id": "laJT9BYl_Zcu"
   },
   "outputs": [],
   "source": [
    "# Объявление функции genre_weekday() с параметрами df, day, time1, time2,\n",
    "# которая возвращает информацию о самых популярных жанрах в указанный день в\n",
    "# заданное время:\n",
    "# 1) в переменную genre_df сохраняются те строки переданного датафрейма df, для\n",
    "#    которых одновременно:\n",
    "#    - значение в столбце day равно значению аргумента day\n",
    "#    - значение в столбце time больше значения аргумента time1\n",
    "#    - значение в столбце time меньше значения аргумента time2\n",
    "#    Используйте последовательную фильтрацию с помощью логической индексации.\n",
    "# 2) сгруппировать датафрейм genre_df по столбцу genre, взять один из его\n",
    "#    столбцов и посчитать методом count() количество записей для каждого из\n",
    "#    присутствующих жанров, получившийся Series записать в переменную\n",
    "#    genre_df_grouped\n",
    "# 3) отсортировать genre_df_grouped по убыванию встречаемости и сохранить\n",
    "#    в переменную genre_df_sorted\n",
    "# 4) вернуть Series из 10 первых значений genre_df_sorted, это будут топ-10\n",
    "#    популярных жанров (в указанный день, в заданное время)\n",
    "\n",
    "def genre_weekday(df, day, time1, time2):\n",
    "    # последовательная фильтрация\n",
    "    # оставляем в genre_df только те строки df, у которых день равен day\n",
    "    genre_df = df[df['day'] == day]\n",
    "    # оставляем в genre_df только те строки genre_df, у которых время меньше time2\n",
    "    genre_df = genre_df[genre_df['time'] < time2]\n",
    "    # оставляем в genre_df только те строки genre_df, у которых время больше time1\n",
    "    genre_df = genre_df[genre_df['time'] > time1]\n",
    "    # сгруппируем отфильтрованный датафрейм по столбцу с названиями жанров, возьмём столбец genre и посчитаем кол-во строк для каждого жанра методом count()\n",
    "    genre_df_grouped = genre_df.groupby('genre')['genre'].count()\n",
    "    # отсортируем результат по убыванию (чтобы в начале Series оказались самые популярные жанры)\n",
    "    genre_df_sorted = genre_df_grouped.sort_values(ascending = False)\n",
    "    # вернём Series с 10 самыми популярными жанрами в указанный отрезок времени заданного дня\n",
    "    return genre_df_sorted[:10]"
   ]
  },
  {
   "cell_type": "markdown",
   "metadata": {
    "deletable": false,
    "editable": false,
    "id": "la2s2_PF_Zcu",
    "tags": [
     "start_task"
    ]
   },
   "source": [
    "**Задание 25**\n",
    "\n",
    "\n",
    "Cравните результаты функции `genre_weekday()` для Москвы и Санкт-Петербурга в понедельник утром (с 7:00 до 11:00) и в пятницу вечером (с 17:00 до 23:00):"
   ]
  },
  {
   "cell_type": "code",
   "execution_count": 31,
   "metadata": {
    "deletable": false,
    "id": "yz7itPUQ_Zcu"
   },
   "outputs": [
    {
     "data": {
      "text/plain": [
       "genre\n",
       "pop            781\n",
       "dance          549\n",
       "electronic     480\n",
       "rock           474\n",
       "hiphop         286\n",
       "ruspop         186\n",
       "world          181\n",
       "rusrap         175\n",
       "alternative    164\n",
       "unknown        161\n",
       "Name: genre, dtype: int64"
      ]
     },
     "execution_count": 31,
     "metadata": {},
     "output_type": "execute_result"
    }
   ],
   "source": [
    "# вызов функции для утра понедельника в Москве (вместо df — таблица moscow_general)\n",
    "# объекты, хранящие время, являются строками и сравниваются как строки\n",
    "# пример вызова: genre_weekday(moscow_general, 'Monday', '07:00', '11:00')\n",
    "genre_weekday(moscow_general, 'Monday', '07:00', '11:00')"
   ]
  },
  {
   "cell_type": "code",
   "execution_count": 32,
   "metadata": {
    "deletable": false,
    "id": "kwUcHPdy_Zcu"
   },
   "outputs": [
    {
     "data": {
      "text/plain": [
       "genre\n",
       "pop            218\n",
       "dance          182\n",
       "rock           162\n",
       "electronic     147\n",
       "hiphop          80\n",
       "ruspop          64\n",
       "alternative     58\n",
       "rusrap          55\n",
       "jazz            44\n",
       "classical       40\n",
       "Name: genre, dtype: int64"
      ]
     },
     "execution_count": 32,
     "metadata": {},
     "output_type": "execute_result"
    }
   ],
   "source": [
    "# вызов функции для утра понедельника в Петербурге (вместо df — таблица spb_general)\n",
    "genre_weekday(spb_general, 'Monday', '07:00', '11:00')"
   ]
  },
  {
   "cell_type": "code",
   "execution_count": 33,
   "metadata": {
    "deletable": false,
    "id": "EzXVRE1o_Zcu"
   },
   "outputs": [
    {
     "data": {
      "text/plain": [
       "genre\n",
       "pop            713\n",
       "rock           517\n",
       "dance          495\n",
       "electronic     482\n",
       "hiphop         273\n",
       "world          208\n",
       "ruspop         170\n",
       "alternative    163\n",
       "classical      163\n",
       "rusrap         142\n",
       "Name: genre, dtype: int64"
      ]
     },
     "execution_count": 33,
     "metadata": {},
     "output_type": "execute_result"
    }
   ],
   "source": [
    "# вызов функции для вечера пятницы в Москве\n",
    "genre_weekday(moscow_general, 'Friday', '17:00', '23:00')"
   ]
  },
  {
   "cell_type": "code",
   "execution_count": 34,
   "metadata": {
    "deletable": false,
    "id": "JZaEKu5v_Zcu"
   },
   "outputs": [
    {
     "data": {
      "text/plain": [
       "genre\n",
       "pop            256\n",
       "electronic     216\n",
       "rock           216\n",
       "dance          210\n",
       "hiphop          97\n",
       "alternative     63\n",
       "jazz            61\n",
       "classical       60\n",
       "rusrap          59\n",
       "world           54\n",
       "Name: genre, dtype: int64"
      ]
     },
     "execution_count": 34,
     "metadata": {},
     "output_type": "execute_result"
    }
   ],
   "source": [
    "# вызов функции для вечера пятницы в Петербурге\n",
    "genre_weekday(spb_general, 'Friday', '17:00', '23:00')"
   ]
  },
  {
   "cell_type": "markdown",
   "metadata": {
    "deletable": false,
    "editable": false,
    "id": "wrCe4MNX_Zcu"
   },
   "source": [
    "**Выводы**\n",
    "\n",
    "Если сравнить топ-10 жанров в понедельник утром, можно сделать такие выводы:\n",
    "\n",
    "1. В Москве и Петербурге слушают похожую музыку. Единственное различие — в московский рейтинг вошёл жанр “world”, а в петербургский — джаз и классика.\n",
    "\n",
    "2. В Москве пропущенных значений оказалось так много, что значение `'unknown'` заняло десятое место среди самых популярных жанров. Значит, пропущенные значения занимают существенную долю в данных и угрожают достоверности исследования.\n",
    "\n",
    "Вечер пятницы не меняет эту картину. Некоторые жанры поднимаются немного выше, другие спускаются, но в целом топ-10 остаётся тем же самым.\n",
    "\n",
    "Таким образом, вторая гипотеза подтвердилась лишь частично:\n",
    "* Пользователи слушают похожую музыку в начале недели и в конце.\n",
    "* Разница между Москвой и Петербургом не слишком выражена. В Москве чаще слушают русскую популярную музыку, в Петербурге — джаз.\n",
    "\n",
    "Однако пропуски в данных ставят под сомнение этот результат. В Москве их так много, что рейтинг топ-10 мог бы выглядеть иначе, если бы не утерянные  данные о жанрах."
   ]
  },
  {
   "cell_type": "markdown",
   "metadata": {
    "deletable": false,
    "editable": false,
    "id": "JolODAqr_Zcu"
   },
   "source": [
    "### Жанровые предпочтения в Москве и Петербурге\n",
    "\n",
    "Гипотеза: Петербург — столица рэпа, музыку этого жанра там слушают чаще, чем в Москве.  А Москва — город контрастов, в котором, тем не менее, преобладает поп-музыка."
   ]
  },
  {
   "cell_type": "markdown",
   "metadata": {
    "deletable": false,
    "editable": false,
    "id": "DlegSvaT_Zcu",
    "tags": [
     "start_task"
    ]
   },
   "source": [
    "**Задание 26**\n",
    "\n",
    "Сгруппируйте таблицу `moscow_general` по жанру и посчитайте прослушивания треков каждого жанра методом `count()`. Затем отсортируйте результат в порядке убывания и сохраните его в таблице `moscow_genres`."
   ]
  },
  {
   "cell_type": "code",
   "execution_count": 35,
   "metadata": {
    "deletable": false,
    "id": "r19lIPke_Zcu"
   },
   "outputs": [],
   "source": [
    "# одной строкой: группировка таблицы moscow_general по столбцу 'genre',\n",
    "# подсчёт числа значений 'genre' в этой группировке методом count(),\n",
    "# сортировка получившегося Series в порядке убывания и сохранение в moscow_genres\n",
    "moscow_genres = moscow_general.groupby('genre')['genre'].count().sort_values(ascending = False)"
   ]
  },
  {
   "cell_type": "markdown",
   "metadata": {
    "deletable": false,
    "editable": false,
    "id": "6kMuomxTiIr8",
    "tags": [
     "start_task"
    ]
   },
   "source": [
    "**Задание 27**\n",
    "\n",
    "Выведите на экран первые десять строк `moscow_genres`:"
   ]
  },
  {
   "cell_type": "code",
   "execution_count": 36,
   "metadata": {
    "deletable": false,
    "id": "WhCSooF8_Zcv"
   },
   "outputs": [
    {
     "data": {
      "text/plain": [
       "genre\n",
       "pop            5892\n",
       "dance          4435\n",
       "rock           3965\n",
       "electronic     3786\n",
       "hiphop         2096\n",
       "classical      1616\n",
       "world          1432\n",
       "alternative    1379\n",
       "ruspop         1372\n",
       "rusrap         1161\n",
       "Name: genre, dtype: int64"
      ]
     },
     "execution_count": 36,
     "metadata": {},
     "output_type": "execute_result"
    }
   ],
   "source": [
    "# просмотр первых 10 строк moscow_genres\n",
    "moscow_genres.head(10)"
   ]
  },
  {
   "cell_type": "markdown",
   "metadata": {
    "deletable": false,
    "editable": false,
    "id": "cnPG2vnN_Zcv",
    "tags": [
     "start_task"
    ]
   },
   "source": [
    "**Задание 28**\n",
    "\n",
    "\n",
    "Теперь повторите то же и для Петербурга.\n",
    "\n",
    "Сгруппируйте таблицу `spb_general` по жанру. Посчитайте прослушивания треков каждого жанра. Результат отсортируйте в порядке убывания и сохраните в таблице `spb_genres`:\n"
   ]
  },
  {
   "cell_type": "code",
   "execution_count": 37,
   "metadata": {
    "deletable": false,
    "id": "gluLIpE7_Zcv"
   },
   "outputs": [],
   "source": [
    "# одной строкой: группировка таблицы spb_general по столбцу 'genre',\n",
    "# подсчёт числа значений 'genre' в этой группировке методом count(),\n",
    "# сортировка получившегося Series в порядке убывания и сохранение в spb_genres\n",
    "spb_genres = spb_general.groupby('genre')['genre'].count().sort_values(ascending = False)"
   ]
  },
  {
   "cell_type": "markdown",
   "metadata": {
    "deletable": false,
    "editable": false,
    "id": "5Doha_ODgyQ8",
    "tags": [
     "start_task"
    ]
   },
   "source": [
    "**Задание 29**\n",
    "\n",
    "Выведите на экран первые десять строк `spb_genres`:"
   ]
  },
  {
   "cell_type": "code",
   "execution_count": 38,
   "metadata": {
    "deletable": false,
    "id": "uaGJHjVU_Zcv"
   },
   "outputs": [
    {
     "data": {
      "text/plain": [
       "genre\n",
       "pop            2431\n",
       "dance          1932\n",
       "rock           1879\n",
       "electronic     1736\n",
       "hiphop          960\n",
       "alternative     649\n",
       "classical       646\n",
       "rusrap          564\n",
       "ruspop          538\n",
       "world           515\n",
       "Name: genre, dtype: int64"
      ]
     },
     "execution_count": 38,
     "metadata": {},
     "output_type": "execute_result"
    }
   ],
   "source": [
    "# просмотр первых 10 строк spb_genres\n",
    "spb_genres.head(10)"
   ]
  },
  {
   "cell_type": "markdown",
   "metadata": {
    "deletable": false,
    "editable": false,
    "id": "RY51YJYu_Zcv"
   },
   "source": [
    "**Выводы**"
   ]
  },
  {
   "cell_type": "markdown",
   "metadata": {
    "deletable": false,
    "editable": false,
    "id": "nVhnJEm__Zcv"
   },
   "source": [
    "Гипотеза частично подтвердилась:\n",
    "* Поп-музыка — самый популярный жанр в Москве, как и предполагала гипотеза. Более того, в топ-10 жанров встречается близкий жанр — русская популярная музыка.\n",
    "* Вопреки ожиданиям, рэп одинаково популярен в Москве и Петербурге.\n"
   ]
  },
  {
   "cell_type": "markdown",
   "metadata": {
    "deletable": false,
    "editable": false,
    "id": "ykKQ0N65_Zcv"
   },
   "source": [
    "## Итоги исследования"
   ]
  },
  {
   "cell_type": "markdown",
   "metadata": {
    "deletable": false,
    "editable": false,
    "id": "tjUwbHb3_Zcv"
   },
   "source": [
    "Вы проверили три гипотезы и установили:\n",
    "\n",
    "1. День недели по-разному влияет на активность пользователей в Москве и Петербурге.\n",
    "\n",
    "Первая гипотеза полностью подтвердилась.\n",
    "\n",
    "2. Музыкальные предпочтения не сильно меняются в течение недели — будь то Москва или Петербург. Небольшие различия заметны в начале недели, по понедельникам:\n",
    "* в Москве слушают музыку жанра “world”,\n",
    "* в Петербурге — джаз и классику.\n",
    "\n",
    "Таким образом, вторая гипотеза подтвердилась лишь отчасти. Этот результат мог оказаться иным, если бы не пропуски в данных.\n",
    "\n",
    "3. Во вкусах пользователей Москвы и Петербурга больше общего, чем различий. Вопреки ожиданиям, предпочтения жанров в Петербурге напоминают московские.\n",
    "\n",
    "Третья гипотеза не подтвердилась. Если различия в предпочтениях и существуют, на основной массе пользователей они незаметны.\n",
    "\n",
    "**На практике исследования содержат проверки статистических гипотез.**\n",
    "Из данных одного сервиса не всегда можно сделать вывод о всех жителях города.\n",
    "Проверки статистических гипотез покажут, насколько они достоверны, исходя из имеющихся данных.\n",
    "С методами проверок гипотез вы ещё познакомитесь в следующих темах."
   ]
  }
 ],
 "metadata": {
  "ExecuteTimeLog": [
   {
    "duration": 374,
    "start_time": "2023-09-17T13:18:09.080Z"
   },
   {
    "duration": 70,
    "start_time": "2023-09-17T13:50:11.211Z"
   },
   {
    "duration": 240,
    "start_time": "2023-09-17T13:50:30.131Z"
   },
   {
    "duration": 2,
    "start_time": "2023-09-17T13:50:59.804Z"
   },
   {
    "duration": 174,
    "start_time": "2023-09-17T13:51:02.696Z"
   },
   {
    "duration": 45,
    "start_time": "2023-09-17T14:08:08.749Z"
   },
   {
    "duration": 362,
    "start_time": "2023-09-17T14:08:20.788Z"
   },
   {
    "duration": 162,
    "start_time": "2023-09-17T14:08:23.562Z"
   },
   {
    "duration": 8,
    "start_time": "2023-09-17T14:08:25.680Z"
   },
   {
    "duration": 29,
    "start_time": "2023-09-17T14:08:29.274Z"
   },
   {
    "duration": 2,
    "start_time": "2023-09-17T14:08:43.838Z"
   },
   {
    "duration": 3,
    "start_time": "2023-09-17T14:09:10.510Z"
   },
   {
    "duration": 86,
    "start_time": "2023-09-17T14:12:39.856Z"
   },
   {
    "duration": 13,
    "start_time": "2023-09-17T14:13:28.614Z"
   },
   {
    "duration": 4,
    "start_time": "2023-09-17T14:17:45.126Z"
   },
   {
    "duration": 28,
    "start_time": "2023-09-17T14:25:22.323Z"
   },
   {
    "duration": 17,
    "start_time": "2023-09-17T14:47:48.384Z"
   },
   {
    "duration": 60,
    "start_time": "2023-09-17T14:49:30.048Z"
   },
   {
    "duration": 70,
    "start_time": "2023-09-17T14:50:15.320Z"
   },
   {
    "duration": 58,
    "start_time": "2023-09-17T14:50:55.424Z"
   },
   {
    "duration": 362,
    "start_time": "2023-09-17T14:53:40.292Z"
   },
   {
    "duration": 152,
    "start_time": "2023-09-17T14:53:40.655Z"
   },
   {
    "duration": 7,
    "start_time": "2023-09-17T14:53:40.808Z"
   },
   {
    "duration": 46,
    "start_time": "2023-09-17T14:53:40.817Z"
   },
   {
    "duration": 2,
    "start_time": "2023-09-17T14:53:40.865Z"
   },
   {
    "duration": 15,
    "start_time": "2023-09-17T14:53:40.868Z"
   },
   {
    "duration": 16,
    "start_time": "2023-09-17T14:53:40.885Z"
   },
   {
    "duration": 28,
    "start_time": "2023-09-17T14:53:40.903Z"
   },
   {
    "duration": 44,
    "start_time": "2023-09-17T14:53:40.933Z"
   },
   {
    "duration": 23,
    "start_time": "2023-09-17T14:53:40.978Z"
   },
   {
    "duration": 23,
    "start_time": "2023-09-17T14:53:41.003Z"
   },
   {
    "duration": 67,
    "start_time": "2023-09-17T14:53:41.027Z"
   },
   {
    "duration": 73,
    "start_time": "2023-09-17T14:53:41.095Z"
   },
   {
    "duration": 2,
    "start_time": "2023-09-17T14:53:41.170Z"
   },
   {
    "duration": 10,
    "start_time": "2023-09-17T14:53:41.174Z"
   },
   {
    "duration": 7,
    "start_time": "2023-09-17T14:53:41.185Z"
   },
   {
    "duration": 5,
    "start_time": "2023-09-17T14:53:41.193Z"
   },
   {
    "duration": 12,
    "start_time": "2023-09-17T14:53:41.199Z"
   },
   {
    "duration": 8,
    "start_time": "2023-09-17T14:53:41.212Z"
   },
   {
    "duration": 10,
    "start_time": "2023-09-17T14:53:41.221Z"
   },
   {
    "duration": 8,
    "start_time": "2023-09-17T14:53:41.232Z"
   },
   {
    "duration": 12,
    "start_time": "2023-09-17T14:53:41.242Z"
   },
   {
    "duration": 9,
    "start_time": "2023-09-17T14:53:41.255Z"
   },
   {
    "duration": 10,
    "start_time": "2023-09-17T14:53:41.265Z"
   },
   {
    "duration": 5,
    "start_time": "2023-09-17T14:53:41.276Z"
   },
   {
    "duration": 3,
    "start_time": "2023-09-17T14:53:41.283Z"
   },
   {
    "duration": 4,
    "start_time": "2023-09-17T14:53:41.287Z"
   },
   {
    "duration": 4,
    "start_time": "2023-09-17T14:53:41.292Z"
   },
   {
    "duration": 3,
    "start_time": "2023-09-17T14:53:41.298Z"
   },
   {
    "duration": 121,
    "start_time": "2023-09-17T14:53:41.303Z"
   },
   {
    "duration": 0,
    "start_time": "2023-09-17T14:53:41.425Z"
   },
   {
    "duration": 0,
    "start_time": "2023-09-17T14:53:41.427Z"
   },
   {
    "duration": 0,
    "start_time": "2023-09-17T14:53:41.428Z"
   },
   {
    "duration": 0,
    "start_time": "2023-09-17T14:53:41.429Z"
   },
   {
    "duration": 0,
    "start_time": "2023-09-17T14:53:41.430Z"
   },
   {
    "duration": 0,
    "start_time": "2023-09-17T14:53:41.431Z"
   },
   {
    "duration": 0,
    "start_time": "2023-09-17T14:53:41.432Z"
   },
   {
    "duration": 0,
    "start_time": "2023-09-17T14:53:41.433Z"
   },
   {
    "duration": 400,
    "start_time": "2023-09-17T14:54:34.238Z"
   },
   {
    "duration": 157,
    "start_time": "2023-09-17T14:54:34.639Z"
   },
   {
    "duration": 7,
    "start_time": "2023-09-17T14:54:34.798Z"
   },
   {
    "duration": 32,
    "start_time": "2023-09-17T14:54:34.807Z"
   },
   {
    "duration": 9,
    "start_time": "2023-09-17T14:54:34.841Z"
   },
   {
    "duration": 32,
    "start_time": "2023-09-17T14:54:34.852Z"
   },
   {
    "duration": 12,
    "start_time": "2023-09-17T14:54:34.886Z"
   },
   {
    "duration": 4,
    "start_time": "2023-09-17T14:54:34.900Z"
   },
   {
    "duration": 31,
    "start_time": "2023-09-17T14:54:34.905Z"
   },
   {
    "duration": 16,
    "start_time": "2023-09-17T14:54:34.938Z"
   },
   {
    "duration": 30,
    "start_time": "2023-09-17T14:54:34.955Z"
   },
   {
    "duration": 57,
    "start_time": "2023-09-17T14:54:34.987Z"
   },
   {
    "duration": 59,
    "start_time": "2023-09-17T14:54:35.048Z"
   },
   {
    "duration": 3,
    "start_time": "2023-09-17T14:54:35.109Z"
   },
   {
    "duration": 19,
    "start_time": "2023-09-17T14:54:35.113Z"
   },
   {
    "duration": 34,
    "start_time": "2023-09-17T14:54:35.133Z"
   },
   {
    "duration": 23,
    "start_time": "2023-09-17T14:54:35.169Z"
   },
   {
    "duration": 23,
    "start_time": "2023-09-17T14:54:35.193Z"
   },
   {
    "duration": 50,
    "start_time": "2023-09-17T14:54:35.217Z"
   },
   {
    "duration": 34,
    "start_time": "2023-09-17T14:54:35.268Z"
   },
   {
    "duration": 30,
    "start_time": "2023-09-17T14:54:35.303Z"
   },
   {
    "duration": 12,
    "start_time": "2023-09-17T14:54:35.334Z"
   },
   {
    "duration": 22,
    "start_time": "2023-09-17T14:54:35.347Z"
   },
   {
    "duration": 8,
    "start_time": "2023-09-17T14:54:35.371Z"
   },
   {
    "duration": 21,
    "start_time": "2023-09-17T14:54:35.381Z"
   },
   {
    "duration": 17,
    "start_time": "2023-09-17T14:54:35.403Z"
   },
   {
    "duration": 14,
    "start_time": "2023-09-17T14:54:35.421Z"
   },
   {
    "duration": 16,
    "start_time": "2023-09-17T14:54:35.437Z"
   },
   {
    "duration": 11,
    "start_time": "2023-09-17T14:54:35.454Z"
   },
   {
    "duration": 77,
    "start_time": "2023-09-17T14:54:35.467Z"
   },
   {
    "duration": 0,
    "start_time": "2023-09-17T14:54:35.546Z"
   },
   {
    "duration": 0,
    "start_time": "2023-09-17T14:54:35.547Z"
   },
   {
    "duration": 0,
    "start_time": "2023-09-17T14:54:35.548Z"
   },
   {
    "duration": 0,
    "start_time": "2023-09-17T14:54:35.549Z"
   },
   {
    "duration": 0,
    "start_time": "2023-09-17T14:54:35.550Z"
   },
   {
    "duration": 0,
    "start_time": "2023-09-17T14:54:35.552Z"
   },
   {
    "duration": 1,
    "start_time": "2023-09-17T14:54:35.552Z"
   },
   {
    "duration": 0,
    "start_time": "2023-09-17T14:54:35.554Z"
   },
   {
    "duration": 69,
    "start_time": "2023-09-17T16:08:30.669Z"
   },
   {
    "duration": 422,
    "start_time": "2023-09-17T16:13:08.631Z"
   },
   {
    "duration": 178,
    "start_time": "2023-09-17T16:13:09.054Z"
   },
   {
    "duration": 8,
    "start_time": "2023-09-17T16:13:09.234Z"
   },
   {
    "duration": 38,
    "start_time": "2023-09-17T16:13:09.244Z"
   },
   {
    "duration": 2,
    "start_time": "2023-09-17T16:13:09.284Z"
   },
   {
    "duration": 19,
    "start_time": "2023-09-17T16:13:09.288Z"
   },
   {
    "duration": 40,
    "start_time": "2023-09-17T16:13:09.309Z"
   },
   {
    "duration": 25,
    "start_time": "2023-09-17T16:13:09.351Z"
   },
   {
    "duration": 43,
    "start_time": "2023-09-17T16:13:09.377Z"
   },
   {
    "duration": 21,
    "start_time": "2023-09-17T16:13:09.423Z"
   },
   {
    "duration": 25,
    "start_time": "2023-09-17T16:13:09.445Z"
   },
   {
    "duration": 83,
    "start_time": "2023-09-17T16:13:09.472Z"
   },
   {
    "duration": 60,
    "start_time": "2023-09-17T16:13:09.556Z"
   },
   {
    "duration": 68,
    "start_time": "2023-09-17T16:13:09.618Z"
   },
   {
    "duration": 68,
    "start_time": "2023-09-17T16:13:09.688Z"
   },
   {
    "duration": 2,
    "start_time": "2023-09-17T16:13:09.758Z"
   },
   {
    "duration": 9,
    "start_time": "2023-09-17T16:13:09.761Z"
   },
   {
    "duration": 6,
    "start_time": "2023-09-17T16:13:09.771Z"
   },
   {
    "duration": 8,
    "start_time": "2023-09-17T16:13:09.778Z"
   },
   {
    "duration": 6,
    "start_time": "2023-09-17T16:13:09.787Z"
   },
   {
    "duration": 8,
    "start_time": "2023-09-17T16:13:09.794Z"
   },
   {
    "duration": 4,
    "start_time": "2023-09-17T16:13:09.803Z"
   },
   {
    "duration": 8,
    "start_time": "2023-09-17T16:13:09.810Z"
   },
   {
    "duration": 7,
    "start_time": "2023-09-17T16:13:09.819Z"
   },
   {
    "duration": 6,
    "start_time": "2023-09-17T16:13:09.827Z"
   },
   {
    "duration": 4,
    "start_time": "2023-09-17T16:13:09.834Z"
   },
   {
    "duration": 18,
    "start_time": "2023-09-17T16:13:09.840Z"
   },
   {
    "duration": 3,
    "start_time": "2023-09-17T16:13:09.860Z"
   },
   {
    "duration": 5,
    "start_time": "2023-09-17T16:13:09.864Z"
   },
   {
    "duration": 75,
    "start_time": "2023-09-17T16:13:09.870Z"
   },
   {
    "duration": 0,
    "start_time": "2023-09-17T16:13:09.947Z"
   },
   {
    "duration": 0,
    "start_time": "2023-09-17T16:13:09.948Z"
   },
   {
    "duration": 0,
    "start_time": "2023-09-17T16:13:09.949Z"
   },
   {
    "duration": 0,
    "start_time": "2023-09-17T16:13:09.950Z"
   },
   {
    "duration": 0,
    "start_time": "2023-09-17T16:13:09.951Z"
   },
   {
    "duration": 0,
    "start_time": "2023-09-17T16:13:09.952Z"
   },
   {
    "duration": 0,
    "start_time": "2023-09-17T16:13:09.953Z"
   },
   {
    "duration": 0,
    "start_time": "2023-09-17T16:13:09.954Z"
   },
   {
    "duration": 380,
    "start_time": "2023-09-17T16:44:53.661Z"
   },
   {
    "duration": 152,
    "start_time": "2023-09-17T16:44:54.043Z"
   },
   {
    "duration": 7,
    "start_time": "2023-09-17T16:44:54.196Z"
   },
   {
    "duration": 44,
    "start_time": "2023-09-17T16:44:54.206Z"
   },
   {
    "duration": 45,
    "start_time": "2023-09-17T16:44:54.251Z"
   },
   {
    "duration": 42,
    "start_time": "2023-09-17T16:44:54.298Z"
   },
   {
    "duration": 45,
    "start_time": "2023-09-17T16:44:54.341Z"
   },
   {
    "duration": 33,
    "start_time": "2023-09-17T16:44:54.387Z"
   },
   {
    "duration": 48,
    "start_time": "2023-09-17T16:44:54.421Z"
   },
   {
    "duration": 17,
    "start_time": "2023-09-17T16:44:54.473Z"
   },
   {
    "duration": 37,
    "start_time": "2023-09-17T16:44:54.491Z"
   },
   {
    "duration": 63,
    "start_time": "2023-09-17T16:44:54.530Z"
   },
   {
    "duration": 70,
    "start_time": "2023-09-17T16:44:54.595Z"
   },
   {
    "duration": 52,
    "start_time": "2023-09-17T16:44:54.667Z"
   },
   {
    "duration": 58,
    "start_time": "2023-09-17T16:44:54.720Z"
   },
   {
    "duration": 2,
    "start_time": "2023-09-17T16:44:54.779Z"
   },
   {
    "duration": 6,
    "start_time": "2023-09-17T16:44:54.782Z"
   },
   {
    "duration": 19,
    "start_time": "2023-09-17T16:44:54.789Z"
   },
   {
    "duration": 16,
    "start_time": "2023-09-17T16:44:54.809Z"
   },
   {
    "duration": 16,
    "start_time": "2023-09-17T16:44:54.827Z"
   },
   {
    "duration": 47,
    "start_time": "2023-09-17T16:44:54.844Z"
   },
   {
    "duration": 27,
    "start_time": "2023-09-17T16:44:54.892Z"
   },
   {
    "duration": 16,
    "start_time": "2023-09-17T16:44:54.921Z"
   },
   {
    "duration": 13,
    "start_time": "2023-09-17T16:44:54.938Z"
   },
   {
    "duration": 15,
    "start_time": "2023-09-17T16:44:54.953Z"
   },
   {
    "duration": 31,
    "start_time": "2023-09-17T16:44:54.969Z"
   },
   {
    "duration": 19,
    "start_time": "2023-09-17T16:44:55.001Z"
   },
   {
    "duration": 29,
    "start_time": "2023-09-17T16:44:55.023Z"
   },
   {
    "duration": 29,
    "start_time": "2023-09-17T16:44:55.053Z"
   },
   {
    "duration": 77,
    "start_time": "2023-09-17T16:44:55.083Z"
   },
   {
    "duration": 0,
    "start_time": "2023-09-17T16:44:55.162Z"
   },
   {
    "duration": 0,
    "start_time": "2023-09-17T16:44:55.163Z"
   },
   {
    "duration": 0,
    "start_time": "2023-09-17T16:44:55.164Z"
   },
   {
    "duration": 0,
    "start_time": "2023-09-17T16:44:55.165Z"
   },
   {
    "duration": 0,
    "start_time": "2023-09-17T16:44:55.166Z"
   },
   {
    "duration": 0,
    "start_time": "2023-09-17T16:44:55.167Z"
   },
   {
    "duration": 0,
    "start_time": "2023-09-17T16:44:55.168Z"
   },
   {
    "duration": 0,
    "start_time": "2023-09-17T16:44:55.169Z"
   },
   {
    "duration": 40,
    "start_time": "2023-09-17T16:57:41.832Z"
   },
   {
    "duration": 367,
    "start_time": "2023-09-17T16:57:53.082Z"
   },
   {
    "duration": 157,
    "start_time": "2023-09-17T16:57:53.452Z"
   },
   {
    "duration": 8,
    "start_time": "2023-09-17T16:57:53.610Z"
   },
   {
    "duration": 37,
    "start_time": "2023-09-17T16:57:53.619Z"
   },
   {
    "duration": 2,
    "start_time": "2023-09-17T16:57:53.658Z"
   },
   {
    "duration": 15,
    "start_time": "2023-09-17T16:57:53.662Z"
   },
   {
    "duration": 22,
    "start_time": "2023-09-17T16:57:53.679Z"
   },
   {
    "duration": 18,
    "start_time": "2023-09-17T16:57:53.702Z"
   },
   {
    "duration": 34,
    "start_time": "2023-09-17T16:57:53.721Z"
   },
   {
    "duration": 16,
    "start_time": "2023-09-17T16:57:53.758Z"
   },
   {
    "duration": 23,
    "start_time": "2023-09-17T16:57:53.775Z"
   },
   {
    "duration": 73,
    "start_time": "2023-09-17T16:57:53.799Z"
   },
   {
    "duration": 60,
    "start_time": "2023-09-17T16:57:53.874Z"
   },
   {
    "duration": 59,
    "start_time": "2023-09-17T16:57:53.936Z"
   },
   {
    "duration": 59,
    "start_time": "2023-09-17T16:57:53.997Z"
   },
   {
    "duration": 2,
    "start_time": "2023-09-17T16:57:54.057Z"
   },
   {
    "duration": 10,
    "start_time": "2023-09-17T16:57:54.061Z"
   },
   {
    "duration": 7,
    "start_time": "2023-09-17T16:57:54.073Z"
   },
   {
    "duration": 4,
    "start_time": "2023-09-17T16:57:54.081Z"
   },
   {
    "duration": 6,
    "start_time": "2023-09-17T16:57:54.086Z"
   },
   {
    "duration": 15,
    "start_time": "2023-09-17T16:57:54.093Z"
   },
   {
    "duration": 20,
    "start_time": "2023-09-17T16:57:54.110Z"
   },
   {
    "duration": 87,
    "start_time": "2023-09-17T16:57:54.131Z"
   },
   {
    "duration": 32,
    "start_time": "2023-09-17T16:57:54.220Z"
   },
   {
    "duration": 17,
    "start_time": "2023-09-17T16:57:54.253Z"
   },
   {
    "duration": 29,
    "start_time": "2023-09-17T16:57:54.272Z"
   },
   {
    "duration": 30,
    "start_time": "2023-09-17T16:57:54.302Z"
   },
   {
    "duration": 18,
    "start_time": "2023-09-17T16:57:54.336Z"
   },
   {
    "duration": 24,
    "start_time": "2023-09-17T16:57:54.355Z"
   },
   {
    "duration": 118,
    "start_time": "2023-09-17T16:57:54.381Z"
   },
   {
    "duration": 0,
    "start_time": "2023-09-17T16:57:54.501Z"
   },
   {
    "duration": 0,
    "start_time": "2023-09-17T16:57:54.502Z"
   },
   {
    "duration": 0,
    "start_time": "2023-09-17T16:57:54.504Z"
   },
   {
    "duration": 0,
    "start_time": "2023-09-17T16:57:54.504Z"
   },
   {
    "duration": 0,
    "start_time": "2023-09-17T16:57:54.505Z"
   },
   {
    "duration": 0,
    "start_time": "2023-09-17T16:57:54.506Z"
   },
   {
    "duration": 0,
    "start_time": "2023-09-17T16:57:54.508Z"
   },
   {
    "duration": 0,
    "start_time": "2023-09-17T16:57:54.509Z"
   },
   {
    "duration": 52,
    "start_time": "2023-09-17T16:59:02.251Z"
   },
   {
    "duration": 42,
    "start_time": "2023-09-17T16:59:15.307Z"
   },
   {
    "duration": 44,
    "start_time": "2023-09-17T17:02:07.473Z"
   },
   {
    "duration": 62,
    "start_time": "2023-09-17T17:17:35.593Z"
   },
   {
    "duration": 69,
    "start_time": "2023-09-17T17:17:52.277Z"
   },
   {
    "duration": 59,
    "start_time": "2023-09-17T17:17:59.094Z"
   },
   {
    "duration": 50,
    "start_time": "2023-09-17T17:18:42.544Z"
   },
   {
    "duration": 50,
    "start_time": "2023-09-17T17:18:45.436Z"
   },
   {
    "duration": 400,
    "start_time": "2023-09-17T17:18:50.843Z"
   },
   {
    "duration": 164,
    "start_time": "2023-09-17T17:18:51.250Z"
   },
   {
    "duration": 8,
    "start_time": "2023-09-17T17:18:51.416Z"
   },
   {
    "duration": 35,
    "start_time": "2023-09-17T17:18:51.425Z"
   },
   {
    "duration": 3,
    "start_time": "2023-09-17T17:18:51.461Z"
   },
   {
    "duration": 6,
    "start_time": "2023-09-17T17:18:51.465Z"
   },
   {
    "duration": 18,
    "start_time": "2023-09-17T17:18:51.472Z"
   },
   {
    "duration": 8,
    "start_time": "2023-09-17T17:18:51.491Z"
   },
   {
    "duration": 37,
    "start_time": "2023-09-17T17:18:51.501Z"
   },
   {
    "duration": 26,
    "start_time": "2023-09-17T17:18:51.539Z"
   },
   {
    "duration": 25,
    "start_time": "2023-09-17T17:18:51.566Z"
   },
   {
    "duration": 74,
    "start_time": "2023-09-17T17:18:51.592Z"
   },
   {
    "duration": 67,
    "start_time": "2023-09-17T17:18:51.668Z"
   },
   {
    "duration": 64,
    "start_time": "2023-09-17T17:18:51.736Z"
   },
   {
    "duration": 55,
    "start_time": "2023-09-17T17:18:51.802Z"
   },
   {
    "duration": 2,
    "start_time": "2023-09-17T17:18:51.859Z"
   },
   {
    "duration": 5,
    "start_time": "2023-09-17T17:18:51.863Z"
   },
   {
    "duration": 12,
    "start_time": "2023-09-17T17:18:51.869Z"
   },
   {
    "duration": 4,
    "start_time": "2023-09-17T17:18:51.882Z"
   },
   {
    "duration": 9,
    "start_time": "2023-09-17T17:18:51.888Z"
   },
   {
    "duration": 9,
    "start_time": "2023-09-17T17:18:51.898Z"
   },
   {
    "duration": 8,
    "start_time": "2023-09-17T17:18:51.908Z"
   },
   {
    "duration": 5,
    "start_time": "2023-09-17T17:18:51.917Z"
   },
   {
    "duration": 15,
    "start_time": "2023-09-17T17:18:51.923Z"
   },
   {
    "duration": 11,
    "start_time": "2023-09-17T17:18:51.939Z"
   },
   {
    "duration": 9,
    "start_time": "2023-09-17T17:18:51.952Z"
   },
   {
    "duration": 6,
    "start_time": "2023-09-17T17:18:51.964Z"
   },
   {
    "duration": 10,
    "start_time": "2023-09-17T17:18:51.971Z"
   },
   {
    "duration": 4,
    "start_time": "2023-09-17T17:18:51.982Z"
   },
   {
    "duration": 124,
    "start_time": "2023-09-17T17:18:51.988Z"
   },
   {
    "duration": 0,
    "start_time": "2023-09-17T17:18:52.113Z"
   },
   {
    "duration": 0,
    "start_time": "2023-09-17T17:18:52.115Z"
   },
   {
    "duration": 0,
    "start_time": "2023-09-17T17:18:52.116Z"
   },
   {
    "duration": 0,
    "start_time": "2023-09-17T17:18:52.117Z"
   },
   {
    "duration": 0,
    "start_time": "2023-09-17T17:18:52.118Z"
   },
   {
    "duration": 0,
    "start_time": "2023-09-17T17:18:52.119Z"
   },
   {
    "duration": 0,
    "start_time": "2023-09-17T17:18:52.120Z"
   },
   {
    "duration": 0,
    "start_time": "2023-09-17T17:18:52.121Z"
   },
   {
    "duration": 59,
    "start_time": "2023-09-17T17:20:05.342Z"
   },
   {
    "duration": 40,
    "start_time": "2023-09-17T17:20:27.969Z"
   },
   {
    "duration": 11,
    "start_time": "2023-09-17T17:44:42.316Z"
   },
   {
    "duration": 11,
    "start_time": "2023-09-17T17:45:27.174Z"
   },
   {
    "duration": 37,
    "start_time": "2023-09-17T17:46:22.705Z"
   },
   {
    "duration": 33,
    "start_time": "2023-09-17T17:52:33.497Z"
   },
   {
    "duration": 11,
    "start_time": "2023-09-17T17:56:52.533Z"
   },
   {
    "duration": 12,
    "start_time": "2023-09-17T18:02:19.674Z"
   },
   {
    "duration": 4,
    "start_time": "2023-09-17T18:39:47.774Z"
   },
   {
    "duration": 444,
    "start_time": "2023-09-17T18:52:02.445Z"
   },
   {
    "duration": 182,
    "start_time": "2023-09-17T18:52:02.891Z"
   },
   {
    "duration": 8,
    "start_time": "2023-09-17T18:52:03.074Z"
   },
   {
    "duration": 64,
    "start_time": "2023-09-17T18:52:03.085Z"
   },
   {
    "duration": 3,
    "start_time": "2023-09-17T18:52:03.151Z"
   },
   {
    "duration": 9,
    "start_time": "2023-09-17T18:52:03.156Z"
   },
   {
    "duration": 20,
    "start_time": "2023-09-17T18:52:03.167Z"
   },
   {
    "duration": 13,
    "start_time": "2023-09-17T18:52:03.189Z"
   },
   {
    "duration": 83,
    "start_time": "2023-09-17T18:52:03.203Z"
   },
   {
    "duration": 86,
    "start_time": "2023-09-17T18:52:03.289Z"
   },
   {
    "duration": 46,
    "start_time": "2023-09-17T18:52:03.377Z"
   },
   {
    "duration": 130,
    "start_time": "2023-09-17T18:52:03.450Z"
   },
   {
    "duration": 95,
    "start_time": "2023-09-17T18:52:03.582Z"
   },
   {
    "duration": 57,
    "start_time": "2023-09-17T18:52:03.679Z"
   },
   {
    "duration": 60,
    "start_time": "2023-09-17T18:52:03.738Z"
   },
   {
    "duration": 11,
    "start_time": "2023-09-17T18:52:03.800Z"
   },
   {
    "duration": 56,
    "start_time": "2023-09-17T18:52:03.813Z"
   },
   {
    "duration": 12,
    "start_time": "2023-09-17T18:52:03.871Z"
   },
   {
    "duration": 12,
    "start_time": "2023-09-17T18:52:03.884Z"
   },
   {
    "duration": 4,
    "start_time": "2023-09-17T18:52:03.897Z"
   },
   {
    "duration": 51,
    "start_time": "2023-09-17T18:52:03.902Z"
   },
   {
    "duration": 16,
    "start_time": "2023-09-17T18:52:03.955Z"
   },
   {
    "duration": 14,
    "start_time": "2023-09-17T18:52:03.973Z"
   },
   {
    "duration": 16,
    "start_time": "2023-09-17T18:52:03.989Z"
   },
   {
    "duration": 48,
    "start_time": "2023-09-17T18:52:04.006Z"
   },
   {
    "duration": 16,
    "start_time": "2023-09-17T18:52:04.056Z"
   },
   {
    "duration": 3,
    "start_time": "2023-09-17T18:52:04.073Z"
   },
   {
    "duration": 6,
    "start_time": "2023-09-17T18:52:04.080Z"
   },
   {
    "duration": 10,
    "start_time": "2023-09-17T18:52:04.088Z"
   },
   {
    "duration": 160,
    "start_time": "2023-09-17T18:52:04.100Z"
   },
   {
    "duration": 0,
    "start_time": "2023-09-17T18:52:04.261Z"
   },
   {
    "duration": 0,
    "start_time": "2023-09-17T18:52:04.262Z"
   },
   {
    "duration": 0,
    "start_time": "2023-09-17T18:52:04.264Z"
   },
   {
    "duration": 0,
    "start_time": "2023-09-17T18:52:04.265Z"
   },
   {
    "duration": 0,
    "start_time": "2023-09-17T18:52:04.266Z"
   },
   {
    "duration": 0,
    "start_time": "2023-09-17T18:52:04.268Z"
   },
   {
    "duration": 0,
    "start_time": "2023-09-17T18:52:04.269Z"
   },
   {
    "duration": 0,
    "start_time": "2023-09-17T18:52:04.271Z"
   },
   {
    "duration": 3,
    "start_time": "2023-09-17T18:57:53.638Z"
   },
   {
    "duration": 371,
    "start_time": "2023-09-17T18:58:11.602Z"
   },
   {
    "duration": 203,
    "start_time": "2023-09-17T18:58:11.976Z"
   },
   {
    "duration": 8,
    "start_time": "2023-09-17T18:58:12.180Z"
   },
   {
    "duration": 46,
    "start_time": "2023-09-17T18:58:12.190Z"
   },
   {
    "duration": 12,
    "start_time": "2023-09-17T18:58:12.238Z"
   },
   {
    "duration": 17,
    "start_time": "2023-09-17T18:58:12.256Z"
   },
   {
    "duration": 22,
    "start_time": "2023-09-17T18:58:12.274Z"
   },
   {
    "duration": 21,
    "start_time": "2023-09-17T18:58:12.297Z"
   },
   {
    "duration": 70,
    "start_time": "2023-09-17T18:58:12.320Z"
   },
   {
    "duration": 41,
    "start_time": "2023-09-17T18:58:12.393Z"
   },
   {
    "duration": 61,
    "start_time": "2023-09-17T18:58:12.436Z"
   },
   {
    "duration": 103,
    "start_time": "2023-09-17T18:58:12.499Z"
   },
   {
    "duration": 84,
    "start_time": "2023-09-17T18:58:12.604Z"
   },
   {
    "duration": 79,
    "start_time": "2023-09-17T18:58:12.690Z"
   },
   {
    "duration": 41,
    "start_time": "2023-09-17T18:58:12.771Z"
   },
   {
    "duration": 12,
    "start_time": "2023-09-17T18:58:12.814Z"
   },
   {
    "duration": 87,
    "start_time": "2023-09-17T18:58:12.827Z"
   },
   {
    "duration": 12,
    "start_time": "2023-09-17T18:58:12.916Z"
   },
   {
    "duration": 46,
    "start_time": "2023-09-17T18:58:12.930Z"
   },
   {
    "duration": 22,
    "start_time": "2023-09-17T18:58:12.978Z"
   },
   {
    "duration": 68,
    "start_time": "2023-09-17T18:58:13.001Z"
   },
   {
    "duration": 16,
    "start_time": "2023-09-17T18:58:13.070Z"
   },
   {
    "duration": 25,
    "start_time": "2023-09-17T18:58:13.087Z"
   },
   {
    "duration": 17,
    "start_time": "2023-09-17T18:58:13.114Z"
   },
   {
    "duration": 37,
    "start_time": "2023-09-17T18:58:13.132Z"
   },
   {
    "duration": 17,
    "start_time": "2023-09-17T18:58:13.171Z"
   },
   {
    "duration": 6,
    "start_time": "2023-09-17T18:58:13.190Z"
   },
   {
    "duration": 23,
    "start_time": "2023-09-17T18:58:13.199Z"
   },
   {
    "duration": 13,
    "start_time": "2023-09-17T18:58:13.224Z"
   },
   {
    "duration": 105,
    "start_time": "2023-09-17T18:58:13.239Z"
   },
   {
    "duration": 0,
    "start_time": "2023-09-17T18:58:13.345Z"
   },
   {
    "duration": 0,
    "start_time": "2023-09-17T18:58:13.346Z"
   },
   {
    "duration": 0,
    "start_time": "2023-09-17T18:58:13.347Z"
   },
   {
    "duration": 0,
    "start_time": "2023-09-17T18:58:13.348Z"
   },
   {
    "duration": 0,
    "start_time": "2023-09-17T18:58:13.350Z"
   },
   {
    "duration": 0,
    "start_time": "2023-09-17T18:58:13.353Z"
   },
   {
    "duration": 0,
    "start_time": "2023-09-17T18:58:13.355Z"
   },
   {
    "duration": 0,
    "start_time": "2023-09-17T18:58:13.355Z"
   },
   {
    "duration": 5,
    "start_time": "2023-09-17T19:56:08.302Z"
   },
   {
    "duration": 6,
    "start_time": "2023-09-17T19:56:11.230Z"
   },
   {
    "duration": 385,
    "start_time": "2023-09-17T20:03:32.209Z"
   },
   {
    "duration": 181,
    "start_time": "2023-09-17T20:03:32.596Z"
   },
   {
    "duration": 8,
    "start_time": "2023-09-17T20:03:32.779Z"
   },
   {
    "duration": 34,
    "start_time": "2023-09-17T20:03:32.789Z"
   },
   {
    "duration": 3,
    "start_time": "2023-09-17T20:03:32.825Z"
   },
   {
    "duration": 21,
    "start_time": "2023-09-17T20:03:32.829Z"
   },
   {
    "duration": 22,
    "start_time": "2023-09-17T20:03:32.852Z"
   },
   {
    "duration": 11,
    "start_time": "2023-09-17T20:03:32.875Z"
   },
   {
    "duration": 35,
    "start_time": "2023-09-17T20:03:32.887Z"
   },
   {
    "duration": 29,
    "start_time": "2023-09-17T20:03:32.925Z"
   },
   {
    "duration": 29,
    "start_time": "2023-09-17T20:03:32.956Z"
   },
   {
    "duration": 79,
    "start_time": "2023-09-17T20:03:32.987Z"
   },
   {
    "duration": 81,
    "start_time": "2023-09-17T20:03:33.068Z"
   },
   {
    "duration": 64,
    "start_time": "2023-09-17T20:03:33.151Z"
   },
   {
    "duration": 55,
    "start_time": "2023-09-17T20:03:33.217Z"
   },
   {
    "duration": 11,
    "start_time": "2023-09-17T20:03:33.274Z"
   },
   {
    "duration": 50,
    "start_time": "2023-09-17T20:03:33.286Z"
   },
   {
    "duration": 20,
    "start_time": "2023-09-17T20:03:33.338Z"
   },
   {
    "duration": 12,
    "start_time": "2023-09-17T20:03:33.360Z"
   },
   {
    "duration": 4,
    "start_time": "2023-09-17T20:03:33.373Z"
   },
   {
    "duration": 27,
    "start_time": "2023-09-17T20:03:33.378Z"
   },
   {
    "duration": 13,
    "start_time": "2023-09-17T20:03:33.407Z"
   },
   {
    "duration": 16,
    "start_time": "2023-09-17T20:03:33.449Z"
   },
   {
    "duration": 30,
    "start_time": "2023-09-17T20:03:33.467Z"
   },
   {
    "duration": 23,
    "start_time": "2023-09-17T20:03:33.499Z"
   },
   {
    "duration": 34,
    "start_time": "2023-09-17T20:03:33.523Z"
   },
   {
    "duration": 3,
    "start_time": "2023-09-17T20:03:33.558Z"
   },
   {
    "duration": 19,
    "start_time": "2023-09-17T20:03:33.563Z"
   },
   {
    "duration": 10,
    "start_time": "2023-09-17T20:03:33.583Z"
   },
   {
    "duration": 5,
    "start_time": "2023-09-17T20:03:33.594Z"
   },
   {
    "duration": 9,
    "start_time": "2023-09-17T20:03:33.600Z"
   },
   {
    "duration": 6,
    "start_time": "2023-09-17T20:03:33.611Z"
   },
   {
    "duration": 7,
    "start_time": "2023-09-17T20:03:33.618Z"
   },
   {
    "duration": 7,
    "start_time": "2023-09-17T20:03:33.626Z"
   },
   {
    "duration": 2,
    "start_time": "2023-09-17T20:03:33.650Z"
   },
   {
    "duration": 6,
    "start_time": "2023-09-17T20:03:33.654Z"
   },
   {
    "duration": 4,
    "start_time": "2023-09-17T20:03:33.662Z"
   },
   {
    "duration": 7,
    "start_time": "2023-09-17T20:03:33.668Z"
   },
   {
    "duration": 436,
    "start_time": "2023-11-03T21:23:09.555Z"
   },
   {
    "duration": 252,
    "start_time": "2023-11-03T21:23:09.993Z"
   },
   {
    "duration": 8,
    "start_time": "2023-11-03T21:23:10.247Z"
   },
   {
    "duration": 35,
    "start_time": "2023-11-03T21:23:10.258Z"
   },
   {
    "duration": 3,
    "start_time": "2023-11-03T21:23:10.295Z"
   },
   {
    "duration": 7,
    "start_time": "2023-11-03T21:23:10.299Z"
   },
   {
    "duration": 42,
    "start_time": "2023-11-03T21:23:10.308Z"
   },
   {
    "duration": 4,
    "start_time": "2023-11-03T21:23:10.352Z"
   },
   {
    "duration": 56,
    "start_time": "2023-11-03T21:23:10.358Z"
   },
   {
    "duration": 31,
    "start_time": "2023-11-03T21:23:10.417Z"
   },
   {
    "duration": 29,
    "start_time": "2023-11-03T21:23:10.450Z"
   },
   {
    "duration": 85,
    "start_time": "2023-11-03T21:23:10.481Z"
   },
   {
    "duration": 85,
    "start_time": "2023-11-03T21:23:10.568Z"
   },
   {
    "duration": 66,
    "start_time": "2023-11-03T21:23:10.654Z"
   },
   {
    "duration": 59,
    "start_time": "2023-11-03T21:23:10.722Z"
   },
   {
    "duration": 15,
    "start_time": "2023-11-03T21:23:10.783Z"
   },
   {
    "duration": 55,
    "start_time": "2023-11-03T21:23:10.800Z"
   },
   {
    "duration": 12,
    "start_time": "2023-11-03T21:23:10.857Z"
   },
   {
    "duration": 15,
    "start_time": "2023-11-03T21:23:10.871Z"
   },
   {
    "duration": 9,
    "start_time": "2023-11-03T21:23:10.888Z"
   },
   {
    "duration": 27,
    "start_time": "2023-11-03T21:23:10.898Z"
   },
   {
    "duration": 31,
    "start_time": "2023-11-03T21:23:10.927Z"
   },
   {
    "duration": 16,
    "start_time": "2023-11-03T21:23:10.960Z"
   },
   {
    "duration": 15,
    "start_time": "2023-11-03T21:23:10.977Z"
   },
   {
    "duration": 22,
    "start_time": "2023-11-03T21:23:10.994Z"
   },
   {
    "duration": 39,
    "start_time": "2023-11-03T21:23:11.018Z"
   },
   {
    "duration": 5,
    "start_time": "2023-11-03T21:23:11.059Z"
   },
   {
    "duration": 15,
    "start_time": "2023-11-03T21:23:11.068Z"
   },
   {
    "duration": 23,
    "start_time": "2023-11-03T21:23:11.084Z"
   },
   {
    "duration": 6,
    "start_time": "2023-11-03T21:23:11.109Z"
   },
   {
    "duration": 45,
    "start_time": "2023-11-03T21:23:11.117Z"
   },
   {
    "duration": 12,
    "start_time": "2023-11-03T21:23:11.164Z"
   },
   {
    "duration": 20,
    "start_time": "2023-11-03T21:23:11.178Z"
   },
   {
    "duration": 15,
    "start_time": "2023-11-03T21:23:11.200Z"
   },
   {
    "duration": 31,
    "start_time": "2023-11-03T21:23:11.217Z"
   },
   {
    "duration": 4,
    "start_time": "2023-11-03T21:23:11.250Z"
   },
   {
    "duration": 7,
    "start_time": "2023-11-03T21:23:11.256Z"
   },
   {
    "duration": 5,
    "start_time": "2023-11-03T21:23:11.265Z"
   },
   {
    "duration": 108,
    "start_time": "2023-11-03T21:38:14.295Z"
   },
   {
    "duration": 4,
    "start_time": "2023-11-03T21:39:36.818Z"
   },
   {
    "duration": 808,
    "start_time": "2023-11-03T21:39:41.318Z"
   },
   {
    "duration": 4,
    "start_time": "2023-11-03T21:40:02.535Z"
   },
   {
    "duration": 951,
    "start_time": "2023-11-03T21:40:03.390Z"
   },
   {
    "duration": 4,
    "start_time": "2023-11-03T21:50:18.679Z"
   },
   {
    "duration": 738,
    "start_time": "2023-11-03T21:50:19.436Z"
   },
   {
    "duration": 3,
    "start_time": "2023-11-03T21:54:49.205Z"
   },
   {
    "duration": 19,
    "start_time": "2023-11-03T21:54:50.007Z"
   }
  ],
  "colab": {
   "collapsed_sections": [
    "E0vqbgi9ay0H",
    "VUC88oWjTJw2"
   ],
   "provenance": []
  },
  "kernelspec": {
   "display_name": "Python 3 (ipykernel)",
   "language": "python",
   "name": "python3"
  },
  "language_info": {
   "codemirror_mode": {
    "name": "ipython",
    "version": 3
   },
   "file_extension": ".py",
   "mimetype": "text/x-python",
   "name": "python",
   "nbconvert_exporter": "python",
   "pygments_lexer": "ipython3",
   "version": "3.9.5"
  },
  "toc": {
   "base_numbering": 1,
   "nav_menu": {
    "height": "215px",
    "width": "403px"
   },
   "number_sections": true,
   "sideBar": true,
   "skip_h1_title": true,
   "title_cell": "Table of Contents",
   "title_sidebar": "Contents",
   "toc_cell": false,
   "toc_position": {
    "height": "calc(100% - 180px)",
    "left": "10px",
    "top": "150px",
    "width": "285.825px"
   },
   "toc_section_display": true,
   "toc_window_display": false
  }
 },
 "nbformat": 4,
 "nbformat_minor": 1
}
